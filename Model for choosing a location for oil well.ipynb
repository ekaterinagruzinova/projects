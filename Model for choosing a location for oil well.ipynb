{
 "cells": [
  {
   "cell_type": "markdown",
   "metadata": {},
   "source": [
    "# Выбор локации для скважины"
   ]
  },
  {
   "cell_type": "markdown",
   "metadata": {},
   "source": [
    "Добывающей компании «ГлавРосГосНефть» нужно решить, где бурить новую скважину. Нам предоставлены пробы нефти в трёх регионах: в каждом 10 000 месторождений, где измерили качество нефти и объём её запасов. Построим модель машинного обучения, которая поможет определить регион, где добыча принесёт наибольшую прибыль. Проанализируем возможную прибыль и риски техникой *Bootstrap.*\n",
    "\n",
    "Шаги для выбора локации:\n",
    "\n",
    "- В избранном регионе ищем месторождения, для каждого определяем значения признаков;\n",
    "- Строим модель и оценивают объём запасов;\n",
    "- Выбираем месторождения с самым высокими оценками значений. Количество месторождений зависит от бюджета компании и стоимости разработки одной скважины;\n",
    "- Прибыль будует равна суммарной прибыли отобранных месторождений."
   ]
  },
  {
   "cell_type": "markdown",
   "metadata": {},
   "source": [
    "## Загрузка и подготовка данных"
   ]
  },
  {
   "cell_type": "code",
   "execution_count": 2,
   "metadata": {},
   "outputs": [],
   "source": [
    "import pandas as pd\n",
    "import numpy as np\n",
    "\n",
    "from sklearn.model_selection import train_test_split\n",
    "from sklearn.preprocessing import StandardScaler \n",
    "from sklearn.model_selection import train_test_split \n",
    "from sklearn.tree import DecisionTreeClassifier\n",
    "from sklearn.metrics import accuracy_score\n",
    "from sklearn.ensemble import RandomForestClassifier \n",
    "from sklearn.linear_model import LogisticRegression \n",
    "from sklearn.dummy import DummyClassifier\n",
    "from sklearn.metrics import f1_score \n",
    "from sklearn.utils import shuffle\n",
    "from sklearn.metrics import roc_auc_score\n",
    "from sklearn.linear_model import LinearRegression\n",
    "from sklearn.metrics import mean_squared_error\n",
    "from sklearn.metrics import r2_score"
   ]
  },
  {
   "cell_type": "markdown",
   "metadata": {},
   "source": [
    "Загрузим и подготовим данные по каждому региону в отдельности. "
   ]
  },
  {
   "cell_type": "code",
   "execution_count": 3,
   "metadata": {},
   "outputs": [
    {
     "data": {
      "text/html": [
       "<div>\n",
       "<style scoped>\n",
       "    .dataframe tbody tr th:only-of-type {\n",
       "        vertical-align: middle;\n",
       "    }\n",
       "\n",
       "    .dataframe tbody tr th {\n",
       "        vertical-align: top;\n",
       "    }\n",
       "\n",
       "    .dataframe thead th {\n",
       "        text-align: right;\n",
       "    }\n",
       "</style>\n",
       "<table border=\"1\" class=\"dataframe\">\n",
       "  <thead>\n",
       "    <tr style=\"text-align: right;\">\n",
       "      <th></th>\n",
       "      <th>id</th>\n",
       "      <th>f0</th>\n",
       "      <th>f1</th>\n",
       "      <th>f2</th>\n",
       "      <th>product</th>\n",
       "    </tr>\n",
       "  </thead>\n",
       "  <tbody>\n",
       "    <tr>\n",
       "      <th>0</th>\n",
       "      <td>txEyH</td>\n",
       "      <td>0.705745</td>\n",
       "      <td>-0.497823</td>\n",
       "      <td>1.221170</td>\n",
       "      <td>105.280062</td>\n",
       "    </tr>\n",
       "    <tr>\n",
       "      <th>1</th>\n",
       "      <td>2acmU</td>\n",
       "      <td>1.334711</td>\n",
       "      <td>-0.340164</td>\n",
       "      <td>4.365080</td>\n",
       "      <td>73.037750</td>\n",
       "    </tr>\n",
       "    <tr>\n",
       "      <th>2</th>\n",
       "      <td>409Wp</td>\n",
       "      <td>1.022732</td>\n",
       "      <td>0.151990</td>\n",
       "      <td>1.419926</td>\n",
       "      <td>85.265647</td>\n",
       "    </tr>\n",
       "    <tr>\n",
       "      <th>3</th>\n",
       "      <td>iJLyR</td>\n",
       "      <td>-0.032172</td>\n",
       "      <td>0.139033</td>\n",
       "      <td>2.978566</td>\n",
       "      <td>168.620776</td>\n",
       "    </tr>\n",
       "    <tr>\n",
       "      <th>4</th>\n",
       "      <td>Xdl7t</td>\n",
       "      <td>1.988431</td>\n",
       "      <td>0.155413</td>\n",
       "      <td>4.751769</td>\n",
       "      <td>154.036647</td>\n",
       "    </tr>\n",
       "  </tbody>\n",
       "</table>\n",
       "</div>"
      ],
      "text/plain": [
       "      id        f0        f1        f2     product\n",
       "0  txEyH  0.705745 -0.497823  1.221170  105.280062\n",
       "1  2acmU  1.334711 -0.340164  4.365080   73.037750\n",
       "2  409Wp  1.022732  0.151990  1.419926   85.265647\n",
       "3  iJLyR -0.032172  0.139033  2.978566  168.620776\n",
       "4  Xdl7t  1.988431  0.155413  4.751769  154.036647"
      ]
     },
     "execution_count": 3,
     "metadata": {},
     "output_type": "execute_result"
    }
   ],
   "source": [
    "data_1 = pd.read_csv('/datasets/geo_data_0.csv')\n",
    "data_1.head()"
   ]
  },
  {
   "cell_type": "code",
   "execution_count": 4,
   "metadata": {},
   "outputs": [
    {
     "name": "stdout",
     "output_type": "stream",
     "text": [
      "<class 'pandas.core.frame.DataFrame'>\n",
      "RangeIndex: 100000 entries, 0 to 99999\n",
      "Data columns (total 5 columns):\n",
      " #   Column   Non-Null Count   Dtype  \n",
      "---  ------   --------------   -----  \n",
      " 0   id       100000 non-null  object \n",
      " 1   f0       100000 non-null  float64\n",
      " 2   f1       100000 non-null  float64\n",
      " 3   f2       100000 non-null  float64\n",
      " 4   product  100000 non-null  float64\n",
      "dtypes: float64(4), object(1)\n",
      "memory usage: 3.8+ MB\n"
     ]
    }
   ],
   "source": [
    "data_1.info()"
   ]
  },
  {
   "cell_type": "markdown",
   "metadata": {},
   "source": [
    "Пропусков нет, с типами данных всё в порядке. Проверим, нет ли скважин-дубликатов. "
   ]
  },
  {
   "cell_type": "code",
   "execution_count": 5,
   "metadata": {},
   "outputs": [
    {
     "data": {
      "text/plain": [
       "A5aEY    2\n",
       "QcMuo    2\n",
       "AGS9W    2\n",
       "fiKDv    2\n",
       "TtcGQ    2\n",
       "bxg6G    2\n",
       "bsk9y    2\n",
       "74z30    2\n",
       "Tdehs    2\n",
       "HZww2    2\n",
       "F5Cub    1\n",
       "MGoBr    1\n",
       "jNIfK    1\n",
       "QCHkh    1\n",
       "HGZuB    1\n",
       "JGZEn    1\n",
       "jhIDn    1\n",
       "AJWJJ    1\n",
       "oK8iW    1\n",
       "Xbd8H    1\n",
       "Name: id, dtype: int64"
      ]
     },
     "execution_count": 5,
     "metadata": {},
     "output_type": "execute_result"
    }
   ],
   "source": [
    "data_1['id'].value_counts().head(20)"
   ]
  },
  {
   "cell_type": "markdown",
   "metadata": {},
   "source": [
    "Мы нашли скважины, которые фигурируют в данных дважды. Посмотрим, насколько различаются у них признаки. Проверим несколько скважин. "
   ]
  },
  {
   "cell_type": "code",
   "execution_count": 6,
   "metadata": {},
   "outputs": [
    {
     "data": {
      "text/html": [
       "<div>\n",
       "<style scoped>\n",
       "    .dataframe tbody tr th:only-of-type {\n",
       "        vertical-align: middle;\n",
       "    }\n",
       "\n",
       "    .dataframe tbody tr th {\n",
       "        vertical-align: top;\n",
       "    }\n",
       "\n",
       "    .dataframe thead th {\n",
       "        text-align: right;\n",
       "    }\n",
       "</style>\n",
       "<table border=\"1\" class=\"dataframe\">\n",
       "  <thead>\n",
       "    <tr style=\"text-align: right;\">\n",
       "      <th></th>\n",
       "      <th>id</th>\n",
       "      <th>f0</th>\n",
       "      <th>f1</th>\n",
       "      <th>f2</th>\n",
       "      <th>product</th>\n",
       "    </tr>\n",
       "  </thead>\n",
       "  <tbody>\n",
       "    <tr>\n",
       "      <th>1364</th>\n",
       "      <td>bxg6G</td>\n",
       "      <td>0.411645</td>\n",
       "      <td>0.856830</td>\n",
       "      <td>-3.653440</td>\n",
       "      <td>73.604260</td>\n",
       "    </tr>\n",
       "    <tr>\n",
       "      <th>41724</th>\n",
       "      <td>bxg6G</td>\n",
       "      <td>-0.823752</td>\n",
       "      <td>0.546319</td>\n",
       "      <td>3.630479</td>\n",
       "      <td>93.007798</td>\n",
       "    </tr>\n",
       "  </tbody>\n",
       "</table>\n",
       "</div>"
      ],
      "text/plain": [
       "          id        f0        f1        f2    product\n",
       "1364   bxg6G  0.411645  0.856830 -3.653440  73.604260\n",
       "41724  bxg6G -0.823752  0.546319  3.630479  93.007798"
      ]
     },
     "execution_count": 6,
     "metadata": {},
     "output_type": "execute_result"
    }
   ],
   "source": [
    "data_1.query('id == \"bxg6G\"')"
   ]
  },
  {
   "cell_type": "code",
   "execution_count": 7,
   "metadata": {},
   "outputs": [
    {
     "data": {
      "text/html": [
       "<div>\n",
       "<style scoped>\n",
       "    .dataframe tbody tr th:only-of-type {\n",
       "        vertical-align: middle;\n",
       "    }\n",
       "\n",
       "    .dataframe tbody tr th {\n",
       "        vertical-align: top;\n",
       "    }\n",
       "\n",
       "    .dataframe thead th {\n",
       "        text-align: right;\n",
       "    }\n",
       "</style>\n",
       "<table border=\"1\" class=\"dataframe\">\n",
       "  <thead>\n",
       "    <tr style=\"text-align: right;\">\n",
       "      <th></th>\n",
       "      <th>id</th>\n",
       "      <th>f0</th>\n",
       "      <th>f1</th>\n",
       "      <th>f2</th>\n",
       "      <th>product</th>\n",
       "    </tr>\n",
       "  </thead>\n",
       "  <tbody>\n",
       "    <tr>\n",
       "      <th>1949</th>\n",
       "      <td>QcMuo</td>\n",
       "      <td>0.506563</td>\n",
       "      <td>-0.323775</td>\n",
       "      <td>-2.215583</td>\n",
       "      <td>75.496502</td>\n",
       "    </tr>\n",
       "    <tr>\n",
       "      <th>63593</th>\n",
       "      <td>QcMuo</td>\n",
       "      <td>0.635635</td>\n",
       "      <td>-0.473422</td>\n",
       "      <td>0.862670</td>\n",
       "      <td>64.578675</td>\n",
       "    </tr>\n",
       "  </tbody>\n",
       "</table>\n",
       "</div>"
      ],
      "text/plain": [
       "          id        f0        f1        f2    product\n",
       "1949   QcMuo  0.506563 -0.323775 -2.215583  75.496502\n",
       "63593  QcMuo  0.635635 -0.473422  0.862670  64.578675"
      ]
     },
     "execution_count": 7,
     "metadata": {},
     "output_type": "execute_result"
    }
   ],
   "source": [
    "data_1.query('id == \"QcMuo\"')"
   ]
  },
  {
   "cell_type": "code",
   "execution_count": 8,
   "metadata": {},
   "outputs": [
    {
     "data": {
      "text/html": [
       "<div>\n",
       "<style scoped>\n",
       "    .dataframe tbody tr th:only-of-type {\n",
       "        vertical-align: middle;\n",
       "    }\n",
       "\n",
       "    .dataframe tbody tr th {\n",
       "        vertical-align: top;\n",
       "    }\n",
       "\n",
       "    .dataframe thead th {\n",
       "        text-align: right;\n",
       "    }\n",
       "</style>\n",
       "<table border=\"1\" class=\"dataframe\">\n",
       "  <thead>\n",
       "    <tr style=\"text-align: right;\">\n",
       "      <th></th>\n",
       "      <th>id</th>\n",
       "      <th>f0</th>\n",
       "      <th>f1</th>\n",
       "      <th>f2</th>\n",
       "      <th>product</th>\n",
       "    </tr>\n",
       "  </thead>\n",
       "  <tbody>\n",
       "    <tr>\n",
       "      <th>931</th>\n",
       "      <td>HZww2</td>\n",
       "      <td>0.755284</td>\n",
       "      <td>0.368511</td>\n",
       "      <td>1.863211</td>\n",
       "      <td>30.681774</td>\n",
       "    </tr>\n",
       "    <tr>\n",
       "      <th>7530</th>\n",
       "      <td>HZww2</td>\n",
       "      <td>1.061194</td>\n",
       "      <td>-0.373969</td>\n",
       "      <td>10.430210</td>\n",
       "      <td>158.828695</td>\n",
       "    </tr>\n",
       "  </tbody>\n",
       "</table>\n",
       "</div>"
      ],
      "text/plain": [
       "         id        f0        f1         f2     product\n",
       "931   HZww2  0.755284  0.368511   1.863211   30.681774\n",
       "7530  HZww2  1.061194 -0.373969  10.430210  158.828695"
      ]
     },
     "execution_count": 8,
     "metadata": {},
     "output_type": "execute_result"
    }
   ],
   "source": [
    "data_1.query('id == \"HZww2\"')"
   ]
  },
  {
   "cell_type": "markdown",
   "metadata": {},
   "source": [
    "Откуда могли взяться эти дубликаты. Возможно, это ошибка ввода данных. Или это разные замеры. \n",
    "В любом случае, так как признаки и целевой признак в строках с одним id могут сильно отличаться, скорее всего, это потенциально неверные данные, которые могут ввести в заблуждение модель. Поэтому, так как строк с дублирующимися id всего 20 (0,02% от данных), то их следует удалить.  "
   ]
  },
  {
   "cell_type": "code",
   "execution_count": 9,
   "metadata": {},
   "outputs": [],
   "source": [
    "data_1 = data_1.drop_duplicates( \"id\" , keep=False)"
   ]
  },
  {
   "cell_type": "markdown",
   "metadata": {},
   "source": [
    "Проверим, удалось ли избавиться от дубликатов"
   ]
  },
  {
   "cell_type": "code",
   "execution_count": 10,
   "metadata": {},
   "outputs": [
    {
     "data": {
      "text/plain": [
       "T1O5L    1\n",
       "ZS5aA    1\n",
       "KG5iq    1\n",
       "zVWTj    1\n",
       "CQ6LU    1\n",
       "MGoBr    1\n",
       "jNIfK    1\n",
       "QCHkh    1\n",
       "JGZEn    1\n",
       "jhIDn    1\n",
       "AJWJJ    1\n",
       "oK8iW    1\n",
       "mPPpY    1\n",
       "QcNAG    1\n",
       "9GTLP    1\n",
       "84VQ4    1\n",
       "STU6d    1\n",
       "5aUbq    1\n",
       "psNh7    1\n",
       "Xbd8H    1\n",
       "Name: id, dtype: int64"
      ]
     },
     "execution_count": 10,
     "metadata": {},
     "output_type": "execute_result"
    }
   ],
   "source": [
    "data_1['id'].value_counts().head(20)"
   ]
  },
  {
   "cell_type": "code",
   "execution_count": 11,
   "metadata": {},
   "outputs": [
    {
     "name": "stdout",
     "output_type": "stream",
     "text": [
      "<class 'pandas.core.frame.DataFrame'>\n",
      "Int64Index: 99980 entries, 0 to 99999\n",
      "Data columns (total 5 columns):\n",
      " #   Column   Non-Null Count  Dtype  \n",
      "---  ------   --------------  -----  \n",
      " 0   id       99980 non-null  object \n",
      " 1   f0       99980 non-null  float64\n",
      " 2   f1       99980 non-null  float64\n",
      " 3   f2       99980 non-null  float64\n",
      " 4   product  99980 non-null  float64\n",
      "dtypes: float64(4), object(1)\n",
      "memory usage: 4.6+ MB\n"
     ]
    }
   ],
   "source": [
    "data_1.info()"
   ]
  },
  {
   "cell_type": "markdown",
   "metadata": {},
   "source": [
    "То же проделаем с данными по двум другим регионам. "
   ]
  },
  {
   "cell_type": "code",
   "execution_count": 12,
   "metadata": {},
   "outputs": [
    {
     "data": {
      "text/html": [
       "<div>\n",
       "<style scoped>\n",
       "    .dataframe tbody tr th:only-of-type {\n",
       "        vertical-align: middle;\n",
       "    }\n",
       "\n",
       "    .dataframe tbody tr th {\n",
       "        vertical-align: top;\n",
       "    }\n",
       "\n",
       "    .dataframe thead th {\n",
       "        text-align: right;\n",
       "    }\n",
       "</style>\n",
       "<table border=\"1\" class=\"dataframe\">\n",
       "  <thead>\n",
       "    <tr style=\"text-align: right;\">\n",
       "      <th></th>\n",
       "      <th>id</th>\n",
       "      <th>f0</th>\n",
       "      <th>f1</th>\n",
       "      <th>f2</th>\n",
       "      <th>product</th>\n",
       "    </tr>\n",
       "  </thead>\n",
       "  <tbody>\n",
       "    <tr>\n",
       "      <th>0</th>\n",
       "      <td>kBEdx</td>\n",
       "      <td>-15.001348</td>\n",
       "      <td>-8.276000</td>\n",
       "      <td>-0.005876</td>\n",
       "      <td>3.179103</td>\n",
       "    </tr>\n",
       "    <tr>\n",
       "      <th>1</th>\n",
       "      <td>62mP7</td>\n",
       "      <td>14.272088</td>\n",
       "      <td>-3.475083</td>\n",
       "      <td>0.999183</td>\n",
       "      <td>26.953261</td>\n",
       "    </tr>\n",
       "    <tr>\n",
       "      <th>2</th>\n",
       "      <td>vyE1P</td>\n",
       "      <td>6.263187</td>\n",
       "      <td>-5.948386</td>\n",
       "      <td>5.001160</td>\n",
       "      <td>134.766305</td>\n",
       "    </tr>\n",
       "    <tr>\n",
       "      <th>3</th>\n",
       "      <td>KcrkZ</td>\n",
       "      <td>-13.081196</td>\n",
       "      <td>-11.506057</td>\n",
       "      <td>4.999415</td>\n",
       "      <td>137.945408</td>\n",
       "    </tr>\n",
       "    <tr>\n",
       "      <th>4</th>\n",
       "      <td>AHL4O</td>\n",
       "      <td>12.702195</td>\n",
       "      <td>-8.147433</td>\n",
       "      <td>5.004363</td>\n",
       "      <td>134.766305</td>\n",
       "    </tr>\n",
       "  </tbody>\n",
       "</table>\n",
       "</div>"
      ],
      "text/plain": [
       "      id         f0         f1        f2     product\n",
       "0  kBEdx -15.001348  -8.276000 -0.005876    3.179103\n",
       "1  62mP7  14.272088  -3.475083  0.999183   26.953261\n",
       "2  vyE1P   6.263187  -5.948386  5.001160  134.766305\n",
       "3  KcrkZ -13.081196 -11.506057  4.999415  137.945408\n",
       "4  AHL4O  12.702195  -8.147433  5.004363  134.766305"
      ]
     },
     "execution_count": 12,
     "metadata": {},
     "output_type": "execute_result"
    }
   ],
   "source": [
    "data_2 = pd.read_csv('/datasets/geo_data_1.csv')\n",
    "data_2.head()"
   ]
  },
  {
   "cell_type": "code",
   "execution_count": 13,
   "metadata": {},
   "outputs": [
    {
     "name": "stdout",
     "output_type": "stream",
     "text": [
      "<class 'pandas.core.frame.DataFrame'>\n",
      "RangeIndex: 100000 entries, 0 to 99999\n",
      "Data columns (total 5 columns):\n",
      " #   Column   Non-Null Count   Dtype  \n",
      "---  ------   --------------   -----  \n",
      " 0   id       100000 non-null  object \n",
      " 1   f0       100000 non-null  float64\n",
      " 2   f1       100000 non-null  float64\n",
      " 3   f2       100000 non-null  float64\n",
      " 4   product  100000 non-null  float64\n",
      "dtypes: float64(4), object(1)\n",
      "memory usage: 3.8+ MB\n"
     ]
    }
   ],
   "source": [
    "data_2.info()"
   ]
  },
  {
   "cell_type": "code",
   "execution_count": 14,
   "metadata": {},
   "outputs": [
    {
     "data": {
      "text/plain": [
       "LHZR0    2\n",
       "bfPNe    2\n",
       "wt4Uk    2\n",
       "5ltQ6    2\n",
       "6KaYB    1\n",
       "prWru    1\n",
       "y9FT0    1\n",
       "lkLRx    1\n",
       "ReOAT    1\n",
       "xj46q    1\n",
       "9lvJF    1\n",
       "teekR    1\n",
       "uU3mh    1\n",
       "A8qja    1\n",
       "11TyV    1\n",
       "JNSKz    1\n",
       "OmPZz    1\n",
       "HtGWy    1\n",
       "LVWoU    1\n",
       "iAYCL    1\n",
       "Name: id, dtype: int64"
      ]
     },
     "execution_count": 14,
     "metadata": {},
     "output_type": "execute_result"
    }
   ],
   "source": [
    "data_2['id'].value_counts().head(20)"
   ]
  },
  {
   "cell_type": "markdown",
   "metadata": {},
   "source": [
    "В данных по второму региону строк с дублирующимися id ещё меньше (0,008%), удалим их. "
   ]
  },
  {
   "cell_type": "code",
   "execution_count": 15,
   "metadata": {},
   "outputs": [
    {
     "name": "stdout",
     "output_type": "stream",
     "text": [
      "A8qja    1\n",
      "oe2u1    1\n",
      "JNSKz    1\n",
      "dfVGv    1\n",
      "prWru    1\n",
      "y9FT0    1\n",
      "lkLRx    1\n",
      "ReOAT    1\n",
      "xj46q    1\n",
      "9lvJF    1\n",
      "Name: id, dtype: int64\n",
      "<class 'pandas.core.frame.DataFrame'>\n",
      "Int64Index: 99992 entries, 0 to 99999\n",
      "Data columns (total 5 columns):\n",
      " #   Column   Non-Null Count  Dtype  \n",
      "---  ------   --------------  -----  \n",
      " 0   id       99992 non-null  object \n",
      " 1   f0       99992 non-null  float64\n",
      " 2   f1       99992 non-null  float64\n",
      " 3   f2       99992 non-null  float64\n",
      " 4   product  99992 non-null  float64\n",
      "dtypes: float64(4), object(1)\n",
      "memory usage: 4.6+ MB\n",
      "None\n"
     ]
    }
   ],
   "source": [
    "data_2 = data_2.drop_duplicates( \"id\" , keep=False)\n",
    "print(data_2['id'].value_counts().head(10))\n",
    "print(data_2.info())"
   ]
  },
  {
   "cell_type": "markdown",
   "metadata": {},
   "source": [
    "Теперь обратимся к третьему региону"
   ]
  },
  {
   "cell_type": "code",
   "execution_count": 16,
   "metadata": {},
   "outputs": [
    {
     "data": {
      "text/html": [
       "<div>\n",
       "<style scoped>\n",
       "    .dataframe tbody tr th:only-of-type {\n",
       "        vertical-align: middle;\n",
       "    }\n",
       "\n",
       "    .dataframe tbody tr th {\n",
       "        vertical-align: top;\n",
       "    }\n",
       "\n",
       "    .dataframe thead th {\n",
       "        text-align: right;\n",
       "    }\n",
       "</style>\n",
       "<table border=\"1\" class=\"dataframe\">\n",
       "  <thead>\n",
       "    <tr style=\"text-align: right;\">\n",
       "      <th></th>\n",
       "      <th>id</th>\n",
       "      <th>f0</th>\n",
       "      <th>f1</th>\n",
       "      <th>f2</th>\n",
       "      <th>product</th>\n",
       "    </tr>\n",
       "  </thead>\n",
       "  <tbody>\n",
       "    <tr>\n",
       "      <th>0</th>\n",
       "      <td>fwXo0</td>\n",
       "      <td>-1.146987</td>\n",
       "      <td>0.963328</td>\n",
       "      <td>-0.828965</td>\n",
       "      <td>27.758673</td>\n",
       "    </tr>\n",
       "    <tr>\n",
       "      <th>1</th>\n",
       "      <td>WJtFt</td>\n",
       "      <td>0.262778</td>\n",
       "      <td>0.269839</td>\n",
       "      <td>-2.530187</td>\n",
       "      <td>56.069697</td>\n",
       "    </tr>\n",
       "    <tr>\n",
       "      <th>2</th>\n",
       "      <td>ovLUW</td>\n",
       "      <td>0.194587</td>\n",
       "      <td>0.289035</td>\n",
       "      <td>-5.586433</td>\n",
       "      <td>62.871910</td>\n",
       "    </tr>\n",
       "    <tr>\n",
       "      <th>3</th>\n",
       "      <td>q6cA6</td>\n",
       "      <td>2.236060</td>\n",
       "      <td>-0.553760</td>\n",
       "      <td>0.930038</td>\n",
       "      <td>114.572842</td>\n",
       "    </tr>\n",
       "    <tr>\n",
       "      <th>4</th>\n",
       "      <td>WPMUX</td>\n",
       "      <td>-0.515993</td>\n",
       "      <td>1.716266</td>\n",
       "      <td>5.899011</td>\n",
       "      <td>149.600746</td>\n",
       "    </tr>\n",
       "  </tbody>\n",
       "</table>\n",
       "</div>"
      ],
      "text/plain": [
       "      id        f0        f1        f2     product\n",
       "0  fwXo0 -1.146987  0.963328 -0.828965   27.758673\n",
       "1  WJtFt  0.262778  0.269839 -2.530187   56.069697\n",
       "2  ovLUW  0.194587  0.289035 -5.586433   62.871910\n",
       "3  q6cA6  2.236060 -0.553760  0.930038  114.572842\n",
       "4  WPMUX -0.515993  1.716266  5.899011  149.600746"
      ]
     },
     "execution_count": 16,
     "metadata": {},
     "output_type": "execute_result"
    }
   ],
   "source": [
    "data_3 = pd.read_csv('/datasets/geo_data_2.csv')\n",
    "data_3.head()"
   ]
  },
  {
   "cell_type": "code",
   "execution_count": 17,
   "metadata": {},
   "outputs": [
    {
     "name": "stdout",
     "output_type": "stream",
     "text": [
      "<class 'pandas.core.frame.DataFrame'>\n",
      "RangeIndex: 100000 entries, 0 to 99999\n",
      "Data columns (total 5 columns):\n",
      " #   Column   Non-Null Count   Dtype  \n",
      "---  ------   --------------   -----  \n",
      " 0   id       100000 non-null  object \n",
      " 1   f0       100000 non-null  float64\n",
      " 2   f1       100000 non-null  float64\n",
      " 3   f2       100000 non-null  float64\n",
      " 4   product  100000 non-null  float64\n",
      "dtypes: float64(4), object(1)\n",
      "memory usage: 3.8+ MB\n"
     ]
    }
   ],
   "source": [
    "data_3.info()"
   ]
  },
  {
   "cell_type": "code",
   "execution_count": 18,
   "metadata": {},
   "outputs": [
    {
     "data": {
      "text/plain": [
       "VF7Jo    2\n",
       "xCHr8    2\n",
       "KUPhW    2\n",
       "Vcm5J    2\n",
       "aGZOU    1\n",
       "1MNJ6    1\n",
       "DmE46    1\n",
       "8Ntut    1\n",
       "2VpWD    1\n",
       "KOsfN    1\n",
       "wSxfD    1\n",
       "Ij9KZ    1\n",
       "RuFkW    1\n",
       "WAiwq    1\n",
       "Hp7KJ    1\n",
       "XyV4o    1\n",
       "HDtcs    1\n",
       "R7YRl    1\n",
       "Q4x7M    1\n",
       "mOMJW    1\n",
       "Name: id, dtype: int64"
      ]
     },
     "execution_count": 18,
     "metadata": {},
     "output_type": "execute_result"
    }
   ],
   "source": [
    "data_3['id'].value_counts().head(20)"
   ]
  },
  {
   "cell_type": "markdown",
   "metadata": {},
   "source": [
    "Скважин-дубликатов столько же, сколько было и в данных для второго региона. Удалим их и проверим, получилось ли. "
   ]
  },
  {
   "cell_type": "code",
   "execution_count": 19,
   "metadata": {},
   "outputs": [
    {
     "name": "stdout",
     "output_type": "stream",
     "text": [
      "Hp7KJ    1\n",
      "M6xRz    1\n",
      "8Ntut    1\n",
      "2VpWD    1\n",
      "KOsfN    1\n",
      "wSxfD    1\n",
      "Ij9KZ    1\n",
      "RuFkW    1\n",
      "WAiwq    1\n",
      "aGZOU    1\n",
      "Name: id, dtype: int64\n",
      "<class 'pandas.core.frame.DataFrame'>\n",
      "Int64Index: 99992 entries, 0 to 99999\n",
      "Data columns (total 5 columns):\n",
      " #   Column   Non-Null Count  Dtype  \n",
      "---  ------   --------------  -----  \n",
      " 0   id       99992 non-null  object \n",
      " 1   f0       99992 non-null  float64\n",
      " 2   f1       99992 non-null  float64\n",
      " 3   f2       99992 non-null  float64\n",
      " 4   product  99992 non-null  float64\n",
      "dtypes: float64(4), object(1)\n",
      "memory usage: 4.6+ MB\n",
      "None\n"
     ]
    }
   ],
   "source": [
    "data_3 = data_3.drop_duplicates( \"id\" , keep=False)\n",
    "print(data_3['id'].value_counts().head(10))\n",
    "print(data_3.info())"
   ]
  },
  {
   "cell_type": "markdown",
   "metadata": {},
   "source": [
    "Столбец id не нужен для обучения, поэтому удалим его и посмотрим, удалось ли. "
   ]
  },
  {
   "cell_type": "code",
   "execution_count": 20,
   "metadata": {},
   "outputs": [
    {
     "name": "stdout",
     "output_type": "stream",
     "text": [
      "Index(['f0', 'f1', 'f2', 'product'], dtype='object')\n",
      "Index(['f0', 'f1', 'f2', 'product'], dtype='object')\n",
      "Index(['f0', 'f1', 'f2', 'product'], dtype='object')\n"
     ]
    }
   ],
   "source": [
    "data_1 = data_1.drop('id', axis=1)\n",
    "data_2 = data_2.drop('id', axis=1)\n",
    "data_3 = data_3.drop('id', axis=1)\n",
    "print(data_1.columns)\n",
    "print(data_2.columns)\n",
    "print(data_3.columns)"
   ]
  },
  {
   "cell_type": "markdown",
   "metadata": {},
   "source": [
    "Данные загружены и были заренее подготовлены, масштабирование не требуется, поэтому можно переходить к разбиению данных на выборки. "
   ]
  },
  {
   "cell_type": "markdown",
   "metadata": {},
   "source": [
    "## Обучение и проверка модели"
   ]
  },
  {
   "cell_type": "markdown",
   "metadata": {},
   "source": [
    "Теперь разобьём данные на обучающую и валидационную выборки в соотношении 75:25"
   ]
  },
  {
   "cell_type": "code",
   "execution_count": 21,
   "metadata": {},
   "outputs": [],
   "source": [
    "features_1 = data_1.drop(['product'], axis=1)\n",
    "target_1 = data_1['product']\n",
    "features_train_1, features_valid_1, target_train_1, target_valid_1 = train_test_split(features_1, target_1,\n",
    "                                                                                      test_size=0.25,\n",
    "                                                                                      random_state=12345)\n"
   ]
  },
  {
   "cell_type": "code",
   "execution_count": 22,
   "metadata": {},
   "outputs": [
    {
     "name": "stdout",
     "output_type": "stream",
     "text": [
      "регион 1: \n",
      " Средний запас сырья (предсказание) = 92.42384109947359 тыс. баррелей \n",
      " Средний запас сырья (реальный) = 92.39348967901073 тыс. баррелей \n",
      " RMSE = 37.716904960382735 тыс. баррелей\n",
      "\n",
      "RMSE константной модели = 44.34727648978901\n"
     ]
    }
   ],
   "source": [
    "model_1 = LinearRegression()\n",
    "model_1.fit(features_train_1, target_train_1)\n",
    "predicted_valid_1 = model_1.predict(features_valid_1)\n",
    "rmse_1 = (mean_squared_error(target_valid_1, predicted_valid_1))**0.5\n",
    "R2_1 = r2_score(target_valid_1, predicted_valid_1)\n",
    "print('регион 1:','\\n', 'Средний запас сырья (предсказание) =', predicted_valid_1.mean(), 'тыс. баррелей', '\\n',\n",
    "      'Средний запас сырья (реальный) =', target_valid_1.mean(), 'тыс. баррелей', '\\n', 'RMSE =', rmse_1, 'тыс. баррелей')\n",
    "print()\n",
    " \n",
    "# RMSE константной модели\n",
    "predicted_valid_k = pd.Series(target_train_1.mean(), index=target_valid_1.index)\n",
    "rmse_k = (mean_squared_error(target_valid_1, predicted_valid_k))**0.5\n",
    "print('RMSE константной модели =', rmse_k )"
   ]
  },
  {
   "cell_type": "markdown",
   "metadata": {},
   "source": [
    "Средний запас сырья по предсказаниям модели близок к реальному, RMSE выше, чем у константной модели.\n",
    "Обучим модели для остальных регионов и исследуем результаты. "
   ]
  },
  {
   "cell_type": "code",
   "execution_count": 23,
   "metadata": {},
   "outputs": [],
   "source": [
    "#Обучаем модель для второго региона\n",
    "features_2 = data_2.drop(['product'], axis=1)\n",
    "target_2 = data_2['product']\n",
    "features_train_2, features_valid_2, target_train_2, target_valid_2 = train_test_split(features_2, target_2,\n",
    "                                                                                      test_size=0.25,\n",
    "                                                                                      random_state=12345)"
   ]
  },
  {
   "cell_type": "code",
   "execution_count": 24,
   "metadata": {},
   "outputs": [
    {
     "name": "stdout",
     "output_type": "stream",
     "text": [
      "регион 2: \n",
      " Средний запас сырья (предсказание) = 68.98311857983123 тыс. баррелей \n",
      " Средний запас сырья (реальный) = 68.98037303230389 тыс. баррелей \n",
      " RMSE = 0.8914901390348537\n",
      "\n",
      "RMSE константной модели = 45.97003721244109\n"
     ]
    }
   ],
   "source": [
    "model_2 = LinearRegression()\n",
    "model_2.fit(features_train_2, target_train_2)\n",
    "predicted_valid_2 = model_2.predict(features_valid_2)\n",
    "rmse_2 = (mean_squared_error(target_valid_2, predicted_valid_2))**0.5\n",
    "print('регион 2:','\\n', 'Средний запас сырья (предсказание) =', predicted_valid_2.mean(), 'тыс. баррелей', '\\n',\n",
    "      'Средний запас сырья (реальный) =', target_valid_2.mean(), 'тыс. баррелей', '\\n', 'RMSE =', rmse_2)\n",
    "print()\n",
    " \n",
    "# RMSE константной модели\n",
    "predicted_valid_k2 = pd.Series(target_train_2.mean(), index=target_valid_2.index)\n",
    "rmse_k2 = (mean_squared_error(target_valid_2, predicted_valid_k2))**0.5\n",
    "print('RMSE константной модели =', rmse_k2 )"
   ]
  },
  {
   "cell_type": "markdown",
   "metadata": {},
   "source": [
    "Во втором регионе RMSE гораздо выше, чем в константной модели и чем в первом регионе."
   ]
  },
  {
   "cell_type": "code",
   "execution_count": 25,
   "metadata": {},
   "outputs": [],
   "source": [
    "#Обучаем модель для третьего региона\n",
    "features_3 = data_3.drop(['product'], axis=1)\n",
    "target_3 = data_3['product']\n",
    "features_train_3, features_valid_3, target_train_3, target_valid_3 = train_test_split(features_3, target_3,\n",
    "                                                                                      test_size=0.25,\n",
    "                                                                                      random_state=12345)"
   ]
  },
  {
   "cell_type": "code",
   "execution_count": 26,
   "metadata": {},
   "outputs": [
    {
     "name": "stdout",
     "output_type": "stream",
     "text": [
      "регион 3: \n",
      " Средний запас сырья (предсказание) = 95.11622302076478 тыс. баррелей \n",
      " Средний запас сырья (реальный) = 94.54781801775303 тыс. баррелей \n",
      " RMSE = 39.975543264382345 тыс. баррелей\n",
      "\n",
      "RMSE константной модели = 44.57522707537966\n"
     ]
    }
   ],
   "source": [
    "model_3 = LinearRegression()\n",
    "model_3.fit(features_train_3, target_train_3)\n",
    "predicted_valid_3 = model_3.predict(features_valid_3)\n",
    "rmse_3 = (mean_squared_error(target_valid_3, predicted_valid_3))**0.5\n",
    "print('регион 3:','\\n', 'Средний запас сырья (предсказание) =', predicted_valid_3.mean(), 'тыс. баррелей', '\\n',\n",
    "      'Средний запас сырья (реальный) =', target_valid_3.mean(), 'тыс. баррелей', '\\n', 'RMSE =', rmse_3, 'тыс. баррелей')\n",
    "print()\n",
    " \n",
    "# RMSE константной модели\n",
    "predicted_valid_k3 = pd.Series(target_train_3.mean(), index=target_valid_3.index)\n",
    "rmse_k3 = (mean_squared_error(target_valid_3, predicted_valid_k3))**0.5\n",
    "print('RMSE константной модели =', rmse_k3 )"
   ]
  },
  {
   "cell_type": "markdown",
   "metadata": {},
   "source": [
    "Результаты обучения модели похожи на первый регион: модель предсказывает чуть лучше, чем случайная."
   ]
  },
  {
   "cell_type": "markdown",
   "metadata": {},
   "source": [
    "## Подготовка к расчёту прибыли"
   ]
  },
  {
   "cell_type": "markdown",
   "metadata": {},
   "source": [
    "Сохраним в отдельных переменных все ключевые значения, необходимые для расчёта прибыли"
   ]
  },
  {
   "cell_type": "code",
   "execution_count": 27,
   "metadata": {},
   "outputs": [],
   "source": [
    "#бюджет на разработку скважин в регионе\n",
    "budget = 10000000000\n",
    "\n",
    "#доход с каждой единицы продукта (тысяч рублей за тысячу баррелей)\n",
    "income = 450000\n",
    "\n",
    "#количество исследуемых точек при разведке региона\n",
    "points_selected = 500\n",
    "\n",
    "#количество выбираемых лучших точек для разработки\n",
    "points_best = 200\n"
   ]
  },
  {
   "cell_type": "markdown",
   "metadata": {},
   "source": [
    "Рассчитаем достаточный объём сырья для безубыточной разработки новой скважины. Для этого сначала найдём бюджет для разработки одной скважины."
   ]
  },
  {
   "cell_type": "code",
   "execution_count": 28,
   "metadata": {},
   "outputs": [
    {
     "name": "stdout",
     "output_type": "stream",
     "text": [
      "Достаточный объем сырья для безубыточной разработки новой скважины равен 111.11111111111111 тыс. баррелей\n",
      "\n"
     ]
    }
   ],
   "source": [
    "budget_point = budget / points_best\n",
    "product_value_point = budget_point / income\n",
    "print('Достаточный объем сырья для безубыточной разработки новой скважины равен', product_value_point, 'тыс. баррелей')\n",
    "print()"
   ]
  },
  {
   "cell_type": "markdown",
   "metadata": {},
   "source": [
    "Сравним полученный объём сырья со средним запасом в каждом регионе."
   ]
  },
  {
   "cell_type": "code",
   "execution_count": 29,
   "metadata": {},
   "outputs": [
    {
     "name": "stdout",
     "output_type": "stream",
     "text": [
      "Средний запас сырья в регионе 1: 92.49916597893444\n",
      "Средний запас сырья в регионе 2: 68.82414772665173\n",
      "Средний запас сырья в регионе 3: 94.99876686768079\n",
      "Достаточный запас сырья: 111.11111111111111\n"
     ]
    }
   ],
   "source": [
    "print('Средний запас сырья в регионе 1:', data_1['product'].mean())\n",
    "print('Средний запас сырья в регионе 2:', data_2['product'].mean())\n",
    "print('Средний запас сырья в регионе 3:', data_3['product'].mean())\n",
    "print('Достаточный запас сырья:', product_value_point)"
   ]
  },
  {
   "cell_type": "markdown",
   "metadata": {},
   "source": [
    "Достаточный запас сырья для безубыточной разработки новой скважины оказался значимо больше, чем средние запасы в каждом регионе. Это означает, что нам необходимо максимально тщательно подойти к выбору региона для новой разработки, чтобы новый проект был рентабельным. Есть вероятность, что бюджет на разработку не окупится. Поэтому далее мы должны использовать технику bootstrap, чтобы просчитать риски. \n",
    "Напишем функцию для расчета прибыли. "
   ]
  },
  {
   "cell_type": "code",
   "execution_count": 30,
   "metadata": {},
   "outputs": [],
   "source": [
    "#функция расчета прибыли\n",
    "def profit(target, predicted):\n",
    "    predicted = pd.Series(data = predicted, index = target.index)\n",
    "    predicted_sorted = predicted.sort_values(ascending=False)\n",
    "    selected = target[predicted_sorted.index][:points_best]\n",
    "    return income * selected.sum() - budget\n",
    "\n",
    "\n",
    "#target.values[pred_sort.index][:best_points]\n",
    "#predicted_0 = pd.Series(data = predicted_valid_0, index = target_valid_0.index)"
   ]
  },
  {
   "cell_type": "markdown",
   "metadata": {},
   "source": [
    "## Расчёт прибыли и рисков "
   ]
  },
  {
   "cell_type": "code",
   "execution_count": 31,
   "metadata": {},
   "outputs": [],
   "source": [
    "#Напишем функцию для процедуры Bootstrap для расчета рисков и прибыли\n",
    "\n",
    "\n",
    "state = np.random.RandomState(12345)\n",
    " \n",
    "def bootstrap(target, predicted):\n",
    "    values = []\n",
    "    for i in range(1000):\n",
    "        target = pd.Series(target)\n",
    "        target_subsample = target.sample(n=points_selected, replace=True, random_state=state)\n",
    "        probs_subsample = pd.Series(data = predicted, index=target.index)[target_subsample.index]\n",
    "        profit_boot = profit(target_subsample, probs_subsample)\n",
    "        values.append(profit_boot)\n",
    " \n",
    "    values = pd.Series(values)\n",
    " \n",
    "    lower = values.quantile(0.025)\n",
    "    upper = values.quantile(0.975)\n",
    "    risk = (values < 0).mean()*100\n",
    " \n",
    "    print(\"Средняя прибыль:\", values.mean())\n",
    "    print('95%-ый доверительный интервал:', lower, '-', upper)\n",
    "    print('Риск убытков:', risk)\n",
    "    \n"
   ]
  },
  {
   "cell_type": "code",
   "execution_count": 38,
   "metadata": {},
   "outputs": [
    {
     "name": "stdout",
     "output_type": "stream",
     "text": [
      "Средняя прибыль: 463640532.45456076\n",
      "95%-ый доверительный интервал: -50829441.10239987 - 974589534.6230257\n",
      "Риск убытков: 4.3999999999999995\n"
     ]
    }
   ],
   "source": [
    "#Проведём процедуру bootstrap для каждого региона\n",
    "bootstrap(target_valid_1, predicted_valid_1)"
   ]
  },
  {
   "cell_type": "code",
   "execution_count": 37,
   "metadata": {},
   "outputs": [
    {
     "name": "stdout",
     "output_type": "stream",
     "text": [
      "Средняя прибыль: 534777965.5867257\n",
      "95%-ый доверительный интервал: 128762334.71869636 - 961538795.8060088\n",
      "Риск убытков: 0.5\n"
     ]
    }
   ],
   "source": [
    "bootstrap(target_valid_2, predicted_valid_2)"
   ]
  },
  {
   "cell_type": "code",
   "execution_count": 36,
   "metadata": {},
   "outputs": [
    {
     "name": "stdout",
     "output_type": "stream",
     "text": [
      "Средняя прибыль: 350149184.42709255\n",
      "95%-ый доверительный интервал: -217500697.77422526 - 876483747.1172203\n",
      "Риск убытков: 10.6\n"
     ]
    }
   ],
   "source": [
    "bootstrap(target_valid_3, predicted_valid_3)"
   ]
  },
  {
   "cell_type": "markdown",
   "metadata": {},
   "source": [
    "Как видим, самый низкий риск убытков во втором регионе, к тому же только в нём нижний квантиль является положительным, значит, риск наименьший. Поэтому мы будем рекомендовать для разработки выбрать именно его. "
   ]
  },
  {
   "cell_type": "markdown",
   "metadata": {},
   "source": [
    "## Выводы"
   ]
  },
  {
   "cell_type": "markdown",
   "metadata": {},
   "source": [
    "Мы провели загрузку и подготовку данных, избавились от лишних столбцов и скважин-дубликатов. Далее мы обучили модель линейной регрессии на всех трёх регионах. Затем мы провели подготовку к расчету прибыли, выяснив необходимый объем сырья и написав функцию. \n",
    "Далее для того, чтобы рассчитать риски,  мы провели процедуру bootstrap (предварительно написав функцию).\n",
    "После расчетов выяснилось, что лучше всего для разработки подходит регион номер 2, поэтому его мы выбрать и рекомендуем. "
   ]
  }
 ],
 "metadata": {
  "ExecuteTimeLog": [
   {
    "duration": 1070,
    "start_time": "2022-09-10T19:21:09.734Z"
   },
   {
    "duration": 403,
    "start_time": "2022-09-10T19:21:32.275Z"
   },
   {
    "duration": 13,
    "start_time": "2022-09-10T19:21:59.502Z"
   },
   {
    "duration": 48,
    "start_time": "2022-09-10T19:22:37.678Z"
   },
   {
    "duration": 42,
    "start_time": "2022-09-10T19:23:24.936Z"
   },
   {
    "duration": 109,
    "start_time": "2022-09-10T19:25:21.104Z"
   },
   {
    "duration": 26,
    "start_time": "2022-09-10T19:25:27.499Z"
   },
   {
    "duration": 50,
    "start_time": "2022-09-10T19:25:39.275Z"
   },
   {
    "duration": 10,
    "start_time": "2022-09-10T19:26:48.149Z"
   },
   {
    "duration": 11,
    "start_time": "2022-09-10T19:26:58.075Z"
   },
   {
    "duration": 1225,
    "start_time": "2022-09-11T17:37:00.405Z"
   },
   {
    "duration": 395,
    "start_time": "2022-09-11T17:37:01.632Z"
   },
   {
    "duration": 22,
    "start_time": "2022-09-11T17:37:02.029Z"
   },
   {
    "duration": 121,
    "start_time": "2022-09-11T17:37:02.054Z"
   },
   {
    "duration": 59,
    "start_time": "2022-09-11T17:37:07.987Z"
   },
   {
    "duration": 14,
    "start_time": "2022-09-11T17:37:14.011Z"
   },
   {
    "duration": 50,
    "start_time": "2022-09-11T17:49:35.283Z"
   },
   {
    "duration": 15,
    "start_time": "2022-09-11T18:17:51.522Z"
   },
   {
    "duration": 11,
    "start_time": "2022-09-11T18:18:33.085Z"
   },
   {
    "duration": 215,
    "start_time": "2022-09-11T18:22:59.095Z"
   },
   {
    "duration": 132,
    "start_time": "2022-09-11T18:23:30.623Z"
   },
   {
    "duration": 136,
    "start_time": "2022-09-11T18:23:33.996Z"
   },
   {
    "duration": 13,
    "start_time": "2022-09-11T18:23:37.506Z"
   },
   {
    "duration": 46,
    "start_time": "2022-09-11T18:23:44.811Z"
   },
   {
    "duration": 11,
    "start_time": "2022-09-11T18:23:52.742Z"
   },
   {
    "duration": 12,
    "start_time": "2022-09-11T18:23:56.797Z"
   },
   {
    "duration": 11,
    "start_time": "2022-09-11T18:23:59.802Z"
   },
   {
    "duration": 136,
    "start_time": "2022-09-11T18:24:09.766Z"
   },
   {
    "duration": 15,
    "start_time": "2022-09-11T18:24:25.115Z"
   },
   {
    "duration": 45,
    "start_time": "2022-09-11T18:24:47.965Z"
   },
   {
    "duration": 45,
    "start_time": "2022-09-11T18:24:50.668Z"
   },
   {
    "duration": 56,
    "start_time": "2022-09-11T18:25:03.958Z"
   },
   {
    "duration": 210,
    "start_time": "2022-09-11T18:26:12.192Z"
   },
   {
    "duration": 13,
    "start_time": "2022-09-11T18:26:18.987Z"
   },
   {
    "duration": 54,
    "start_time": "2022-09-11T18:26:39.453Z"
   },
   {
    "duration": 46,
    "start_time": "2022-09-11T18:49:08.771Z"
   },
   {
    "duration": 59,
    "start_time": "2022-09-11T18:49:20.084Z"
   },
   {
    "duration": 23,
    "start_time": "2022-09-11T18:55:29.360Z"
   },
   {
    "duration": 52,
    "start_time": "2022-09-11T18:55:53.705Z"
   },
   {
    "duration": 13,
    "start_time": "2022-09-11T18:56:13.085Z"
   },
   {
    "duration": 74,
    "start_time": "2022-09-11T19:18:44.788Z"
   },
   {
    "duration": 24,
    "start_time": "2022-09-11T19:20:41.342Z"
   },
   {
    "duration": 60,
    "start_time": "2022-09-11T19:21:15.773Z"
   },
   {
    "duration": 55,
    "start_time": "2022-09-11T19:21:27.562Z"
   },
   {
    "duration": 52,
    "start_time": "2022-09-11T19:21:33.894Z"
   },
   {
    "duration": 58,
    "start_time": "2022-09-11T19:22:05.210Z"
   },
   {
    "duration": 76,
    "start_time": "2022-09-11T19:23:34.162Z"
   },
   {
    "duration": 70,
    "start_time": "2022-09-11T19:23:40.706Z"
   },
   {
    "duration": 66,
    "start_time": "2022-09-11T19:24:05.589Z"
   },
   {
    "duration": 8,
    "start_time": "2022-09-11T19:29:02.425Z"
   },
   {
    "duration": 107,
    "start_time": "2022-09-11T19:30:49.603Z"
   },
   {
    "duration": 10,
    "start_time": "2022-09-11T19:31:49.093Z"
   },
   {
    "duration": 11,
    "start_time": "2022-09-11T19:33:14.302Z"
   },
   {
    "duration": 90,
    "start_time": "2022-10-17T15:10:03.788Z"
   },
   {
    "duration": 1138,
    "start_time": "2022-10-17T15:27:05.368Z"
   },
   {
    "duration": 849,
    "start_time": "2022-10-17T15:27:06.507Z"
   },
   {
    "duration": 13,
    "start_time": "2022-10-17T15:27:07.358Z"
   },
   {
    "duration": 43,
    "start_time": "2022-10-17T15:27:07.629Z"
   },
   {
    "duration": 15,
    "start_time": "2022-10-17T15:27:08.563Z"
   },
   {
    "duration": 12,
    "start_time": "2022-10-17T15:27:09.037Z"
   },
   {
    "duration": 12,
    "start_time": "2022-10-17T15:27:09.435Z"
   },
   {
    "duration": 25,
    "start_time": "2022-10-17T15:27:10.270Z"
   },
   {
    "duration": 53,
    "start_time": "2022-10-17T15:27:11.083Z"
   },
   {
    "duration": 15,
    "start_time": "2022-10-17T15:27:11.540Z"
   },
   {
    "duration": 587,
    "start_time": "2022-10-17T15:27:12.359Z"
   },
   {
    "duration": 11,
    "start_time": "2022-10-17T15:27:12.948Z"
   },
   {
    "duration": 47,
    "start_time": "2022-10-17T15:27:13.217Z"
   },
   {
    "duration": 76,
    "start_time": "2022-10-17T15:27:14.148Z"
   },
   {
    "duration": 590,
    "start_time": "2022-10-17T15:27:15.278Z"
   },
   {
    "duration": 13,
    "start_time": "2022-10-17T15:27:15.870Z"
   },
   {
    "duration": 61,
    "start_time": "2022-10-17T15:27:16.210Z"
   },
   {
    "duration": 67,
    "start_time": "2022-10-17T15:27:17.262Z"
   },
   {
    "duration": 17,
    "start_time": "2022-10-17T15:27:18.676Z"
   },
   {
    "duration": 108,
    "start_time": "2022-10-17T15:27:21.282Z"
   },
   {
    "duration": 15,
    "start_time": "2022-10-17T15:30:44.941Z"
   },
   {
    "duration": 11,
    "start_time": "2022-10-17T15:32:58.126Z"
   },
   {
    "duration": 3,
    "start_time": "2022-10-17T15:33:45.184Z"
   },
   {
    "duration": 23,
    "start_time": "2022-10-17T15:33:49.985Z"
   },
   {
    "duration": 6,
    "start_time": "2022-10-17T15:34:26.944Z"
   },
   {
    "duration": 21,
    "start_time": "2022-10-17T15:34:32.268Z"
   },
   {
    "duration": 5,
    "start_time": "2022-10-17T15:35:05.445Z"
   },
   {
    "duration": 109,
    "start_time": "2022-10-17T15:35:13.912Z"
   },
   {
    "duration": 18,
    "start_time": "2022-10-17T15:35:38.446Z"
   },
   {
    "duration": 14,
    "start_time": "2022-10-17T15:43:15.517Z"
   },
   {
    "duration": 111,
    "start_time": "2022-10-17T15:44:35.612Z"
   },
   {
    "duration": 1119,
    "start_time": "2022-10-17T18:20:36.480Z"
   },
   {
    "duration": 430,
    "start_time": "2022-10-17T18:20:37.601Z"
   },
   {
    "duration": 13,
    "start_time": "2022-10-17T18:20:38.033Z"
   },
   {
    "duration": 46,
    "start_time": "2022-10-17T18:20:38.070Z"
   },
   {
    "duration": 16,
    "start_time": "2022-10-17T18:20:38.753Z"
   },
   {
    "duration": 11,
    "start_time": "2022-10-17T18:20:39.100Z"
   },
   {
    "duration": 11,
    "start_time": "2022-10-17T18:20:39.487Z"
   },
   {
    "duration": 22,
    "start_time": "2022-10-17T18:20:40.196Z"
   },
   {
    "duration": 43,
    "start_time": "2022-10-17T18:20:40.889Z"
   },
   {
    "duration": 13,
    "start_time": "2022-10-17T18:20:41.291Z"
   },
   {
    "duration": 180,
    "start_time": "2022-10-17T18:20:42.029Z"
   },
   {
    "duration": 14,
    "start_time": "2022-10-17T18:20:42.437Z"
   },
   {
    "duration": 43,
    "start_time": "2022-10-17T18:20:42.808Z"
   },
   {
    "duration": 68,
    "start_time": "2022-10-17T18:20:43.598Z"
   },
   {
    "duration": 176,
    "start_time": "2022-10-17T18:20:44.349Z"
   },
   {
    "duration": 12,
    "start_time": "2022-10-17T18:20:44.711Z"
   },
   {
    "duration": 49,
    "start_time": "2022-10-17T18:20:45.036Z"
   },
   {
    "duration": 63,
    "start_time": "2022-10-17T18:20:45.801Z"
   },
   {
    "duration": 18,
    "start_time": "2022-10-17T18:20:46.965Z"
   },
   {
    "duration": 2,
    "start_time": "2022-10-17T18:20:48.953Z"
   },
   {
    "duration": 12,
    "start_time": "2022-10-17T18:20:49.508Z"
   },
   {
    "duration": 20,
    "start_time": "2022-10-17T18:20:50.205Z"
   },
   {
    "duration": 12,
    "start_time": "2022-10-17T18:20:51.246Z"
   },
   {
    "duration": 19,
    "start_time": "2022-10-17T18:20:52.018Z"
   },
   {
    "duration": 1060,
    "start_time": "2022-10-18T07:54:59.306Z"
   },
   {
    "duration": 498,
    "start_time": "2022-10-18T07:55:00.368Z"
   },
   {
    "duration": 15,
    "start_time": "2022-10-18T07:55:01.676Z"
   },
   {
    "duration": 41,
    "start_time": "2022-10-18T07:55:02.753Z"
   },
   {
    "duration": 12,
    "start_time": "2022-10-18T07:55:03.687Z"
   },
   {
    "duration": 14,
    "start_time": "2022-10-18T07:55:04.179Z"
   },
   {
    "duration": 12,
    "start_time": "2022-10-18T07:55:04.665Z"
   },
   {
    "duration": 22,
    "start_time": "2022-10-18T07:55:05.562Z"
   },
   {
    "duration": 43,
    "start_time": "2022-10-18T07:55:06.429Z"
   },
   {
    "duration": 14,
    "start_time": "2022-10-18T07:55:06.847Z"
   },
   {
    "duration": 182,
    "start_time": "2022-10-18T07:55:07.715Z"
   },
   {
    "duration": 13,
    "start_time": "2022-10-18T07:55:08.093Z"
   },
   {
    "duration": 42,
    "start_time": "2022-10-18T07:55:08.514Z"
   },
   {
    "duration": 63,
    "start_time": "2022-10-18T07:55:09.357Z"
   },
   {
    "duration": 184,
    "start_time": "2022-10-18T07:55:10.197Z"
   },
   {
    "duration": 13,
    "start_time": "2022-10-18T07:55:10.637Z"
   },
   {
    "duration": 44,
    "start_time": "2022-10-18T07:55:11.116Z"
   },
   {
    "duration": 72,
    "start_time": "2022-10-18T07:55:12.084Z"
   },
   {
    "duration": 16,
    "start_time": "2022-10-18T07:55:13.339Z"
   },
   {
    "duration": 3,
    "start_time": "2022-10-18T07:55:17.164Z"
   },
   {
    "duration": 13,
    "start_time": "2022-10-18T07:55:21.985Z"
   },
   {
    "duration": 24,
    "start_time": "2022-10-18T07:55:22.389Z"
   },
   {
    "duration": 17,
    "start_time": "2022-10-18T07:55:23.619Z"
   },
   {
    "duration": 50,
    "start_time": "2022-10-18T07:55:24.062Z"
   },
   {
    "duration": 16,
    "start_time": "2022-10-18T07:56:59.824Z"
   },
   {
    "duration": 18,
    "start_time": "2022-10-18T07:58:17.108Z"
   },
   {
    "duration": 15,
    "start_time": "2022-10-18T08:06:15.849Z"
   },
   {
    "duration": 16,
    "start_time": "2022-10-18T08:09:30.492Z"
   },
   {
    "duration": 15,
    "start_time": "2022-10-18T08:10:10.501Z"
   },
   {
    "duration": 18,
    "start_time": "2022-10-18T08:10:27.568Z"
   },
   {
    "duration": 1124,
    "start_time": "2022-10-18T11:30:21.680Z"
   },
   {
    "duration": 383,
    "start_time": "2022-10-18T11:30:22.806Z"
   },
   {
    "duration": 15,
    "start_time": "2022-10-18T11:30:23.191Z"
   },
   {
    "duration": 58,
    "start_time": "2022-10-18T11:30:23.919Z"
   },
   {
    "duration": 14,
    "start_time": "2022-10-18T11:30:24.768Z"
   },
   {
    "duration": 14,
    "start_time": "2022-10-18T11:30:25.121Z"
   },
   {
    "duration": 19,
    "start_time": "2022-10-18T11:30:25.632Z"
   },
   {
    "duration": 27,
    "start_time": "2022-10-18T11:30:26.456Z"
   },
   {
    "duration": 66,
    "start_time": "2022-10-18T11:30:27.303Z"
   },
   {
    "duration": 14,
    "start_time": "2022-10-18T11:30:27.726Z"
   },
   {
    "duration": 203,
    "start_time": "2022-10-18T11:30:28.663Z"
   },
   {
    "duration": 21,
    "start_time": "2022-10-18T11:30:29.103Z"
   },
   {
    "duration": 76,
    "start_time": "2022-10-18T11:30:29.523Z"
   },
   {
    "duration": 95,
    "start_time": "2022-10-18T11:30:30.387Z"
   },
   {
    "duration": 191,
    "start_time": "2022-10-18T11:30:31.207Z"
   },
   {
    "duration": 15,
    "start_time": "2022-10-18T11:30:31.671Z"
   },
   {
    "duration": 56,
    "start_time": "2022-10-18T11:30:32.110Z"
   },
   {
    "duration": 92,
    "start_time": "2022-10-18T11:30:32.939Z"
   },
   {
    "duration": 15,
    "start_time": "2022-10-18T11:30:33.753Z"
   },
   {
    "duration": 14,
    "start_time": "2022-10-18T11:30:35.478Z"
   },
   {
    "duration": 31,
    "start_time": "2022-10-18T11:30:35.889Z"
   },
   {
    "duration": 13,
    "start_time": "2022-10-18T11:30:36.695Z"
   },
   {
    "duration": 19,
    "start_time": "2022-10-18T11:30:37.089Z"
   },
   {
    "duration": 14,
    "start_time": "2022-10-18T11:30:37.902Z"
   },
   {
    "duration": 21,
    "start_time": "2022-10-18T11:30:38.309Z"
   },
   {
    "duration": 12,
    "start_time": "2022-10-18T11:33:38.254Z"
   },
   {
    "duration": 1147,
    "start_time": "2022-10-18T19:31:35.734Z"
   },
   {
    "duration": 509,
    "start_time": "2022-10-18T19:31:36.883Z"
   },
   {
    "duration": 15,
    "start_time": "2022-10-18T19:31:37.394Z"
   },
   {
    "duration": 78,
    "start_time": "2022-10-18T19:31:37.498Z"
   },
   {
    "duration": 16,
    "start_time": "2022-10-18T19:31:38.308Z"
   },
   {
    "duration": 12,
    "start_time": "2022-10-18T19:31:38.688Z"
   },
   {
    "duration": 12,
    "start_time": "2022-10-18T19:31:39.080Z"
   },
   {
    "duration": 25,
    "start_time": "2022-10-18T19:31:39.856Z"
   },
   {
    "duration": 44,
    "start_time": "2022-10-18T19:31:40.671Z"
   },
   {
    "duration": 13,
    "start_time": "2022-10-18T19:31:41.100Z"
   },
   {
    "duration": 643,
    "start_time": "2022-10-18T19:31:42.023Z"
   },
   {
    "duration": 15,
    "start_time": "2022-10-18T19:31:42.668Z"
   },
   {
    "duration": 47,
    "start_time": "2022-10-18T19:31:42.896Z"
   },
   {
    "duration": 71,
    "start_time": "2022-10-18T19:31:43.806Z"
   },
   {
    "duration": 613,
    "start_time": "2022-10-18T19:31:44.581Z"
   },
   {
    "duration": 12,
    "start_time": "2022-10-18T19:31:45.196Z"
   },
   {
    "duration": 42,
    "start_time": "2022-10-18T19:31:45.334Z"
   },
   {
    "duration": 67,
    "start_time": "2022-10-18T19:31:46.068Z"
   },
   {
    "duration": 16,
    "start_time": "2022-10-18T19:31:46.880Z"
   },
   {
    "duration": 14,
    "start_time": "2022-10-18T19:31:48.750Z"
   },
   {
    "duration": 23,
    "start_time": "2022-10-18T19:31:49.180Z"
   },
   {
    "duration": 13,
    "start_time": "2022-10-18T19:31:50.081Z"
   },
   {
    "duration": 17,
    "start_time": "2022-10-18T19:31:50.470Z"
   },
   {
    "duration": 12,
    "start_time": "2022-10-18T19:31:51.367Z"
   },
   {
    "duration": 18,
    "start_time": "2022-10-18T19:31:51.783Z"
   },
   {
    "duration": 3,
    "start_time": "2022-10-18T19:50:12.726Z"
   },
   {
    "duration": 70,
    "start_time": "2022-10-18T19:57:09.849Z"
   },
   {
    "duration": 71,
    "start_time": "2022-10-18T19:57:14.207Z"
   },
   {
    "duration": 4,
    "start_time": "2022-10-18T19:57:28.084Z"
   },
   {
    "duration": 5,
    "start_time": "2022-10-18T20:02:38.188Z"
   },
   {
    "duration": 5,
    "start_time": "2022-10-18T20:08:32.695Z"
   },
   {
    "duration": 6,
    "start_time": "2022-10-18T20:08:45.158Z"
   },
   {
    "duration": 6,
    "start_time": "2022-10-18T20:08:53.731Z"
   },
   {
    "duration": 1068,
    "start_time": "2022-10-20T18:21:59.774Z"
   },
   {
    "duration": 345,
    "start_time": "2022-10-20T18:22:00.844Z"
   },
   {
    "duration": 14,
    "start_time": "2022-10-20T18:22:01.191Z"
   },
   {
    "duration": 53,
    "start_time": "2022-10-20T18:22:01.678Z"
   },
   {
    "duration": 14,
    "start_time": "2022-10-20T18:22:02.423Z"
   },
   {
    "duration": 12,
    "start_time": "2022-10-20T18:22:02.813Z"
   },
   {
    "duration": 13,
    "start_time": "2022-10-20T18:22:03.195Z"
   },
   {
    "duration": 28,
    "start_time": "2022-10-20T18:22:03.984Z"
   },
   {
    "duration": 50,
    "start_time": "2022-10-20T18:22:04.739Z"
   },
   {
    "duration": 15,
    "start_time": "2022-10-20T18:22:05.143Z"
   },
   {
    "duration": 194,
    "start_time": "2022-10-20T18:22:05.959Z"
   },
   {
    "duration": 18,
    "start_time": "2022-10-20T18:22:06.344Z"
   },
   {
    "duration": 50,
    "start_time": "2022-10-20T18:22:06.768Z"
   },
   {
    "duration": 79,
    "start_time": "2022-10-20T18:22:07.555Z"
   },
   {
    "duration": 206,
    "start_time": "2022-10-20T18:22:08.356Z"
   },
   {
    "duration": 14,
    "start_time": "2022-10-20T18:22:08.829Z"
   },
   {
    "duration": 55,
    "start_time": "2022-10-20T18:22:09.185Z"
   },
   {
    "duration": 77,
    "start_time": "2022-10-20T18:22:10.008Z"
   },
   {
    "duration": 16,
    "start_time": "2022-10-20T18:22:10.949Z"
   },
   {
    "duration": 13,
    "start_time": "2022-10-20T18:22:12.675Z"
   },
   {
    "duration": 25,
    "start_time": "2022-10-20T18:22:13.077Z"
   },
   {
    "duration": 13,
    "start_time": "2022-10-20T18:22:13.839Z"
   },
   {
    "duration": 23,
    "start_time": "2022-10-20T18:22:14.245Z"
   },
   {
    "duration": 14,
    "start_time": "2022-10-20T18:22:15.130Z"
   },
   {
    "duration": 22,
    "start_time": "2022-10-20T18:22:15.490Z"
   },
   {
    "duration": 3,
    "start_time": "2022-10-20T18:22:18.124Z"
   },
   {
    "duration": 5,
    "start_time": "2022-10-20T18:22:19.034Z"
   },
   {
    "duration": 6,
    "start_time": "2022-10-20T18:22:20.005Z"
   },
   {
    "duration": 4,
    "start_time": "2022-10-20T18:40:22.656Z"
   },
   {
    "duration": 97,
    "start_time": "2022-10-20T18:40:54.489Z"
   },
   {
    "duration": 3,
    "start_time": "2022-10-20T18:43:15.471Z"
   },
   {
    "duration": 11,
    "start_time": "2022-10-20T18:43:16.099Z"
   },
   {
    "duration": 3,
    "start_time": "2022-10-20T18:43:36.549Z"
   },
   {
    "duration": 15,
    "start_time": "2022-10-20T18:43:37.614Z"
   },
   {
    "duration": 3,
    "start_time": "2022-10-20T18:46:41.076Z"
   },
   {
    "duration": 14,
    "start_time": "2022-10-20T18:46:41.442Z"
   },
   {
    "duration": 14,
    "start_time": "2022-10-20T18:49:00.969Z"
   },
   {
    "duration": 14,
    "start_time": "2022-10-20T18:49:07.691Z"
   },
   {
    "duration": 4,
    "start_time": "2022-10-20T18:50:39.924Z"
   },
   {
    "duration": 8,
    "start_time": "2022-10-20T18:50:40.387Z"
   },
   {
    "duration": 17,
    "start_time": "2022-10-20T19:10:11.297Z"
   },
   {
    "duration": 13,
    "start_time": "2022-10-20T19:12:59.733Z"
   },
   {
    "duration": 13,
    "start_time": "2022-10-20T19:13:27.111Z"
   },
   {
    "duration": 14,
    "start_time": "2022-10-20T19:13:55.148Z"
   },
   {
    "duration": 15,
    "start_time": "2022-10-20T19:14:29.769Z"
   },
   {
    "duration": 12,
    "start_time": "2022-10-20T19:18:05.066Z"
   },
   {
    "duration": 14,
    "start_time": "2022-10-20T19:18:22.102Z"
   },
   {
    "duration": 1635,
    "start_time": "2022-10-20T19:18:31.889Z"
   },
   {
    "duration": 1543,
    "start_time": "2022-10-20T19:18:42.311Z"
   },
   {
    "duration": 1696,
    "start_time": "2022-10-20T19:22:04.396Z"
   },
   {
    "duration": 1647,
    "start_time": "2022-10-20T19:22:28.879Z"
   },
   {
    "duration": 1705,
    "start_time": "2022-10-20T19:23:14.895Z"
   },
   {
    "duration": 16,
    "start_time": "2022-10-20T19:23:44.888Z"
   },
   {
    "duration": 1557,
    "start_time": "2022-10-20T19:23:50.689Z"
   },
   {
    "duration": 10,
    "start_time": "2022-10-20T19:25:31.692Z"
   },
   {
    "duration": 1795,
    "start_time": "2022-10-20T19:27:09.308Z"
   },
   {
    "duration": 1690,
    "start_time": "2022-10-20T19:28:51.521Z"
   },
   {
    "duration": 12,
    "start_time": "2022-10-20T19:41:23.507Z"
   },
   {
    "duration": 19,
    "start_time": "2022-10-20T19:41:55.243Z"
   },
   {
    "duration": 1489,
    "start_time": "2022-10-20T19:43:47.865Z"
   },
   {
    "duration": 1495,
    "start_time": "2022-10-20T19:44:15.504Z"
   },
   {
    "duration": 1431,
    "start_time": "2022-10-20T19:44:30.679Z"
   },
   {
    "duration": 1435,
    "start_time": "2022-10-20T19:44:46.711Z"
   },
   {
    "duration": 1455,
    "start_time": "2022-10-20T19:45:08.208Z"
   },
   {
    "duration": 5,
    "start_time": "2022-10-20T19:55:08.416Z"
   },
   {
    "duration": 1441,
    "start_time": "2022-10-20T19:55:38.189Z"
   },
   {
    "duration": 1421,
    "start_time": "2022-10-20T19:56:38.445Z"
   },
   {
    "duration": 1403,
    "start_time": "2022-10-20T19:57:32.294Z"
   },
   {
    "duration": 1400,
    "start_time": "2022-10-20T19:57:39.183Z"
   },
   {
    "duration": 1387,
    "start_time": "2022-10-20T19:57:52.532Z"
   },
   {
    "duration": 1569,
    "start_time": "2022-10-20T19:57:56.894Z"
   },
   {
    "duration": 1562,
    "start_time": "2022-10-20T20:01:33.068Z"
   },
   {
    "duration": 5,
    "start_time": "2022-10-20T20:08:01.759Z"
   },
   {
    "duration": 126,
    "start_time": "2022-10-20T20:08:02.714Z"
   },
   {
    "duration": 15,
    "start_time": "2022-10-20T20:08:03.091Z"
   },
   {
    "duration": 48,
    "start_time": "2022-10-20T20:08:03.793Z"
   },
   {
    "duration": 14,
    "start_time": "2022-10-20T20:08:04.537Z"
   },
   {
    "duration": 13,
    "start_time": "2022-10-20T20:08:04.908Z"
   },
   {
    "duration": 12,
    "start_time": "2022-10-20T20:08:05.289Z"
   },
   {
    "duration": 26,
    "start_time": "2022-10-20T20:08:06.019Z"
   },
   {
    "duration": 53,
    "start_time": "2022-10-20T20:08:06.790Z"
   },
   {
    "duration": 13,
    "start_time": "2022-10-20T20:08:07.162Z"
   },
   {
    "duration": 126,
    "start_time": "2022-10-20T20:08:07.931Z"
   },
   {
    "duration": 24,
    "start_time": "2022-10-20T20:08:08.325Z"
   },
   {
    "duration": 84,
    "start_time": "2022-10-20T20:08:08.727Z"
   },
   {
    "duration": 74,
    "start_time": "2022-10-20T20:08:09.530Z"
   },
   {
    "duration": 127,
    "start_time": "2022-10-20T20:08:10.295Z"
   },
   {
    "duration": 16,
    "start_time": "2022-10-20T20:08:10.684Z"
   },
   {
    "duration": 49,
    "start_time": "2022-10-20T20:08:11.072Z"
   },
   {
    "duration": 76,
    "start_time": "2022-10-20T20:08:11.867Z"
   },
   {
    "duration": 12,
    "start_time": "2022-10-20T20:08:12.755Z"
   },
   {
    "duration": 13,
    "start_time": "2022-10-20T20:08:14.405Z"
   },
   {
    "duration": 96,
    "start_time": "2022-10-20T20:08:14.837Z"
   },
   {
    "duration": 13,
    "start_time": "2022-10-20T20:08:15.655Z"
   },
   {
    "duration": 19,
    "start_time": "2022-10-20T20:08:16.110Z"
   },
   {
    "duration": 15,
    "start_time": "2022-10-20T20:08:16.998Z"
   },
   {
    "duration": 19,
    "start_time": "2022-10-20T20:08:17.404Z"
   },
   {
    "duration": 3,
    "start_time": "2022-10-20T20:08:19.050Z"
   },
   {
    "duration": 4,
    "start_time": "2022-10-20T20:08:19.871Z"
   },
   {
    "duration": 5,
    "start_time": "2022-10-20T20:08:20.748Z"
   },
   {
    "duration": 3,
    "start_time": "2022-10-20T20:08:21.617Z"
   },
   {
    "duration": 5,
    "start_time": "2022-10-20T20:08:22.537Z"
   },
   {
    "duration": 1426,
    "start_time": "2022-10-20T20:08:22.976Z"
   },
   {
    "duration": 1419,
    "start_time": "2022-10-20T20:08:24.404Z"
   },
   {
    "duration": 1417,
    "start_time": "2022-10-20T20:08:26.441Z"
   },
   {
    "duration": 1228,
    "start_time": "2022-10-21T08:20:47.912Z"
   },
   {
    "duration": 538,
    "start_time": "2022-10-21T08:20:49.142Z"
   },
   {
    "duration": 14,
    "start_time": "2022-10-21T08:20:49.681Z"
   },
   {
    "duration": 75,
    "start_time": "2022-10-21T08:20:49.697Z"
   },
   {
    "duration": 17,
    "start_time": "2022-10-21T08:20:49.774Z"
   },
   {
    "duration": 19,
    "start_time": "2022-10-21T08:20:49.793Z"
   },
   {
    "duration": 12,
    "start_time": "2022-10-21T08:20:49.813Z"
   },
   {
    "duration": 29,
    "start_time": "2022-10-21T08:20:49.827Z"
   },
   {
    "duration": 73,
    "start_time": "2022-10-21T08:20:49.857Z"
   },
   {
    "duration": 15,
    "start_time": "2022-10-21T08:20:49.933Z"
   },
   {
    "duration": 637,
    "start_time": "2022-10-21T08:20:49.950Z"
   },
   {
    "duration": 12,
    "start_time": "2022-10-21T08:20:50.589Z"
   },
   {
    "duration": 66,
    "start_time": "2022-10-21T08:20:50.603Z"
   },
   {
    "duration": 110,
    "start_time": "2022-10-21T08:20:50.671Z"
   },
   {
    "duration": 633,
    "start_time": "2022-10-21T08:20:50.783Z"
   },
   {
    "duration": 13,
    "start_time": "2022-10-21T08:20:51.418Z"
   },
   {
    "duration": 57,
    "start_time": "2022-10-21T08:20:51.432Z"
   },
   {
    "duration": 74,
    "start_time": "2022-10-21T08:20:51.491Z"
   },
   {
    "duration": 21,
    "start_time": "2022-10-21T08:20:51.567Z"
   },
   {
    "duration": 52,
    "start_time": "2022-10-21T08:20:51.590Z"
   },
   {
    "duration": 59,
    "start_time": "2022-10-21T08:20:51.643Z"
   },
   {
    "duration": 131,
    "start_time": "2022-10-21T08:20:51.706Z"
   },
   {
    "duration": 84,
    "start_time": "2022-10-21T08:20:51.839Z"
   },
   {
    "duration": 191,
    "start_time": "2022-10-21T08:20:51.925Z"
   },
   {
    "duration": 25,
    "start_time": "2022-10-21T08:20:52.118Z"
   },
   {
    "duration": 103,
    "start_time": "2022-10-21T08:20:52.205Z"
   },
   {
    "duration": 28,
    "start_time": "2022-10-21T08:20:52.310Z"
   },
   {
    "duration": 35,
    "start_time": "2022-10-21T08:20:52.342Z"
   },
   {
    "duration": 28,
    "start_time": "2022-10-21T08:20:52.379Z"
   },
   {
    "duration": 20,
    "start_time": "2022-10-21T08:20:52.409Z"
   },
   {
    "duration": 1343,
    "start_time": "2022-10-21T08:20:52.431Z"
   },
   {
    "duration": 1295,
    "start_time": "2022-10-21T08:20:53.775Z"
   },
   {
    "duration": 1285,
    "start_time": "2022-10-21T08:20:55.072Z"
   },
   {
    "duration": 88,
    "start_time": "2022-10-21T08:21:08.527Z"
   },
   {
    "duration": 5,
    "start_time": "2022-10-21T08:21:21.344Z"
   },
   {
    "duration": 3,
    "start_time": "2022-10-21T08:21:24.618Z"
   },
   {
    "duration": 61,
    "start_time": "2022-10-21T12:00:59.392Z"
   },
   {
    "duration": 1432,
    "start_time": "2022-10-21T12:01:08.243Z"
   },
   {
    "duration": 423,
    "start_time": "2022-10-21T12:01:09.677Z"
   },
   {
    "duration": 15,
    "start_time": "2022-10-21T12:01:10.101Z"
   },
   {
    "duration": 53,
    "start_time": "2022-10-21T12:01:10.353Z"
   },
   {
    "duration": 18,
    "start_time": "2022-10-21T12:01:11.025Z"
   },
   {
    "duration": 13,
    "start_time": "2022-10-21T12:01:11.374Z"
   },
   {
    "duration": 16,
    "start_time": "2022-10-21T12:01:11.728Z"
   },
   {
    "duration": 23,
    "start_time": "2022-10-21T12:01:12.780Z"
   },
   {
    "duration": 61,
    "start_time": "2022-10-21T12:01:13.434Z"
   },
   {
    "duration": 13,
    "start_time": "2022-10-21T12:01:13.805Z"
   },
   {
    "duration": 202,
    "start_time": "2022-10-21T12:01:14.489Z"
   },
   {
    "duration": 14,
    "start_time": "2022-10-21T12:01:14.817Z"
   },
   {
    "duration": 48,
    "start_time": "2022-10-21T12:01:15.171Z"
   },
   {
    "duration": 71,
    "start_time": "2022-10-21T12:01:15.865Z"
   },
   {
    "duration": 214,
    "start_time": "2022-10-21T12:01:16.565Z"
   },
   {
    "duration": 14,
    "start_time": "2022-10-21T12:01:16.985Z"
   },
   {
    "duration": 50,
    "start_time": "2022-10-21T12:01:17.347Z"
   },
   {
    "duration": 88,
    "start_time": "2022-10-21T12:01:18.037Z"
   },
   {
    "duration": 15,
    "start_time": "2022-10-21T12:01:18.690Z"
   },
   {
    "duration": 14,
    "start_time": "2022-10-21T12:01:20.371Z"
   },
   {
    "duration": 24,
    "start_time": "2022-10-21T12:01:20.747Z"
   },
   {
    "duration": 14,
    "start_time": "2022-10-21T12:01:21.407Z"
   },
   {
    "duration": 22,
    "start_time": "2022-10-21T12:01:21.780Z"
   },
   {
    "duration": 14,
    "start_time": "2022-10-21T12:01:22.809Z"
   },
   {
    "duration": 20,
    "start_time": "2022-10-21T12:01:23.148Z"
   },
   {
    "duration": 3,
    "start_time": "2022-10-21T12:01:24.848Z"
   },
   {
    "duration": 4,
    "start_time": "2022-10-21T12:01:26.008Z"
   },
   {
    "duration": 8,
    "start_time": "2022-10-21T12:01:26.785Z"
   },
   {
    "duration": 3,
    "start_time": "2022-10-21T12:01:27.587Z"
   },
   {
    "duration": 5,
    "start_time": "2022-10-21T12:01:29.196Z"
   },
   {
    "duration": 1553,
    "start_time": "2022-10-21T12:01:30.735Z"
   },
   {
    "duration": 1505,
    "start_time": "2022-10-21T12:01:41.750Z"
   },
   {
    "duration": 1395,
    "start_time": "2022-10-21T12:01:52.776Z"
   },
   {
    "duration": 53,
    "start_time": "2022-10-21T12:06:02.877Z"
   },
   {
    "duration": 1427,
    "start_time": "2022-10-21T12:06:26.534Z"
   },
   {
    "duration": 1392,
    "start_time": "2022-10-21T12:06:30.585Z"
   },
   {
    "duration": 1369,
    "start_time": "2022-10-21T12:06:54.491Z"
   }
  ],
  "kernelspec": {
   "display_name": "Python 3 (ipykernel)",
   "language": "python",
   "name": "python3"
  },
  "language_info": {
   "codemirror_mode": {
    "name": "ipython",
    "version": 3
   },
   "file_extension": ".py",
   "mimetype": "text/x-python",
   "name": "python",
   "nbconvert_exporter": "python",
   "pygments_lexer": "ipython3",
   "version": "3.9.7"
  },
  "toc": {
   "base_numbering": 1,
   "nav_menu": {},
   "number_sections": true,
   "sideBar": true,
   "skip_h1_title": true,
   "title_cell": "Table of Contents",
   "title_sidebar": "Contents",
   "toc_cell": false,
   "toc_position": {},
   "toc_section_display": true,
   "toc_window_display": false
  }
 },
 "nbformat": 4,
 "nbformat_minor": 2
}
