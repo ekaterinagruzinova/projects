{
 "cells": [
  {
   "cell_type": "markdown",
   "metadata": {
    "toc": true
   },
   "source": [
    "<h1>Содержание<span class=\"tocSkip\"></span></h1>\n",
    "<div class=\"toc\"><ul class=\"toc-item\"><li><span><a href=\"#Подготовка-данных\" data-toc-modified-id=\"Подготовка-данных-1\"><span class=\"toc-item-num\">1&nbsp;&nbsp;</span>Подготовка данных</a></span></li><li><span><a href=\"#Анализ-данных\" data-toc-modified-id=\"Анализ-данных-2\"><span class=\"toc-item-num\">2&nbsp;&nbsp;</span>Анализ данных</a></span></li><li><span><a href=\"#Модель\" data-toc-modified-id=\"Модель-3\"><span class=\"toc-item-num\">3&nbsp;&nbsp;</span>Модель</a></span></li><li><span><a href=\"#Выводы\" data-toc-modified-id=\"Выводы-4\"><span class=\"toc-item-num\">4&nbsp;&nbsp;</span>Выводы</a></span></li><li><span><a href=\"#Чек-лист-готовности-проекта\" data-toc-modified-id=\"Чек-лист-готовности-проекта-5\"><span class=\"toc-item-num\">5&nbsp;&nbsp;</span>Чек-лист готовности проекта</a></span></li></ul></div>"
   ]
  },
  {
   "cell_type": "markdown",
   "metadata": {},
   "source": [
    "# Восстановление золота из руды"
   ]
  },
  {
   "cell_type": "markdown",
   "metadata": {},
   "source": [
    "Компания разрабатывает решения для эффективной работы промышленных предприятий. Нам необходимо разработать прототип модели машинного обучения, которая поможет оптимизировать производство, чтобы не запускать предприятие с убыточными характеристиками. Модель должна предсказать коэффициент восстановления золота из золотосодержащей руды. Для этого мы будем Использовать данные с параметрами добычи и очистки. "
   ]
  },
  {
   "cell_type": "markdown",
   "metadata": {},
   "source": [
    "## Подготовка данных"
   ]
  },
  {
   "cell_type": "markdown",
   "metadata": {},
   "source": [
    "Вызовем все нужные библиотеки и инструменты"
   ]
  },
  {
   "cell_type": "code",
   "execution_count": 34,
   "metadata": {},
   "outputs": [],
   "source": [
    "import pandas as pd\n",
    "import numpy as np\n",
    "import random\n",
    "import seaborn as sns\n",
    "\n",
    "from sklearn.preprocessing import StandardScaler \n",
    "from sklearn.tree import DecisionTreeClassifier\n",
    "from sklearn.ensemble import RandomForestClassifier \n",
    "from sklearn.linear_model import LogisticRegression \n",
    "from sklearn.dummy import DummyRegressor\n",
    "from sklearn.utils import shuffle\n",
    "from sklearn.linear_model import LinearRegression\n",
    "from sklearn.metrics import mean_squared_error\n",
    "from sklearn.metrics import mean_absolute_error\n",
    "from matplotlib import pyplot\n",
    "from sklearn.tree import DecisionTreeRegressor\n",
    "from sklearn.metrics import fbeta_score, make_scorer\n",
    "from sklearn.model_selection import cross_val_score\n",
    "from sklearn.ensemble import RandomForestRegressor\n",
    "from sklearn.model_selection import GridSearchCV\n",
    "from datetime import datetime as d"
   ]
  },
  {
   "cell_type": "markdown",
   "metadata": {},
   "source": [
    "Загрузим данные и ознакомимся с ними."
   ]
  },
  {
   "cell_type": "code",
   "execution_count": 35,
   "metadata": {},
   "outputs": [],
   "source": [
    "data_train = pd.read_csv('/datasets/gold_recovery_train_new.csv')\n",
    "data_test = pd.read_csv('/datasets/gold_recovery_test_new.csv')\n",
    "data_full = pd.read_csv('/datasets/gold_recovery_full_new.csv')\n"
   ]
  },
  {
   "cell_type": "code",
   "execution_count": 36,
   "metadata": {},
   "outputs": [
    {
     "data": {
      "text/html": [
       "<div>\n",
       "<style scoped>\n",
       "    .dataframe tbody tr th:only-of-type {\n",
       "        vertical-align: middle;\n",
       "    }\n",
       "\n",
       "    .dataframe tbody tr th {\n",
       "        vertical-align: top;\n",
       "    }\n",
       "\n",
       "    .dataframe thead th {\n",
       "        text-align: right;\n",
       "    }\n",
       "</style>\n",
       "<table border=\"1\" class=\"dataframe\">\n",
       "  <thead>\n",
       "    <tr style=\"text-align: right;\">\n",
       "      <th></th>\n",
       "      <th>date</th>\n",
       "      <th>final.output.concentrate_ag</th>\n",
       "      <th>final.output.concentrate_pb</th>\n",
       "      <th>final.output.concentrate_sol</th>\n",
       "      <th>final.output.concentrate_au</th>\n",
       "      <th>final.output.recovery</th>\n",
       "      <th>final.output.tail_ag</th>\n",
       "      <th>final.output.tail_pb</th>\n",
       "      <th>final.output.tail_sol</th>\n",
       "      <th>final.output.tail_au</th>\n",
       "      <th>...</th>\n",
       "      <th>secondary_cleaner.state.floatbank4_a_air</th>\n",
       "      <th>secondary_cleaner.state.floatbank4_a_level</th>\n",
       "      <th>secondary_cleaner.state.floatbank4_b_air</th>\n",
       "      <th>secondary_cleaner.state.floatbank4_b_level</th>\n",
       "      <th>secondary_cleaner.state.floatbank5_a_air</th>\n",
       "      <th>secondary_cleaner.state.floatbank5_a_level</th>\n",
       "      <th>secondary_cleaner.state.floatbank5_b_air</th>\n",
       "      <th>secondary_cleaner.state.floatbank5_b_level</th>\n",
       "      <th>secondary_cleaner.state.floatbank6_a_air</th>\n",
       "      <th>secondary_cleaner.state.floatbank6_a_level</th>\n",
       "    </tr>\n",
       "  </thead>\n",
       "  <tbody>\n",
       "    <tr>\n",
       "      <th>0</th>\n",
       "      <td>2016-01-15 00:00:00</td>\n",
       "      <td>6.055403</td>\n",
       "      <td>9.889648</td>\n",
       "      <td>5.507324</td>\n",
       "      <td>42.192020</td>\n",
       "      <td>70.541216</td>\n",
       "      <td>10.411962</td>\n",
       "      <td>0.895447</td>\n",
       "      <td>16.904297</td>\n",
       "      <td>2.143149</td>\n",
       "      <td>...</td>\n",
       "      <td>14.016835</td>\n",
       "      <td>-502.488007</td>\n",
       "      <td>12.099931</td>\n",
       "      <td>-504.715942</td>\n",
       "      <td>9.925633</td>\n",
       "      <td>-498.310211</td>\n",
       "      <td>8.079666</td>\n",
       "      <td>-500.470978</td>\n",
       "      <td>14.151341</td>\n",
       "      <td>-605.841980</td>\n",
       "    </tr>\n",
       "    <tr>\n",
       "      <th>1</th>\n",
       "      <td>2016-01-15 01:00:00</td>\n",
       "      <td>6.029369</td>\n",
       "      <td>9.968944</td>\n",
       "      <td>5.257781</td>\n",
       "      <td>42.701629</td>\n",
       "      <td>69.266198</td>\n",
       "      <td>10.462676</td>\n",
       "      <td>0.927452</td>\n",
       "      <td>16.634514</td>\n",
       "      <td>2.224930</td>\n",
       "      <td>...</td>\n",
       "      <td>13.992281</td>\n",
       "      <td>-505.503262</td>\n",
       "      <td>11.950531</td>\n",
       "      <td>-501.331529</td>\n",
       "      <td>10.039245</td>\n",
       "      <td>-500.169983</td>\n",
       "      <td>7.984757</td>\n",
       "      <td>-500.582168</td>\n",
       "      <td>13.998353</td>\n",
       "      <td>-599.787184</td>\n",
       "    </tr>\n",
       "    <tr>\n",
       "      <th>2</th>\n",
       "      <td>2016-01-15 02:00:00</td>\n",
       "      <td>6.055926</td>\n",
       "      <td>10.213995</td>\n",
       "      <td>5.383759</td>\n",
       "      <td>42.657501</td>\n",
       "      <td>68.116445</td>\n",
       "      <td>10.507046</td>\n",
       "      <td>0.953716</td>\n",
       "      <td>16.208849</td>\n",
       "      <td>2.257889</td>\n",
       "      <td>...</td>\n",
       "      <td>14.015015</td>\n",
       "      <td>-502.520901</td>\n",
       "      <td>11.912783</td>\n",
       "      <td>-501.133383</td>\n",
       "      <td>10.070913</td>\n",
       "      <td>-500.129135</td>\n",
       "      <td>8.013877</td>\n",
       "      <td>-500.517572</td>\n",
       "      <td>14.028663</td>\n",
       "      <td>-601.427363</td>\n",
       "    </tr>\n",
       "    <tr>\n",
       "      <th>3</th>\n",
       "      <td>2016-01-15 03:00:00</td>\n",
       "      <td>6.047977</td>\n",
       "      <td>9.977019</td>\n",
       "      <td>4.858634</td>\n",
       "      <td>42.689819</td>\n",
       "      <td>68.347543</td>\n",
       "      <td>10.422762</td>\n",
       "      <td>0.883763</td>\n",
       "      <td>16.532835</td>\n",
       "      <td>2.146849</td>\n",
       "      <td>...</td>\n",
       "      <td>14.036510</td>\n",
       "      <td>-500.857308</td>\n",
       "      <td>11.999550</td>\n",
       "      <td>-501.193686</td>\n",
       "      <td>9.970366</td>\n",
       "      <td>-499.201640</td>\n",
       "      <td>7.977324</td>\n",
       "      <td>-500.255908</td>\n",
       "      <td>14.005551</td>\n",
       "      <td>-599.996129</td>\n",
       "    </tr>\n",
       "    <tr>\n",
       "      <th>4</th>\n",
       "      <td>2016-01-15 04:00:00</td>\n",
       "      <td>6.148599</td>\n",
       "      <td>10.142511</td>\n",
       "      <td>4.939416</td>\n",
       "      <td>42.774141</td>\n",
       "      <td>66.927016</td>\n",
       "      <td>10.360302</td>\n",
       "      <td>0.792826</td>\n",
       "      <td>16.525686</td>\n",
       "      <td>2.055292</td>\n",
       "      <td>...</td>\n",
       "      <td>14.027298</td>\n",
       "      <td>-499.838632</td>\n",
       "      <td>11.953070</td>\n",
       "      <td>-501.053894</td>\n",
       "      <td>9.925709</td>\n",
       "      <td>-501.686727</td>\n",
       "      <td>7.894242</td>\n",
       "      <td>-500.356035</td>\n",
       "      <td>13.996647</td>\n",
       "      <td>-601.496691</td>\n",
       "    </tr>\n",
       "  </tbody>\n",
       "</table>\n",
       "<p>5 rows × 87 columns</p>\n",
       "</div>"
      ],
      "text/plain": [
       "                  date  final.output.concentrate_ag  \\\n",
       "0  2016-01-15 00:00:00                     6.055403   \n",
       "1  2016-01-15 01:00:00                     6.029369   \n",
       "2  2016-01-15 02:00:00                     6.055926   \n",
       "3  2016-01-15 03:00:00                     6.047977   \n",
       "4  2016-01-15 04:00:00                     6.148599   \n",
       "\n",
       "   final.output.concentrate_pb  final.output.concentrate_sol  \\\n",
       "0                     9.889648                      5.507324   \n",
       "1                     9.968944                      5.257781   \n",
       "2                    10.213995                      5.383759   \n",
       "3                     9.977019                      4.858634   \n",
       "4                    10.142511                      4.939416   \n",
       "\n",
       "   final.output.concentrate_au  final.output.recovery  final.output.tail_ag  \\\n",
       "0                    42.192020              70.541216             10.411962   \n",
       "1                    42.701629              69.266198             10.462676   \n",
       "2                    42.657501              68.116445             10.507046   \n",
       "3                    42.689819              68.347543             10.422762   \n",
       "4                    42.774141              66.927016             10.360302   \n",
       "\n",
       "   final.output.tail_pb  final.output.tail_sol  final.output.tail_au  ...  \\\n",
       "0              0.895447              16.904297              2.143149  ...   \n",
       "1              0.927452              16.634514              2.224930  ...   \n",
       "2              0.953716              16.208849              2.257889  ...   \n",
       "3              0.883763              16.532835              2.146849  ...   \n",
       "4              0.792826              16.525686              2.055292  ...   \n",
       "\n",
       "   secondary_cleaner.state.floatbank4_a_air  \\\n",
       "0                                 14.016835   \n",
       "1                                 13.992281   \n",
       "2                                 14.015015   \n",
       "3                                 14.036510   \n",
       "4                                 14.027298   \n",
       "\n",
       "   secondary_cleaner.state.floatbank4_a_level  \\\n",
       "0                                 -502.488007   \n",
       "1                                 -505.503262   \n",
       "2                                 -502.520901   \n",
       "3                                 -500.857308   \n",
       "4                                 -499.838632   \n",
       "\n",
       "   secondary_cleaner.state.floatbank4_b_air  \\\n",
       "0                                 12.099931   \n",
       "1                                 11.950531   \n",
       "2                                 11.912783   \n",
       "3                                 11.999550   \n",
       "4                                 11.953070   \n",
       "\n",
       "   secondary_cleaner.state.floatbank4_b_level  \\\n",
       "0                                 -504.715942   \n",
       "1                                 -501.331529   \n",
       "2                                 -501.133383   \n",
       "3                                 -501.193686   \n",
       "4                                 -501.053894   \n",
       "\n",
       "   secondary_cleaner.state.floatbank5_a_air  \\\n",
       "0                                  9.925633   \n",
       "1                                 10.039245   \n",
       "2                                 10.070913   \n",
       "3                                  9.970366   \n",
       "4                                  9.925709   \n",
       "\n",
       "   secondary_cleaner.state.floatbank5_a_level  \\\n",
       "0                                 -498.310211   \n",
       "1                                 -500.169983   \n",
       "2                                 -500.129135   \n",
       "3                                 -499.201640   \n",
       "4                                 -501.686727   \n",
       "\n",
       "   secondary_cleaner.state.floatbank5_b_air  \\\n",
       "0                                  8.079666   \n",
       "1                                  7.984757   \n",
       "2                                  8.013877   \n",
       "3                                  7.977324   \n",
       "4                                  7.894242   \n",
       "\n",
       "   secondary_cleaner.state.floatbank5_b_level  \\\n",
       "0                                 -500.470978   \n",
       "1                                 -500.582168   \n",
       "2                                 -500.517572   \n",
       "3                                 -500.255908   \n",
       "4                                 -500.356035   \n",
       "\n",
       "   secondary_cleaner.state.floatbank6_a_air  \\\n",
       "0                                 14.151341   \n",
       "1                                 13.998353   \n",
       "2                                 14.028663   \n",
       "3                                 14.005551   \n",
       "4                                 13.996647   \n",
       "\n",
       "   secondary_cleaner.state.floatbank6_a_level  \n",
       "0                                 -605.841980  \n",
       "1                                 -599.787184  \n",
       "2                                 -601.427363  \n",
       "3                                 -599.996129  \n",
       "4                                 -601.496691  \n",
       "\n",
       "[5 rows x 87 columns]"
      ]
     },
     "execution_count": 36,
     "metadata": {},
     "output_type": "execute_result"
    }
   ],
   "source": [
    "data_train.head()"
   ]
  },
  {
   "cell_type": "code",
   "execution_count": 37,
   "metadata": {},
   "outputs": [
    {
     "name": "stdout",
     "output_type": "stream",
     "text": [
      "<class 'pandas.core.frame.DataFrame'>\n",
      "RangeIndex: 14149 entries, 0 to 14148\n",
      "Data columns (total 87 columns):\n",
      " #   Column                                              Non-Null Count  Dtype  \n",
      "---  ------                                              --------------  -----  \n",
      " 0   date                                                14149 non-null  object \n",
      " 1   final.output.concentrate_ag                         14148 non-null  float64\n",
      " 2   final.output.concentrate_pb                         14148 non-null  float64\n",
      " 3   final.output.concentrate_sol                        13938 non-null  float64\n",
      " 4   final.output.concentrate_au                         14149 non-null  float64\n",
      " 5   final.output.recovery                               14149 non-null  float64\n",
      " 6   final.output.tail_ag                                14149 non-null  float64\n",
      " 7   final.output.tail_pb                                14049 non-null  float64\n",
      " 8   final.output.tail_sol                               14144 non-null  float64\n",
      " 9   final.output.tail_au                                14149 non-null  float64\n",
      " 10  primary_cleaner.input.sulfate                       14129 non-null  float64\n",
      " 11  primary_cleaner.input.depressant                    14117 non-null  float64\n",
      " 12  primary_cleaner.input.feed_size                     14149 non-null  float64\n",
      " 13  primary_cleaner.input.xanthate                      14049 non-null  float64\n",
      " 14  primary_cleaner.output.concentrate_ag               14149 non-null  float64\n",
      " 15  primary_cleaner.output.concentrate_pb               14063 non-null  float64\n",
      " 16  primary_cleaner.output.concentrate_sol              13863 non-null  float64\n",
      " 17  primary_cleaner.output.concentrate_au               14149 non-null  float64\n",
      " 18  primary_cleaner.output.tail_ag                      14148 non-null  float64\n",
      " 19  primary_cleaner.output.tail_pb                      14134 non-null  float64\n",
      " 20  primary_cleaner.output.tail_sol                     14103 non-null  float64\n",
      " 21  primary_cleaner.output.tail_au                      14149 non-null  float64\n",
      " 22  primary_cleaner.state.floatbank8_a_air              14145 non-null  float64\n",
      " 23  primary_cleaner.state.floatbank8_a_level            14148 non-null  float64\n",
      " 24  primary_cleaner.state.floatbank8_b_air              14145 non-null  float64\n",
      " 25  primary_cleaner.state.floatbank8_b_level            14148 non-null  float64\n",
      " 26  primary_cleaner.state.floatbank8_c_air              14147 non-null  float64\n",
      " 27  primary_cleaner.state.floatbank8_c_level            14148 non-null  float64\n",
      " 28  primary_cleaner.state.floatbank8_d_air              14146 non-null  float64\n",
      " 29  primary_cleaner.state.floatbank8_d_level            14148 non-null  float64\n",
      " 30  rougher.calculation.sulfate_to_au_concentrate       14148 non-null  float64\n",
      " 31  rougher.calculation.floatbank10_sulfate_to_au_feed  14148 non-null  float64\n",
      " 32  rougher.calculation.floatbank11_sulfate_to_au_feed  14148 non-null  float64\n",
      " 33  rougher.calculation.au_pb_ratio                     14149 non-null  float64\n",
      " 34  rougher.input.feed_ag                               14149 non-null  float64\n",
      " 35  rougher.input.feed_pb                               14049 non-null  float64\n",
      " 36  rougher.input.feed_rate                             14141 non-null  float64\n",
      " 37  rougher.input.feed_size                             14005 non-null  float64\n",
      " 38  rougher.input.feed_sol                              14071 non-null  float64\n",
      " 39  rougher.input.feed_au                               14149 non-null  float64\n",
      " 40  rougher.input.floatbank10_sulfate                   14120 non-null  float64\n",
      " 41  rougher.input.floatbank10_xanthate                  14141 non-null  float64\n",
      " 42  rougher.input.floatbank11_sulfate                   14113 non-null  float64\n",
      " 43  rougher.input.floatbank11_xanthate                  13721 non-null  float64\n",
      " 44  rougher.output.concentrate_ag                       14149 non-null  float64\n",
      " 45  rougher.output.concentrate_pb                       14149 non-null  float64\n",
      " 46  rougher.output.concentrate_sol                      14127 non-null  float64\n",
      " 47  rougher.output.concentrate_au                       14149 non-null  float64\n",
      " 48  rougher.output.recovery                             14149 non-null  float64\n",
      " 49  rougher.output.tail_ag                              14148 non-null  float64\n",
      " 50  rougher.output.tail_pb                              14149 non-null  float64\n",
      " 51  rougher.output.tail_sol                             14149 non-null  float64\n",
      " 52  rougher.output.tail_au                              14149 non-null  float64\n",
      " 53  rougher.state.floatbank10_a_air                     14148 non-null  float64\n",
      " 54  rougher.state.floatbank10_a_level                   14148 non-null  float64\n",
      " 55  rougher.state.floatbank10_b_air                     14148 non-null  float64\n",
      " 56  rougher.state.floatbank10_b_level                   14148 non-null  float64\n",
      " 57  rougher.state.floatbank10_c_air                     14148 non-null  float64\n",
      " 58  rougher.state.floatbank10_c_level                   14148 non-null  float64\n",
      " 59  rougher.state.floatbank10_d_air                     14149 non-null  float64\n",
      " 60  rougher.state.floatbank10_d_level                   14149 non-null  float64\n",
      " 61  rougher.state.floatbank10_e_air                     13713 non-null  float64\n",
      " 62  rougher.state.floatbank10_e_level                   14149 non-null  float64\n",
      " 63  rougher.state.floatbank10_f_air                     14149 non-null  float64\n",
      " 64  rougher.state.floatbank10_f_level                   14149 non-null  float64\n",
      " 65  secondary_cleaner.output.tail_ag                    14147 non-null  float64\n",
      " 66  secondary_cleaner.output.tail_pb                    14139 non-null  float64\n",
      " 67  secondary_cleaner.output.tail_sol                   12544 non-null  float64\n",
      " 68  secondary_cleaner.output.tail_au                    14149 non-null  float64\n",
      " 69  secondary_cleaner.state.floatbank2_a_air            13932 non-null  float64\n",
      " 70  secondary_cleaner.state.floatbank2_a_level          14148 non-null  float64\n",
      " 71  secondary_cleaner.state.floatbank2_b_air            14128 non-null  float64\n",
      " 72  secondary_cleaner.state.floatbank2_b_level          14148 non-null  float64\n",
      " 73  secondary_cleaner.state.floatbank3_a_air            14145 non-null  float64\n",
      " 74  secondary_cleaner.state.floatbank3_a_level          14148 non-null  float64\n",
      " 75  secondary_cleaner.state.floatbank3_b_air            14148 non-null  float64\n",
      " 76  secondary_cleaner.state.floatbank3_b_level          14148 non-null  float64\n",
      " 77  secondary_cleaner.state.floatbank4_a_air            14143 non-null  float64\n",
      " 78  secondary_cleaner.state.floatbank4_a_level          14148 non-null  float64\n",
      " 79  secondary_cleaner.state.floatbank4_b_air            14148 non-null  float64\n",
      " 80  secondary_cleaner.state.floatbank4_b_level          14148 non-null  float64\n",
      " 81  secondary_cleaner.state.floatbank5_a_air            14148 non-null  float64\n",
      " 82  secondary_cleaner.state.floatbank5_a_level          14148 non-null  float64\n",
      " 83  secondary_cleaner.state.floatbank5_b_air            14148 non-null  float64\n",
      " 84  secondary_cleaner.state.floatbank5_b_level          14148 non-null  float64\n",
      " 85  secondary_cleaner.state.floatbank6_a_air            14147 non-null  float64\n",
      " 86  secondary_cleaner.state.floatbank6_a_level          14148 non-null  float64\n",
      "dtypes: float64(86), object(1)\n",
      "memory usage: 9.4+ MB\n"
     ]
    }
   ],
   "source": [
    "data_train.info()"
   ]
  },
  {
   "cell_type": "code",
   "execution_count": 38,
   "metadata": {},
   "outputs": [
    {
     "data": {
      "text/html": [
       "<div>\n",
       "<style scoped>\n",
       "    .dataframe tbody tr th:only-of-type {\n",
       "        vertical-align: middle;\n",
       "    }\n",
       "\n",
       "    .dataframe tbody tr th {\n",
       "        vertical-align: top;\n",
       "    }\n",
       "\n",
       "    .dataframe thead th {\n",
       "        text-align: right;\n",
       "    }\n",
       "</style>\n",
       "<table border=\"1\" class=\"dataframe\">\n",
       "  <thead>\n",
       "    <tr style=\"text-align: right;\">\n",
       "      <th></th>\n",
       "      <th>date</th>\n",
       "      <th>primary_cleaner.input.sulfate</th>\n",
       "      <th>primary_cleaner.input.depressant</th>\n",
       "      <th>primary_cleaner.input.feed_size</th>\n",
       "      <th>primary_cleaner.input.xanthate</th>\n",
       "      <th>primary_cleaner.state.floatbank8_a_air</th>\n",
       "      <th>primary_cleaner.state.floatbank8_a_level</th>\n",
       "      <th>primary_cleaner.state.floatbank8_b_air</th>\n",
       "      <th>primary_cleaner.state.floatbank8_b_level</th>\n",
       "      <th>primary_cleaner.state.floatbank8_c_air</th>\n",
       "      <th>...</th>\n",
       "      <th>secondary_cleaner.state.floatbank4_a_air</th>\n",
       "      <th>secondary_cleaner.state.floatbank4_a_level</th>\n",
       "      <th>secondary_cleaner.state.floatbank4_b_air</th>\n",
       "      <th>secondary_cleaner.state.floatbank4_b_level</th>\n",
       "      <th>secondary_cleaner.state.floatbank5_a_air</th>\n",
       "      <th>secondary_cleaner.state.floatbank5_a_level</th>\n",
       "      <th>secondary_cleaner.state.floatbank5_b_air</th>\n",
       "      <th>secondary_cleaner.state.floatbank5_b_level</th>\n",
       "      <th>secondary_cleaner.state.floatbank6_a_air</th>\n",
       "      <th>secondary_cleaner.state.floatbank6_a_level</th>\n",
       "    </tr>\n",
       "  </thead>\n",
       "  <tbody>\n",
       "    <tr>\n",
       "      <th>0</th>\n",
       "      <td>2016-09-01 00:59:59</td>\n",
       "      <td>210.800909</td>\n",
       "      <td>14.993118</td>\n",
       "      <td>8.080000</td>\n",
       "      <td>1.005021</td>\n",
       "      <td>1398.981301</td>\n",
       "      <td>-500.225577</td>\n",
       "      <td>1399.144926</td>\n",
       "      <td>-499.919735</td>\n",
       "      <td>1400.102998</td>\n",
       "      <td>...</td>\n",
       "      <td>12.023554</td>\n",
       "      <td>-497.795834</td>\n",
       "      <td>8.016656</td>\n",
       "      <td>-501.289139</td>\n",
       "      <td>7.946562</td>\n",
       "      <td>-432.317850</td>\n",
       "      <td>4.872511</td>\n",
       "      <td>-500.037437</td>\n",
       "      <td>26.705889</td>\n",
       "      <td>-499.709414</td>\n",
       "    </tr>\n",
       "    <tr>\n",
       "      <th>1</th>\n",
       "      <td>2016-09-01 01:59:59</td>\n",
       "      <td>215.392455</td>\n",
       "      <td>14.987471</td>\n",
       "      <td>8.080000</td>\n",
       "      <td>0.990469</td>\n",
       "      <td>1398.777912</td>\n",
       "      <td>-500.057435</td>\n",
       "      <td>1398.055362</td>\n",
       "      <td>-499.778182</td>\n",
       "      <td>1396.151033</td>\n",
       "      <td>...</td>\n",
       "      <td>12.058140</td>\n",
       "      <td>-498.695773</td>\n",
       "      <td>8.130979</td>\n",
       "      <td>-499.634209</td>\n",
       "      <td>7.958270</td>\n",
       "      <td>-525.839648</td>\n",
       "      <td>4.878850</td>\n",
       "      <td>-500.162375</td>\n",
       "      <td>25.019940</td>\n",
       "      <td>-499.819438</td>\n",
       "    </tr>\n",
       "    <tr>\n",
       "      <th>2</th>\n",
       "      <td>2016-09-01 02:59:59</td>\n",
       "      <td>215.259946</td>\n",
       "      <td>12.884934</td>\n",
       "      <td>7.786667</td>\n",
       "      <td>0.996043</td>\n",
       "      <td>1398.493666</td>\n",
       "      <td>-500.868360</td>\n",
       "      <td>1398.860436</td>\n",
       "      <td>-499.764529</td>\n",
       "      <td>1398.075709</td>\n",
       "      <td>...</td>\n",
       "      <td>11.962366</td>\n",
       "      <td>-498.767484</td>\n",
       "      <td>8.096893</td>\n",
       "      <td>-500.827423</td>\n",
       "      <td>8.071056</td>\n",
       "      <td>-500.801673</td>\n",
       "      <td>4.905125</td>\n",
       "      <td>-499.828510</td>\n",
       "      <td>24.994862</td>\n",
       "      <td>-500.622559</td>\n",
       "    </tr>\n",
       "    <tr>\n",
       "      <th>3</th>\n",
       "      <td>2016-09-01 03:59:59</td>\n",
       "      <td>215.336236</td>\n",
       "      <td>12.006805</td>\n",
       "      <td>7.640000</td>\n",
       "      <td>0.863514</td>\n",
       "      <td>1399.618111</td>\n",
       "      <td>-498.863574</td>\n",
       "      <td>1397.440120</td>\n",
       "      <td>-499.211024</td>\n",
       "      <td>1400.129303</td>\n",
       "      <td>...</td>\n",
       "      <td>12.033091</td>\n",
       "      <td>-498.350935</td>\n",
       "      <td>8.074946</td>\n",
       "      <td>-499.474407</td>\n",
       "      <td>7.897085</td>\n",
       "      <td>-500.868509</td>\n",
       "      <td>4.931400</td>\n",
       "      <td>-499.963623</td>\n",
       "      <td>24.948919</td>\n",
       "      <td>-498.709987</td>\n",
       "    </tr>\n",
       "    <tr>\n",
       "      <th>4</th>\n",
       "      <td>2016-09-01 04:59:59</td>\n",
       "      <td>199.099327</td>\n",
       "      <td>10.682530</td>\n",
       "      <td>7.530000</td>\n",
       "      <td>0.805575</td>\n",
       "      <td>1401.268123</td>\n",
       "      <td>-500.808305</td>\n",
       "      <td>1398.128818</td>\n",
       "      <td>-499.504543</td>\n",
       "      <td>1402.172226</td>\n",
       "      <td>...</td>\n",
       "      <td>12.025367</td>\n",
       "      <td>-500.786497</td>\n",
       "      <td>8.054678</td>\n",
       "      <td>-500.397500</td>\n",
       "      <td>8.107890</td>\n",
       "      <td>-509.526725</td>\n",
       "      <td>4.957674</td>\n",
       "      <td>-500.360026</td>\n",
       "      <td>25.003331</td>\n",
       "      <td>-500.856333</td>\n",
       "    </tr>\n",
       "  </tbody>\n",
       "</table>\n",
       "<p>5 rows × 53 columns</p>\n",
       "</div>"
      ],
      "text/plain": [
       "                  date  primary_cleaner.input.sulfate  \\\n",
       "0  2016-09-01 00:59:59                     210.800909   \n",
       "1  2016-09-01 01:59:59                     215.392455   \n",
       "2  2016-09-01 02:59:59                     215.259946   \n",
       "3  2016-09-01 03:59:59                     215.336236   \n",
       "4  2016-09-01 04:59:59                     199.099327   \n",
       "\n",
       "   primary_cleaner.input.depressant  primary_cleaner.input.feed_size  \\\n",
       "0                         14.993118                         8.080000   \n",
       "1                         14.987471                         8.080000   \n",
       "2                         12.884934                         7.786667   \n",
       "3                         12.006805                         7.640000   \n",
       "4                         10.682530                         7.530000   \n",
       "\n",
       "   primary_cleaner.input.xanthate  primary_cleaner.state.floatbank8_a_air  \\\n",
       "0                        1.005021                             1398.981301   \n",
       "1                        0.990469                             1398.777912   \n",
       "2                        0.996043                             1398.493666   \n",
       "3                        0.863514                             1399.618111   \n",
       "4                        0.805575                             1401.268123   \n",
       "\n",
       "   primary_cleaner.state.floatbank8_a_level  \\\n",
       "0                               -500.225577   \n",
       "1                               -500.057435   \n",
       "2                               -500.868360   \n",
       "3                               -498.863574   \n",
       "4                               -500.808305   \n",
       "\n",
       "   primary_cleaner.state.floatbank8_b_air  \\\n",
       "0                             1399.144926   \n",
       "1                             1398.055362   \n",
       "2                             1398.860436   \n",
       "3                             1397.440120   \n",
       "4                             1398.128818   \n",
       "\n",
       "   primary_cleaner.state.floatbank8_b_level  \\\n",
       "0                               -499.919735   \n",
       "1                               -499.778182   \n",
       "2                               -499.764529   \n",
       "3                               -499.211024   \n",
       "4                               -499.504543   \n",
       "\n",
       "   primary_cleaner.state.floatbank8_c_air  ...  \\\n",
       "0                             1400.102998  ...   \n",
       "1                             1396.151033  ...   \n",
       "2                             1398.075709  ...   \n",
       "3                             1400.129303  ...   \n",
       "4                             1402.172226  ...   \n",
       "\n",
       "   secondary_cleaner.state.floatbank4_a_air  \\\n",
       "0                                 12.023554   \n",
       "1                                 12.058140   \n",
       "2                                 11.962366   \n",
       "3                                 12.033091   \n",
       "4                                 12.025367   \n",
       "\n",
       "   secondary_cleaner.state.floatbank4_a_level  \\\n",
       "0                                 -497.795834   \n",
       "1                                 -498.695773   \n",
       "2                                 -498.767484   \n",
       "3                                 -498.350935   \n",
       "4                                 -500.786497   \n",
       "\n",
       "   secondary_cleaner.state.floatbank4_b_air  \\\n",
       "0                                  8.016656   \n",
       "1                                  8.130979   \n",
       "2                                  8.096893   \n",
       "3                                  8.074946   \n",
       "4                                  8.054678   \n",
       "\n",
       "   secondary_cleaner.state.floatbank4_b_level  \\\n",
       "0                                 -501.289139   \n",
       "1                                 -499.634209   \n",
       "2                                 -500.827423   \n",
       "3                                 -499.474407   \n",
       "4                                 -500.397500   \n",
       "\n",
       "   secondary_cleaner.state.floatbank5_a_air  \\\n",
       "0                                  7.946562   \n",
       "1                                  7.958270   \n",
       "2                                  8.071056   \n",
       "3                                  7.897085   \n",
       "4                                  8.107890   \n",
       "\n",
       "   secondary_cleaner.state.floatbank5_a_level  \\\n",
       "0                                 -432.317850   \n",
       "1                                 -525.839648   \n",
       "2                                 -500.801673   \n",
       "3                                 -500.868509   \n",
       "4                                 -509.526725   \n",
       "\n",
       "   secondary_cleaner.state.floatbank5_b_air  \\\n",
       "0                                  4.872511   \n",
       "1                                  4.878850   \n",
       "2                                  4.905125   \n",
       "3                                  4.931400   \n",
       "4                                  4.957674   \n",
       "\n",
       "   secondary_cleaner.state.floatbank5_b_level  \\\n",
       "0                                 -500.037437   \n",
       "1                                 -500.162375   \n",
       "2                                 -499.828510   \n",
       "3                                 -499.963623   \n",
       "4                                 -500.360026   \n",
       "\n",
       "   secondary_cleaner.state.floatbank6_a_air  \\\n",
       "0                                 26.705889   \n",
       "1                                 25.019940   \n",
       "2                                 24.994862   \n",
       "3                                 24.948919   \n",
       "4                                 25.003331   \n",
       "\n",
       "   secondary_cleaner.state.floatbank6_a_level  \n",
       "0                                 -499.709414  \n",
       "1                                 -499.819438  \n",
       "2                                 -500.622559  \n",
       "3                                 -498.709987  \n",
       "4                                 -500.856333  \n",
       "\n",
       "[5 rows x 53 columns]"
      ]
     },
     "execution_count": 38,
     "metadata": {},
     "output_type": "execute_result"
    }
   ],
   "source": [
    "data_test.head()"
   ]
  },
  {
   "cell_type": "code",
   "execution_count": 39,
   "metadata": {},
   "outputs": [
    {
     "name": "stdout",
     "output_type": "stream",
     "text": [
      "<class 'pandas.core.frame.DataFrame'>\n",
      "RangeIndex: 5290 entries, 0 to 5289\n",
      "Data columns (total 53 columns):\n",
      " #   Column                                      Non-Null Count  Dtype  \n",
      "---  ------                                      --------------  -----  \n",
      " 0   date                                        5290 non-null   object \n",
      " 1   primary_cleaner.input.sulfate               5286 non-null   float64\n",
      " 2   primary_cleaner.input.depressant            5285 non-null   float64\n",
      " 3   primary_cleaner.input.feed_size             5290 non-null   float64\n",
      " 4   primary_cleaner.input.xanthate              5286 non-null   float64\n",
      " 5   primary_cleaner.state.floatbank8_a_air      5290 non-null   float64\n",
      " 6   primary_cleaner.state.floatbank8_a_level    5290 non-null   float64\n",
      " 7   primary_cleaner.state.floatbank8_b_air      5290 non-null   float64\n",
      " 8   primary_cleaner.state.floatbank8_b_level    5290 non-null   float64\n",
      " 9   primary_cleaner.state.floatbank8_c_air      5290 non-null   float64\n",
      " 10  primary_cleaner.state.floatbank8_c_level    5290 non-null   float64\n",
      " 11  primary_cleaner.state.floatbank8_d_air      5290 non-null   float64\n",
      " 12  primary_cleaner.state.floatbank8_d_level    5290 non-null   float64\n",
      " 13  rougher.input.feed_ag                       5290 non-null   float64\n",
      " 14  rougher.input.feed_pb                       5290 non-null   float64\n",
      " 15  rougher.input.feed_rate                     5287 non-null   float64\n",
      " 16  rougher.input.feed_size                     5289 non-null   float64\n",
      " 17  rougher.input.feed_sol                      5269 non-null   float64\n",
      " 18  rougher.input.feed_au                       5290 non-null   float64\n",
      " 19  rougher.input.floatbank10_sulfate           5285 non-null   float64\n",
      " 20  rougher.input.floatbank10_xanthate          5290 non-null   float64\n",
      " 21  rougher.input.floatbank11_sulfate           5282 non-null   float64\n",
      " 22  rougher.input.floatbank11_xanthate          5265 non-null   float64\n",
      " 23  rougher.state.floatbank10_a_air             5290 non-null   float64\n",
      " 24  rougher.state.floatbank10_a_level           5290 non-null   float64\n",
      " 25  rougher.state.floatbank10_b_air             5290 non-null   float64\n",
      " 26  rougher.state.floatbank10_b_level           5290 non-null   float64\n",
      " 27  rougher.state.floatbank10_c_air             5290 non-null   float64\n",
      " 28  rougher.state.floatbank10_c_level           5290 non-null   float64\n",
      " 29  rougher.state.floatbank10_d_air             5290 non-null   float64\n",
      " 30  rougher.state.floatbank10_d_level           5290 non-null   float64\n",
      " 31  rougher.state.floatbank10_e_air             5290 non-null   float64\n",
      " 32  rougher.state.floatbank10_e_level           5290 non-null   float64\n",
      " 33  rougher.state.floatbank10_f_air             5290 non-null   float64\n",
      " 34  rougher.state.floatbank10_f_level           5290 non-null   float64\n",
      " 35  secondary_cleaner.state.floatbank2_a_air    5287 non-null   float64\n",
      " 36  secondary_cleaner.state.floatbank2_a_level  5290 non-null   float64\n",
      " 37  secondary_cleaner.state.floatbank2_b_air    5288 non-null   float64\n",
      " 38  secondary_cleaner.state.floatbank2_b_level  5290 non-null   float64\n",
      " 39  secondary_cleaner.state.floatbank3_a_air    5281 non-null   float64\n",
      " 40  secondary_cleaner.state.floatbank3_a_level  5290 non-null   float64\n",
      " 41  secondary_cleaner.state.floatbank3_b_air    5290 non-null   float64\n",
      " 42  secondary_cleaner.state.floatbank3_b_level  5290 non-null   float64\n",
      " 43  secondary_cleaner.state.floatbank4_a_air    5290 non-null   float64\n",
      " 44  secondary_cleaner.state.floatbank4_a_level  5290 non-null   float64\n",
      " 45  secondary_cleaner.state.floatbank4_b_air    5290 non-null   float64\n",
      " 46  secondary_cleaner.state.floatbank4_b_level  5290 non-null   float64\n",
      " 47  secondary_cleaner.state.floatbank5_a_air    5290 non-null   float64\n",
      " 48  secondary_cleaner.state.floatbank5_a_level  5290 non-null   float64\n",
      " 49  secondary_cleaner.state.floatbank5_b_air    5290 non-null   float64\n",
      " 50  secondary_cleaner.state.floatbank5_b_level  5290 non-null   float64\n",
      " 51  secondary_cleaner.state.floatbank6_a_air    5290 non-null   float64\n",
      " 52  secondary_cleaner.state.floatbank6_a_level  5290 non-null   float64\n",
      "dtypes: float64(52), object(1)\n",
      "memory usage: 2.1+ MB\n"
     ]
    }
   ],
   "source": [
    "data_test.info()"
   ]
  },
  {
   "cell_type": "code",
   "execution_count": 40,
   "metadata": {},
   "outputs": [
    {
     "data": {
      "text/html": [
       "<div>\n",
       "<style scoped>\n",
       "    .dataframe tbody tr th:only-of-type {\n",
       "        vertical-align: middle;\n",
       "    }\n",
       "\n",
       "    .dataframe tbody tr th {\n",
       "        vertical-align: top;\n",
       "    }\n",
       "\n",
       "    .dataframe thead th {\n",
       "        text-align: right;\n",
       "    }\n",
       "</style>\n",
       "<table border=\"1\" class=\"dataframe\">\n",
       "  <thead>\n",
       "    <tr style=\"text-align: right;\">\n",
       "      <th></th>\n",
       "      <th>date</th>\n",
       "      <th>final.output.concentrate_ag</th>\n",
       "      <th>final.output.concentrate_pb</th>\n",
       "      <th>final.output.concentrate_sol</th>\n",
       "      <th>final.output.concentrate_au</th>\n",
       "      <th>final.output.recovery</th>\n",
       "      <th>final.output.tail_ag</th>\n",
       "      <th>final.output.tail_pb</th>\n",
       "      <th>final.output.tail_sol</th>\n",
       "      <th>final.output.tail_au</th>\n",
       "      <th>...</th>\n",
       "      <th>secondary_cleaner.state.floatbank4_a_air</th>\n",
       "      <th>secondary_cleaner.state.floatbank4_a_level</th>\n",
       "      <th>secondary_cleaner.state.floatbank4_b_air</th>\n",
       "      <th>secondary_cleaner.state.floatbank4_b_level</th>\n",
       "      <th>secondary_cleaner.state.floatbank5_a_air</th>\n",
       "      <th>secondary_cleaner.state.floatbank5_a_level</th>\n",
       "      <th>secondary_cleaner.state.floatbank5_b_air</th>\n",
       "      <th>secondary_cleaner.state.floatbank5_b_level</th>\n",
       "      <th>secondary_cleaner.state.floatbank6_a_air</th>\n",
       "      <th>secondary_cleaner.state.floatbank6_a_level</th>\n",
       "    </tr>\n",
       "  </thead>\n",
       "  <tbody>\n",
       "    <tr>\n",
       "      <th>0</th>\n",
       "      <td>2016-01-15 00:00:00</td>\n",
       "      <td>6.055403</td>\n",
       "      <td>9.889648</td>\n",
       "      <td>5.507324</td>\n",
       "      <td>42.192020</td>\n",
       "      <td>70.541216</td>\n",
       "      <td>10.411962</td>\n",
       "      <td>0.895447</td>\n",
       "      <td>16.904297</td>\n",
       "      <td>2.143149</td>\n",
       "      <td>...</td>\n",
       "      <td>14.016835</td>\n",
       "      <td>-502.488007</td>\n",
       "      <td>12.099931</td>\n",
       "      <td>-504.715942</td>\n",
       "      <td>9.925633</td>\n",
       "      <td>-498.310211</td>\n",
       "      <td>8.079666</td>\n",
       "      <td>-500.470978</td>\n",
       "      <td>14.151341</td>\n",
       "      <td>-605.841980</td>\n",
       "    </tr>\n",
       "    <tr>\n",
       "      <th>1</th>\n",
       "      <td>2016-01-15 01:00:00</td>\n",
       "      <td>6.029369</td>\n",
       "      <td>9.968944</td>\n",
       "      <td>5.257781</td>\n",
       "      <td>42.701629</td>\n",
       "      <td>69.266198</td>\n",
       "      <td>10.462676</td>\n",
       "      <td>0.927452</td>\n",
       "      <td>16.634514</td>\n",
       "      <td>2.224930</td>\n",
       "      <td>...</td>\n",
       "      <td>13.992281</td>\n",
       "      <td>-505.503262</td>\n",
       "      <td>11.950531</td>\n",
       "      <td>-501.331529</td>\n",
       "      <td>10.039245</td>\n",
       "      <td>-500.169983</td>\n",
       "      <td>7.984757</td>\n",
       "      <td>-500.582168</td>\n",
       "      <td>13.998353</td>\n",
       "      <td>-599.787184</td>\n",
       "    </tr>\n",
       "    <tr>\n",
       "      <th>2</th>\n",
       "      <td>2016-01-15 02:00:00</td>\n",
       "      <td>6.055926</td>\n",
       "      <td>10.213995</td>\n",
       "      <td>5.383759</td>\n",
       "      <td>42.657501</td>\n",
       "      <td>68.116445</td>\n",
       "      <td>10.507046</td>\n",
       "      <td>0.953716</td>\n",
       "      <td>16.208849</td>\n",
       "      <td>2.257889</td>\n",
       "      <td>...</td>\n",
       "      <td>14.015015</td>\n",
       "      <td>-502.520901</td>\n",
       "      <td>11.912783</td>\n",
       "      <td>-501.133383</td>\n",
       "      <td>10.070913</td>\n",
       "      <td>-500.129135</td>\n",
       "      <td>8.013877</td>\n",
       "      <td>-500.517572</td>\n",
       "      <td>14.028663</td>\n",
       "      <td>-601.427363</td>\n",
       "    </tr>\n",
       "    <tr>\n",
       "      <th>3</th>\n",
       "      <td>2016-01-15 03:00:00</td>\n",
       "      <td>6.047977</td>\n",
       "      <td>9.977019</td>\n",
       "      <td>4.858634</td>\n",
       "      <td>42.689819</td>\n",
       "      <td>68.347543</td>\n",
       "      <td>10.422762</td>\n",
       "      <td>0.883763</td>\n",
       "      <td>16.532835</td>\n",
       "      <td>2.146849</td>\n",
       "      <td>...</td>\n",
       "      <td>14.036510</td>\n",
       "      <td>-500.857308</td>\n",
       "      <td>11.999550</td>\n",
       "      <td>-501.193686</td>\n",
       "      <td>9.970366</td>\n",
       "      <td>-499.201640</td>\n",
       "      <td>7.977324</td>\n",
       "      <td>-500.255908</td>\n",
       "      <td>14.005551</td>\n",
       "      <td>-599.996129</td>\n",
       "    </tr>\n",
       "    <tr>\n",
       "      <th>4</th>\n",
       "      <td>2016-01-15 04:00:00</td>\n",
       "      <td>6.148599</td>\n",
       "      <td>10.142511</td>\n",
       "      <td>4.939416</td>\n",
       "      <td>42.774141</td>\n",
       "      <td>66.927016</td>\n",
       "      <td>10.360302</td>\n",
       "      <td>0.792826</td>\n",
       "      <td>16.525686</td>\n",
       "      <td>2.055292</td>\n",
       "      <td>...</td>\n",
       "      <td>14.027298</td>\n",
       "      <td>-499.838632</td>\n",
       "      <td>11.953070</td>\n",
       "      <td>-501.053894</td>\n",
       "      <td>9.925709</td>\n",
       "      <td>-501.686727</td>\n",
       "      <td>7.894242</td>\n",
       "      <td>-500.356035</td>\n",
       "      <td>13.996647</td>\n",
       "      <td>-601.496691</td>\n",
       "    </tr>\n",
       "  </tbody>\n",
       "</table>\n",
       "<p>5 rows × 87 columns</p>\n",
       "</div>"
      ],
      "text/plain": [
       "                  date  final.output.concentrate_ag  \\\n",
       "0  2016-01-15 00:00:00                     6.055403   \n",
       "1  2016-01-15 01:00:00                     6.029369   \n",
       "2  2016-01-15 02:00:00                     6.055926   \n",
       "3  2016-01-15 03:00:00                     6.047977   \n",
       "4  2016-01-15 04:00:00                     6.148599   \n",
       "\n",
       "   final.output.concentrate_pb  final.output.concentrate_sol  \\\n",
       "0                     9.889648                      5.507324   \n",
       "1                     9.968944                      5.257781   \n",
       "2                    10.213995                      5.383759   \n",
       "3                     9.977019                      4.858634   \n",
       "4                    10.142511                      4.939416   \n",
       "\n",
       "   final.output.concentrate_au  final.output.recovery  final.output.tail_ag  \\\n",
       "0                    42.192020              70.541216             10.411962   \n",
       "1                    42.701629              69.266198             10.462676   \n",
       "2                    42.657501              68.116445             10.507046   \n",
       "3                    42.689819              68.347543             10.422762   \n",
       "4                    42.774141              66.927016             10.360302   \n",
       "\n",
       "   final.output.tail_pb  final.output.tail_sol  final.output.tail_au  ...  \\\n",
       "0              0.895447              16.904297              2.143149  ...   \n",
       "1              0.927452              16.634514              2.224930  ...   \n",
       "2              0.953716              16.208849              2.257889  ...   \n",
       "3              0.883763              16.532835              2.146849  ...   \n",
       "4              0.792826              16.525686              2.055292  ...   \n",
       "\n",
       "   secondary_cleaner.state.floatbank4_a_air  \\\n",
       "0                                 14.016835   \n",
       "1                                 13.992281   \n",
       "2                                 14.015015   \n",
       "3                                 14.036510   \n",
       "4                                 14.027298   \n",
       "\n",
       "   secondary_cleaner.state.floatbank4_a_level  \\\n",
       "0                                 -502.488007   \n",
       "1                                 -505.503262   \n",
       "2                                 -502.520901   \n",
       "3                                 -500.857308   \n",
       "4                                 -499.838632   \n",
       "\n",
       "   secondary_cleaner.state.floatbank4_b_air  \\\n",
       "0                                 12.099931   \n",
       "1                                 11.950531   \n",
       "2                                 11.912783   \n",
       "3                                 11.999550   \n",
       "4                                 11.953070   \n",
       "\n",
       "   secondary_cleaner.state.floatbank4_b_level  \\\n",
       "0                                 -504.715942   \n",
       "1                                 -501.331529   \n",
       "2                                 -501.133383   \n",
       "3                                 -501.193686   \n",
       "4                                 -501.053894   \n",
       "\n",
       "   secondary_cleaner.state.floatbank5_a_air  \\\n",
       "0                                  9.925633   \n",
       "1                                 10.039245   \n",
       "2                                 10.070913   \n",
       "3                                  9.970366   \n",
       "4                                  9.925709   \n",
       "\n",
       "   secondary_cleaner.state.floatbank5_a_level  \\\n",
       "0                                 -498.310211   \n",
       "1                                 -500.169983   \n",
       "2                                 -500.129135   \n",
       "3                                 -499.201640   \n",
       "4                                 -501.686727   \n",
       "\n",
       "   secondary_cleaner.state.floatbank5_b_air  \\\n",
       "0                                  8.079666   \n",
       "1                                  7.984757   \n",
       "2                                  8.013877   \n",
       "3                                  7.977324   \n",
       "4                                  7.894242   \n",
       "\n",
       "   secondary_cleaner.state.floatbank5_b_level  \\\n",
       "0                                 -500.470978   \n",
       "1                                 -500.582168   \n",
       "2                                 -500.517572   \n",
       "3                                 -500.255908   \n",
       "4                                 -500.356035   \n",
       "\n",
       "   secondary_cleaner.state.floatbank6_a_air  \\\n",
       "0                                 14.151341   \n",
       "1                                 13.998353   \n",
       "2                                 14.028663   \n",
       "3                                 14.005551   \n",
       "4                                 13.996647   \n",
       "\n",
       "   secondary_cleaner.state.floatbank6_a_level  \n",
       "0                                 -605.841980  \n",
       "1                                 -599.787184  \n",
       "2                                 -601.427363  \n",
       "3                                 -599.996129  \n",
       "4                                 -601.496691  \n",
       "\n",
       "[5 rows x 87 columns]"
      ]
     },
     "execution_count": 40,
     "metadata": {},
     "output_type": "execute_result"
    }
   ],
   "source": [
    "data_full.head()"
   ]
  },
  {
   "cell_type": "code",
   "execution_count": 41,
   "metadata": {},
   "outputs": [
    {
     "name": "stdout",
     "output_type": "stream",
     "text": [
      "<class 'pandas.core.frame.DataFrame'>\n",
      "RangeIndex: 19439 entries, 0 to 19438\n",
      "Data columns (total 87 columns):\n",
      " #   Column                                              Non-Null Count  Dtype  \n",
      "---  ------                                              --------------  -----  \n",
      " 0   date                                                19439 non-null  object \n",
      " 1   final.output.concentrate_ag                         19438 non-null  float64\n",
      " 2   final.output.concentrate_pb                         19438 non-null  float64\n",
      " 3   final.output.concentrate_sol                        19228 non-null  float64\n",
      " 4   final.output.concentrate_au                         19439 non-null  float64\n",
      " 5   final.output.recovery                               19439 non-null  float64\n",
      " 6   final.output.tail_ag                                19438 non-null  float64\n",
      " 7   final.output.tail_pb                                19338 non-null  float64\n",
      " 8   final.output.tail_sol                               19433 non-null  float64\n",
      " 9   final.output.tail_au                                19439 non-null  float64\n",
      " 10  primary_cleaner.input.sulfate                       19415 non-null  float64\n",
      " 11  primary_cleaner.input.depressant                    19402 non-null  float64\n",
      " 12  primary_cleaner.input.feed_size                     19439 non-null  float64\n",
      " 13  primary_cleaner.input.xanthate                      19335 non-null  float64\n",
      " 14  primary_cleaner.output.concentrate_ag               19439 non-null  float64\n",
      " 15  primary_cleaner.output.concentrate_pb               19323 non-null  float64\n",
      " 16  primary_cleaner.output.concentrate_sol              19069 non-null  float64\n",
      " 17  primary_cleaner.output.concentrate_au               19439 non-null  float64\n",
      " 18  primary_cleaner.output.tail_ag                      19435 non-null  float64\n",
      " 19  primary_cleaner.output.tail_pb                      19418 non-null  float64\n",
      " 20  primary_cleaner.output.tail_sol                     19377 non-null  float64\n",
      " 21  primary_cleaner.output.tail_au                      19439 non-null  float64\n",
      " 22  primary_cleaner.state.floatbank8_a_air              19435 non-null  float64\n",
      " 23  primary_cleaner.state.floatbank8_a_level            19438 non-null  float64\n",
      " 24  primary_cleaner.state.floatbank8_b_air              19435 non-null  float64\n",
      " 25  primary_cleaner.state.floatbank8_b_level            19438 non-null  float64\n",
      " 26  primary_cleaner.state.floatbank8_c_air              19437 non-null  float64\n",
      " 27  primary_cleaner.state.floatbank8_c_level            19438 non-null  float64\n",
      " 28  primary_cleaner.state.floatbank8_d_air              19436 non-null  float64\n",
      " 29  primary_cleaner.state.floatbank8_d_level            19438 non-null  float64\n",
      " 30  rougher.calculation.sulfate_to_au_concentrate       19437 non-null  float64\n",
      " 31  rougher.calculation.floatbank10_sulfate_to_au_feed  19437 non-null  float64\n",
      " 32  rougher.calculation.floatbank11_sulfate_to_au_feed  19437 non-null  float64\n",
      " 33  rougher.calculation.au_pb_ratio                     19439 non-null  float64\n",
      " 34  rougher.input.feed_ag                               19439 non-null  float64\n",
      " 35  rougher.input.feed_pb                               19339 non-null  float64\n",
      " 36  rougher.input.feed_rate                             19428 non-null  float64\n",
      " 37  rougher.input.feed_size                             19294 non-null  float64\n",
      " 38  rougher.input.feed_sol                              19340 non-null  float64\n",
      " 39  rougher.input.feed_au                               19439 non-null  float64\n",
      " 40  rougher.input.floatbank10_sulfate                   19405 non-null  float64\n",
      " 41  rougher.input.floatbank10_xanthate                  19431 non-null  float64\n",
      " 42  rougher.input.floatbank11_sulfate                   19395 non-null  float64\n",
      " 43  rougher.input.floatbank11_xanthate                  18986 non-null  float64\n",
      " 44  rougher.output.concentrate_ag                       19439 non-null  float64\n",
      " 45  rougher.output.concentrate_pb                       19439 non-null  float64\n",
      " 46  rougher.output.concentrate_sol                      19416 non-null  float64\n",
      " 47  rougher.output.concentrate_au                       19439 non-null  float64\n",
      " 48  rougher.output.recovery                             19439 non-null  float64\n",
      " 49  rougher.output.tail_ag                              19438 non-null  float64\n",
      " 50  rougher.output.tail_pb                              19439 non-null  float64\n",
      " 51  rougher.output.tail_sol                             19439 non-null  float64\n",
      " 52  rougher.output.tail_au                              19439 non-null  float64\n",
      " 53  rougher.state.floatbank10_a_air                     19438 non-null  float64\n",
      " 54  rougher.state.floatbank10_a_level                   19438 non-null  float64\n",
      " 55  rougher.state.floatbank10_b_air                     19438 non-null  float64\n",
      " 56  rougher.state.floatbank10_b_level                   19438 non-null  float64\n",
      " 57  rougher.state.floatbank10_c_air                     19438 non-null  float64\n",
      " 58  rougher.state.floatbank10_c_level                   19438 non-null  float64\n",
      " 59  rougher.state.floatbank10_d_air                     19439 non-null  float64\n",
      " 60  rougher.state.floatbank10_d_level                   19439 non-null  float64\n",
      " 61  rougher.state.floatbank10_e_air                     19003 non-null  float64\n",
      " 62  rougher.state.floatbank10_e_level                   19439 non-null  float64\n",
      " 63  rougher.state.floatbank10_f_air                     19439 non-null  float64\n",
      " 64  rougher.state.floatbank10_f_level                   19439 non-null  float64\n",
      " 65  secondary_cleaner.output.tail_ag                    19437 non-null  float64\n",
      " 66  secondary_cleaner.output.tail_pb                    19427 non-null  float64\n",
      " 67  secondary_cleaner.output.tail_sol                   17691 non-null  float64\n",
      " 68  secondary_cleaner.output.tail_au                    19439 non-null  float64\n",
      " 69  secondary_cleaner.state.floatbank2_a_air            19219 non-null  float64\n",
      " 70  secondary_cleaner.state.floatbank2_a_level          19438 non-null  float64\n",
      " 71  secondary_cleaner.state.floatbank2_b_air            19416 non-null  float64\n",
      " 72  secondary_cleaner.state.floatbank2_b_level          19438 non-null  float64\n",
      " 73  secondary_cleaner.state.floatbank3_a_air            19426 non-null  float64\n",
      " 74  secondary_cleaner.state.floatbank3_a_level          19438 non-null  float64\n",
      " 75  secondary_cleaner.state.floatbank3_b_air            19438 non-null  float64\n",
      " 76  secondary_cleaner.state.floatbank3_b_level          19438 non-null  float64\n",
      " 77  secondary_cleaner.state.floatbank4_a_air            19433 non-null  float64\n",
      " 78  secondary_cleaner.state.floatbank4_a_level          19438 non-null  float64\n",
      " 79  secondary_cleaner.state.floatbank4_b_air            19438 non-null  float64\n",
      " 80  secondary_cleaner.state.floatbank4_b_level          19438 non-null  float64\n",
      " 81  secondary_cleaner.state.floatbank5_a_air            19438 non-null  float64\n",
      " 82  secondary_cleaner.state.floatbank5_a_level          19438 non-null  float64\n",
      " 83  secondary_cleaner.state.floatbank5_b_air            19438 non-null  float64\n",
      " 84  secondary_cleaner.state.floatbank5_b_level          19438 non-null  float64\n",
      " 85  secondary_cleaner.state.floatbank6_a_air            19437 non-null  float64\n",
      " 86  secondary_cleaner.state.floatbank6_a_level          19438 non-null  float64\n",
      "dtypes: float64(86), object(1)\n",
      "memory usage: 12.9+ MB\n"
     ]
    }
   ],
   "source": [
    "data_full.info()"
   ]
  },
  {
   "cell_type": "markdown",
   "metadata": {},
   "source": [
    "Мы открыли и рассмотрели данные. Далее проверим, правильно ли рассчитана эффективность обогащения. Вычислим её на обучающей выборке для признака rougher.output.recovery. Найдём среднюю абсолютную ошибку (MAE) между нашими расчётами и значением признака."
   ]
  },
  {
   "cell_type": "code",
   "execution_count": 42,
   "metadata": {},
   "outputs": [
    {
     "data": {
      "text/plain": [
       "9.73512347450521e-15"
      ]
     },
     "execution_count": 42,
     "metadata": {},
     "output_type": "execute_result"
    }
   ],
   "source": [
    "c = data_train['rougher.output.concentrate_au']  #доля золота в концентрате после флотации\n",
    "f = data_train['rougher.input.feed_au'] #доля золота в концентрате до флотации\n",
    "t = data_train['rougher.output.tail_au']  #доля золота в отвальных хвостах после флотации.\n",
    "\n",
    "data_train['recovery_au'] = ((c * (f - t)) / (f * (c - t))) * 100\n",
    "\n",
    "#Найдём MAE между расчётами и значением признака\n",
    "mean_absolute_error(data_train['rougher.output.recovery'] , data_train['recovery_au'])"
   ]
  },
  {
   "cell_type": "markdown",
   "metadata": {},
   "source": [
    "МАЕ практически равна 0, значит, данные достоверны и по ним возможно далее продолжать исследование и строить модель, чтобы спрогнозировать долю золота. "
   ]
  },
  {
   "cell_type": "markdown",
   "metadata": {},
   "source": [
    "В тестовой выборке доступны не все признаки. Посмотрим, какие именно пропущены. "
   ]
  },
  {
   "cell_type": "code",
   "execution_count": 43,
   "metadata": {},
   "outputs": [
    {
     "name": "stdout",
     "output_type": "stream",
     "text": [
      "В тестовой выборке отсуствуют 34 столбца\n",
      "\n",
      "Столбцы, которых нет в тестовой выборке:\n",
      "\n",
      "\n",
      "rougher.output.recovery\n",
      "final.output.tail_pb\n",
      "rougher.output.concentrate_ag\n",
      "primary_cleaner.output.concentrate_ag\n",
      "final.output.tail_au\n",
      "primary_cleaner.output.concentrate_sol\n",
      "final.output.concentrate_pb\n",
      "final.output.concentrate_au\n",
      "rougher.output.concentrate_au\n",
      "primary_cleaner.output.tail_pb\n",
      "primary_cleaner.output.tail_au\n",
      "primary_cleaner.output.tail_ag\n",
      "secondary_cleaner.output.tail_sol\n",
      "rougher.calculation.floatbank11_sulfate_to_au_feed\n",
      "primary_cleaner.output.concentrate_au\n",
      "primary_cleaner.output.concentrate_pb\n",
      "rougher.output.tail_pb\n",
      "rougher.output.tail_ag\n",
      "rougher.calculation.au_pb_ratio\n",
      "final.output.recovery\n",
      "secondary_cleaner.output.tail_ag\n",
      "final.output.concentrate_sol\n",
      "rougher.calculation.floatbank10_sulfate_to_au_feed\n",
      "rougher.output.concentrate_sol\n",
      "rougher.output.concentrate_pb\n",
      "rougher.output.tail_sol\n",
      "primary_cleaner.output.tail_sol\n",
      "rougher.output.tail_au\n",
      "secondary_cleaner.output.tail_pb\n",
      "final.output.tail_sol\n",
      "secondary_cleaner.output.tail_au\n",
      "rougher.calculation.sulfate_to_au_concentrate\n",
      "final.output.tail_ag\n",
      "final.output.concentrate_ag\n"
     ]
    }
   ],
   "source": [
    "columns_test = data_test.columns.tolist()\n",
    "columns_full = data_full.columns.tolist()\n",
    "columns_needless = list(set(columns_full) - set(columns_test))\n",
    "print('В тестовой выборке отсуствуют', len(columns_needless), 'столбца')\n",
    "print()\n",
    "print('Столбцы, которых нет в тестовой выборке:', '\\n', *columns_needless, sep='\\n')"
   ]
  },
  {
   "cell_type": "markdown",
   "metadata": {},
   "source": [
    "В тестовой выборке отсутствуют признаки, связанные с 'output' и 'calculation' - параметрами продукта (не сырья) на всех этапах и расчётными характеристиками флотации. Так как тестовая выборка - это новые данные, то этих признаков в них и не должно быть, ибо они замеряются и рассчитываются позже. Также в тестовой выборке нет целевых признаков - rougher.output.recovery и final.output.recovery. \n",
    "Значит, для обучения модели мы возьмём только те признаки, которые есть в тестовой выборке, а также целевые признаки. "
   ]
  },
  {
   "cell_type": "markdown",
   "metadata": {},
   "source": [
    "Перед обучением нам необходимо провести предобработку данных - проверить их на пропуски и дубликаты и, если понадобится, обработать их. "
   ]
  },
  {
   "cell_type": "code",
   "execution_count": 44,
   "metadata": {},
   "outputs": [
    {
     "name": "stdout",
     "output_type": "stream",
     "text": [
      "<class 'pandas.core.frame.DataFrame'>\n",
      "RangeIndex: 19439 entries, 0 to 19438\n",
      "Data columns (total 87 columns):\n",
      " #   Column                                              Non-Null Count  Dtype  \n",
      "---  ------                                              --------------  -----  \n",
      " 0   date                                                19439 non-null  object \n",
      " 1   final.output.concentrate_ag                         19438 non-null  float64\n",
      " 2   final.output.concentrate_pb                         19438 non-null  float64\n",
      " 3   final.output.concentrate_sol                        19228 non-null  float64\n",
      " 4   final.output.concentrate_au                         19439 non-null  float64\n",
      " 5   final.output.recovery                               19439 non-null  float64\n",
      " 6   final.output.tail_ag                                19438 non-null  float64\n",
      " 7   final.output.tail_pb                                19338 non-null  float64\n",
      " 8   final.output.tail_sol                               19433 non-null  float64\n",
      " 9   final.output.tail_au                                19439 non-null  float64\n",
      " 10  primary_cleaner.input.sulfate                       19415 non-null  float64\n",
      " 11  primary_cleaner.input.depressant                    19402 non-null  float64\n",
      " 12  primary_cleaner.input.feed_size                     19439 non-null  float64\n",
      " 13  primary_cleaner.input.xanthate                      19335 non-null  float64\n",
      " 14  primary_cleaner.output.concentrate_ag               19439 non-null  float64\n",
      " 15  primary_cleaner.output.concentrate_pb               19323 non-null  float64\n",
      " 16  primary_cleaner.output.concentrate_sol              19069 non-null  float64\n",
      " 17  primary_cleaner.output.concentrate_au               19439 non-null  float64\n",
      " 18  primary_cleaner.output.tail_ag                      19435 non-null  float64\n",
      " 19  primary_cleaner.output.tail_pb                      19418 non-null  float64\n",
      " 20  primary_cleaner.output.tail_sol                     19377 non-null  float64\n",
      " 21  primary_cleaner.output.tail_au                      19439 non-null  float64\n",
      " 22  primary_cleaner.state.floatbank8_a_air              19435 non-null  float64\n",
      " 23  primary_cleaner.state.floatbank8_a_level            19438 non-null  float64\n",
      " 24  primary_cleaner.state.floatbank8_b_air              19435 non-null  float64\n",
      " 25  primary_cleaner.state.floatbank8_b_level            19438 non-null  float64\n",
      " 26  primary_cleaner.state.floatbank8_c_air              19437 non-null  float64\n",
      " 27  primary_cleaner.state.floatbank8_c_level            19438 non-null  float64\n",
      " 28  primary_cleaner.state.floatbank8_d_air              19436 non-null  float64\n",
      " 29  primary_cleaner.state.floatbank8_d_level            19438 non-null  float64\n",
      " 30  rougher.calculation.sulfate_to_au_concentrate       19437 non-null  float64\n",
      " 31  rougher.calculation.floatbank10_sulfate_to_au_feed  19437 non-null  float64\n",
      " 32  rougher.calculation.floatbank11_sulfate_to_au_feed  19437 non-null  float64\n",
      " 33  rougher.calculation.au_pb_ratio                     19439 non-null  float64\n",
      " 34  rougher.input.feed_ag                               19439 non-null  float64\n",
      " 35  rougher.input.feed_pb                               19339 non-null  float64\n",
      " 36  rougher.input.feed_rate                             19428 non-null  float64\n",
      " 37  rougher.input.feed_size                             19294 non-null  float64\n",
      " 38  rougher.input.feed_sol                              19340 non-null  float64\n",
      " 39  rougher.input.feed_au                               19439 non-null  float64\n",
      " 40  rougher.input.floatbank10_sulfate                   19405 non-null  float64\n",
      " 41  rougher.input.floatbank10_xanthate                  19431 non-null  float64\n",
      " 42  rougher.input.floatbank11_sulfate                   19395 non-null  float64\n",
      " 43  rougher.input.floatbank11_xanthate                  18986 non-null  float64\n",
      " 44  rougher.output.concentrate_ag                       19439 non-null  float64\n",
      " 45  rougher.output.concentrate_pb                       19439 non-null  float64\n",
      " 46  rougher.output.concentrate_sol                      19416 non-null  float64\n",
      " 47  rougher.output.concentrate_au                       19439 non-null  float64\n",
      " 48  rougher.output.recovery                             19439 non-null  float64\n",
      " 49  rougher.output.tail_ag                              19438 non-null  float64\n",
      " 50  rougher.output.tail_pb                              19439 non-null  float64\n",
      " 51  rougher.output.tail_sol                             19439 non-null  float64\n",
      " 52  rougher.output.tail_au                              19439 non-null  float64\n",
      " 53  rougher.state.floatbank10_a_air                     19438 non-null  float64\n",
      " 54  rougher.state.floatbank10_a_level                   19438 non-null  float64\n",
      " 55  rougher.state.floatbank10_b_air                     19438 non-null  float64\n",
      " 56  rougher.state.floatbank10_b_level                   19438 non-null  float64\n",
      " 57  rougher.state.floatbank10_c_air                     19438 non-null  float64\n",
      " 58  rougher.state.floatbank10_c_level                   19438 non-null  float64\n",
      " 59  rougher.state.floatbank10_d_air                     19439 non-null  float64\n",
      " 60  rougher.state.floatbank10_d_level                   19439 non-null  float64\n",
      " 61  rougher.state.floatbank10_e_air                     19003 non-null  float64\n",
      " 62  rougher.state.floatbank10_e_level                   19439 non-null  float64\n",
      " 63  rougher.state.floatbank10_f_air                     19439 non-null  float64\n",
      " 64  rougher.state.floatbank10_f_level                   19439 non-null  float64\n",
      " 65  secondary_cleaner.output.tail_ag                    19437 non-null  float64\n",
      " 66  secondary_cleaner.output.tail_pb                    19427 non-null  float64\n",
      " 67  secondary_cleaner.output.tail_sol                   17691 non-null  float64\n",
      " 68  secondary_cleaner.output.tail_au                    19439 non-null  float64\n",
      " 69  secondary_cleaner.state.floatbank2_a_air            19219 non-null  float64\n",
      " 70  secondary_cleaner.state.floatbank2_a_level          19438 non-null  float64\n",
      " 71  secondary_cleaner.state.floatbank2_b_air            19416 non-null  float64\n",
      " 72  secondary_cleaner.state.floatbank2_b_level          19438 non-null  float64\n",
      " 73  secondary_cleaner.state.floatbank3_a_air            19426 non-null  float64\n",
      " 74  secondary_cleaner.state.floatbank3_a_level          19438 non-null  float64\n",
      " 75  secondary_cleaner.state.floatbank3_b_air            19438 non-null  float64\n",
      " 76  secondary_cleaner.state.floatbank3_b_level          19438 non-null  float64\n",
      " 77  secondary_cleaner.state.floatbank4_a_air            19433 non-null  float64\n",
      " 78  secondary_cleaner.state.floatbank4_a_level          19438 non-null  float64\n",
      " 79  secondary_cleaner.state.floatbank4_b_air            19438 non-null  float64\n",
      " 80  secondary_cleaner.state.floatbank4_b_level          19438 non-null  float64\n",
      " 81  secondary_cleaner.state.floatbank5_a_air            19438 non-null  float64\n",
      " 82  secondary_cleaner.state.floatbank5_a_level          19438 non-null  float64\n",
      " 83  secondary_cleaner.state.floatbank5_b_air            19438 non-null  float64\n",
      " 84  secondary_cleaner.state.floatbank5_b_level          19438 non-null  float64\n",
      " 85  secondary_cleaner.state.floatbank6_a_air            19437 non-null  float64\n",
      " 86  secondary_cleaner.state.floatbank6_a_level          19438 non-null  float64\n",
      "dtypes: float64(86), object(1)\n",
      "memory usage: 12.9+ MB\n"
     ]
    }
   ],
   "source": [
    "data_full.info()"
   ]
  },
  {
   "cell_type": "code",
   "execution_count": 45,
   "metadata": {},
   "outputs": [
    {
     "name": "stdout",
     "output_type": "stream",
     "text": [
      "Количество пропущенных значений в обучающей выборке = 4100\n",
      "Количество пропущенных значений в тестовой выборке = 90\n"
     ]
    }
   ],
   "source": [
    "lack_train = pd.isnull(data_train).sum().sum()\n",
    "print('Количество пропущенных значений в обучающей выборке =', lack_train)\n",
    "lack_test = pd.isnull(data_test).sum().sum()\n",
    "print('Количество пропущенных значений в тестовой выборке =', lack_test)"
   ]
  },
  {
   "cell_type": "markdown",
   "metadata": {},
   "source": [
    "Несмотря на то что пропусков не много, логика задачи позволяет их заполнить: данные по времени идут последовательно друг за другом, значения похожи. Значит, если есть пропуск, то значение признака можно взять из предыдущей записи. Заполним пропуски. Пропуски в обучающей выборке будем брать из обучающего же датасета, а в тестовой - из тестового, не будем обращаться к полным данным, чтобы не произошло утечки. "
   ]
  },
  {
   "cell_type": "code",
   "execution_count": 46,
   "metadata": {},
   "outputs": [],
   "source": [
    "data_train = data_train.fillna(method='ffill')\n",
    "data_test = data_test.fillna(method='ffill')"
   ]
  },
  {
   "cell_type": "code",
   "execution_count": 47,
   "metadata": {},
   "outputs": [
    {
     "name": "stdout",
     "output_type": "stream",
     "text": [
      "<class 'pandas.core.frame.DataFrame'>\n",
      "RangeIndex: 14149 entries, 0 to 14148\n",
      "Data columns (total 88 columns):\n",
      " #   Column                                              Non-Null Count  Dtype  \n",
      "---  ------                                              --------------  -----  \n",
      " 0   date                                                14149 non-null  object \n",
      " 1   final.output.concentrate_ag                         14149 non-null  float64\n",
      " 2   final.output.concentrate_pb                         14149 non-null  float64\n",
      " 3   final.output.concentrate_sol                        14149 non-null  float64\n",
      " 4   final.output.concentrate_au                         14149 non-null  float64\n",
      " 5   final.output.recovery                               14149 non-null  float64\n",
      " 6   final.output.tail_ag                                14149 non-null  float64\n",
      " 7   final.output.tail_pb                                14149 non-null  float64\n",
      " 8   final.output.tail_sol                               14149 non-null  float64\n",
      " 9   final.output.tail_au                                14149 non-null  float64\n",
      " 10  primary_cleaner.input.sulfate                       14149 non-null  float64\n",
      " 11  primary_cleaner.input.depressant                    14149 non-null  float64\n",
      " 12  primary_cleaner.input.feed_size                     14149 non-null  float64\n",
      " 13  primary_cleaner.input.xanthate                      14149 non-null  float64\n",
      " 14  primary_cleaner.output.concentrate_ag               14149 non-null  float64\n",
      " 15  primary_cleaner.output.concentrate_pb               14149 non-null  float64\n",
      " 16  primary_cleaner.output.concentrate_sol              14149 non-null  float64\n",
      " 17  primary_cleaner.output.concentrate_au               14149 non-null  float64\n",
      " 18  primary_cleaner.output.tail_ag                      14149 non-null  float64\n",
      " 19  primary_cleaner.output.tail_pb                      14149 non-null  float64\n",
      " 20  primary_cleaner.output.tail_sol                     14149 non-null  float64\n",
      " 21  primary_cleaner.output.tail_au                      14149 non-null  float64\n",
      " 22  primary_cleaner.state.floatbank8_a_air              14149 non-null  float64\n",
      " 23  primary_cleaner.state.floatbank8_a_level            14149 non-null  float64\n",
      " 24  primary_cleaner.state.floatbank8_b_air              14149 non-null  float64\n",
      " 25  primary_cleaner.state.floatbank8_b_level            14149 non-null  float64\n",
      " 26  primary_cleaner.state.floatbank8_c_air              14149 non-null  float64\n",
      " 27  primary_cleaner.state.floatbank8_c_level            14149 non-null  float64\n",
      " 28  primary_cleaner.state.floatbank8_d_air              14149 non-null  float64\n",
      " 29  primary_cleaner.state.floatbank8_d_level            14149 non-null  float64\n",
      " 30  rougher.calculation.sulfate_to_au_concentrate       14149 non-null  float64\n",
      " 31  rougher.calculation.floatbank10_sulfate_to_au_feed  14149 non-null  float64\n",
      " 32  rougher.calculation.floatbank11_sulfate_to_au_feed  14149 non-null  float64\n",
      " 33  rougher.calculation.au_pb_ratio                     14149 non-null  float64\n",
      " 34  rougher.input.feed_ag                               14149 non-null  float64\n",
      " 35  rougher.input.feed_pb                               14149 non-null  float64\n",
      " 36  rougher.input.feed_rate                             14149 non-null  float64\n",
      " 37  rougher.input.feed_size                             14149 non-null  float64\n",
      " 38  rougher.input.feed_sol                              14149 non-null  float64\n",
      " 39  rougher.input.feed_au                               14149 non-null  float64\n",
      " 40  rougher.input.floatbank10_sulfate                   14149 non-null  float64\n",
      " 41  rougher.input.floatbank10_xanthate                  14149 non-null  float64\n",
      " 42  rougher.input.floatbank11_sulfate                   14149 non-null  float64\n",
      " 43  rougher.input.floatbank11_xanthate                  14149 non-null  float64\n",
      " 44  rougher.output.concentrate_ag                       14149 non-null  float64\n",
      " 45  rougher.output.concentrate_pb                       14149 non-null  float64\n",
      " 46  rougher.output.concentrate_sol                      14149 non-null  float64\n",
      " 47  rougher.output.concentrate_au                       14149 non-null  float64\n",
      " 48  rougher.output.recovery                             14149 non-null  float64\n",
      " 49  rougher.output.tail_ag                              14149 non-null  float64\n",
      " 50  rougher.output.tail_pb                              14149 non-null  float64\n",
      " 51  rougher.output.tail_sol                             14149 non-null  float64\n",
      " 52  rougher.output.tail_au                              14149 non-null  float64\n",
      " 53  rougher.state.floatbank10_a_air                     14149 non-null  float64\n",
      " 54  rougher.state.floatbank10_a_level                   14149 non-null  float64\n",
      " 55  rougher.state.floatbank10_b_air                     14149 non-null  float64\n",
      " 56  rougher.state.floatbank10_b_level                   14149 non-null  float64\n",
      " 57  rougher.state.floatbank10_c_air                     14149 non-null  float64\n",
      " 58  rougher.state.floatbank10_c_level                   14149 non-null  float64\n",
      " 59  rougher.state.floatbank10_d_air                     14149 non-null  float64\n",
      " 60  rougher.state.floatbank10_d_level                   14149 non-null  float64\n",
      " 61  rougher.state.floatbank10_e_air                     14149 non-null  float64\n",
      " 62  rougher.state.floatbank10_e_level                   14149 non-null  float64\n",
      " 63  rougher.state.floatbank10_f_air                     14149 non-null  float64\n",
      " 64  rougher.state.floatbank10_f_level                   14149 non-null  float64\n",
      " 65  secondary_cleaner.output.tail_ag                    14149 non-null  float64\n",
      " 66  secondary_cleaner.output.tail_pb                    14149 non-null  float64\n",
      " 67  secondary_cleaner.output.tail_sol                   14149 non-null  float64\n",
      " 68  secondary_cleaner.output.tail_au                    14149 non-null  float64\n",
      " 69  secondary_cleaner.state.floatbank2_a_air            14149 non-null  float64\n",
      " 70  secondary_cleaner.state.floatbank2_a_level          14149 non-null  float64\n",
      " 71  secondary_cleaner.state.floatbank2_b_air            14149 non-null  float64\n",
      " 72  secondary_cleaner.state.floatbank2_b_level          14149 non-null  float64\n",
      " 73  secondary_cleaner.state.floatbank3_a_air            14149 non-null  float64\n",
      " 74  secondary_cleaner.state.floatbank3_a_level          14149 non-null  float64\n",
      " 75  secondary_cleaner.state.floatbank3_b_air            14149 non-null  float64\n",
      " 76  secondary_cleaner.state.floatbank3_b_level          14149 non-null  float64\n",
      " 77  secondary_cleaner.state.floatbank4_a_air            14149 non-null  float64\n",
      " 78  secondary_cleaner.state.floatbank4_a_level          14149 non-null  float64\n",
      " 79  secondary_cleaner.state.floatbank4_b_air            14149 non-null  float64\n",
      " 80  secondary_cleaner.state.floatbank4_b_level          14149 non-null  float64\n",
      " 81  secondary_cleaner.state.floatbank5_a_air            14149 non-null  float64\n",
      " 82  secondary_cleaner.state.floatbank5_a_level          14149 non-null  float64\n",
      " 83  secondary_cleaner.state.floatbank5_b_air            14149 non-null  float64\n",
      " 84  secondary_cleaner.state.floatbank5_b_level          14149 non-null  float64\n",
      " 85  secondary_cleaner.state.floatbank6_a_air            14149 non-null  float64\n",
      " 86  secondary_cleaner.state.floatbank6_a_level          14149 non-null  float64\n",
      " 87  recovery_au                                         14149 non-null  float64\n",
      "dtypes: float64(87), object(1)\n",
      "memory usage: 9.5+ MB\n",
      "<class 'pandas.core.frame.DataFrame'>\n",
      "RangeIndex: 5290 entries, 0 to 5289\n",
      "Data columns (total 53 columns):\n",
      " #   Column                                      Non-Null Count  Dtype  \n",
      "---  ------                                      --------------  -----  \n",
      " 0   date                                        5290 non-null   object \n",
      " 1   primary_cleaner.input.sulfate               5290 non-null   float64\n",
      " 2   primary_cleaner.input.depressant            5290 non-null   float64\n",
      " 3   primary_cleaner.input.feed_size             5290 non-null   float64\n",
      " 4   primary_cleaner.input.xanthate              5290 non-null   float64\n",
      " 5   primary_cleaner.state.floatbank8_a_air      5290 non-null   float64\n",
      " 6   primary_cleaner.state.floatbank8_a_level    5290 non-null   float64\n",
      " 7   primary_cleaner.state.floatbank8_b_air      5290 non-null   float64\n",
      " 8   primary_cleaner.state.floatbank8_b_level    5290 non-null   float64\n",
      " 9   primary_cleaner.state.floatbank8_c_air      5290 non-null   float64\n",
      " 10  primary_cleaner.state.floatbank8_c_level    5290 non-null   float64\n",
      " 11  primary_cleaner.state.floatbank8_d_air      5290 non-null   float64\n",
      " 12  primary_cleaner.state.floatbank8_d_level    5290 non-null   float64\n",
      " 13  rougher.input.feed_ag                       5290 non-null   float64\n",
      " 14  rougher.input.feed_pb                       5290 non-null   float64\n",
      " 15  rougher.input.feed_rate                     5290 non-null   float64\n",
      " 16  rougher.input.feed_size                     5290 non-null   float64\n",
      " 17  rougher.input.feed_sol                      5290 non-null   float64\n",
      " 18  rougher.input.feed_au                       5290 non-null   float64\n",
      " 19  rougher.input.floatbank10_sulfate           5290 non-null   float64\n",
      " 20  rougher.input.floatbank10_xanthate          5290 non-null   float64\n",
      " 21  rougher.input.floatbank11_sulfate           5290 non-null   float64\n",
      " 22  rougher.input.floatbank11_xanthate          5290 non-null   float64\n",
      " 23  rougher.state.floatbank10_a_air             5290 non-null   float64\n",
      " 24  rougher.state.floatbank10_a_level           5290 non-null   float64\n",
      " 25  rougher.state.floatbank10_b_air             5290 non-null   float64\n",
      " 26  rougher.state.floatbank10_b_level           5290 non-null   float64\n",
      " 27  rougher.state.floatbank10_c_air             5290 non-null   float64\n",
      " 28  rougher.state.floatbank10_c_level           5290 non-null   float64\n",
      " 29  rougher.state.floatbank10_d_air             5290 non-null   float64\n",
      " 30  rougher.state.floatbank10_d_level           5290 non-null   float64\n",
      " 31  rougher.state.floatbank10_e_air             5290 non-null   float64\n",
      " 32  rougher.state.floatbank10_e_level           5290 non-null   float64\n",
      " 33  rougher.state.floatbank10_f_air             5290 non-null   float64\n",
      " 34  rougher.state.floatbank10_f_level           5290 non-null   float64\n",
      " 35  secondary_cleaner.state.floatbank2_a_air    5290 non-null   float64\n",
      " 36  secondary_cleaner.state.floatbank2_a_level  5290 non-null   float64\n",
      " 37  secondary_cleaner.state.floatbank2_b_air    5290 non-null   float64\n",
      " 38  secondary_cleaner.state.floatbank2_b_level  5290 non-null   float64\n",
      " 39  secondary_cleaner.state.floatbank3_a_air    5290 non-null   float64\n",
      " 40  secondary_cleaner.state.floatbank3_a_level  5290 non-null   float64\n",
      " 41  secondary_cleaner.state.floatbank3_b_air    5290 non-null   float64\n",
      " 42  secondary_cleaner.state.floatbank3_b_level  5290 non-null   float64\n",
      " 43  secondary_cleaner.state.floatbank4_a_air    5290 non-null   float64\n",
      " 44  secondary_cleaner.state.floatbank4_a_level  5290 non-null   float64\n",
      " 45  secondary_cleaner.state.floatbank4_b_air    5290 non-null   float64\n",
      " 46  secondary_cleaner.state.floatbank4_b_level  5290 non-null   float64\n",
      " 47  secondary_cleaner.state.floatbank5_a_air    5290 non-null   float64\n",
      " 48  secondary_cleaner.state.floatbank5_a_level  5290 non-null   float64\n",
      " 49  secondary_cleaner.state.floatbank5_b_air    5290 non-null   float64\n",
      " 50  secondary_cleaner.state.floatbank5_b_level  5290 non-null   float64\n",
      " 51  secondary_cleaner.state.floatbank6_a_air    5290 non-null   float64\n",
      " 52  secondary_cleaner.state.floatbank6_a_level  5290 non-null   float64\n",
      "dtypes: float64(52), object(1)\n",
      "memory usage: 2.1+ MB\n"
     ]
    }
   ],
   "source": [
    "data_train.info()\n",
    "data_test.info()"
   ]
  },
  {
   "cell_type": "markdown",
   "metadata": {},
   "source": [
    "Мы подготовили данные: проверили формулу вычисления эффективности обогащения, проанализировали признаки, недоступные в тестовой выборке, провели предобработку данных (заполнили пропуски). Теперь можем перейти к анализу данных. "
   ]
  },
  {
   "cell_type": "markdown",
   "metadata": {},
   "source": [
    "## Анализ данных"
   ]
  },
  {
   "cell_type": "markdown",
   "metadata": {},
   "source": [
    "Проанализируем, как меняется концентрация металлов (Au, Ag, Pb) на различных этапах очистки"
   ]
  },
  {
   "cell_type": "markdown",
   "metadata": {},
   "source": [
    "Лучше строить гистограммы по каждому металлу. Да, графики должными быть четыре в одном: по одному металлу несколько этапов очистки. Чтобы видеть как менялось концетрация металла с каждым этапом"
   ]
  },
  {
   "cell_type": "code",
   "execution_count": 48,
   "metadata": {},
   "outputs": [
    {
     "data": {
      "image/png": "[encoded data removed]",
      "text/plain": [
       "<Figure size 432x288 with 1 Axes>"
      ]
     },
     "metadata": {
      "needs_background": "light"
     },
     "output_type": "display_data"
    }
   ],
   "source": [
    "#построим гистограммы распределения концентрации на разных этапах для золота\n",
    "pyplot.hist(data_full['rougher.input.feed_au'], bins = 500, alpha=0.5, label='rougher.input.feed_au')\n",
    "pyplot.hist(data_full['rougher.output.concentrate_au'], bins=500, alpha=0.5, label='rougher.output.concentrate_au')\n",
    "pyplot.hist(data_full['primary_cleaner.output.concentrate_au'], bins = 500, alpha=0.5, label='primary_cleaner.output.concentrate_au')\n",
    "pyplot.hist(data_full['final.output.concentrate_au'], bins = 500, alpha=0.5, label='final.output.concentrate_au')\n",
    "pyplot.legend(loc='upper right')\n",
    "pyplot.show()"
   ]
  },
  {
   "cell_type": "markdown",
   "metadata": {},
   "source": [
    "Как видим, распределение нормальное на каждом этапе, и на каждом же этапе концентрация золота растёт. "
   ]
  },
  {
   "cell_type": "code",
   "execution_count": 49,
   "metadata": {},
   "outputs": [
    {
     "data": {
      "image/png": "[encoded data removed]",
      "text/plain": [
       "<Figure size 432x288 with 1 Axes>"
      ]
     },
     "metadata": {
      "needs_background": "light"
     },
     "output_type": "display_data"
    }
   ],
   "source": [
    "#построим гистограммы распределения концентрации на разных этапах для серебра\n",
    "pyplot.hist(data_full['rougher.input.feed_ag'], bins = 500, alpha=0.5, label='rougher.input.feed_ag')\n",
    "pyplot.hist(data_full['rougher.output.concentrate_ag'], bins=500, alpha=0.5, label='rougher.output.concentrate_ag')\n",
    "pyplot.hist(data_full['primary_cleaner.output.concentrate_ag'], bins = 500, alpha=0.5, label='primary_cleaner.output.concentrate_ag')\n",
    "pyplot.hist(data_full['final.output.concentrate_ag'], bins = 500, alpha=0.5, label='final.output.concentrate_ag')\n",
    "pyplot.legend(loc='upper right')\n",
    "pyplot.show()"
   ]
  },
  {
   "cell_type": "markdown",
   "metadata": {},
   "source": [
    "Видим, что после флотации концентрация серебра растёт, однако с каждой следующей очисктой серебра в составе становится всё меньше."
   ]
  },
  {
   "cell_type": "code",
   "execution_count": 50,
   "metadata": {},
   "outputs": [
    {
     "data": {
      "image/png": "[encoded data removed]",
      "text/plain": [
       "<Figure size 432x288 with 1 Axes>"
      ]
     },
     "metadata": {
      "needs_background": "light"
     },
     "output_type": "display_data"
    }
   ],
   "source": [
    "#построим гистограммы распределения концентрации на разных этапах для серебра\n",
    "pyplot.hist(data_full['rougher.input.feed_pb'], bins = 500, alpha=0.5, label='rougher.input.feed_pb')\n",
    "pyplot.hist(data_full['rougher.output.concentrate_pb'], bins=500, alpha=0.5, label='rougher.output.concentrate_pb')\n",
    "pyplot.hist(data_full['primary_cleaner.output.concentrate_pb'], bins = 500, alpha=0.5, label='primary_cleaner.output.concentrate_pb')\n",
    "pyplot.hist(data_full['final.output.concentrate_pb'], bins = 500, alpha=0.5, label='final.output.concentrate_pb')\n",
    "pyplot.legend(loc='upper right')\n",
    "pyplot.show()"
   ]
  },
  {
   "cell_type": "markdown",
   "metadata": {},
   "source": [
    "Видим, что после флотации концентрация свинца возрастает, после первой очистки вновь возрастает, превращаясь в широкое нормальное распределение, после второй очистки распределение сужается и сама концентрация ещё растёт. "
   ]
  },
  {
   "cell_type": "markdown",
   "metadata": {},
   "source": [
    "Сравним распределения размеров гранул сырья на обучающей и тестовой выборках. Нам нужно убедиться, что распределения не сильно отличаются друг от друга, в противном случае оценка модели будет неверной."
   ]
  },
  {
   "cell_type": "code",
   "execution_count": 51,
   "metadata": {},
   "outputs": [
    {
     "data": {
      "image/png": "[encoded data removed]",
      "text/plain": [
       "<Figure size 432x288 with 1 Axes>"
      ]
     },
     "metadata": {
      "needs_background": "light"
     },
     "output_type": "display_data"
    }
   ],
   "source": [
    "\n",
    "#рассмотрим размер гранул при флотации\n",
    "pyplot.hist(data_train['rougher.input.feed_size'],  bins = 100, alpha=0.5, label='обучающая выборка')\n",
    "pyplot.hist(data_test['rougher.input.feed_size'],  bins= 100, alpha=0.5, label='тестовая выборка')\n",
    "pyplot.legend(loc='upper right')\n",
    "pyplot.show()"
   ]
  },
  {
   "cell_type": "markdown",
   "metadata": {},
   "source": [
    "Видим, что графики отличаются по высоте (из-за того, что в выборках разное количество объектов), однако их распределения похожи. "
   ]
  },
  {
   "cell_type": "code",
   "execution_count": 52,
   "metadata": {},
   "outputs": [
    {
     "data": {
      "image/png": "[encoded data removed]",
      "text/plain": [
       "<Figure size 432x288 with 1 Axes>"
      ]
     },
     "metadata": {
      "needs_background": "light"
     },
     "output_type": "display_data"
    }
   ],
   "source": [
    "#рассмотрим размер гранул при первичной очистке\n",
    "pyplot.hist(data_train['primary_cleaner.input.feed_size'], bins = 100, alpha=0.5, label='обучающая выборка')\n",
    "pyplot.hist(data_test['primary_cleaner.input.feed_size'], bins= 100, alpha=0.5, label='тестовая выборка')\n",
    "pyplot.legend(loc='upper right')\n",
    "pyplot.show()"
   ]
  },
  {
   "cell_type": "markdown",
   "metadata": {},
   "source": [
    "Наблюдаем принципиально схожую картину: видим, что несмотря на то, что высота гистограмм разная, распределения всё же похожи."
   ]
  },
  {
   "cell_type": "markdown",
   "metadata": {},
   "source": [
    "Рассмотрим эти же признаки на графиках плотности вероятности"
   ]
  },
  {
   "cell_type": "code",
   "execution_count": 53,
   "metadata": {},
   "outputs": [
    {
     "name": "stderr",
     "output_type": "stream",
     "text": [
      "/opt/conda/lib/python3.9/site-packages/seaborn/distributions.py:2557: FutureWarning: `distplot` is a deprecated function and will be removed in a future version. Please adapt your code to use either `displot` (a figure-level function with similar flexibility) or `kdeplot` (an axes-level function for kernel density plots).\n",
      "  warnings.warn(msg, FutureWarning)\n",
      "/opt/conda/lib/python3.9/site-packages/seaborn/distributions.py:2557: FutureWarning: `distplot` is a deprecated function and will be removed in a future version. Please adapt your code to use either `displot` (a figure-level function with similar flexibility) or `kdeplot` (an axes-level function for kernel density plots).\n",
      "  warnings.warn(msg, FutureWarning)\n"
     ]
    },
    {
     "data": {
      "text/plain": [
       "<AxesSubplot:xlabel='rougher.input.feed_size', ylabel='Density'>"
      ]
     },
     "execution_count": 53,
     "metadata": {},
     "output_type": "execute_result"
    },
    {
     "data": {
      "image/png": "[encoded data removed]",
      "text/plain": [
       "<Figure size 432x288 with 1 Axes>"
      ]
     },
     "metadata": {
      "needs_background": "light"
     },
     "output_type": "display_data"
    }
   ],
   "source": [
    "sns.distplot(data_train['rougher.input.feed_size'], hist = False)\n",
    "sns.distplot(data_test['rougher.input.feed_size'], hist = False)"
   ]
  },
  {
   "cell_type": "code",
   "execution_count": 54,
   "metadata": {},
   "outputs": [
    {
     "name": "stderr",
     "output_type": "stream",
     "text": [
      "/opt/conda/lib/python3.9/site-packages/seaborn/distributions.py:2557: FutureWarning: `distplot` is a deprecated function and will be removed in a future version. Please adapt your code to use either `displot` (a figure-level function with similar flexibility) or `kdeplot` (an axes-level function for kernel density plots).\n",
      "  warnings.warn(msg, FutureWarning)\n",
      "/opt/conda/lib/python3.9/site-packages/seaborn/distributions.py:2557: FutureWarning: `distplot` is a deprecated function and will be removed in a future version. Please adapt your code to use either `displot` (a figure-level function with similar flexibility) or `kdeplot` (an axes-level function for kernel density plots).\n",
      "  warnings.warn(msg, FutureWarning)\n"
     ]
    },
    {
     "data": {
      "text/plain": [
       "<AxesSubplot:xlabel='primary_cleaner.input.feed_size', ylabel='Density'>"
      ]
     },
     "execution_count": 54,
     "metadata": {},
     "output_type": "execute_result"
    },
    {
     "data": {
      "image/png": "[encoded data removed]",
      "text/plain": [
       "<Figure size 432x288 with 1 Axes>"
      ]
     },
     "metadata": {
      "needs_background": "light"
     },
     "output_type": "display_data"
    }
   ],
   "source": [
    "sns.distplot(data_train['primary_cleaner.input.feed_size'], hist = False)\n",
    "sns.distplot(data_test['primary_cleaner.input.feed_size'], hist = False)"
   ]
  },
  {
   "cell_type": "markdown",
   "metadata": {},
   "source": [
    "Мы наблюдаем ту же картину. Поэтому делаем вывод, что распределения схожи. Они не станут проблемой при прогнозировании с помощью модели. "
   ]
  },
  {
   "cell_type": "markdown",
   "metadata": {},
   "source": [
    "Теперь исследуем суммарную концентрацию всех веществ на разных стадиях: в сырье, в черновом и финальном концентратах."
   ]
  },
  {
   "cell_type": "code",
   "execution_count": 55,
   "metadata": {},
   "outputs": [],
   "source": [
    "data_train['rougher.input.feed_sum'] = data_train['rougher.input.feed_au'] + data_train['rougher.input.feed_ag'] + data_train['rougher.input.feed_pb'] + data_train['rougher.input.feed_sol']\n",
    "data_train['rougher.output.concentrate_sum'] = data_train['rougher.output.concentrate_au'] + data_train['rougher.output.concentrate_ag'] + data_train['rougher.output.concentrate_pb'] + data_train['rougher.output.concentrate_sol']\n",
    "data_train['final.output.concentrate_sum'] = data_train['final.output.concentrate_au'] + data_train['final.output.concentrate_ag'] + data_train['final.output.concentrate_pb'] + data_train['final.output.concentrate_sol']"
   ]
  },
  {
   "cell_type": "code",
   "execution_count": 56,
   "metadata": {},
   "outputs": [
    {
     "data": {
      "image/png": "[encoded data removed]",
      "text/plain": [
       "<Figure size 432x288 with 1 Axes>"
      ]
     },
     "metadata": {
      "needs_background": "light"
     },
     "output_type": "display_data"
    },
    {
     "name": "stdout",
     "output_type": "stream",
     "text": [
      "Красным: в сырье перед флотацией\n",
      "Зеленным: в черновом варианте концентрата\n",
      "Синим: в финальной стадии концетрата\n"
     ]
    }
   ],
   "source": [
    "data_train['rougher.input.feed_sum'].hist(bins=50, alpha=0.5, color='r')\n",
    "data_train['rougher.output.concentrate_sum'].hist(bins=50, alpha=0.5, color='g')\n",
    "data_train['final.output.concentrate_sum'].hist(bins=50, alpha=0.5, color='b')\n",
    "pyplot.show()\n",
    "print(\"Красным: в сырье перед флотацией\")\n",
    "print(\"Зеленным: в черновом варианте концентрата\")\n",
    "print(\"Синим: в финальной стадии концетрата\")"
   ]
  },
  {
   "cell_type": "markdown",
   "metadata": {},
   "source": [
    "Видим выбросы около ноля. Всё, что меньше 5, можно смело удалить. "
   ]
  },
  {
   "cell_type": "code",
   "execution_count": 57,
   "metadata": {},
   "outputs": [],
   "source": [
    "data_train = data_train.loc[data_train['rougher.input.feed_sum'] > 5]\n",
    "data_train = data_train.loc[data_train['rougher.output.concentrate_sum'] > 5]\n",
    "data_train = data_train.loc[data_train['final.output.concentrate_sum'] > 5]"
   ]
  },
  {
   "cell_type": "markdown",
   "metadata": {},
   "source": [
    "Мы заврешили исследовательский анализ данных, теперь переходим к построению модели. "
   ]
  },
  {
   "cell_type": "markdown",
   "metadata": {},
   "source": [
    "## Модель"
   ]
  },
  {
   "cell_type": "markdown",
   "metadata": {},
   "source": [
    "Прежде, чем обучать и проверять модели, нужно добавить в тестовую выборку целевые признаки - \"rougher.output.recovery\" и \"final.output.recovery\". \n",
    "В обучающей выборке мы оставим только те признаки, которые есть в тестовой.  "
   ]
  },
  {
   "cell_type": "code",
   "execution_count": 58,
   "metadata": {},
   "outputs": [],
   "source": [
    "data_test = data_test.set_index('date')\n",
    "data_full = data_full.set_index('date')\n",
    "data_test['rougher.output.recovery'] = data_full['rougher.output.recovery'].loc[data_test.index]\n",
    "data_test['final.output.recovery'] = data_full['final.output.recovery'].loc[data_test.index]\n",
    "data_test = data_test.reset_index()\n",
    "data_full = data_full.reset_index()"
   ]
  },
  {
   "cell_type": "code",
   "execution_count": 59,
   "metadata": {},
   "outputs": [],
   "source": [
    "columns_test = data_test.columns.tolist()\n",
    "columns_full = data_full.columns.tolist()\n",
    "columns_needless = list(set(columns_full) - set(columns_test))\n",
    "data_train = data_train.drop(columns_needless, axis=1)\n",
    "data_train = data_train.drop(['recovery_au', 'rougher.input.feed_sum', 'rougher.output.concentrate_sum', 'final.output.concentrate_sum'], axis=1)"
   ]
  },
  {
   "cell_type": "markdown",
   "metadata": {},
   "source": [
    "Так как нас интересуют два целевых признака ('rougher.output.recovery', 'final.output.recovery'), то нужно будет построить две модели. Начнём с модели для 'rougher.output.recovery'. Объявим target и features для обучающей и тестовой выборок. "
   ]
  },
  {
   "cell_type": "code",
   "execution_count": 60,
   "metadata": {
    "scrolled": true
   },
   "outputs": [],
   "source": [
    "\n",
    "features_train = data_train.drop(['rougher.output.recovery', 'final.output.recovery', 'date'], axis=1).reset_index(drop = True)\n",
    "try:\n",
    "    features_train = features_train.drop(columns = ['index'])\n",
    "except:\n",
    "    pass\n",
    "\n",
    "target_train_rough = data_train['rougher.output.recovery'].reset_index(drop = True)\n",
    "try:\n",
    "    target_train_rough = target_train_rough.drop(columns = ['index'])\n",
    "except:\n",
    "    pass\n",
    "\n",
    "target_train_final = data_train['final.output.recovery'].reset_index(drop = True)\n",
    "try:\n",
    "    target_train_final = target_train_final.drop(columns = ['index'])\n",
    "except:\n",
    "    pass\n",
    "\n",
    "features_test = data_test.drop(['rougher.output.recovery', 'final.output.recovery', 'date'], axis=1)\n",
    "target_test_rough = data_test['rougher.output.recovery']\n",
    "target_test_final = data_test['final.output.recovery']\n",
    "#display(features_train)"
   ]
  },
  {
   "cell_type": "code",
   "execution_count": 61,
   "metadata": {},
   "outputs": [
    {
     "name": "stdout",
     "output_type": "stream",
     "text": [
      "2022-10-29 20:00:33.870555 program start\n"
     ]
    }
   ],
   "source": [
    "def smape(target, predictions):\n",
    "    fraction = abs(target - predictions) / ((abs(target) + abs(predictions)) / 2) \n",
    "    return sum(fraction) * 100 / len(target) \n",
    " \n",
    "#функция для итогового sMAPE\n",
    "def final_smape(smape_rougher, smape_final):\n",
    "    return 0.25 * smape_rougher + 0.75 * smape_final\n",
    "\n",
    "from datetime import datetime as d\n",
    "print(d.now(), 'program start')\n",
    "smape_scorer = make_scorer(smape, greater_is_better=False)"
   ]
  },
  {
   "cell_type": "code",
   "execution_count": 63,
   "metadata": {},
   "outputs": [
    {
     "name": "stdout",
     "output_type": "stream",
     "text": [
      "2022-10-29 17:29:39.373479 model_tree_rough smape: -10.582526945850805\n",
      "2022-10-29 17:30:36.625049 model_forest_rough smape: -6.698129469093075\n",
      "2022-10-29 17:30:38.084584 model_reg_rough smape: -7.224944105357397\n",
      "2022-10-29 17:30:42.356354 model_tree_final smape -16.290686627228844\n",
      "2022-10-29 17:31:40.021806 model_forest_final smape -8.962147317722906\n",
      "2022-10-29 17:31:41.379284 model_reg_final smape: -10.961060384746496\n"
     ]
    }
   ],
   "source": [
    "#Модели для rough (после флотации)\n",
    "model_tree_rough = DecisionTreeRegressor(random_state=12345)\n",
    "scores_tree_rough = cross_val_score(model_tree_rough, features_train, target_train_rough, scoring=smape_scorer, cv=5)\n",
    "print(d.now(), 'model_tree_rough smape:', scores_tree_rough.mean())\n",
    "\n",
    "model_forest_rough = RandomForestRegressor(max_depth=4, n_estimators=100, min_samples_leaf= 7, random_state=12345)\n",
    "scores_forest_rough = cross_val_score(model_forest_rough, features_train, target_train_rough, scoring=smape_scorer, cv=5)\n",
    "print(d.now(), 'model_forest_rough smape:', scores_forest_rough.mean())\n",
    "\n",
    "model_reg_rough = LinearRegression()\n",
    "scores_reg_rough = cross_val_score(model_reg_rough, features_train, target_train_rough, scoring=smape_scorer, cv=5)\n",
    "print(d.now(), 'model_reg_rough smape:', scores_reg_rough.mean())\n",
    "\n",
    "#Модели для final - финальный концентрат\n",
    "\n",
    "model_tree_final = DecisionTreeRegressor(random_state=12345)\n",
    "scores_tree_final = cross_val_score(model_tree_final, features_train, target_train_final, scoring=smape_scorer, cv=5)\n",
    "print(d.now(), 'model_tree_final smape', scores_tree_final.mean())\n",
    "\n",
    "model_forest_final = RandomForestRegressor(max_depth=4, n_estimators=100, min_samples_leaf= 7, random_state=12345)\n",
    "scores_forest_final = cross_val_score(model_forest_final, features_train, target_train_final, scoring=smape_scorer, cv=5)\n",
    "print(d.now(), 'model_forest_final smape', scores_forest_final.mean())\n",
    "\n",
    "model_reg_final = LinearRegression()\n",
    "scores_reg_final = cross_val_score(model_reg_final, features_train, target_train_final, scoring=smape_scorer, cv=5)\n",
    "print(d.now(), 'model_reg_final smape:', scores_reg_final.mean())"
   ]
  },
  {
   "cell_type": "markdown",
   "metadata": {},
   "source": [
    "Подберём оптимальные гиперпараметры для модели с лучшей метрикой качества (случайный лес)"
   ]
  },
  {
   "cell_type": "code",
   "execution_count": 86,
   "metadata": {},
   "outputs": [
    {
     "name": "stdout",
     "output_type": "stream",
     "text": [
      "2022-10-29 18:29:06.959974 start\n",
      "2022-10-29 18:42:03.736392 end\n",
      "Оптимальная глубина дерева для модели случайного леса 5\n",
      "smape для лучшей модели случайного леса: 6.616624950163635\n"
     ]
    }
   ],
   "source": [
    "best_model = None\n",
    "best_result = 1000\n",
    "n_estimators = 100\n",
    "print(d.now(), 'start')\n",
    "model_metrics = []\n",
    "\n",
    "for depth in range(1, 10):\n",
    "    model_forest_rough = RandomForestRegressor(random_state=12345, \n",
    "                                        n_estimators=n_estimators, \n",
    "                                        min_samples_leaf = 7, \n",
    "                                        max_depth=depth)\n",
    "    model_forest_rough.fit(features_train, target_train_rough)\n",
    "    scores_forest_rough = cross_val_score(model_forest_rough, features_train, target_train_rough, scoring=smape_scorer, cv=5)\n",
    "    result = scores_forest_rough.mean()\n",
    "    dm = {}\n",
    "    dm['depth'] = depth\n",
    "    dm['result'] = result\n",
    "    model_metrics.append(dm)\n",
    "print(d.now(), 'end')   \n",
    "\n",
    "df_model_metrics = pd.DataFrame(model_metrics)\n",
    "df_model_metrics['result'] = df_model_metrics['result'].abs()\n",
    "optimal_depth = df_model_metrics[df_model_metrics['result']==df_model_metrics['result'].min()]['depth'].iloc[0]\n",
    "best_smape = df_model_metrics['result'].min()\n",
    "\n",
    "print('Оптимальная глубина дерева для модели случайного леса', optimal_depth)    \n",
    "print('smape для лучшей модели случайного леса:', best_smape)\n"
   ]
  },
  {
   "cell_type": "code",
   "execution_count": null,
   "metadata": {},
   "outputs": [
    {
     "name": "stdout",
     "output_type": "stream",
     "text": [
      "2022-10-29 19:08:20.336185 start\n"
     ]
    }
   ],
   "source": [
    "best_model = None\n",
    "best_result = 1000\n",
    "n_estimators = 100\n",
    "\n",
    "print(d.now(), 'start')\n",
    "model_metrics_final = []\n",
    "\n",
    "for depth in range(1, 10):\n",
    "    model_forest_final = RandomForestRegressor(random_state=12345, \n",
    "                                        n_estimators=n_estimators, \n",
    "                                        min_samples_leaf = 7, \n",
    "                                        max_depth=depth)\n",
    "    model_forest_final.fit(features_train, target_train_final)\n",
    "    scores_forest_final = cross_val_score(model_forest_final, features_train, target_train_rough, scoring=smape_scorer, cv=5)\n",
    "    result = scores_forest_final.mean()\n",
    "    dm = {}\n",
    "    dm['depth'] = depth\n",
    "    dm['result'] = result\n",
    "    model_metrics_final.append(dm)\n",
    "print(d.now(), 'end')   \n",
    "\n",
    "df_model_metrics_final = pd.DataFrame(model_metrics)\n",
    "df_model_metrics_final['result'] = df_model_metrics_final['result'].abs()\n",
    "optimal_depth = df_model_metrics_final[df_model_metrics_final['result']==df_model_metrics_final['result'].min()]['depth'].iloc[0]\n",
    "best_smape = df_model_metrics_final['result'].min()\n",
    "\n",
    "print('Оптимальная глубина дерева для модели случайного леса', optimal_depth)    \n",
    "print('smape для лучшей модели случайного леса:', best_smape)\n"
   ]
  },
  {
   "cell_type": "markdown",
   "metadata": {},
   "source": [
    "Выбираем случайный лес c подобранными гиперпараметрами для обоих таргетов и вычисляем метрики качества моделей. "
   ]
  },
  {
   "cell_type": "code",
   "execution_count": 62,
   "metadata": {},
   "outputs": [
    {
     "name": "stdout",
     "output_type": "stream",
     "text": [
      "8.359783227281275\n"
     ]
    }
   ],
   "source": [
    "model_rough = RandomForestRegressor(max_depth=5, n_estimators=100, min_samples_leaf= 7, random_state=12345)\n",
    "model_rough.fit(features_train, target_train_rough)\n",
    "predictions_test_rough = model_rough.predict(features_test)\n",
    "smape_rough = smape(target_test_rough, predictions_test_rough)\n",
    "print(smape_rough)"
   ]
  },
  {
   "cell_type": "code",
   "execution_count": 63,
   "metadata": {},
   "outputs": [
    {
     "name": "stdout",
     "output_type": "stream",
     "text": [
      "9.759233209430466\n"
     ]
    }
   ],
   "source": [
    "model_final = RandomForestRegressor(max_depth=5, n_estimators=150, min_samples_leaf= 7, random_state=12345)\n",
    "model_final.fit(features_train, target_train_final)\n",
    "predictions_test_final = model_final.predict(features_test)\n",
    "smape_final = smape(target_test_final, predictions_test_final)\n",
    "print(smape_final)"
   ]
  },
  {
   "cell_type": "code",
   "execution_count": 64,
   "metadata": {},
   "outputs": [
    {
     "name": "stdout",
     "output_type": "stream",
     "text": [
      "Итоговая метрика качества моделей =  9.409370713893168\n"
     ]
    }
   ],
   "source": [
    "smape_result = final_smape(smape_rough, smape_final)\n",
    "print('Итоговая метрика качества моделей = ', smape_result)"
   ]
  },
  {
   "cell_type": "markdown",
   "metadata": {},
   "source": [
    "Сравним выбранные модели с константной моделью"
   ]
  },
  {
   "cell_type": "code",
   "execution_count": 65,
   "metadata": {},
   "outputs": [
    {
     "name": "stdout",
     "output_type": "stream",
     "text": [
      "sMAPE Dummy-модели по среднему 9.067226820874161\n",
      "sMAPE Dummy-модели по медиане 8.526092509812347\n",
      "sMAPE построенной модели 8.359783227281275\n"
     ]
    }
   ],
   "source": [
    "#Dummy-модель для флотации\n",
    "dummy_mean = DummyRegressor(strategy = 'mean' ).fit(features_train, target_train_rough)\n",
    "dummy_median = DummyRegressor(strategy = 'median' ).fit(features_train, target_train_rough)\n",
    "\n",
    "predict_dummy_mean_rough = dummy_mean.predict(features_test)\n",
    "predict_dummy_median_rough = dummy_median.predict(features_test)\n",
    "smape_rough_dummy_mean = smape(target_test_rough, predict_dummy_mean_rough)\n",
    "smape_rough_dummy_median = smape(target_test_rough, predict_dummy_median_rough)\n",
    "print('sMAPE Dummy-модели по среднему', smape_rough_dummy_mean)\n",
    "print('sMAPE Dummy-модели по медиане', smape_rough_dummy_median)\n",
    "print('sMAPE построенной модели',smape_rough)"
   ]
  },
  {
   "cell_type": "code",
   "execution_count": 66,
   "metadata": {
    "scrolled": true
   },
   "outputs": [
    {
     "name": "stdout",
     "output_type": "stream",
     "text": [
      "sMAPE Dummy-модели по среднему 10.080000806513981\n",
      "sMAPE Dummy-модели по медиане 9.744826571095434\n",
      "sMAPE построенной модели 9.759233209430466\n"
     ]
    }
   ],
   "source": [
    "#Dummy-модель для финального концентрата\n",
    "dummy_mean_final = DummyRegressor(strategy = 'mean' ).fit(features_train, target_train_final)\n",
    "dummy_median_final = DummyRegressor(strategy = 'median' ).fit(features_train, target_train_final)\n",
    "\n",
    "predict_dummy_mean_final = dummy_mean_final.predict(features_test)\n",
    "predict_dummy_median_final = dummy_median_final.predict(features_test)\n",
    "smape_final_dummy_mean = smape(target_test_final, predict_dummy_mean_final)\n",
    "smape_final_dummy_median = smape(target_test_final, predict_dummy_median_final)\n",
    "print('sMAPE Dummy-модели по среднему', smape_final_dummy_mean)\n",
    "print('sMAPE Dummy-модели по медиане', smape_final_dummy_median)\n",
    "print('sMAPE построенной модели',smape_final)"
   ]
  },
  {
   "cell_type": "markdown",
   "metadata": {},
   "source": [
    "Построенные модели предсказывают чуть лучше константных моделей."
   ]
  },
  {
   "cell_type": "markdown",
   "metadata": {},
   "source": [
    "## Выводы"
   ]
  },
  {
   "cell_type": "markdown",
   "metadata": {},
   "source": [
    "Задачей исследования было подготовить прототип модели, которая помогала бы предсказывать эффективность восстановления золота из золотосодержащей руды. Для решения задачи мы изучили датасеты (таблица с полными данными, а также таблицы с обучающей и тестовой выборкой для обученяи модели), проверили формулу эффективности восстановления золота из золотосодержащей руды, исследовали недоступные в тестовой выборке признаки, провели предобработку данных. \n",
    "В ходе исследовательского анализа данных, мы пришли к следующим выводам:\n",
    "\n",
    "- На каждом этапе обработки доля золота в концентрате растёт\n",
    "- После флотации концентрация серебра растёт, однако с каждой следующей очисткой серебра в составе становится всё меньше.\n",
    "- после флотации концентрация свинца возрастает, после первой очистки вновь возрастает, превращаясь в широкое нормальное распределение, после второй очистки распределение сужается и сама концентрация вновь растёт.\n",
    "- Сравнив распределения размеров гранул сырья на обучающей и тестовой выборках, мы выяснили, что эти распределения не сильно отличаются друг от друга, значит это не повлияет негативно на эффективность модели.\n",
    "- На гистограмме суммарной концентрации всех веществ на разных стадиях были обнаружены выбросы, которые мы удалили\n",
    "\n",
    "Далее мы написали функции для вычисления метрика качества будущих моделей – sMAPE, затем построили по три модели (дерево решений, случайный лес и регрессия). Мы посчитали для каждой модели sMAPE, используя кросс-валидацию. Выяснилось, что эффективнее всего «считают» модели случайного леса, для них мы подобрали оптимальные гиперпараметры. Далее мы проверили модели на тестовой выборке, посчитали финальную sMAPE и сопоставили результаты с константной моделью. Выяснилось, что построенные модели предсказывают чуть лучше, чем константные, поэтому мы можем их использовать в дальнейшем. \n"
   ]
  }
 ],
 "metadata": {
  "ExecuteTimeLog": [
   {
    "duration": 1048,
    "start_time": "2022-10-27T08:58:41.925Z"
   },
   {
    "duration": 1894,
    "start_time": "2022-10-27T09:00:27.101Z"
   },
   {
    "duration": 29,
    "start_time": "2022-10-27T09:00:37.139Z"
   },
   {
    "duration": 95,
    "start_time": "2022-10-27T09:01:26.149Z"
   },
   {
    "duration": 13,
    "start_time": "2022-10-27T09:01:29.613Z"
   },
   {
    "duration": 29,
    "start_time": "2022-10-27T09:02:39.213Z"
   },
   {
    "duration": 15,
    "start_time": "2022-10-27T09:02:44.968Z"
   },
   {
    "duration": 20,
    "start_time": "2022-10-27T09:03:13.473Z"
   },
   {
    "duration": 10,
    "start_time": "2022-10-27T09:03:32.845Z"
   },
   {
    "duration": 11,
    "start_time": "2022-10-27T09:03:57.111Z"
   },
   {
    "duration": 8,
    "start_time": "2022-10-27T09:04:10.352Z"
   },
   {
    "duration": 18,
    "start_time": "2022-10-27T10:25:28.328Z"
   },
   {
    "duration": 22,
    "start_time": "2022-10-27T10:25:44.140Z"
   },
   {
    "duration": 12,
    "start_time": "2022-10-27T10:35:00.080Z"
   },
   {
    "duration": 4,
    "start_time": "2022-10-27T10:36:32.493Z"
   },
   {
    "duration": 10,
    "start_time": "2022-10-27T10:36:41.011Z"
   },
   {
    "duration": 7,
    "start_time": "2022-10-27T10:36:58.136Z"
   },
   {
    "duration": 9,
    "start_time": "2022-10-27T10:38:55.444Z"
   },
   {
    "duration": 70,
    "start_time": "2022-10-27T10:43:22.042Z"
   },
   {
    "duration": 43,
    "start_time": "2022-10-27T18:16:33.141Z"
   },
   {
    "duration": 1070,
    "start_time": "2022-10-27T18:16:43.017Z"
   },
   {
    "duration": 2987,
    "start_time": "2022-10-27T18:16:44.089Z"
   },
   {
    "duration": 29,
    "start_time": "2022-10-27T18:16:47.077Z"
   },
   {
    "duration": 16,
    "start_time": "2022-10-27T18:16:47.108Z"
   },
   {
    "duration": 19,
    "start_time": "2022-10-27T18:16:47.126Z"
   },
   {
    "duration": 13,
    "start_time": "2022-10-27T18:16:47.146Z"
   },
   {
    "duration": 18,
    "start_time": "2022-10-27T18:16:47.161Z"
   },
   {
    "duration": 19,
    "start_time": "2022-10-27T18:16:47.180Z"
   },
   {
    "duration": 9,
    "start_time": "2022-10-27T18:16:47.223Z"
   },
   {
    "duration": 3,
    "start_time": "2022-10-27T18:16:47.597Z"
   },
   {
    "duration": 3,
    "start_time": "2022-10-27T18:20:49.406Z"
   },
   {
    "duration": 62,
    "start_time": "2022-10-27T18:21:14.989Z"
   },
   {
    "duration": 8,
    "start_time": "2022-10-27T18:21:21.434Z"
   },
   {
    "duration": 4,
    "start_time": "2022-10-27T18:21:36.465Z"
   },
   {
    "duration": 4,
    "start_time": "2022-10-27T18:22:19.077Z"
   },
   {
    "duration": 3,
    "start_time": "2022-10-27T18:22:38.370Z"
   },
   {
    "duration": 11,
    "start_time": "2022-10-27T18:22:52.725Z"
   },
   {
    "duration": 7,
    "start_time": "2022-10-27T18:22:57.554Z"
   },
   {
    "duration": 7,
    "start_time": "2022-10-27T18:23:22.122Z"
   },
   {
    "duration": 4,
    "start_time": "2022-10-27T18:23:39.821Z"
   },
   {
    "duration": 3,
    "start_time": "2022-10-27T18:24:33.630Z"
   },
   {
    "duration": 4,
    "start_time": "2022-10-27T18:25:50.950Z"
   },
   {
    "duration": 6,
    "start_time": "2022-10-27T18:26:00.184Z"
   },
   {
    "duration": 7,
    "start_time": "2022-10-27T18:27:14.271Z"
   },
   {
    "duration": 7,
    "start_time": "2022-10-27T18:28:30.169Z"
   },
   {
    "duration": 7,
    "start_time": "2022-10-27T18:28:40.107Z"
   },
   {
    "duration": 7,
    "start_time": "2022-10-27T18:29:02.712Z"
   },
   {
    "duration": 13,
    "start_time": "2022-10-27T18:58:36.055Z"
   },
   {
    "duration": 9,
    "start_time": "2022-10-27T19:00:22.336Z"
   },
   {
    "duration": 13,
    "start_time": "2022-10-27T19:00:49.585Z"
   },
   {
    "duration": 9,
    "start_time": "2022-10-27T19:00:58.734Z"
   },
   {
    "duration": 10,
    "start_time": "2022-10-27T19:02:57.407Z"
   },
   {
    "duration": 21,
    "start_time": "2022-10-27T19:03:31.401Z"
   },
   {
    "duration": 8,
    "start_time": "2022-10-27T19:04:30.655Z"
   },
   {
    "duration": 44,
    "start_time": "2022-10-27T19:08:11.074Z"
   },
   {
    "duration": 684,
    "start_time": "2022-10-27T19:08:20.656Z"
   },
   {
    "duration": 668,
    "start_time": "2022-10-27T19:08:35.379Z"
   },
   {
    "duration": 8,
    "start_time": "2022-10-27T19:08:40.201Z"
   },
   {
    "duration": 8,
    "start_time": "2022-10-27T19:11:20.041Z"
   },
   {
    "duration": 7,
    "start_time": "2022-10-27T19:13:30.995Z"
   },
   {
    "duration": 9,
    "start_time": "2022-10-27T19:13:45.787Z"
   },
   {
    "duration": 9,
    "start_time": "2022-10-27T19:14:00.756Z"
   },
   {
    "duration": 10,
    "start_time": "2022-10-27T19:14:33.052Z"
   },
   {
    "duration": 264,
    "start_time": "2022-10-27T19:16:19.555Z"
   },
   {
    "duration": 85,
    "start_time": "2022-10-27T19:16:36.948Z"
   },
   {
    "duration": 7,
    "start_time": "2022-10-27T19:18:48.594Z"
   },
   {
    "duration": 3,
    "start_time": "2022-10-27T19:21:49.804Z"
   },
   {
    "duration": 37,
    "start_time": "2022-10-27T19:21:56.517Z"
   },
   {
    "duration": 16,
    "start_time": "2022-10-27T19:22:24.680Z"
   },
   {
    "duration": 11,
    "start_time": "2022-10-27T19:23:16.224Z"
   },
   {
    "duration": 20,
    "start_time": "2022-10-27T19:23:19.280Z"
   },
   {
    "duration": 4,
    "start_time": "2022-10-27T19:33:28.837Z"
   },
   {
    "duration": 719,
    "start_time": "2022-10-27T19:33:29.553Z"
   },
   {
    "duration": 21,
    "start_time": "2022-10-27T19:33:30.274Z"
   },
   {
    "duration": 28,
    "start_time": "2022-10-27T19:33:30.313Z"
   },
   {
    "duration": 18,
    "start_time": "2022-10-27T19:33:30.710Z"
   },
   {
    "duration": 11,
    "start_time": "2022-10-27T19:33:31.036Z"
   },
   {
    "duration": 18,
    "start_time": "2022-10-27T19:33:31.363Z"
   },
   {
    "duration": 16,
    "start_time": "2022-10-27T19:33:31.705Z"
   },
   {
    "duration": 8,
    "start_time": "2022-10-27T19:33:32.541Z"
   },
   {
    "duration": 7,
    "start_time": "2022-10-27T19:33:33.915Z"
   },
   {
    "duration": 17,
    "start_time": "2022-10-27T19:33:38.238Z"
   },
   {
    "duration": 7,
    "start_time": "2022-10-27T19:33:42.013Z"
   },
   {
    "duration": 14,
    "start_time": "2022-10-27T19:33:55.477Z"
   },
   {
    "duration": 19,
    "start_time": "2022-10-27T19:34:03.076Z"
   },
   {
    "duration": 27,
    "start_time": "2022-10-27T19:38:02.919Z"
   },
   {
    "duration": 13,
    "start_time": "2022-10-27T19:40:03.188Z"
   },
   {
    "duration": 24,
    "start_time": "2022-10-27T19:41:08.031Z"
   },
   {
    "duration": 4,
    "start_time": "2022-10-27T19:42:22.013Z"
   },
   {
    "duration": 20,
    "start_time": "2022-10-27T19:42:36.599Z"
   },
   {
    "duration": 17,
    "start_time": "2022-10-27T19:42:39.269Z"
   },
   {
    "duration": 7,
    "start_time": "2022-10-27T19:43:02.662Z"
   },
   {
    "duration": 7,
    "start_time": "2022-10-27T19:43:14.600Z"
   },
   {
    "duration": 27,
    "start_time": "2022-10-27T19:43:29.589Z"
   },
   {
    "duration": 7,
    "start_time": "2022-10-27T19:43:58.519Z"
   },
   {
    "duration": 17,
    "start_time": "2022-10-27T19:44:08.613Z"
   },
   {
    "duration": 8,
    "start_time": "2022-10-27T20:31:18.992Z"
   },
   {
    "duration": 5,
    "start_time": "2022-10-27T20:31:24.938Z"
   },
   {
    "duration": 648,
    "start_time": "2022-10-27T20:31:25.609Z"
   },
   {
    "duration": 19,
    "start_time": "2022-10-27T20:31:26.259Z"
   },
   {
    "duration": 18,
    "start_time": "2022-10-27T20:31:26.279Z"
   },
   {
    "duration": 18,
    "start_time": "2022-10-27T20:31:26.554Z"
   },
   {
    "duration": 13,
    "start_time": "2022-10-27T20:31:26.873Z"
   },
   {
    "duration": 20,
    "start_time": "2022-10-27T20:31:27.216Z"
   },
   {
    "duration": 16,
    "start_time": "2022-10-27T20:31:27.672Z"
   },
   {
    "duration": 8,
    "start_time": "2022-10-27T20:31:28.379Z"
   },
   {
    "duration": 8,
    "start_time": "2022-10-27T20:31:29.452Z"
   },
   {
    "duration": 15,
    "start_time": "2022-10-27T20:31:31.035Z"
   },
   {
    "duration": 9,
    "start_time": "2022-10-27T20:31:31.499Z"
   },
   {
    "duration": 12,
    "start_time": "2022-10-27T20:31:32.400Z"
   },
   {
    "duration": 16,
    "start_time": "2022-10-27T20:31:32.969Z"
   },
   {
    "duration": 17,
    "start_time": "2022-10-27T20:31:34.844Z"
   },
   {
    "duration": 4,
    "start_time": "2022-10-27T20:31:40.194Z"
   },
   {
    "duration": 642,
    "start_time": "2022-10-27T20:31:41.075Z"
   },
   {
    "duration": 21,
    "start_time": "2022-10-27T20:31:41.719Z"
   },
   {
    "duration": 16,
    "start_time": "2022-10-27T20:31:41.843Z"
   },
   {
    "duration": 19,
    "start_time": "2022-10-27T20:31:42.243Z"
   },
   {
    "duration": 12,
    "start_time": "2022-10-27T20:31:42.703Z"
   },
   {
    "duration": 19,
    "start_time": "2022-10-27T20:31:43.238Z"
   },
   {
    "duration": 16,
    "start_time": "2022-10-27T20:31:44.279Z"
   },
   {
    "duration": 11,
    "start_time": "2022-10-27T20:31:51.139Z"
   },
   {
    "duration": 6,
    "start_time": "2022-10-27T20:31:59.785Z"
   },
   {
    "duration": 14,
    "start_time": "2022-10-27T20:32:05.282Z"
   },
   {
    "duration": 8,
    "start_time": "2022-10-27T20:32:12.441Z"
   },
   {
    "duration": 36,
    "start_time": "2022-10-27T20:34:11.821Z"
   },
   {
    "duration": 5,
    "start_time": "2022-10-27T20:34:37.826Z"
   },
   {
    "duration": 690,
    "start_time": "2022-10-27T20:34:38.411Z"
   },
   {
    "duration": 24,
    "start_time": "2022-10-27T20:34:39.102Z"
   },
   {
    "duration": 17,
    "start_time": "2022-10-27T20:34:39.127Z"
   },
   {
    "duration": 20,
    "start_time": "2022-10-27T20:34:39.289Z"
   },
   {
    "duration": 12,
    "start_time": "2022-10-27T20:34:39.603Z"
   },
   {
    "duration": 19,
    "start_time": "2022-10-27T20:34:39.979Z"
   },
   {
    "duration": 17,
    "start_time": "2022-10-27T20:34:40.345Z"
   },
   {
    "duration": 8,
    "start_time": "2022-10-27T20:34:41.049Z"
   },
   {
    "duration": 9,
    "start_time": "2022-10-27T20:34:42.205Z"
   },
   {
    "duration": 15,
    "start_time": "2022-10-27T20:34:43.884Z"
   },
   {
    "duration": 9,
    "start_time": "2022-10-27T20:34:44.294Z"
   },
   {
    "duration": 15,
    "start_time": "2022-10-27T20:34:45.658Z"
   },
   {
    "duration": 16,
    "start_time": "2022-10-27T20:34:46.390Z"
   },
   {
    "duration": 35,
    "start_time": "2022-10-27T20:34:47.595Z"
   },
   {
    "duration": 8,
    "start_time": "2022-10-27T20:37:08.384Z"
   },
   {
    "duration": 89,
    "start_time": "2022-10-27T20:37:19.738Z"
   },
   {
    "duration": 14,
    "start_time": "2022-10-27T20:43:39.080Z"
   },
   {
    "duration": 174,
    "start_time": "2022-10-27T20:59:18.913Z"
   },
   {
    "duration": 50,
    "start_time": "2022-10-27T20:59:40.457Z"
   },
   {
    "duration": 745,
    "start_time": "2022-10-27T20:59:47.516Z"
   },
   {
    "duration": 1648,
    "start_time": "2022-10-27T21:00:02.871Z"
   },
   {
    "duration": 4,
    "start_time": "2022-10-27T21:01:50.165Z"
   },
   {
    "duration": 159,
    "start_time": "2022-10-27T21:03:16.854Z"
   },
   {
    "duration": 352,
    "start_time": "2022-10-27T21:04:13.430Z"
   },
   {
    "duration": 545,
    "start_time": "2022-10-27T21:04:48.145Z"
   },
   {
    "duration": 601,
    "start_time": "2022-10-27T21:09:02.554Z"
   },
   {
    "duration": 2659,
    "start_time": "2022-10-27T21:09:20.728Z"
   },
   {
    "duration": 98,
    "start_time": "2022-10-27T21:18:01.072Z"
   },
   {
    "duration": 88,
    "start_time": "2022-10-27T21:18:13.679Z"
   },
   {
    "duration": 94,
    "start_time": "2022-10-27T21:18:44.818Z"
   },
   {
    "duration": 135,
    "start_time": "2022-10-27T21:19:50.246Z"
   },
   {
    "duration": 245,
    "start_time": "2022-10-27T21:20:08.850Z"
   },
   {
    "duration": 144,
    "start_time": "2022-10-27T21:20:27.250Z"
   },
   {
    "duration": 2872,
    "start_time": "2022-10-27T21:23:33.717Z"
   },
   {
    "duration": 2919,
    "start_time": "2022-10-27T21:28:02.343Z"
   },
   {
    "duration": 332,
    "start_time": "2022-10-27T21:46:15.242Z"
   },
   {
    "duration": 357,
    "start_time": "2022-10-27T21:49:18.616Z"
   },
   {
    "duration": 1507,
    "start_time": "2022-10-27T21:49:30.751Z"
   },
   {
    "duration": 272,
    "start_time": "2022-10-27T21:49:41.650Z"
   },
   {
    "duration": 551,
    "start_time": "2022-10-27T21:49:50.906Z"
   },
   {
    "duration": 54,
    "start_time": "2022-10-27T21:58:59.631Z"
   },
   {
    "duration": 531,
    "start_time": "2022-10-27T22:01:34.853Z"
   },
   {
    "duration": 537,
    "start_time": "2022-10-27T22:02:03.728Z"
   },
   {
    "duration": 339,
    "start_time": "2022-10-27T22:02:27.123Z"
   },
   {
    "duration": 333,
    "start_time": "2022-10-27T22:02:46.921Z"
   },
   {
    "duration": 377,
    "start_time": "2022-10-27T22:03:01.985Z"
   },
   {
    "duration": 343,
    "start_time": "2022-10-27T22:04:16.336Z"
   },
   {
    "duration": 402,
    "start_time": "2022-10-27T22:04:42.574Z"
   },
   {
    "duration": 388,
    "start_time": "2022-10-27T22:05:22.996Z"
   },
   {
    "duration": 369,
    "start_time": "2022-10-27T22:05:55.930Z"
   },
   {
    "duration": 4,
    "start_time": "2022-10-27T22:42:47.405Z"
   },
   {
    "duration": 18,
    "start_time": "2022-10-27T22:43:02.987Z"
   },
   {
    "duration": 4,
    "start_time": "2022-10-27T22:43:37.224Z"
   },
   {
    "duration": 656,
    "start_time": "2022-10-27T22:43:38.019Z"
   },
   {
    "duration": 21,
    "start_time": "2022-10-27T22:43:38.676Z"
   },
   {
    "duration": 22,
    "start_time": "2022-10-27T22:43:38.739Z"
   },
   {
    "duration": 20,
    "start_time": "2022-10-27T22:43:39.105Z"
   },
   {
    "duration": 11,
    "start_time": "2022-10-27T22:43:39.493Z"
   },
   {
    "duration": 23,
    "start_time": "2022-10-27T22:43:39.862Z"
   },
   {
    "duration": 17,
    "start_time": "2022-10-27T22:43:40.238Z"
   },
   {
    "duration": 8,
    "start_time": "2022-10-27T22:43:41.003Z"
   },
   {
    "duration": 7,
    "start_time": "2022-10-27T22:43:42.112Z"
   },
   {
    "duration": 14,
    "start_time": "2022-10-27T22:43:43.637Z"
   },
   {
    "duration": 10,
    "start_time": "2022-10-27T22:43:44.019Z"
   },
   {
    "duration": 14,
    "start_time": "2022-10-27T22:43:44.867Z"
   },
   {
    "duration": 16,
    "start_time": "2022-10-27T22:43:45.220Z"
   },
   {
    "duration": 37,
    "start_time": "2022-10-27T22:43:46.045Z"
   },
   {
    "duration": 45,
    "start_time": "2022-10-27T22:43:47.300Z"
   },
   {
    "duration": 2779,
    "start_time": "2022-10-27T22:43:48.673Z"
   },
   {
    "duration": 3001,
    "start_time": "2022-10-27T22:43:58.701Z"
   },
   {
    "duration": 2737,
    "start_time": "2022-10-27T22:44:01.704Z"
   },
   {
    "duration": 2861,
    "start_time": "2022-10-27T22:44:04.443Z"
   },
   {
    "duration": 354,
    "start_time": "2022-10-27T22:44:07.306Z"
   },
   {
    "duration": 659,
    "start_time": "2022-10-27T22:44:07.662Z"
   },
   {
    "duration": 355,
    "start_time": "2022-10-27T22:44:08.322Z"
   },
   {
    "duration": 432,
    "start_time": "2022-10-27T22:44:08.679Z"
   },
   {
    "duration": 4,
    "start_time": "2022-10-27T22:44:20.467Z"
   },
   {
    "duration": 19,
    "start_time": "2022-10-27T22:44:22.664Z"
   },
   {
    "duration": 6,
    "start_time": "2022-10-27T22:44:48.488Z"
   },
   {
    "duration": 13,
    "start_time": "2022-10-27T22:45:05.039Z"
   },
   {
    "duration": 716,
    "start_time": "2022-10-27T22:45:30.672Z"
   },
   {
    "duration": 732,
    "start_time": "2022-10-27T22:45:38.887Z"
   },
   {
    "duration": 46,
    "start_time": "2022-10-27T22:45:54.071Z"
   },
   {
    "duration": 5,
    "start_time": "2022-10-27T22:46:17.100Z"
   },
   {
    "duration": 5,
    "start_time": "2022-10-27T22:46:20.540Z"
   },
   {
    "duration": 5,
    "start_time": "2022-10-27T22:46:32.179Z"
   },
   {
    "duration": 6,
    "start_time": "2022-10-27T22:46:40.692Z"
   },
   {
    "duration": 5,
    "start_time": "2022-10-27T22:46:48.512Z"
   },
   {
    "duration": 4,
    "start_time": "2022-10-27T22:47:05.023Z"
   },
   {
    "duration": 4,
    "start_time": "2022-10-27T22:47:10.848Z"
   },
   {
    "duration": 646,
    "start_time": "2022-10-27T22:47:11.527Z"
   },
   {
    "duration": 18,
    "start_time": "2022-10-27T22:47:12.175Z"
   },
   {
    "duration": 29,
    "start_time": "2022-10-27T22:47:12.195Z"
   },
   {
    "duration": 18,
    "start_time": "2022-10-27T22:47:12.440Z"
   },
   {
    "duration": 12,
    "start_time": "2022-10-27T22:47:12.763Z"
   },
   {
    "duration": 19,
    "start_time": "2022-10-27T22:47:13.075Z"
   },
   {
    "duration": 17,
    "start_time": "2022-10-27T22:47:13.388Z"
   },
   {
    "duration": 9,
    "start_time": "2022-10-27T22:47:14.009Z"
   },
   {
    "duration": 7,
    "start_time": "2022-10-27T22:47:15.030Z"
   },
   {
    "duration": 15,
    "start_time": "2022-10-27T22:47:16.431Z"
   },
   {
    "duration": 8,
    "start_time": "2022-10-27T22:47:16.766Z"
   },
   {
    "duration": 11,
    "start_time": "2022-10-27T22:47:17.377Z"
   },
   {
    "duration": 16,
    "start_time": "2022-10-27T22:47:17.713Z"
   },
   {
    "duration": 39,
    "start_time": "2022-10-27T22:47:18.333Z"
   },
   {
    "duration": 2677,
    "start_time": "2022-10-27T22:47:20.297Z"
   },
   {
    "duration": 2674,
    "start_time": "2022-10-27T22:47:22.976Z"
   },
   {
    "duration": 2828,
    "start_time": "2022-10-27T22:47:25.652Z"
   },
   {
    "duration": 328,
    "start_time": "2022-10-27T22:47:28.483Z"
   },
   {
    "duration": 701,
    "start_time": "2022-10-27T22:47:28.813Z"
   },
   {
    "duration": 388,
    "start_time": "2022-10-27T22:47:29.516Z"
   },
   {
    "duration": 390,
    "start_time": "2022-10-27T22:47:29.906Z"
   },
   {
    "duration": 5,
    "start_time": "2022-10-27T22:47:30.298Z"
   },
   {
    "duration": 5,
    "start_time": "2022-10-27T22:47:32.233Z"
   },
   {
    "duration": 5,
    "start_time": "2022-10-27T22:47:38.524Z"
   },
   {
    "duration": 5,
    "start_time": "2022-10-27T22:47:51.057Z"
   },
   {
    "duration": 6,
    "start_time": "2022-10-27T22:48:03.801Z"
   },
   {
    "duration": 6,
    "start_time": "2022-10-27T22:48:12.961Z"
   },
   {
    "duration": 5,
    "start_time": "2022-10-27T22:50:37.047Z"
   },
   {
    "duration": 5,
    "start_time": "2022-10-27T22:51:30.399Z"
   },
   {
    "duration": 657,
    "start_time": "2022-10-27T22:52:06.616Z"
   },
   {
    "duration": 659,
    "start_time": "2022-10-27T22:52:18.727Z"
   },
   {
    "duration": 5,
    "start_time": "2022-10-27T22:52:34.409Z"
   },
   {
    "duration": 4,
    "start_time": "2022-10-27T22:59:29.486Z"
   },
   {
    "duration": 667,
    "start_time": "2022-10-27T22:59:30.115Z"
   },
   {
    "duration": 20,
    "start_time": "2022-10-27T22:59:30.784Z"
   },
   {
    "duration": 27,
    "start_time": "2022-10-27T22:59:30.805Z"
   },
   {
    "duration": 20,
    "start_time": "2022-10-27T22:59:31.107Z"
   },
   {
    "duration": 12,
    "start_time": "2022-10-27T22:59:31.438Z"
   },
   {
    "duration": 19,
    "start_time": "2022-10-27T22:59:31.759Z"
   },
   {
    "duration": 17,
    "start_time": "2022-10-27T22:59:32.079Z"
   },
   {
    "duration": 8,
    "start_time": "2022-10-27T22:59:32.764Z"
   },
   {
    "duration": 6,
    "start_time": "2022-10-27T22:59:33.797Z"
   },
   {
    "duration": 14,
    "start_time": "2022-10-27T22:59:35.223Z"
   },
   {
    "duration": 9,
    "start_time": "2022-10-27T22:59:35.557Z"
   },
   {
    "duration": 15,
    "start_time": "2022-10-27T22:59:36.255Z"
   },
   {
    "duration": 18,
    "start_time": "2022-10-27T22:59:36.589Z"
   },
   {
    "duration": 36,
    "start_time": "2022-10-27T22:59:37.323Z"
   },
   {
    "duration": 2460,
    "start_time": "2022-10-27T22:59:39.296Z"
   },
   {
    "duration": 2775,
    "start_time": "2022-10-27T22:59:41.758Z"
   },
   {
    "duration": 2811,
    "start_time": "2022-10-27T22:59:44.534Z"
   },
   {
    "duration": 360,
    "start_time": "2022-10-27T22:59:47.347Z"
   },
   {
    "duration": 337,
    "start_time": "2022-10-27T22:59:47.709Z"
   },
   {
    "duration": 322,
    "start_time": "2022-10-27T22:59:48.048Z"
   },
   {
    "duration": 412,
    "start_time": "2022-10-27T22:59:48.372Z"
   },
   {
    "duration": 4,
    "start_time": "2022-10-27T22:59:48.786Z"
   },
   {
    "duration": 5,
    "start_time": "2022-10-27T22:59:48.792Z"
   },
   {
    "duration": 5,
    "start_time": "2022-10-27T22:59:48.799Z"
   },
   {
    "duration": 23,
    "start_time": "2022-10-27T22:59:48.805Z"
   },
   {
    "duration": 177,
    "start_time": "2022-10-27T22:59:58.805Z"
   },
   {
    "duration": 150,
    "start_time": "2022-10-27T23:00:07.481Z"
   },
   {
    "duration": 606,
    "start_time": "2022-10-27T23:00:42.463Z"
   },
   {
    "duration": 9,
    "start_time": "2022-10-27T23:07:22.163Z"
   },
   {
    "duration": 8,
    "start_time": "2022-10-27T23:08:24.106Z"
   },
   {
    "duration": 4,
    "start_time": "2022-10-27T23:14:13.016Z"
   },
   {
    "duration": 662,
    "start_time": "2022-10-27T23:14:13.890Z"
   },
   {
    "duration": 21,
    "start_time": "2022-10-27T23:14:14.554Z"
   },
   {
    "duration": 18,
    "start_time": "2022-10-27T23:14:14.597Z"
   },
   {
    "duration": 19,
    "start_time": "2022-10-27T23:14:14.963Z"
   },
   {
    "duration": 12,
    "start_time": "2022-10-27T23:14:15.311Z"
   },
   {
    "duration": 22,
    "start_time": "2022-10-27T23:14:15.657Z"
   },
   {
    "duration": 17,
    "start_time": "2022-10-27T23:14:16.013Z"
   },
   {
    "duration": 8,
    "start_time": "2022-10-27T23:14:16.695Z"
   },
   {
    "duration": 5,
    "start_time": "2022-10-27T23:14:17.786Z"
   },
   {
    "duration": 14,
    "start_time": "2022-10-27T23:14:19.226Z"
   },
   {
    "duration": 9,
    "start_time": "2022-10-27T23:14:19.619Z"
   },
   {
    "duration": 15,
    "start_time": "2022-10-27T23:14:20.357Z"
   },
   {
    "duration": 17,
    "start_time": "2022-10-27T23:14:20.752Z"
   },
   {
    "duration": 34,
    "start_time": "2022-10-27T23:14:21.509Z"
   },
   {
    "duration": 2487,
    "start_time": "2022-10-27T23:14:23.480Z"
   },
   {
    "duration": 2832,
    "start_time": "2022-10-27T23:14:25.969Z"
   },
   {
    "duration": 2646,
    "start_time": "2022-10-27T23:14:28.803Z"
   },
   {
    "duration": 660,
    "start_time": "2022-10-27T23:14:31.452Z"
   },
   {
    "duration": 345,
    "start_time": "2022-10-27T23:14:32.113Z"
   },
   {
    "duration": 409,
    "start_time": "2022-10-27T23:14:32.460Z"
   },
   {
    "duration": 417,
    "start_time": "2022-10-27T23:14:32.870Z"
   },
   {
    "duration": 5,
    "start_time": "2022-10-27T23:14:33.288Z"
   },
   {
    "duration": 5,
    "start_time": "2022-10-27T23:14:33.295Z"
   },
   {
    "duration": 8,
    "start_time": "2022-10-27T23:14:33.301Z"
   },
   {
    "duration": 273,
    "start_time": "2022-10-27T23:14:33.322Z"
   },
   {
    "duration": 35,
    "start_time": "2022-10-27T23:18:06.943Z"
   },
   {
    "duration": 4,
    "start_time": "2022-10-27T23:18:33.484Z"
   },
   {
    "duration": 662,
    "start_time": "2022-10-27T23:18:34.132Z"
   },
   {
    "duration": 21,
    "start_time": "2022-10-27T23:18:34.801Z"
   },
   {
    "duration": 16,
    "start_time": "2022-10-27T23:18:35.171Z"
   },
   {
    "duration": 19,
    "start_time": "2022-10-27T23:18:35.450Z"
   },
   {
    "duration": 12,
    "start_time": "2022-10-27T23:18:35.775Z"
   },
   {
    "duration": 19,
    "start_time": "2022-10-27T23:18:36.084Z"
   },
   {
    "duration": 16,
    "start_time": "2022-10-27T23:18:36.405Z"
   },
   {
    "duration": 8,
    "start_time": "2022-10-27T23:18:37.057Z"
   },
   {
    "duration": 6,
    "start_time": "2022-10-27T23:18:38.057Z"
   },
   {
    "duration": 16,
    "start_time": "2022-10-27T23:18:39.360Z"
   },
   {
    "duration": 8,
    "start_time": "2022-10-27T23:18:39.684Z"
   },
   {
    "duration": 11,
    "start_time": "2022-10-27T23:18:40.361Z"
   },
   {
    "duration": 17,
    "start_time": "2022-10-27T23:18:40.695Z"
   },
   {
    "duration": 40,
    "start_time": "2022-10-27T23:18:41.390Z"
   },
   {
    "duration": 2681,
    "start_time": "2022-10-27T23:18:43.012Z"
   },
   {
    "duration": 2670,
    "start_time": "2022-10-27T23:18:45.695Z"
   },
   {
    "duration": 2828,
    "start_time": "2022-10-27T23:18:48.367Z"
   },
   {
    "duration": 325,
    "start_time": "2022-10-27T23:18:51.197Z"
   },
   {
    "duration": 688,
    "start_time": "2022-10-27T23:18:51.523Z"
   },
   {
    "duration": 352,
    "start_time": "2022-10-27T23:18:52.213Z"
   },
   {
    "duration": 422,
    "start_time": "2022-10-27T23:18:52.567Z"
   },
   {
    "duration": 5,
    "start_time": "2022-10-27T23:18:52.990Z"
   },
   {
    "duration": 15,
    "start_time": "2022-10-27T23:18:52.996Z"
   },
   {
    "duration": 17,
    "start_time": "2022-10-27T23:18:53.013Z"
   },
   {
    "duration": 269,
    "start_time": "2022-10-27T23:18:53.031Z"
   },
   {
    "duration": 34,
    "start_time": "2022-10-27T23:18:57.334Z"
   },
   {
    "duration": 35,
    "start_time": "2022-10-27T23:19:23.808Z"
   },
   {
    "duration": 9,
    "start_time": "2022-10-27T23:20:39.476Z"
   },
   {
    "duration": 15,
    "start_time": "2022-10-27T23:20:45.093Z"
   },
   {
    "duration": 34,
    "start_time": "2022-10-27T23:21:14.066Z"
   },
   {
    "duration": 23,
    "start_time": "2022-10-27T23:21:57.465Z"
   },
   {
    "duration": 14,
    "start_time": "2022-10-27T23:23:40.337Z"
   },
   {
    "duration": 15,
    "start_time": "2022-10-27T23:24:50.456Z"
   },
   {
    "duration": 16,
    "start_time": "2022-10-27T23:25:08.073Z"
   },
   {
    "duration": 40,
    "start_time": "2022-10-27T23:26:45.919Z"
   },
   {
    "duration": 1587,
    "start_time": "2022-10-28T05:38:23.409Z"
   },
   {
    "duration": 3056,
    "start_time": "2022-10-28T05:38:24.998Z"
   },
   {
    "duration": 26,
    "start_time": "2022-10-28T05:38:28.056Z"
   },
   {
    "duration": 22,
    "start_time": "2022-10-28T05:38:28.083Z"
   },
   {
    "duration": 20,
    "start_time": "2022-10-28T05:38:30.472Z"
   },
   {
    "duration": 12,
    "start_time": "2022-10-28T05:38:31.013Z"
   },
   {
    "duration": 21,
    "start_time": "2022-10-28T05:38:31.684Z"
   },
   {
    "duration": 18,
    "start_time": "2022-10-28T05:38:32.130Z"
   },
   {
    "duration": 9,
    "start_time": "2022-10-28T05:38:33.131Z"
   },
   {
    "duration": 8,
    "start_time": "2022-10-28T05:38:34.788Z"
   },
   {
    "duration": 14,
    "start_time": "2022-10-28T05:38:36.541Z"
   },
   {
    "duration": 8,
    "start_time": "2022-10-28T05:38:36.973Z"
   },
   {
    "duration": 14,
    "start_time": "2022-10-28T05:38:37.842Z"
   },
   {
    "duration": 16,
    "start_time": "2022-10-28T05:38:38.228Z"
   },
   {
    "duration": 39,
    "start_time": "2022-10-28T05:38:38.983Z"
   },
   {
    "duration": 2611,
    "start_time": "2022-10-28T05:38:41.087Z"
   },
   {
    "duration": 2707,
    "start_time": "2022-10-28T05:38:43.700Z"
   },
   {
    "duration": 2877,
    "start_time": "2022-10-28T05:38:46.408Z"
   },
   {
    "duration": 778,
    "start_time": "2022-10-28T05:38:56.803Z"
   },
   {
    "duration": 357,
    "start_time": "2022-10-28T05:38:58.020Z"
   },
   {
    "duration": 469,
    "start_time": "2022-10-28T05:38:59.852Z"
   },
   {
    "duration": 437,
    "start_time": "2022-10-28T05:39:00.425Z"
   },
   {
    "duration": 6,
    "start_time": "2022-10-28T05:39:03.303Z"
   },
   {
    "duration": 6,
    "start_time": "2022-10-28T05:39:03.977Z"
   },
   {
    "duration": 5,
    "start_time": "2022-10-28T05:39:04.543Z"
   },
   {
    "duration": 292,
    "start_time": "2022-10-28T05:39:05.016Z"
   },
   {
    "duration": 28,
    "start_time": "2022-10-28T05:39:06.378Z"
   },
   {
    "duration": 7,
    "start_time": "2022-10-28T05:39:53.587Z"
   },
   {
    "duration": 570,
    "start_time": "2022-10-28T05:40:22.024Z"
   },
   {
    "duration": 273,
    "start_time": "2022-10-28T05:40:34.770Z"
   },
   {
    "duration": 4,
    "start_time": "2022-10-28T05:40:47.233Z"
   },
   {
    "duration": 689,
    "start_time": "2022-10-28T05:40:47.906Z"
   },
   {
    "duration": 21,
    "start_time": "2022-10-28T05:40:48.597Z"
   },
   {
    "duration": 30,
    "start_time": "2022-10-28T05:40:48.619Z"
   },
   {
    "duration": 22,
    "start_time": "2022-10-28T05:40:48.818Z"
   },
   {
    "duration": 14,
    "start_time": "2022-10-28T05:40:49.123Z"
   },
   {
    "duration": 21,
    "start_time": "2022-10-28T05:40:49.458Z"
   },
   {
    "duration": 18,
    "start_time": "2022-10-28T05:40:49.766Z"
   },
   {
    "duration": 9,
    "start_time": "2022-10-28T05:40:50.352Z"
   },
   {
    "duration": 7,
    "start_time": "2022-10-28T05:40:51.340Z"
   },
   {
    "duration": 15,
    "start_time": "2022-10-28T05:40:53.130Z"
   },
   {
    "duration": 11,
    "start_time": "2022-10-28T05:40:53.465Z"
   },
   {
    "duration": 15,
    "start_time": "2022-10-28T05:40:54.139Z"
   },
   {
    "duration": 17,
    "start_time": "2022-10-28T05:40:54.476Z"
   },
   {
    "duration": 43,
    "start_time": "2022-10-28T05:40:55.294Z"
   },
   {
    "duration": 2727,
    "start_time": "2022-10-28T05:40:57.150Z"
   },
   {
    "duration": 2817,
    "start_time": "2022-10-28T05:40:59.879Z"
   },
   {
    "duration": 2834,
    "start_time": "2022-10-28T05:41:02.698Z"
   },
   {
    "duration": 587,
    "start_time": "2022-10-28T05:41:05.539Z"
   },
   {
    "duration": 361,
    "start_time": "2022-10-28T05:41:06.128Z"
   },
   {
    "duration": 398,
    "start_time": "2022-10-28T05:41:06.490Z"
   },
   {
    "duration": 511,
    "start_time": "2022-10-28T05:41:06.889Z"
   },
   {
    "duration": 11,
    "start_time": "2022-10-28T05:41:07.403Z"
   },
   {
    "duration": 300,
    "start_time": "2022-10-28T05:41:07.416Z"
   },
   {
    "duration": 20,
    "start_time": "2022-10-28T05:41:13.291Z"
   },
   {
    "duration": 5,
    "start_time": "2022-10-28T05:43:51.139Z"
   },
   {
    "duration": 21,
    "start_time": "2022-10-28T05:44:04.583Z"
   },
   {
    "duration": 14,
    "start_time": "2022-10-28T05:44:21.549Z"
   },
   {
    "duration": 5,
    "start_time": "2022-10-28T05:46:06.352Z"
   },
   {
    "duration": 693,
    "start_time": "2022-10-28T05:46:07.192Z"
   },
   {
    "duration": 20,
    "start_time": "2022-10-28T05:46:07.888Z"
   },
   {
    "duration": 17,
    "start_time": "2022-10-28T05:46:07.976Z"
   },
   {
    "duration": 19,
    "start_time": "2022-10-28T05:46:08.412Z"
   },
   {
    "duration": 13,
    "start_time": "2022-10-28T05:46:08.886Z"
   },
   {
    "duration": 22,
    "start_time": "2022-10-28T05:46:09.324Z"
   },
   {
    "duration": 18,
    "start_time": "2022-10-28T05:46:09.761Z"
   },
   {
    "duration": 8,
    "start_time": "2022-10-28T05:46:12.421Z"
   },
   {
    "duration": 16,
    "start_time": "2022-10-28T05:49:19.201Z"
   },
   {
    "duration": 8,
    "start_time": "2022-10-28T05:49:39.115Z"
   },
   {
    "duration": 11,
    "start_time": "2022-10-28T05:49:50.316Z"
   },
   {
    "duration": 20,
    "start_time": "2022-10-28T05:49:50.788Z"
   },
   {
    "duration": 38,
    "start_time": "2022-10-28T05:50:04.048Z"
   },
   {
    "duration": 5,
    "start_time": "2022-10-28T05:50:32.298Z"
   },
   {
    "duration": 704,
    "start_time": "2022-10-28T05:50:33.075Z"
   },
   {
    "duration": 21,
    "start_time": "2022-10-28T05:50:33.781Z"
   },
   {
    "duration": 18,
    "start_time": "2022-10-28T05:50:33.851Z"
   },
   {
    "duration": 22,
    "start_time": "2022-10-28T05:50:34.226Z"
   },
   {
    "duration": 14,
    "start_time": "2022-10-28T05:50:34.713Z"
   },
   {
    "duration": 22,
    "start_time": "2022-10-28T05:50:35.159Z"
   },
   {
    "duration": 19,
    "start_time": "2022-10-28T05:50:35.595Z"
   },
   {
    "duration": 9,
    "start_time": "2022-10-28T05:50:36.744Z"
   },
   {
    "duration": 7,
    "start_time": "2022-10-28T05:50:38.588Z"
   },
   {
    "duration": 15,
    "start_time": "2022-10-28T05:50:50.245Z"
   },
   {
    "duration": 10,
    "start_time": "2022-10-28T05:50:54.492Z"
   },
   {
    "duration": 11,
    "start_time": "2022-10-28T05:50:56.428Z"
   },
   {
    "duration": 20,
    "start_time": "2022-10-28T05:50:57.297Z"
   },
   {
    "duration": 11,
    "start_time": "2022-10-28T05:51:32.908Z"
   },
   {
    "duration": 4,
    "start_time": "2022-10-28T05:55:14.170Z"
   },
   {
    "duration": 751,
    "start_time": "2022-10-28T05:55:14.826Z"
   },
   {
    "duration": 20,
    "start_time": "2022-10-28T05:55:15.579Z"
   },
   {
    "duration": 18,
    "start_time": "2022-10-28T05:55:15.600Z"
   },
   {
    "duration": 22,
    "start_time": "2022-10-28T05:55:15.787Z"
   },
   {
    "duration": 14,
    "start_time": "2022-10-28T05:55:16.610Z"
   },
   {
    "duration": 20,
    "start_time": "2022-10-28T05:55:16.928Z"
   },
   {
    "duration": 25,
    "start_time": "2022-10-28T05:55:17.284Z"
   },
   {
    "duration": 10,
    "start_time": "2022-10-28T05:55:18.041Z"
   },
   {
    "duration": 7,
    "start_time": "2022-10-28T05:55:19.198Z"
   },
   {
    "duration": 17,
    "start_time": "2022-10-28T05:55:20.512Z"
   },
   {
    "duration": 9,
    "start_time": "2022-10-28T05:55:20.932Z"
   },
   {
    "duration": 9,
    "start_time": "2022-10-28T05:56:14.656Z"
   },
   {
    "duration": 16,
    "start_time": "2022-10-28T05:57:55.213Z"
   },
   {
    "duration": 26,
    "start_time": "2022-10-28T05:58:10.749Z"
   },
   {
    "duration": 2685,
    "start_time": "2022-10-28T05:58:35.321Z"
   },
   {
    "duration": 2936,
    "start_time": "2022-10-28T05:58:38.008Z"
   },
   {
    "duration": 2918,
    "start_time": "2022-10-28T05:58:40.946Z"
   },
   {
    "duration": 361,
    "start_time": "2022-10-28T05:58:43.866Z"
   },
   {
    "duration": 389,
    "start_time": "2022-10-28T05:58:44.229Z"
   },
   {
    "duration": 378,
    "start_time": "2022-10-28T05:58:44.619Z"
   },
   {
    "duration": 421,
    "start_time": "2022-10-28T05:58:44.998Z"
   },
   {
    "duration": 17,
    "start_time": "2022-10-28T05:58:45.421Z"
   },
   {
    "duration": 577,
    "start_time": "2022-10-28T05:58:45.441Z"
   },
   {
    "duration": 32,
    "start_time": "2022-10-28T05:58:46.020Z"
   },
   {
    "duration": 12,
    "start_time": "2022-10-28T05:58:55.552Z"
   },
   {
    "duration": 5,
    "start_time": "2022-10-28T05:59:08.876Z"
   },
   {
    "duration": 14,
    "start_time": "2022-10-28T05:59:09.777Z"
   },
   {
    "duration": 6,
    "start_time": "2022-10-28T06:01:07.200Z"
   },
   {
    "duration": 19,
    "start_time": "2022-10-28T06:01:08.000Z"
   },
   {
    "duration": 7,
    "start_time": "2022-10-28T06:08:18.971Z"
   },
   {
    "duration": 6,
    "start_time": "2022-10-28T06:09:00.916Z"
   },
   {
    "duration": 14,
    "start_time": "2022-10-28T06:09:18.160Z"
   },
   {
    "duration": 13,
    "start_time": "2022-10-28T06:10:01.826Z"
   },
   {
    "duration": 7,
    "start_time": "2022-10-28T06:11:32.386Z"
   },
   {
    "duration": 17,
    "start_time": "2022-10-28T06:12:55.921Z"
   },
   {
    "duration": 18,
    "start_time": "2022-10-28T06:13:14.664Z"
   },
   {
    "duration": 13,
    "start_time": "2022-10-28T06:13:32.402Z"
   },
   {
    "duration": 5,
    "start_time": "2022-10-28T06:13:50.801Z"
   },
   {
    "duration": 674,
    "start_time": "2022-10-28T06:13:51.493Z"
   },
   {
    "duration": 30,
    "start_time": "2022-10-28T06:13:52.169Z"
   },
   {
    "duration": 41,
    "start_time": "2022-10-28T06:13:52.201Z"
   },
   {
    "duration": 34,
    "start_time": "2022-10-28T06:13:52.527Z"
   },
   {
    "duration": 20,
    "start_time": "2022-10-28T06:13:52.862Z"
   },
   {
    "duration": 31,
    "start_time": "2022-10-28T06:13:53.192Z"
   },
   {
    "duration": 18,
    "start_time": "2022-10-28T06:13:53.544Z"
   },
   {
    "duration": 8,
    "start_time": "2022-10-28T06:13:54.564Z"
   },
   {
    "duration": 9,
    "start_time": "2022-10-28T06:13:55.742Z"
   },
   {
    "duration": 14,
    "start_time": "2022-10-28T06:13:56.901Z"
   },
   {
    "duration": 13,
    "start_time": "2022-10-28T06:13:57.308Z"
   },
   {
    "duration": 20,
    "start_time": "2022-10-28T06:13:58.126Z"
   },
   {
    "duration": 26,
    "start_time": "2022-10-28T06:13:58.471Z"
   },
   {
    "duration": 2900,
    "start_time": "2022-10-28T06:14:00.491Z"
   },
   {
    "duration": 2973,
    "start_time": "2022-10-28T06:14:03.393Z"
   },
   {
    "duration": 3057,
    "start_time": "2022-10-28T06:14:06.369Z"
   },
   {
    "duration": 388,
    "start_time": "2022-10-28T06:14:09.429Z"
   },
   {
    "duration": 381,
    "start_time": "2022-10-28T06:14:09.818Z"
   },
   {
    "duration": 425,
    "start_time": "2022-10-28T06:14:10.201Z"
   },
   {
    "duration": 494,
    "start_time": "2022-10-28T06:14:10.628Z"
   },
   {
    "duration": 8,
    "start_time": "2022-10-28T06:14:11.123Z"
   },
   {
    "duration": 631,
    "start_time": "2022-10-28T06:14:11.139Z"
   },
   {
    "duration": 25,
    "start_time": "2022-10-28T06:14:11.772Z"
   },
   {
    "duration": 20,
    "start_time": "2022-10-28T06:14:11.802Z"
   },
   {
    "duration": 14,
    "start_time": "2022-10-28T06:14:12.542Z"
   },
   {
    "duration": 17,
    "start_time": "2022-10-28T06:14:13.954Z"
   },
   {
    "duration": 10,
    "start_time": "2022-10-28T06:14:22.157Z"
   },
   {
    "duration": 15,
    "start_time": "2022-10-28T06:17:29.073Z"
   },
   {
    "duration": 14,
    "start_time": "2022-10-28T06:19:13.596Z"
   },
   {
    "duration": 11,
    "start_time": "2022-10-28T06:19:35.029Z"
   },
   {
    "duration": 124,
    "start_time": "2022-10-28T06:20:40.415Z"
   },
   {
    "duration": 4,
    "start_time": "2022-10-28T06:20:51.493Z"
   },
   {
    "duration": 771,
    "start_time": "2022-10-28T06:20:52.202Z"
   },
   {
    "duration": 23,
    "start_time": "2022-10-28T06:20:52.975Z"
   },
   {
    "duration": 18,
    "start_time": "2022-10-28T06:20:53.000Z"
   },
   {
    "duration": 20,
    "start_time": "2022-10-28T06:20:53.147Z"
   },
   {
    "duration": 14,
    "start_time": "2022-10-28T06:20:53.497Z"
   },
   {
    "duration": 20,
    "start_time": "2022-10-28T06:20:53.836Z"
   },
   {
    "duration": 18,
    "start_time": "2022-10-28T06:20:54.160Z"
   },
   {
    "duration": 9,
    "start_time": "2022-10-28T06:20:54.850Z"
   },
   {
    "duration": 9,
    "start_time": "2022-10-28T06:20:55.854Z"
   },
   {
    "duration": 16,
    "start_time": "2022-10-28T06:20:56.947Z"
   },
   {
    "duration": 15,
    "start_time": "2022-10-28T06:20:57.337Z"
   },
   {
    "duration": 22,
    "start_time": "2022-10-28T06:20:58.168Z"
   },
   {
    "duration": 39,
    "start_time": "2022-10-28T06:20:58.625Z"
   },
   {
    "duration": 2856,
    "start_time": "2022-10-28T06:21:00.720Z"
   },
   {
    "duration": 2969,
    "start_time": "2022-10-28T06:21:03.578Z"
   },
   {
    "duration": 3066,
    "start_time": "2022-10-28T06:21:06.549Z"
   },
   {
    "duration": 396,
    "start_time": "2022-10-28T06:21:09.619Z"
   },
   {
    "duration": 386,
    "start_time": "2022-10-28T06:21:10.016Z"
   },
   {
    "duration": 416,
    "start_time": "2022-10-28T06:21:10.403Z"
   },
   {
    "duration": 703,
    "start_time": "2022-10-28T06:21:10.820Z"
   },
   {
    "duration": 17,
    "start_time": "2022-10-28T06:21:11.524Z"
   },
   {
    "duration": 332,
    "start_time": "2022-10-28T06:21:11.542Z"
   },
   {
    "duration": 22,
    "start_time": "2022-10-28T06:21:11.877Z"
   },
   {
    "duration": 5,
    "start_time": "2022-10-28T06:21:14.655Z"
   },
   {
    "duration": 15,
    "start_time": "2022-10-28T06:21:15.605Z"
   },
   {
    "duration": 17,
    "start_time": "2022-10-28T06:21:17.245Z"
   },
   {
    "duration": 13,
    "start_time": "2022-10-28T06:21:17.963Z"
   },
   {
    "duration": 5,
    "start_time": "2022-10-28T06:23:02.708Z"
   },
   {
    "duration": 681,
    "start_time": "2022-10-28T06:23:03.401Z"
   },
   {
    "duration": 21,
    "start_time": "2022-10-28T06:23:04.084Z"
   },
   {
    "duration": 17,
    "start_time": "2022-10-28T06:23:04.141Z"
   },
   {
    "duration": 21,
    "start_time": "2022-10-28T06:23:04.470Z"
   },
   {
    "duration": 18,
    "start_time": "2022-10-28T06:23:04.872Z"
   },
   {
    "duration": 21,
    "start_time": "2022-10-28T06:23:05.216Z"
   },
   {
    "duration": 21,
    "start_time": "2022-10-28T06:23:05.604Z"
   },
   {
    "duration": 9,
    "start_time": "2022-10-28T06:23:06.352Z"
   },
   {
    "duration": 10,
    "start_time": "2022-10-28T06:23:07.620Z"
   },
   {
    "duration": 22,
    "start_time": "2022-10-28T06:23:08.789Z"
   },
   {
    "duration": 13,
    "start_time": "2022-10-28T06:23:09.172Z"
   },
   {
    "duration": 18,
    "start_time": "2022-10-28T06:23:09.997Z"
   },
   {
    "duration": 27,
    "start_time": "2022-10-28T06:23:10.418Z"
   },
   {
    "duration": 2732,
    "start_time": "2022-10-28T06:23:12.930Z"
   },
   {
    "duration": 3101,
    "start_time": "2022-10-28T06:23:15.665Z"
   },
   {
    "duration": 2956,
    "start_time": "2022-10-28T06:23:18.767Z"
   },
   {
    "duration": 365,
    "start_time": "2022-10-28T06:23:21.725Z"
   },
   {
    "duration": 653,
    "start_time": "2022-10-28T06:23:22.092Z"
   },
   {
    "duration": 356,
    "start_time": "2022-10-28T06:23:22.747Z"
   },
   {
    "duration": 419,
    "start_time": "2022-10-28T06:23:23.104Z"
   },
   {
    "duration": 16,
    "start_time": "2022-10-28T06:23:23.524Z"
   },
   {
    "duration": 303,
    "start_time": "2022-10-28T06:23:23.543Z"
   },
   {
    "duration": 26,
    "start_time": "2022-10-28T06:23:23.847Z"
   },
   {
    "duration": 5,
    "start_time": "2022-10-28T06:23:33.457Z"
   },
   {
    "duration": 6,
    "start_time": "2022-10-28T06:23:34.111Z"
   },
   {
    "duration": 15,
    "start_time": "2022-10-28T06:23:46.508Z"
   },
   {
    "duration": 14,
    "start_time": "2022-10-28T06:23:51.687Z"
   },
   {
    "duration": 13,
    "start_time": "2022-10-28T06:23:52.374Z"
   },
   {
    "duration": 13,
    "start_time": "2022-10-28T06:24:17.744Z"
   },
   {
    "duration": 13,
    "start_time": "2022-10-28T06:24:28.587Z"
   },
   {
    "duration": 5,
    "start_time": "2022-10-28T06:28:25.186Z"
   },
   {
    "duration": 702,
    "start_time": "2022-10-28T06:28:26.520Z"
   },
   {
    "duration": 26,
    "start_time": "2022-10-28T06:28:27.225Z"
   },
   {
    "duration": 25,
    "start_time": "2022-10-28T06:28:27.253Z"
   },
   {
    "duration": 26,
    "start_time": "2022-10-28T06:28:27.390Z"
   },
   {
    "duration": 13,
    "start_time": "2022-10-28T06:28:27.668Z"
   },
   {
    "duration": 21,
    "start_time": "2022-10-28T06:28:28.019Z"
   },
   {
    "duration": 19,
    "start_time": "2022-10-28T06:28:28.308Z"
   },
   {
    "duration": 8,
    "start_time": "2022-10-28T06:28:28.920Z"
   },
   {
    "duration": 8,
    "start_time": "2022-10-28T06:28:29.855Z"
   },
   {
    "duration": 18,
    "start_time": "2022-10-28T06:28:30.880Z"
   },
   {
    "duration": 10,
    "start_time": "2022-10-28T06:28:31.221Z"
   },
   {
    "duration": 17,
    "start_time": "2022-10-28T06:28:31.927Z"
   },
   {
    "duration": 25,
    "start_time": "2022-10-28T06:28:32.299Z"
   },
   {
    "duration": 2857,
    "start_time": "2022-10-28T06:28:34.424Z"
   },
   {
    "duration": 3000,
    "start_time": "2022-10-28T06:28:37.284Z"
   },
   {
    "duration": 3011,
    "start_time": "2022-10-28T06:28:40.286Z"
   },
   {
    "duration": 638,
    "start_time": "2022-10-28T06:28:43.299Z"
   },
   {
    "duration": 378,
    "start_time": "2022-10-28T06:28:43.939Z"
   },
   {
    "duration": 479,
    "start_time": "2022-10-28T06:28:44.320Z"
   },
   {
    "duration": 416,
    "start_time": "2022-10-28T06:28:44.801Z"
   },
   {
    "duration": 8,
    "start_time": "2022-10-28T06:28:45.219Z"
   },
   {
    "duration": 296,
    "start_time": "2022-10-28T06:28:45.238Z"
   },
   {
    "duration": 21,
    "start_time": "2022-10-28T06:28:45.539Z"
   },
   {
    "duration": 6,
    "start_time": "2022-10-28T06:28:45.561Z"
   },
   {
    "duration": 16,
    "start_time": "2022-10-28T06:28:45.568Z"
   },
   {
    "duration": 16,
    "start_time": "2022-10-28T06:28:58.289Z"
   },
   {
    "duration": 13,
    "start_time": "2022-10-28T06:29:08.069Z"
   },
   {
    "duration": 18,
    "start_time": "2022-10-28T06:42:02.693Z"
   },
   {
    "duration": 13,
    "start_time": "2022-10-28T06:42:05.596Z"
   },
   {
    "duration": 5,
    "start_time": "2022-10-28T06:44:37.801Z"
   },
   {
    "duration": 672,
    "start_time": "2022-10-28T06:44:38.448Z"
   },
   {
    "duration": 24,
    "start_time": "2022-10-28T06:44:39.122Z"
   },
   {
    "duration": 17,
    "start_time": "2022-10-28T06:44:39.148Z"
   },
   {
    "duration": 20,
    "start_time": "2022-10-28T06:44:39.444Z"
   },
   {
    "duration": 13,
    "start_time": "2022-10-28T06:44:39.775Z"
   },
   {
    "duration": 18,
    "start_time": "2022-10-28T06:44:40.173Z"
   },
   {
    "duration": 18,
    "start_time": "2022-10-28T06:44:40.572Z"
   },
   {
    "duration": 8,
    "start_time": "2022-10-28T06:44:41.313Z"
   },
   {
    "duration": 8,
    "start_time": "2022-10-28T06:44:42.409Z"
   },
   {
    "duration": 18,
    "start_time": "2022-10-28T06:44:43.602Z"
   },
   {
    "duration": 11,
    "start_time": "2022-10-28T06:44:43.986Z"
   },
   {
    "duration": 18,
    "start_time": "2022-10-28T06:44:44.741Z"
   },
   {
    "duration": 28,
    "start_time": "2022-10-28T06:44:45.129Z"
   },
   {
    "duration": 2846,
    "start_time": "2022-10-28T06:44:46.957Z"
   },
   {
    "duration": 3016,
    "start_time": "2022-10-28T06:44:49.805Z"
   },
   {
    "duration": 2948,
    "start_time": "2022-10-28T06:44:52.823Z"
   },
   {
    "duration": 384,
    "start_time": "2022-10-28T06:44:55.774Z"
   },
   {
    "duration": 373,
    "start_time": "2022-10-28T06:44:56.160Z"
   },
   {
    "duration": 368,
    "start_time": "2022-10-28T06:44:56.535Z"
   },
   {
    "duration": 473,
    "start_time": "2022-10-28T06:44:56.905Z"
   },
   {
    "duration": 10,
    "start_time": "2022-10-28T06:44:57.381Z"
   },
   {
    "duration": 611,
    "start_time": "2022-10-28T06:44:57.393Z"
   },
   {
    "duration": 34,
    "start_time": "2022-10-28T06:44:58.006Z"
   },
   {
    "duration": 6,
    "start_time": "2022-10-28T06:44:58.041Z"
   },
   {
    "duration": 13,
    "start_time": "2022-10-28T06:44:58.048Z"
   },
   {
    "duration": 9,
    "start_time": "2022-10-28T06:45:05.317Z"
   },
   {
    "duration": 54,
    "start_time": "2022-10-28T06:53:58.459Z"
   },
   {
    "duration": 6,
    "start_time": "2022-10-28T06:54:35.244Z"
   },
   {
    "duration": 15,
    "start_time": "2022-10-28T06:54:37.477Z"
   },
   {
    "duration": 5,
    "start_time": "2022-10-28T06:55:34.404Z"
   },
   {
    "duration": 9,
    "start_time": "2022-10-28T06:55:48.177Z"
   },
   {
    "duration": 4,
    "start_time": "2022-10-28T07:03:50.843Z"
   },
   {
    "duration": 663,
    "start_time": "2022-10-28T07:03:51.627Z"
   },
   {
    "duration": 20,
    "start_time": "2022-10-28T07:03:52.292Z"
   },
   {
    "duration": 17,
    "start_time": "2022-10-28T07:03:52.443Z"
   },
   {
    "duration": 19,
    "start_time": "2022-10-28T07:03:52.805Z"
   },
   {
    "duration": 14,
    "start_time": "2022-10-28T07:03:53.170Z"
   },
   {
    "duration": 20,
    "start_time": "2022-10-28T07:03:53.600Z"
   },
   {
    "duration": 19,
    "start_time": "2022-10-28T07:03:53.967Z"
   },
   {
    "duration": 8,
    "start_time": "2022-10-28T07:03:54.764Z"
   },
   {
    "duration": 8,
    "start_time": "2022-10-28T07:03:55.968Z"
   },
   {
    "duration": 25,
    "start_time": "2022-10-28T07:03:57.139Z"
   },
   {
    "duration": 11,
    "start_time": "2022-10-28T07:03:57.607Z"
   },
   {
    "duration": 19,
    "start_time": "2022-10-28T07:03:58.485Z"
   },
   {
    "duration": 26,
    "start_time": "2022-10-28T07:03:58.894Z"
   },
   {
    "duration": 2771,
    "start_time": "2022-10-28T07:04:01.082Z"
   },
   {
    "duration": 3030,
    "start_time": "2022-10-28T07:04:03.856Z"
   },
   {
    "duration": 2974,
    "start_time": "2022-10-28T07:04:06.888Z"
   },
   {
    "duration": 364,
    "start_time": "2022-10-28T07:04:09.864Z"
   },
   {
    "duration": 375,
    "start_time": "2022-10-28T07:04:10.229Z"
   },
   {
    "duration": 393,
    "start_time": "2022-10-28T07:04:10.606Z"
   },
   {
    "duration": 418,
    "start_time": "2022-10-28T07:04:11.001Z"
   },
   {
    "duration": 7,
    "start_time": "2022-10-28T07:04:11.421Z"
   },
   {
    "duration": 631,
    "start_time": "2022-10-28T07:04:11.438Z"
   },
   {
    "duration": 20,
    "start_time": "2022-10-28T07:04:12.071Z"
   },
   {
    "duration": 6,
    "start_time": "2022-10-28T07:04:16.712Z"
   },
   {
    "duration": 15,
    "start_time": "2022-10-28T07:04:17.364Z"
   },
   {
    "duration": 15,
    "start_time": "2022-10-28T07:04:49.617Z"
   },
   {
    "duration": 25,
    "start_time": "2022-10-28T09:21:55.476Z"
   },
   {
    "duration": 5,
    "start_time": "2022-10-28T09:23:33.832Z"
   },
   {
    "duration": 18,
    "start_time": "2022-10-28T09:23:39.006Z"
   },
   {
    "duration": 5,
    "start_time": "2022-10-28T09:24:41.945Z"
   },
   {
    "duration": 19,
    "start_time": "2022-10-28T09:24:57.232Z"
   },
   {
    "duration": 4,
    "start_time": "2022-10-28T09:25:28.379Z"
   },
   {
    "duration": 16,
    "start_time": "2022-10-28T09:25:39.781Z"
   },
   {
    "duration": 6,
    "start_time": "2022-10-28T09:26:25.335Z"
   },
   {
    "duration": 14611,
    "start_time": "2022-10-28T09:26:30.259Z"
   },
   {
    "duration": 11,
    "start_time": "2022-10-28T09:27:58.736Z"
   },
   {
    "duration": 10,
    "start_time": "2022-10-28T09:28:39.011Z"
   },
   {
    "duration": 2387,
    "start_time": "2022-10-28T09:29:19.226Z"
   },
   {
    "duration": 2415,
    "start_time": "2022-10-28T09:29:33.290Z"
   },
   {
    "duration": 16,
    "start_time": "2022-10-28T10:10:01.740Z"
   },
   {
    "duration": 5,
    "start_time": "2022-10-28T10:11:19.808Z"
   },
   {
    "duration": 16,
    "start_time": "2022-10-28T10:11:24.119Z"
   },
   {
    "duration": 210,
    "start_time": "2022-10-28T10:16:44.995Z"
   },
   {
    "duration": 1578,
    "start_time": "2022-10-28T16:32:55.540Z"
   },
   {
    "duration": 2127,
    "start_time": "2022-10-28T16:32:57.120Z"
   },
   {
    "duration": 22,
    "start_time": "2022-10-28T16:32:59.249Z"
   },
   {
    "duration": 16,
    "start_time": "2022-10-28T16:32:59.273Z"
   },
   {
    "duration": 18,
    "start_time": "2022-10-28T16:32:59.291Z"
   },
   {
    "duration": 15,
    "start_time": "2022-10-28T16:32:59.310Z"
   },
   {
    "duration": 17,
    "start_time": "2022-10-28T16:32:59.327Z"
   },
   {
    "duration": 17,
    "start_time": "2022-10-28T16:32:59.381Z"
   },
   {
    "duration": 9,
    "start_time": "2022-10-28T16:33:00.391Z"
   },
   {
    "duration": 7,
    "start_time": "2022-10-28T16:33:01.753Z"
   },
   {
    "duration": 15,
    "start_time": "2022-10-28T16:33:03.110Z"
   },
   {
    "duration": 10,
    "start_time": "2022-10-28T16:33:03.523Z"
   },
   {
    "duration": 61,
    "start_time": "2022-10-28T16:33:04.378Z"
   },
   {
    "duration": 26,
    "start_time": "2022-10-28T16:33:04.805Z"
   },
   {
    "duration": 2582,
    "start_time": "2022-10-28T16:33:07.091Z"
   },
   {
    "duration": 2686,
    "start_time": "2022-10-28T16:33:09.674Z"
   },
   {
    "duration": 2630,
    "start_time": "2022-10-28T16:33:12.362Z"
   },
   {
    "duration": 547,
    "start_time": "2022-10-28T16:33:14.994Z"
   },
   {
    "duration": 335,
    "start_time": "2022-10-28T16:33:15.543Z"
   },
   {
    "duration": 381,
    "start_time": "2022-10-28T16:33:15.879Z"
   },
   {
    "duration": 403,
    "start_time": "2022-10-28T16:33:16.261Z"
   },
   {
    "duration": 7,
    "start_time": "2022-10-28T16:33:16.666Z"
   },
   {
    "duration": 281,
    "start_time": "2022-10-28T16:33:16.674Z"
   },
   {
    "duration": 44,
    "start_time": "2022-10-28T16:33:23.226Z"
   },
   {
    "duration": 6,
    "start_time": "2022-10-28T16:33:26.668Z"
   },
   {
    "duration": 12,
    "start_time": "2022-10-28T16:33:53.021Z"
   },
   {
    "duration": 9,
    "start_time": "2022-10-28T16:34:13.496Z"
   },
   {
    "duration": 9,
    "start_time": "2022-10-28T16:34:17.480Z"
   },
   {
    "duration": 7,
    "start_time": "2022-10-28T16:38:06.541Z"
   },
   {
    "duration": 7,
    "start_time": "2022-10-28T17:13:32.506Z"
   },
   {
    "duration": 8,
    "start_time": "2022-10-28T17:13:34.482Z"
   },
   {
    "duration": 774,
    "start_time": "2022-10-28T17:13:40.141Z"
   },
   {
    "duration": 199,
    "start_time": "2022-10-28T17:17:49.567Z"
   },
   {
    "duration": 9,
    "start_time": "2022-10-28T17:18:35.647Z"
   },
   {
    "duration": 4,
    "start_time": "2022-10-28T17:19:21.907Z"
   },
   {
    "duration": 11,
    "start_time": "2022-10-28T17:19:29.445Z"
   },
   {
    "duration": 4,
    "start_time": "2022-10-28T17:20:36.668Z"
   },
   {
    "duration": 7430,
    "start_time": "2022-10-28T17:20:38.974Z"
   },
   {
    "duration": 10,
    "start_time": "2022-10-28T17:46:13.165Z"
   },
   {
    "duration": 6500,
    "start_time": "2022-10-28T17:46:42.624Z"
   },
   {
    "duration": 16,
    "start_time": "2022-10-28T18:00:47.148Z"
   },
   {
    "duration": 12,
    "start_time": "2022-10-28T18:00:54.551Z"
   },
   {
    "duration": 24440,
    "start_time": "2022-10-28T18:01:18.743Z"
   },
   {
    "duration": 24094,
    "start_time": "2022-10-28T18:01:57.928Z"
   },
   {
    "duration": 7,
    "start_time": "2022-10-28T18:17:49.967Z"
   },
   {
    "duration": 3446,
    "start_time": "2022-10-28T18:17:50.734Z"
   },
   {
    "duration": 44509,
    "start_time": "2022-10-28T18:17:58.792Z"
   },
   {
    "duration": 2234,
    "start_time": "2022-10-29T00:01:10.610Z"
   },
   {
    "duration": 1309,
    "start_time": "2022-10-29T00:01:12.846Z"
   },
   {
    "duration": 78,
    "start_time": "2022-10-29T00:01:14.157Z"
   },
   {
    "duration": 22,
    "start_time": "2022-10-29T00:01:14.236Z"
   },
   {
    "duration": 77,
    "start_time": "2022-10-29T00:01:14.260Z"
   },
   {
    "duration": 18,
    "start_time": "2022-10-29T00:01:14.338Z"
   },
   {
    "duration": 74,
    "start_time": "2022-10-29T00:01:14.357Z"
   },
   {
    "duration": 19,
    "start_time": "2022-10-29T00:01:14.433Z"
   },
   {
    "duration": 8,
    "start_time": "2022-10-29T00:01:14.454Z"
   },
   {
    "duration": 7,
    "start_time": "2022-10-29T00:01:15.566Z"
   },
   {
    "duration": 21,
    "start_time": "2022-10-29T00:01:16.810Z"
   },
   {
    "duration": 10,
    "start_time": "2022-10-29T00:01:17.190Z"
   },
   {
    "duration": 25,
    "start_time": "2022-10-29T00:01:18.017Z"
   },
   {
    "duration": 31,
    "start_time": "2022-10-29T00:01:18.344Z"
   },
   {
    "duration": 5175,
    "start_time": "2022-10-29T00:01:20.258Z"
   },
   {
    "duration": 5508,
    "start_time": "2022-10-29T00:01:25.435Z"
   },
   {
    "duration": 5509,
    "start_time": "2022-10-29T00:01:30.945Z"
   },
   {
    "duration": 1195,
    "start_time": "2022-10-29T00:01:36.456Z"
   },
   {
    "duration": 707,
    "start_time": "2022-10-29T00:01:37.652Z"
   },
   {
    "duration": 500,
    "start_time": "2022-10-29T00:01:38.361Z"
   },
   {
    "duration": 609,
    "start_time": "2022-10-29T00:01:38.921Z"
   },
   {
    "duration": 8,
    "start_time": "2022-10-29T00:01:39.532Z"
   },
   {
    "duration": 521,
    "start_time": "2022-10-29T00:01:39.541Z"
   },
   {
    "duration": 83,
    "start_time": "2022-10-29T00:01:40.064Z"
   },
   {
    "duration": 6,
    "start_time": "2022-10-29T00:01:40.148Z"
   },
   {
    "duration": 69,
    "start_time": "2022-10-29T00:01:40.155Z"
   },
   {
    "duration": 11,
    "start_time": "2022-10-29T00:01:40.225Z"
   },
   {
    "duration": 6811,
    "start_time": "2022-10-29T00:01:40.237Z"
   },
   {
    "duration": 85410,
    "start_time": "2022-10-29T00:02:59.175Z"
   },
   {
    "duration": 1273,
    "start_time": "2022-10-29T00:06:46.848Z"
   },
   {
    "duration": 3924,
    "start_time": "2022-10-29T00:08:42.821Z"
   },
   {
    "duration": 86436,
    "start_time": "2022-10-29T00:10:46.326Z"
   },
   {
    "duration": 1358,
    "start_time": "2022-10-29T00:12:12.763Z"
   },
   {
    "duration": 182355,
    "start_time": "2022-10-29T00:22:23.666Z"
   },
   {
    "duration": 843,
    "start_time": "2022-10-29T00:31:33.755Z"
   },
   {
    "duration": 982,
    "start_time": "2022-10-29T00:33:59.529Z"
   },
   {
    "duration": 101,
    "start_time": "2022-10-29T00:34:46.828Z"
   },
   {
    "duration": 11,
    "start_time": "2022-10-29T00:34:51.758Z"
   },
   {
    "duration": 11,
    "start_time": "2022-10-29T00:35:45.588Z"
   },
   {
    "duration": 182025,
    "start_time": "2022-10-29T00:37:23.096Z"
   },
   {
    "duration": 21662,
    "start_time": "2022-10-29T00:41:08.410Z"
   },
   {
    "duration": 21582,
    "start_time": "2022-10-29T00:41:56.759Z"
   },
   {
    "duration": 21967,
    "start_time": "2022-10-29T00:42:42.557Z"
   },
   {
    "duration": 21940,
    "start_time": "2022-10-29T00:43:51.708Z"
   },
   {
    "duration": 3,
    "start_time": "2022-10-29T00:47:47.328Z"
   },
   {
    "duration": 3,
    "start_time": "2022-10-29T00:52:16.166Z"
   },
   {
    "duration": 7,
    "start_time": "2022-10-29T00:52:53.315Z"
   },
   {
    "duration": 22282,
    "start_time": "2022-10-29T00:52:57.560Z"
   },
   {
    "duration": 8,
    "start_time": "2022-10-29T00:55:24.698Z"
   },
   {
    "duration": 21661,
    "start_time": "2022-10-29T00:55:50.135Z"
   },
   {
    "duration": 22114,
    "start_time": "2022-10-29T00:56:11.799Z"
   },
   {
    "duration": 5,
    "start_time": "2022-10-29T00:56:33.915Z"
   },
   {
    "duration": 3,
    "start_time": "2022-10-29T00:59:22.468Z"
   },
   {
    "duration": 2298,
    "start_time": "2022-10-29T07:06:33.629Z"
   },
   {
    "duration": 2978,
    "start_time": "2022-10-29T07:06:35.929Z"
   },
   {
    "duration": 26,
    "start_time": "2022-10-29T07:06:38.909Z"
   },
   {
    "duration": 19,
    "start_time": "2022-10-29T07:06:38.937Z"
   },
   {
    "duration": 21,
    "start_time": "2022-10-29T07:06:38.959Z"
   },
   {
    "duration": 21,
    "start_time": "2022-10-29T07:06:38.982Z"
   },
   {
    "duration": 61,
    "start_time": "2022-10-29T07:06:39.005Z"
   },
   {
    "duration": 26,
    "start_time": "2022-10-29T07:06:39.068Z"
   },
   {
    "duration": 12,
    "start_time": "2022-10-29T07:06:39.096Z"
   },
   {
    "duration": 7,
    "start_time": "2022-10-29T07:06:39.110Z"
   },
   {
    "duration": 16,
    "start_time": "2022-10-29T07:06:39.142Z"
   },
   {
    "duration": 11,
    "start_time": "2022-10-29T07:06:39.160Z"
   },
   {
    "duration": 20,
    "start_time": "2022-10-29T07:06:39.173Z"
   },
   {
    "duration": 63,
    "start_time": "2022-10-29T07:06:39.197Z"
   },
   {
    "duration": 2918,
    "start_time": "2022-10-29T07:06:39.261Z"
   },
   {
    "duration": 2870,
    "start_time": "2022-10-29T07:06:42.181Z"
   },
   {
    "duration": 3086,
    "start_time": "2022-10-29T07:06:45.053Z"
   },
   {
    "duration": 620,
    "start_time": "2022-10-29T07:06:48.141Z"
   },
   {
    "duration": 396,
    "start_time": "2022-10-29T07:06:48.762Z"
   },
   {
    "duration": 442,
    "start_time": "2022-10-29T07:06:49.160Z"
   },
   {
    "duration": 427,
    "start_time": "2022-10-29T07:06:49.604Z"
   },
   {
    "duration": 12,
    "start_time": "2022-10-29T07:06:50.033Z"
   },
   {
    "duration": 311,
    "start_time": "2022-10-29T07:06:50.047Z"
   },
   {
    "duration": 28,
    "start_time": "2022-10-29T07:06:50.360Z"
   },
   {
    "duration": 22,
    "start_time": "2022-10-29T07:06:50.390Z"
   },
   {
    "duration": 1555,
    "start_time": "2022-10-29T10:56:54.985Z"
   },
   {
    "duration": 4,
    "start_time": "2022-10-29T10:58:00.380Z"
   },
   {
    "duration": 4,
    "start_time": "2022-10-29T11:00:16.573Z"
   },
   {
    "duration": 3149,
    "start_time": "2022-10-29T11:00:18.134Z"
   },
   {
    "duration": 26,
    "start_time": "2022-10-29T11:00:21.285Z"
   },
   {
    "duration": 19,
    "start_time": "2022-10-29T11:00:21.313Z"
   },
   {
    "duration": 20,
    "start_time": "2022-10-29T11:00:21.339Z"
   },
   {
    "duration": 30,
    "start_time": "2022-10-29T11:00:21.360Z"
   },
   {
    "duration": 22,
    "start_time": "2022-10-29T11:00:21.391Z"
   },
   {
    "duration": 40,
    "start_time": "2022-10-29T11:00:21.415Z"
   },
   {
    "duration": 12,
    "start_time": "2022-10-29T11:00:21.457Z"
   },
   {
    "duration": 9,
    "start_time": "2022-10-29T11:00:22.802Z"
   },
   {
    "duration": 18,
    "start_time": "2022-10-29T11:00:24.305Z"
   },
   {
    "duration": 10,
    "start_time": "2022-10-29T11:00:24.632Z"
   },
   {
    "duration": 23,
    "start_time": "2022-10-29T11:00:25.401Z"
   },
   {
    "duration": 28,
    "start_time": "2022-10-29T11:00:26.152Z"
   },
   {
    "duration": 2859,
    "start_time": "2022-10-29T11:00:28.406Z"
   },
   {
    "duration": 2887,
    "start_time": "2022-10-29T11:00:31.267Z"
   },
   {
    "duration": 3001,
    "start_time": "2022-10-29T11:00:34.156Z"
   },
   {
    "duration": 669,
    "start_time": "2022-10-29T11:00:37.160Z"
   },
   {
    "duration": 382,
    "start_time": "2022-10-29T11:00:37.830Z"
   },
   {
    "duration": 406,
    "start_time": "2022-10-29T11:00:38.214Z"
   },
   {
    "duration": 118,
    "start_time": "2022-10-29T11:00:38.622Z"
   },
   {
    "duration": 466,
    "start_time": "2022-10-29T11:01:08.669Z"
   },
   {
    "duration": 358,
    "start_time": "2022-10-29T11:01:34.699Z"
   },
   {
    "duration": 496,
    "start_time": "2022-10-29T11:01:51.705Z"
   },
   {
    "duration": 29,
    "start_time": "2022-10-29T11:05:40.473Z"
   },
   {
    "duration": 30,
    "start_time": "2022-10-29T11:06:33.599Z"
   },
   {
    "duration": 21,
    "start_time": "2022-10-29T11:07:17.746Z"
   },
   {
    "duration": 35,
    "start_time": "2022-10-29T11:07:27.073Z"
   },
   {
    "duration": 28,
    "start_time": "2022-10-29T11:07:55.177Z"
   },
   {
    "duration": 14,
    "start_time": "2022-10-29T11:08:59.237Z"
   },
   {
    "duration": 7,
    "start_time": "2022-10-29T11:09:15.102Z"
   },
   {
    "duration": 12,
    "start_time": "2022-10-29T11:10:38.774Z"
   },
   {
    "duration": 6,
    "start_time": "2022-10-29T11:11:06.271Z"
   },
   {
    "duration": 34,
    "start_time": "2022-10-29T11:11:13.968Z"
   },
   {
    "duration": 14,
    "start_time": "2022-10-29T11:11:29.623Z"
   },
   {
    "duration": 20,
    "start_time": "2022-10-29T11:12:00.709Z"
   },
   {
    "duration": 712,
    "start_time": "2022-10-29T11:13:52.795Z"
   },
   {
    "duration": 64,
    "start_time": "2022-10-29T11:14:07.592Z"
   },
   {
    "duration": 60,
    "start_time": "2022-10-29T11:14:28.868Z"
   },
   {
    "duration": 5,
    "start_time": "2022-10-29T11:15:25.435Z"
   },
   {
    "duration": 770,
    "start_time": "2022-10-29T11:15:30.509Z"
   },
   {
    "duration": 6,
    "start_time": "2022-10-29T11:15:42.271Z"
   },
   {
    "duration": 53,
    "start_time": "2022-10-29T11:15:46.145Z"
   },
   {
    "duration": 61,
    "start_time": "2022-10-29T11:15:58.684Z"
   },
   {
    "duration": 73,
    "start_time": "2022-10-29T11:17:41.483Z"
   },
   {
    "duration": 56,
    "start_time": "2022-10-29T11:18:38.634Z"
   },
   {
    "duration": 5,
    "start_time": "2022-10-29T11:20:32.393Z"
   },
   {
    "duration": 697,
    "start_time": "2022-10-29T11:20:33.933Z"
   },
   {
    "duration": 23,
    "start_time": "2022-10-29T11:20:34.632Z"
   },
   {
    "duration": 21,
    "start_time": "2022-10-29T11:20:34.656Z"
   },
   {
    "duration": 20,
    "start_time": "2022-10-29T11:20:34.878Z"
   },
   {
    "duration": 17,
    "start_time": "2022-10-29T11:20:35.313Z"
   },
   {
    "duration": 32,
    "start_time": "2022-10-29T11:20:35.951Z"
   },
   {
    "duration": 18,
    "start_time": "2022-10-29T11:20:36.198Z"
   },
   {
    "duration": 9,
    "start_time": "2022-10-29T11:20:37.066Z"
   },
   {
    "duration": 8,
    "start_time": "2022-10-29T11:20:39.120Z"
   },
   {
    "duration": 16,
    "start_time": "2022-10-29T11:20:40.390Z"
   },
   {
    "duration": 10,
    "start_time": "2022-10-29T11:20:40.739Z"
   },
   {
    "duration": 16,
    "start_time": "2022-10-29T11:20:41.355Z"
   },
   {
    "duration": 25,
    "start_time": "2022-10-29T11:20:42.012Z"
   },
   {
    "duration": 2670,
    "start_time": "2022-10-29T11:20:43.597Z"
   },
   {
    "duration": 2987,
    "start_time": "2022-10-29T11:20:46.270Z"
   },
   {
    "duration": 2943,
    "start_time": "2022-10-29T11:20:49.259Z"
   },
   {
    "duration": 386,
    "start_time": "2022-10-29T11:20:52.204Z"
   },
   {
    "duration": 379,
    "start_time": "2022-10-29T11:20:52.591Z"
   },
   {
    "duration": 433,
    "start_time": "2022-10-29T11:20:52.971Z"
   },
   {
    "duration": 714,
    "start_time": "2022-10-29T11:20:53.407Z"
   },
   {
    "duration": 15,
    "start_time": "2022-10-29T11:20:54.123Z"
   },
   {
    "duration": 319,
    "start_time": "2022-10-29T11:20:54.141Z"
   },
   {
    "duration": 19,
    "start_time": "2022-10-29T11:20:54.462Z"
   },
   {
    "duration": 18,
    "start_time": "2022-10-29T11:20:54.482Z"
   },
   {
    "duration": 10,
    "start_time": "2022-10-29T11:21:03.989Z"
   },
   {
    "duration": 18,
    "start_time": "2022-10-29T11:21:06.179Z"
   },
   {
    "duration": 11,
    "start_time": "2022-10-29T11:21:29.681Z"
   },
   {
    "duration": 814,
    "start_time": "2022-10-29T11:21:36.971Z"
   },
   {
    "duration": 12,
    "start_time": "2022-10-29T11:22:59.912Z"
   },
   {
    "duration": 216751,
    "start_time": "2022-10-29T11:23:08.895Z"
   },
   {
    "duration": 11,
    "start_time": "2022-10-29T11:31:28.667Z"
   },
   {
    "duration": 35964,
    "start_time": "2022-10-29T11:32:08.775Z"
   },
   {
    "duration": 35921,
    "start_time": "2022-10-29T11:33:10.404Z"
   },
   {
    "duration": 1156581,
    "start_time": "2022-10-29T11:34:15.633Z"
   },
   {
    "duration": 0,
    "start_time": "2022-10-29T11:53:32.218Z"
   },
   {
    "duration": 0,
    "start_time": "2022-10-29T11:53:32.220Z"
   },
   {
    "duration": 29265,
    "start_time": "2022-10-29T11:54:58.003Z"
   },
   {
    "duration": 15,
    "start_time": "2022-10-29T11:56:46.737Z"
   },
   {
    "duration": 5,
    "start_time": "2022-10-29T11:57:27.840Z"
   },
   {
    "duration": 10,
    "start_time": "2022-10-29T11:57:34.880Z"
   },
   {
    "duration": 666,
    "start_time": "2022-10-29T11:57:45.756Z"
   },
   {
    "duration": 31,
    "start_time": "2022-10-29T11:57:46.424Z"
   },
   {
    "duration": 16,
    "start_time": "2022-10-29T11:57:46.457Z"
   },
   {
    "duration": 25,
    "start_time": "2022-10-29T11:57:46.691Z"
   },
   {
    "duration": 15,
    "start_time": "2022-10-29T11:57:47.041Z"
   },
   {
    "duration": 27,
    "start_time": "2022-10-29T11:57:47.348Z"
   },
   {
    "duration": 19,
    "start_time": "2022-10-29T11:57:47.691Z"
   },
   {
    "duration": 9,
    "start_time": "2022-10-29T11:57:48.589Z"
   },
   {
    "duration": 8,
    "start_time": "2022-10-29T11:57:50.272Z"
   },
   {
    "duration": 16,
    "start_time": "2022-10-29T11:57:51.619Z"
   },
   {
    "duration": 10,
    "start_time": "2022-10-29T11:57:51.987Z"
   },
   {
    "duration": 15,
    "start_time": "2022-10-29T11:57:52.860Z"
   },
   {
    "duration": 26,
    "start_time": "2022-10-29T11:57:53.528Z"
   },
   {
    "duration": 2995,
    "start_time": "2022-10-29T11:57:55.196Z"
   },
   {
    "duration": 3121,
    "start_time": "2022-10-29T11:57:58.194Z"
   },
   {
    "duration": 3143,
    "start_time": "2022-10-29T11:58:01.317Z"
   },
   {
    "duration": 660,
    "start_time": "2022-10-29T11:58:04.463Z"
   },
   {
    "duration": 378,
    "start_time": "2022-10-29T11:58:05.125Z"
   },
   {
    "duration": 418,
    "start_time": "2022-10-29T11:58:05.505Z"
   },
   {
    "duration": 404,
    "start_time": "2022-10-29T11:58:05.925Z"
   },
   {
    "duration": 14,
    "start_time": "2022-10-29T11:58:06.330Z"
   },
   {
    "duration": 337,
    "start_time": "2022-10-29T11:58:06.346Z"
   },
   {
    "duration": 20,
    "start_time": "2022-10-29T11:58:06.685Z"
   },
   {
    "duration": 17,
    "start_time": "2022-10-29T11:58:12.085Z"
   },
   {
    "duration": 12,
    "start_time": "2022-10-29T11:58:13.998Z"
   },
   {
    "duration": 12,
    "start_time": "2022-10-29T11:58:15.934Z"
   },
   {
    "duration": 220171,
    "start_time": "2022-10-29T11:58:16.669Z"
   },
   {
    "duration": 26608,
    "start_time": "2022-10-29T12:01:56.842Z"
   },
   {
    "duration": 0,
    "start_time": "2022-10-29T12:02:23.452Z"
   },
   {
    "duration": 0,
    "start_time": "2022-10-29T12:02:23.453Z"
   },
   {
    "duration": 0,
    "start_time": "2022-10-29T12:02:23.454Z"
   },
   {
    "duration": 26487,
    "start_time": "2022-10-29T12:03:08.199Z"
   },
   {
    "duration": 17,
    "start_time": "2022-10-29T12:05:57.130Z"
   },
   {
    "duration": 10,
    "start_time": "2022-10-29T12:06:19.057Z"
   },
   {
    "duration": 11,
    "start_time": "2022-10-29T12:06:32.057Z"
   },
   {
    "duration": 6,
    "start_time": "2022-10-29T12:06:40.344Z"
   },
   {
    "duration": 21,
    "start_time": "2022-10-29T12:08:05.240Z"
   },
   {
    "duration": 29,
    "start_time": "2022-10-29T12:08:44.480Z"
   },
   {
    "duration": 11,
    "start_time": "2022-10-29T12:10:17.730Z"
   },
   {
    "duration": 13743,
    "start_time": "2022-10-29T12:10:28.724Z"
   },
   {
    "duration": 22,
    "start_time": "2022-10-29T12:10:53.711Z"
   },
   {
    "duration": 4,
    "start_time": "2022-10-29T12:11:25.264Z"
   },
   {
    "duration": 9,
    "start_time": "2022-10-29T12:11:41.150Z"
   },
   {
    "duration": 5,
    "start_time": "2022-10-29T12:11:57.320Z"
   },
   {
    "duration": 28,
    "start_time": "2022-10-29T12:12:12.714Z"
   },
   {
    "duration": 33,
    "start_time": "2022-10-29T12:12:44.978Z"
   },
   {
    "duration": 37,
    "start_time": "2022-10-29T12:14:27.078Z"
   },
   {
    "duration": 11,
    "start_time": "2022-10-29T12:15:04.747Z"
   },
   {
    "duration": 34,
    "start_time": "2022-10-29T12:15:21.495Z"
   },
   {
    "duration": 36,
    "start_time": "2022-10-29T12:16:27.947Z"
   },
   {
    "duration": 25901,
    "start_time": "2022-10-29T12:16:46.959Z"
   },
   {
    "duration": 26235,
    "start_time": "2022-10-29T12:17:49.485Z"
   },
   {
    "duration": 3,
    "start_time": "2022-10-29T12:18:18.337Z"
   },
   {
    "duration": 12,
    "start_time": "2022-10-29T12:18:24.196Z"
   },
   {
    "duration": 15,
    "start_time": "2022-10-29T12:18:35.480Z"
   },
   {
    "duration": 10,
    "start_time": "2022-10-29T12:18:41.091Z"
   },
   {
    "duration": 12,
    "start_time": "2022-10-29T12:21:30.359Z"
   },
   {
    "duration": 54,
    "start_time": "2022-10-29T12:22:11.309Z"
   },
   {
    "duration": 912286,
    "start_time": "2022-10-29T12:22:26.717Z"
   },
   {
    "duration": 4999,
    "start_time": "2022-10-29T12:40:29.168Z"
   },
   {
    "duration": 3315,
    "start_time": "2022-10-29T15:47:34.173Z"
   },
   {
    "duration": 3017,
    "start_time": "2022-10-29T15:47:37.490Z"
   },
   {
    "duration": 27,
    "start_time": "2022-10-29T15:47:40.509Z"
   },
   {
    "duration": 24,
    "start_time": "2022-10-29T15:47:40.539Z"
   },
   {
    "duration": 23,
    "start_time": "2022-10-29T15:47:40.565Z"
   },
   {
    "duration": 15,
    "start_time": "2022-10-29T15:47:40.589Z"
   },
   {
    "duration": 51,
    "start_time": "2022-10-29T15:47:40.606Z"
   },
   {
    "duration": 20,
    "start_time": "2022-10-29T15:47:40.660Z"
   },
   {
    "duration": 12,
    "start_time": "2022-10-29T15:47:40.682Z"
   },
   {
    "duration": 8,
    "start_time": "2022-10-29T15:47:40.697Z"
   },
   {
    "duration": 56,
    "start_time": "2022-10-29T15:47:40.707Z"
   },
   {
    "duration": 12,
    "start_time": "2022-10-29T15:47:40.765Z"
   },
   {
    "duration": 25,
    "start_time": "2022-10-29T15:47:40.779Z"
   },
   {
    "duration": 53,
    "start_time": "2022-10-29T15:47:40.806Z"
   },
   {
    "duration": 3061,
    "start_time": "2022-10-29T15:47:40.861Z"
   },
   {
    "duration": 3148,
    "start_time": "2022-10-29T15:47:43.924Z"
   },
   {
    "duration": 3200,
    "start_time": "2022-10-29T15:47:47.074Z"
   },
   {
    "duration": 707,
    "start_time": "2022-10-29T15:47:50.276Z"
   },
   {
    "duration": 398,
    "start_time": "2022-10-29T15:47:50.984Z"
   },
   {
    "duration": 484,
    "start_time": "2022-10-29T15:47:51.385Z"
   },
   {
    "duration": 472,
    "start_time": "2022-10-29T15:47:51.871Z"
   },
   {
    "duration": 13,
    "start_time": "2022-10-29T15:47:52.345Z"
   },
   {
    "duration": 340,
    "start_time": "2022-10-29T15:47:52.360Z"
   },
   {
    "duration": 32,
    "start_time": "2022-10-29T15:47:52.702Z"
   },
   {
    "duration": 31,
    "start_time": "2022-10-29T15:47:52.736Z"
   },
   {
    "duration": 9,
    "start_time": "2022-10-29T15:47:52.769Z"
   },
   {
    "duration": 141,
    "start_time": "2022-10-29T15:47:52.780Z"
   },
   {
    "duration": 0,
    "start_time": "2022-10-29T15:47:52.923Z"
   },
   {
    "duration": 19,
    "start_time": "2022-10-29T15:50:41.393Z"
   },
   {
    "duration": 27,
    "start_time": "2022-10-29T15:51:13.119Z"
   },
   {
    "duration": 13,
    "start_time": "2022-10-29T15:51:35.005Z"
   },
   {
    "duration": 6,
    "start_time": "2022-10-29T15:51:37.840Z"
   },
   {
    "duration": 295557,
    "start_time": "2022-10-29T15:51:41.705Z"
   },
   {
    "duration": 27,
    "start_time": "2022-10-29T16:02:11.552Z"
   },
   {
    "duration": 1658,
    "start_time": "2022-10-29T16:13:44.354Z"
   },
   {
    "duration": 2156,
    "start_time": "2022-10-29T16:13:47.561Z"
   },
   {
    "duration": 26,
    "start_time": "2022-10-29T16:13:49.719Z"
   },
   {
    "duration": 19,
    "start_time": "2022-10-29T16:13:49.747Z"
   },
   {
    "duration": 42,
    "start_time": "2022-10-29T16:13:49.768Z"
   },
   {
    "duration": 13,
    "start_time": "2022-10-29T16:13:49.814Z"
   },
   {
    "duration": 21,
    "start_time": "2022-10-29T16:13:50.206Z"
   },
   {
    "duration": 17,
    "start_time": "2022-10-29T16:13:50.648Z"
   },
   {
    "duration": 10,
    "start_time": "2022-10-29T16:13:52.304Z"
   },
   {
    "duration": 8,
    "start_time": "2022-10-29T16:13:55.004Z"
   },
   {
    "duration": 14,
    "start_time": "2022-10-29T16:13:57.443Z"
   },
   {
    "duration": 10,
    "start_time": "2022-10-29T16:13:58.115Z"
   },
   {
    "duration": 31,
    "start_time": "2022-10-29T16:13:59.459Z"
   },
   {
    "duration": 25,
    "start_time": "2022-10-29T16:14:00.512Z"
   },
   {
    "duration": 2751,
    "start_time": "2022-10-29T16:14:03.095Z"
   },
   {
    "duration": 3080,
    "start_time": "2022-10-29T16:14:05.848Z"
   },
   {
    "duration": 2981,
    "start_time": "2022-10-29T16:14:08.931Z"
   },
   {
    "duration": 621,
    "start_time": "2022-10-29T16:14:11.914Z"
   },
   {
    "duration": 422,
    "start_time": "2022-10-29T16:14:12.537Z"
   },
   {
    "duration": 401,
    "start_time": "2022-10-29T16:14:12.961Z"
   },
   {
    "duration": 394,
    "start_time": "2022-10-29T16:14:13.364Z"
   },
   {
    "duration": 22,
    "start_time": "2022-10-29T16:14:13.760Z"
   },
   {
    "duration": 316,
    "start_time": "2022-10-29T16:14:13.783Z"
   },
   {
    "duration": 27,
    "start_time": "2022-10-29T16:14:14.632Z"
   },
   {
    "duration": 20,
    "start_time": "2022-10-29T16:14:17.204Z"
   },
   {
    "duration": 8,
    "start_time": "2022-10-29T16:14:23.043Z"
   },
   {
    "duration": 135,
    "start_time": "2022-10-29T16:14:24.171Z"
   },
   {
    "duration": 16,
    "start_time": "2022-10-29T16:15:51.043Z"
   },
   {
    "duration": 18,
    "start_time": "2022-10-29T16:17:25.905Z"
   },
   {
    "duration": 18,
    "start_time": "2022-10-29T16:18:23.307Z"
   },
   {
    "duration": 1425,
    "start_time": "2022-10-29T16:19:36.912Z"
   },
   {
    "duration": 723,
    "start_time": "2022-10-29T16:19:38.339Z"
   },
   {
    "duration": 33,
    "start_time": "2022-10-29T16:19:39.064Z"
   },
   {
    "duration": 19,
    "start_time": "2022-10-29T16:19:39.099Z"
   },
   {
    "duration": 20,
    "start_time": "2022-10-29T16:19:39.120Z"
   },
   {
    "duration": 15,
    "start_time": "2022-10-29T16:19:39.142Z"
   },
   {
    "duration": 29,
    "start_time": "2022-10-29T16:19:39.177Z"
   },
   {
    "duration": 19,
    "start_time": "2022-10-29T16:19:39.211Z"
   },
   {
    "duration": 9,
    "start_time": "2022-10-29T16:19:39.232Z"
   },
   {
    "duration": 12,
    "start_time": "2022-10-29T16:19:39.244Z"
   },
   {
    "duration": 49,
    "start_time": "2022-10-29T16:19:39.257Z"
   },
   {
    "duration": 11,
    "start_time": "2022-10-29T16:19:39.310Z"
   },
   {
    "duration": 24,
    "start_time": "2022-10-29T16:19:39.322Z"
   },
   {
    "duration": 54,
    "start_time": "2022-10-29T16:19:39.347Z"
   },
   {
    "duration": 3008,
    "start_time": "2022-10-29T16:19:39.406Z"
   },
   {
    "duration": 2956,
    "start_time": "2022-10-29T16:19:42.416Z"
   },
   {
    "duration": 3084,
    "start_time": "2022-10-29T16:19:45.377Z"
   },
   {
    "duration": 647,
    "start_time": "2022-10-29T16:19:48.463Z"
   },
   {
    "duration": 398,
    "start_time": "2022-10-29T16:19:49.111Z"
   },
   {
    "duration": 338,
    "start_time": "2022-10-29T16:19:49.511Z"
   },
   {
    "duration": 414,
    "start_time": "2022-10-29T16:19:49.850Z"
   },
   {
    "duration": 17,
    "start_time": "2022-10-29T16:19:50.266Z"
   },
   {
    "duration": 342,
    "start_time": "2022-10-29T16:19:50.286Z"
   },
   {
    "duration": 26,
    "start_time": "2022-10-29T16:19:50.630Z"
   },
   {
    "duration": 40,
    "start_time": "2022-10-29T16:19:50.658Z"
   },
   {
    "duration": 9,
    "start_time": "2022-10-29T16:19:50.706Z"
   },
   {
    "duration": 128,
    "start_time": "2022-10-29T16:19:50.717Z"
   },
   {
    "duration": 0,
    "start_time": "2022-10-29T16:19:50.847Z"
   },
   {
    "duration": 0,
    "start_time": "2022-10-29T16:19:50.848Z"
   },
   {
    "duration": 0,
    "start_time": "2022-10-29T16:19:50.850Z"
   },
   {
    "duration": 0,
    "start_time": "2022-10-29T16:19:50.852Z"
   },
   {
    "duration": 0,
    "start_time": "2022-10-29T16:19:50.853Z"
   },
   {
    "duration": 1,
    "start_time": "2022-10-29T16:19:50.854Z"
   },
   {
    "duration": 0,
    "start_time": "2022-10-29T16:19:50.856Z"
   },
   {
    "duration": 0,
    "start_time": "2022-10-29T16:19:50.857Z"
   },
   {
    "duration": 28,
    "start_time": "2022-10-29T16:21:32.512Z"
   },
   {
    "duration": 12,
    "start_time": "2022-10-29T16:21:48.377Z"
   },
   {
    "duration": 31,
    "start_time": "2022-10-29T16:21:53.054Z"
   },
   {
    "duration": 42,
    "start_time": "2022-10-29T16:23:07.771Z"
   },
   {
    "duration": 1503,
    "start_time": "2022-10-29T16:27:43.131Z"
   },
   {
    "duration": 748,
    "start_time": "2022-10-29T16:27:44.636Z"
   },
   {
    "duration": 36,
    "start_time": "2022-10-29T16:27:45.390Z"
   },
   {
    "duration": 16,
    "start_time": "2022-10-29T16:27:45.428Z"
   },
   {
    "duration": 22,
    "start_time": "2022-10-29T16:27:45.446Z"
   },
   {
    "duration": 44,
    "start_time": "2022-10-29T16:27:45.469Z"
   },
   {
    "duration": 20,
    "start_time": "2022-10-29T16:27:45.515Z"
   },
   {
    "duration": 27,
    "start_time": "2022-10-29T16:27:45.536Z"
   },
   {
    "duration": 9,
    "start_time": "2022-10-29T16:27:45.565Z"
   },
   {
    "duration": 31,
    "start_time": "2022-10-29T16:27:45.577Z"
   },
   {
    "duration": 19,
    "start_time": "2022-10-29T16:27:45.611Z"
   },
   {
    "duration": 8,
    "start_time": "2022-10-29T16:27:45.632Z"
   },
   {
    "duration": 24,
    "start_time": "2022-10-29T16:27:45.642Z"
   },
   {
    "duration": 36,
    "start_time": "2022-10-29T16:27:45.668Z"
   },
   {
    "duration": 3027,
    "start_time": "2022-10-29T16:27:45.707Z"
   },
   {
    "duration": 3071,
    "start_time": "2022-10-29T16:27:48.736Z"
   },
   {
    "duration": 3124,
    "start_time": "2022-10-29T16:27:51.809Z"
   },
   {
    "duration": 640,
    "start_time": "2022-10-29T16:27:54.935Z"
   },
   {
    "duration": 395,
    "start_time": "2022-10-29T16:27:55.578Z"
   },
   {
    "duration": 367,
    "start_time": "2022-10-29T16:27:55.979Z"
   },
   {
    "duration": 453,
    "start_time": "2022-10-29T16:27:56.348Z"
   },
   {
    "duration": 17,
    "start_time": "2022-10-29T16:27:56.802Z"
   },
   {
    "duration": 317,
    "start_time": "2022-10-29T16:27:56.821Z"
   },
   {
    "duration": 26,
    "start_time": "2022-10-29T16:27:57.140Z"
   },
   {
    "duration": 34,
    "start_time": "2022-10-29T16:27:57.185Z"
   },
   {
    "duration": 9,
    "start_time": "2022-10-29T16:27:57.220Z"
   },
   {
    "duration": 12,
    "start_time": "2022-10-29T16:27:57.230Z"
   },
   {
    "duration": 54,
    "start_time": "2022-10-29T16:27:57.245Z"
   },
   {
    "duration": 7,
    "start_time": "2022-10-29T16:27:57.304Z"
   },
   {
    "duration": 201178,
    "start_time": "2022-10-29T16:27:57.312Z"
   },
   {
    "duration": 823226,
    "start_time": "2022-10-29T16:31:18.498Z"
   },
   {
    "duration": 0,
    "start_time": "2022-10-29T16:45:01.725Z"
   },
   {
    "duration": 0,
    "start_time": "2022-10-29T16:45:01.726Z"
   },
   {
    "duration": 0,
    "start_time": "2022-10-29T16:45:01.728Z"
   },
   {
    "duration": 0,
    "start_time": "2022-10-29T16:45:01.729Z"
   },
   {
    "duration": 0,
    "start_time": "2022-10-29T16:45:01.730Z"
   },
   {
    "duration": 785116,
    "start_time": "2022-10-29T16:50:17.647Z"
   },
   {
    "duration": 766110,
    "start_time": "2022-10-29T17:10:53.946Z"
   },
   {
    "duration": 5,
    "start_time": "2022-10-29T17:27:50.768Z"
   },
   {
    "duration": 635,
    "start_time": "2022-10-29T17:27:53.538Z"
   },
   {
    "duration": 18,
    "start_time": "2022-10-29T17:27:54.175Z"
   },
   {
    "duration": 16,
    "start_time": "2022-10-29T17:27:54.378Z"
   },
   {
    "duration": 19,
    "start_time": "2022-10-29T17:27:55.250Z"
   },
   {
    "duration": 19,
    "start_time": "2022-10-29T17:27:55.857Z"
   },
   {
    "duration": 19,
    "start_time": "2022-10-29T17:27:56.441Z"
   },
   {
    "duration": 17,
    "start_time": "2022-10-29T17:27:56.925Z"
   },
   {
    "duration": 8,
    "start_time": "2022-10-29T17:27:58.349Z"
   },
   {
    "duration": 7,
    "start_time": "2022-10-29T17:28:01.537Z"
   },
   {
    "duration": 16,
    "start_time": "2022-10-29T17:28:03.468Z"
   },
   {
    "duration": 10,
    "start_time": "2022-10-29T17:28:03.892Z"
   },
   {
    "duration": 17,
    "start_time": "2022-10-29T17:28:04.689Z"
   },
   {
    "duration": 24,
    "start_time": "2022-10-29T17:28:05.760Z"
   },
   {
    "duration": 2489,
    "start_time": "2022-10-29T17:28:08.042Z"
   },
   {
    "duration": 2669,
    "start_time": "2022-10-29T17:28:15.726Z"
   },
   {
    "duration": 2620,
    "start_time": "2022-10-29T17:28:18.397Z"
   },
   {
    "duration": 326,
    "start_time": "2022-10-29T17:28:24.309Z"
   },
   {
    "duration": 603,
    "start_time": "2022-10-29T17:28:26.032Z"
   },
   {
    "duration": 326,
    "start_time": "2022-10-29T17:28:28.389Z"
   },
   {
    "duration": 333,
    "start_time": "2022-10-29T17:28:29.127Z"
   },
   {
    "duration": 9,
    "start_time": "2022-10-29T17:28:31.981Z"
   },
   {
    "duration": 272,
    "start_time": "2022-10-29T17:28:35.645Z"
   },
   {
    "duration": 22,
    "start_time": "2022-10-29T17:28:37.143Z"
   },
   {
    "duration": 23,
    "start_time": "2022-10-29T17:28:39.909Z"
   },
   {
    "duration": 11,
    "start_time": "2022-10-29T17:28:43.321Z"
   },
   {
    "duration": 10,
    "start_time": "2022-10-29T17:28:45.875Z"
   },
   {
    "duration": 5,
    "start_time": "2022-10-29T17:28:48.668Z"
   },
   {
    "duration": 29602,
    "start_time": "2022-10-29T17:28:49.867Z"
   },
   {
    "duration": 125433,
    "start_time": "2022-10-29T17:29:35.952Z"
   },
   {
    "duration": 759594,
    "start_time": "2022-10-29T17:35:44.187Z"
   },
   {
    "duration": 758283,
    "start_time": "2022-10-29T17:51:20.468Z"
   },
   {
    "duration": 770455,
    "start_time": "2022-10-29T18:05:20.532Z"
   },
   {
    "duration": 5,
    "start_time": "2022-10-29T18:19:00.967Z"
   },
   {
    "duration": 10,
    "start_time": "2022-10-29T18:20:21.997Z"
   },
   {
    "duration": 6,
    "start_time": "2022-10-29T18:20:34.490Z"
   },
   {
    "duration": 8,
    "start_time": "2022-10-29T18:22:06.969Z"
   },
   {
    "duration": 11,
    "start_time": "2022-10-29T18:22:30.118Z"
   },
   {
    "duration": 13,
    "start_time": "2022-10-29T18:23:35.378Z"
   },
   {
    "duration": 10,
    "start_time": "2022-10-29T18:23:40.528Z"
   },
   {
    "duration": 8,
    "start_time": "2022-10-29T18:23:47.264Z"
   },
   {
    "duration": 1072,
    "start_time": "2022-10-29T18:24:03.325Z"
   },
   {
    "duration": 7,
    "start_time": "2022-10-29T18:24:08.553Z"
   },
   {
    "duration": 19,
    "start_time": "2022-10-29T18:24:43.831Z"
   },
   {
    "duration": 7,
    "start_time": "2022-10-29T18:24:47.624Z"
   },
   {
    "duration": 6,
    "start_time": "2022-10-29T18:24:57.342Z"
   },
   {
    "duration": 7,
    "start_time": "2022-10-29T18:26:07.490Z"
   },
   {
    "duration": 7,
    "start_time": "2022-10-29T18:26:25.227Z"
   },
   {
    "duration": 8,
    "start_time": "2022-10-29T18:26:40.329Z"
   },
   {
    "duration": 11,
    "start_time": "2022-10-29T18:26:54.033Z"
   },
   {
    "duration": 14,
    "start_time": "2022-10-29T18:27:27.674Z"
   },
   {
    "duration": 9,
    "start_time": "2022-10-29T18:27:52.978Z"
   },
   {
    "duration": 776785,
    "start_time": "2022-10-29T18:29:06.956Z"
   },
   {
    "duration": 93,
    "start_time": "2022-10-29T18:42:42.239Z"
   },
   {
    "duration": 771148,
    "start_time": "2022-10-29T18:45:59.109Z"
   },
   {
    "duration": 5,
    "start_time": "2022-10-29T20:00:20.460Z"
   },
   {
    "duration": 780,
    "start_time": "2022-10-29T20:00:20.467Z"
   },
   {
    "duration": 25,
    "start_time": "2022-10-29T20:00:21.249Z"
   },
   {
    "duration": 18,
    "start_time": "2022-10-29T20:00:21.276Z"
   },
   {
    "duration": 22,
    "start_time": "2022-10-29T20:00:21.296Z"
   },
   {
    "duration": 43,
    "start_time": "2022-10-29T20:00:21.320Z"
   },
   {
    "duration": 40,
    "start_time": "2022-10-29T20:00:21.366Z"
   },
   {
    "duration": 202,
    "start_time": "2022-10-29T20:00:21.408Z"
   },
   {
    "duration": 13,
    "start_time": "2022-10-29T20:00:21.612Z"
   },
   {
    "duration": 30,
    "start_time": "2022-10-29T20:00:21.627Z"
   },
   {
    "duration": 24,
    "start_time": "2022-10-29T20:00:21.664Z"
   },
   {
    "duration": 17,
    "start_time": "2022-10-29T20:00:21.690Z"
   },
   {
    "duration": 54,
    "start_time": "2022-10-29T20:00:21.709Z"
   },
   {
    "duration": 31,
    "start_time": "2022-10-29T20:00:21.766Z"
   },
   {
    "duration": 3163,
    "start_time": "2022-10-29T20:00:21.798Z"
   },
   {
    "duration": 3198,
    "start_time": "2022-10-29T20:00:24.964Z"
   },
   {
    "duration": 3212,
    "start_time": "2022-10-29T20:00:28.165Z"
   },
   {
    "duration": 493,
    "start_time": "2022-10-29T20:00:31.379Z"
   },
   {
    "duration": 386,
    "start_time": "2022-10-29T20:00:31.874Z"
   },
   {
    "duration": 360,
    "start_time": "2022-10-29T20:00:32.262Z"
   },
   {
    "duration": 435,
    "start_time": "2022-10-29T20:00:32.624Z"
   },
   {
    "duration": 11,
    "start_time": "2022-10-29T20:00:33.060Z"
   },
   {
    "duration": 677,
    "start_time": "2022-10-29T20:00:33.074Z"
   },
   {
    "duration": 23,
    "start_time": "2022-10-29T20:00:33.755Z"
   },
   {
    "duration": 29,
    "start_time": "2022-10-29T20:00:33.780Z"
   },
   {
    "duration": 11,
    "start_time": "2022-10-29T20:00:33.811Z"
   },
   {
    "duration": 40,
    "start_time": "2022-10-29T20:00:33.823Z"
   },
   {
    "duration": 7,
    "start_time": "2022-10-29T20:00:33.865Z"
   },
   {
    "duration": 19893,
    "start_time": "2022-10-29T20:00:46.708Z"
   },
   {
    "duration": 30393,
    "start_time": "2022-10-29T20:01:07.520Z"
   },
   {
    "duration": 4,
    "start_time": "2022-10-29T20:03:04.976Z"
   },
   {
    "duration": 13,
    "start_time": "2022-10-29T20:03:08.216Z"
   },
   {
    "duration": 12,
    "start_time": "2022-10-29T20:03:10.209Z"
   }
  ],
  "kernelspec": {
   "display_name": "Python 3 (ipykernel)",
   "language": "python",
   "name": "python3"
  },
  "language_info": {
   "codemirror_mode": {
    "name": "ipython",
    "version": 3
   },
   "file_extension": ".py",
   "mimetype": "text/x-python",
   "name": "python",
   "nbconvert_exporter": "python",
   "pygments_lexer": "ipython3",
   "version": "3.9.7"
  },
  "toc": {
   "base_numbering": 1,
   "nav_menu": {},
   "number_sections": true,
   "sideBar": true,
   "skip_h1_title": true,
   "title_cell": "Содержание",
   "title_sidebar": "Contents",
   "toc_cell": true,
   "toc_position": {},
   "toc_section_display": true,
   "toc_window_display": true
  }
 },
 "nbformat": 4,
 "nbformat_minor": 2
}
