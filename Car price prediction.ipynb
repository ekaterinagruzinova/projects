{
 "cells": [
  {
   "cell_type": "markdown",
   "metadata": {},
   "source": [
    "# Определение стоимости автомобилей"
   ]
  },
  {
   "cell_type": "markdown",
   "metadata": {},
   "source": [
    "Сервис по продаже автомобилей с пробегом «Не бит, не крашен» разрабатывает приложение для привлечения новых клиентов. В нём можно быстро узнать рыночную стоимость своего автомобиля. В вашем распоряжении исторические данные: технические характеристики, комплектации и цены автомобилей. Вам нужно построить модель для определения стоимости. \n",
    "\n",
    "Заказчику важны:\n",
    "\n",
    "- качество предсказания;\n",
    "- скорость предсказания;\n",
    "- время обучения."
   ]
  },
  {
   "cell_type": "markdown",
   "metadata": {},
   "source": [
    "Для создания нового приложения для клиентов нам необходимо построить модель, которая будет предсказывать стоимость автомобиля по доступным признакам. Для этого мы исследуем исторические данные признаков, подготовим данные (проработаем пропуски, дубликаты, аномалии) и подготовим выборки для обучения. Затем обучим модели, сделаем предсказания, проанализируем метрики эффективности моделей и скорость обучения и предсказания. В конце сделаем вывод о том, какую модель стоит выбрать для прогнозирования рыночной стоимости автомобиля. "
   ]
  },
  {
   "cell_type": "markdown",
   "metadata": {},
   "source": [
    "## Подготовка данных"
   ]
  },
  {
   "cell_type": "markdown",
   "metadata": {},
   "source": [
    "Загрузим данные и ознакомимся с ними."
   ]
  },
  {
   "cell_type": "code",
   "execution_count": 1,
   "metadata": {},
   "outputs": [],
   "source": [
    "import pandas as pd\n",
    "import matplotlib.pyplot as plt\n",
    "import seaborn as sns\n",
    "import lightgbm as lgb\n",
    "import numpy as np\n",
    "import sklearn\n",
    "\n",
    "\n",
    "from sklearn.model_selection import train_test_split\n",
    "from sklearn.tree import DecisionTreeClassifier\n",
    "from sklearn.ensemble import RandomForestClassifier\n",
    "from sklearn.linear_model import LinearRegression\n",
    "from sklearn.metrics import mean_squared_error\n",
    "from lightgbm import LGBMRegressor\n",
    "from sklearn.preprocessing import StandardScaler\n",
    "from sklearn.preprocessing import OneHotEncoder\n",
    "\n"
   ]
  },
  {
   "cell_type": "code",
   "execution_count": 2,
   "metadata": {},
   "outputs": [
    {
     "name": "stdout",
     "output_type": "stream",
     "text": [
      "           DateCrawled  Price VehicleType  RegistrationYear Gearbox  Power  \\\n",
      "0  2016-03-24 11:52:17    480         NaN              1993  manual      0   \n",
      "1  2016-03-24 10:58:45  18300       coupe              2011  manual    190   \n",
      "2  2016-03-14 12:52:21   9800         suv              2004    auto    163   \n",
      "3  2016-03-17 16:54:04   1500       small              2001  manual     75   \n",
      "4  2016-03-31 17:25:20   3600       small              2008  manual     69   \n",
      "\n",
      "   Model  Kilometer  RegistrationMonth  FuelType       Brand Repaired  \\\n",
      "0   golf     150000                  0    petrol  volkswagen      NaN   \n",
      "1    NaN     125000                  5  gasoline        audi      yes   \n",
      "2  grand     125000                  8  gasoline        jeep      NaN   \n",
      "3   golf     150000                  6    petrol  volkswagen       no   \n",
      "4  fabia      90000                  7  gasoline       skoda       no   \n",
      "\n",
      "           DateCreated  NumberOfPictures  PostalCode             LastSeen  \n",
      "0  2016-03-24 00:00:00                 0       70435  2016-04-07 03:16:57  \n",
      "1  2016-03-24 00:00:00                 0       66954  2016-04-07 01:46:50  \n",
      "2  2016-03-14 00:00:00                 0       90480  2016-04-05 12:47:46  \n",
      "3  2016-03-17 00:00:00                 0       91074  2016-03-17 17:40:17  \n",
      "4  2016-03-31 00:00:00                 0       60437  2016-04-06 10:17:21  \n"
     ]
    }
   ],
   "source": [
    "df = pd.read_csv('/datasets/autos.csv')\n",
    "print(df.head())"
   ]
  },
  {
   "cell_type": "code",
   "execution_count": 3,
   "metadata": {},
   "outputs": [
    {
     "name": "stdout",
     "output_type": "stream",
     "text": [
      "<class 'pandas.core.frame.DataFrame'>\n",
      "RangeIndex: 354369 entries, 0 to 354368\n",
      "Data columns (total 16 columns):\n",
      " #   Column             Non-Null Count   Dtype \n",
      "---  ------             --------------   ----- \n",
      " 0   DateCrawled        354369 non-null  object\n",
      " 1   Price              354369 non-null  int64 \n",
      " 2   VehicleType        316879 non-null  object\n",
      " 3   RegistrationYear   354369 non-null  int64 \n",
      " 4   Gearbox            334536 non-null  object\n",
      " 5   Power              354369 non-null  int64 \n",
      " 6   Model              334664 non-null  object\n",
      " 7   Kilometer          354369 non-null  int64 \n",
      " 8   RegistrationMonth  354369 non-null  int64 \n",
      " 9   FuelType           321474 non-null  object\n",
      " 10  Brand              354369 non-null  object\n",
      " 11  Repaired           283215 non-null  object\n",
      " 12  DateCreated        354369 non-null  object\n",
      " 13  NumberOfPictures   354369 non-null  int64 \n",
      " 14  PostalCode         354369 non-null  int64 \n",
      " 15  LastSeen           354369 non-null  object\n",
      "dtypes: int64(7), object(9)\n",
      "memory usage: 43.3+ MB\n"
     ]
    }
   ],
   "source": [
    "df.info()"
   ]
  },
  {
   "cell_type": "markdown",
   "metadata": {},
   "source": [
    "Приведём названия столбцов к \"змеиному\" регистру"
   ]
  },
  {
   "cell_type": "code",
   "execution_count": 4,
   "metadata": {},
   "outputs": [],
   "source": [
    "df.rename(columns={'DateCrawled': 'date_crawled', \n",
    "                   'VehicleType': 'vehicle_type', \n",
    "                   'RegistrationYear':'registration_year', \n",
    "                   'RegistrationMonth':'registration_month', \n",
    "                   'FuelType':'fuel_type', 'DateCreated':'date_created', \n",
    "                   'NumberOfPictures':'number_of_pictures', \n",
    "                   'PostalCode':'postal_code', \n",
    "                   'LastSeen':'last_seen'}, inplace=True)\n",
    "df.columns = [x.lower() for x in df.columns]"
   ]
  },
  {
   "cell_type": "code",
   "execution_count": 5,
   "metadata": {},
   "outputs": [
    {
     "name": "stdout",
     "output_type": "stream",
     "text": [
      "<class 'pandas.core.frame.DataFrame'>\n",
      "RangeIndex: 354369 entries, 0 to 354368\n",
      "Data columns (total 16 columns):\n",
      " #   Column              Non-Null Count   Dtype \n",
      "---  ------              --------------   ----- \n",
      " 0   date_crawled        354369 non-null  object\n",
      " 1   price               354369 non-null  int64 \n",
      " 2   vehicle_type        316879 non-null  object\n",
      " 3   registration_year   354369 non-null  int64 \n",
      " 4   gearbox             334536 non-null  object\n",
      " 5   power               354369 non-null  int64 \n",
      " 6   model               334664 non-null  object\n",
      " 7   kilometer           354369 non-null  int64 \n",
      " 8   registration_month  354369 non-null  int64 \n",
      " 9   fuel_type           321474 non-null  object\n",
      " 10  brand               354369 non-null  object\n",
      " 11  repaired            283215 non-null  object\n",
      " 12  date_created        354369 non-null  object\n",
      " 13  number_of_pictures  354369 non-null  int64 \n",
      " 14  postal_code         354369 non-null  int64 \n",
      " 15  last_seen           354369 non-null  object\n",
      "dtypes: int64(7), object(9)\n",
      "memory usage: 43.3+ MB\n"
     ]
    }
   ],
   "source": [
    "df.info()"
   ]
  },
  {
   "cell_type": "markdown",
   "metadata": {},
   "source": [
    "Среди признаков есть столбцы с датами, данные в них хранятся в формате object, нужно изменить на формат для дат и времени"
   ]
  },
  {
   "cell_type": "code",
   "execution_count": 6,
   "metadata": {},
   "outputs": [],
   "source": [
    "df['date_crawled'] = pd.to_datetime(df['date_crawled'], format='%Y-%m-%d %H:%M')\n",
    "df['date_created'] = pd.to_datetime(df['date_created'], format='%Y-%m-%d %H:%M')\n",
    "df['last_seen'] = pd.to_datetime(df['last_seen'], format='%Y-%m-%d %H:%M')\n"
   ]
  },
  {
   "cell_type": "code",
   "execution_count": 7,
   "metadata": {},
   "outputs": [
    {
     "name": "stdout",
     "output_type": "stream",
     "text": [
      "<class 'pandas.core.frame.DataFrame'>\n",
      "RangeIndex: 354369 entries, 0 to 354368\n",
      "Data columns (total 16 columns):\n",
      " #   Column              Non-Null Count   Dtype         \n",
      "---  ------              --------------   -----         \n",
      " 0   date_crawled        354369 non-null  datetime64[ns]\n",
      " 1   price               354369 non-null  int64         \n",
      " 2   vehicle_type        316879 non-null  object        \n",
      " 3   registration_year   354369 non-null  int64         \n",
      " 4   gearbox             334536 non-null  object        \n",
      " 5   power               354369 non-null  int64         \n",
      " 6   model               334664 non-null  object        \n",
      " 7   kilometer           354369 non-null  int64         \n",
      " 8   registration_month  354369 non-null  int64         \n",
      " 9   fuel_type           321474 non-null  object        \n",
      " 10  brand               354369 non-null  object        \n",
      " 11  repaired            283215 non-null  object        \n",
      " 12  date_created        354369 non-null  datetime64[ns]\n",
      " 13  number_of_pictures  354369 non-null  int64         \n",
      " 14  postal_code         354369 non-null  int64         \n",
      " 15  last_seen           354369 non-null  datetime64[ns]\n",
      "dtypes: datetime64[ns](3), int64(7), object(6)\n",
      "memory usage: 43.3+ MB\n"
     ]
    }
   ],
   "source": [
    "df.info()"
   ]
  },
  {
   "cell_type": "markdown",
   "metadata": {},
   "source": [
    "Видим, что в данных есть пропуски. Посмотрим, насколько их много в каждом столбце (сколько процентов). "
   ]
  },
  {
   "cell_type": "code",
   "execution_count": 8,
   "metadata": {},
   "outputs": [
    {
     "data": {
      "text/plain": [
       "date_crawled           0.000000\n",
       "price                  0.000000\n",
       "vehicle_type          10.579368\n",
       "registration_year      0.000000\n",
       "gearbox                5.596709\n",
       "power                  0.000000\n",
       "model                  5.560588\n",
       "kilometer              0.000000\n",
       "registration_month     0.000000\n",
       "fuel_type              9.282697\n",
       "brand                  0.000000\n",
       "repaired              20.079070\n",
       "date_created           0.000000\n",
       "number_of_pictures     0.000000\n",
       "postal_code            0.000000\n",
       "last_seen              0.000000\n",
       "dtype: float64"
      ]
     },
     "execution_count": 8,
     "metadata": {},
     "output_type": "execute_result"
    }
   ],
   "source": [
    "df.isnull().sum()/len(df)*100"
   ]
  },
  {
   "cell_type": "markdown",
   "metadata": {},
   "source": [
    "В столбце \"была ли машина в ремонте\" достаточно много пропусков. Считаем, что скорее всего пропуски оставлены там, где машина в ремонте не была, поэтому заменим пропуски на \"no\""
   ]
  },
  {
   "cell_type": "code",
   "execution_count": 9,
   "metadata": {},
   "outputs": [
    {
     "data": {
      "text/plain": [
       "no     247161\n",
       "yes     36054\n",
       "Name: repaired, dtype: int64"
      ]
     },
     "execution_count": 9,
     "metadata": {},
     "output_type": "execute_result"
    }
   ],
   "source": [
    "df['repaired'].value_counts()"
   ]
  },
  {
   "cell_type": "code",
   "execution_count": 10,
   "metadata": {},
   "outputs": [],
   "source": [
    "df['repaired'] = df['repaired'].fillna(\"no\")"
   ]
  },
  {
   "cell_type": "code",
   "execution_count": 11,
   "metadata": {},
   "outputs": [
    {
     "data": {
      "text/plain": [
       "no     318315\n",
       "yes     36054\n",
       "Name: repaired, dtype: int64"
      ]
     },
     "execution_count": 11,
     "metadata": {},
     "output_type": "execute_result"
    }
   ],
   "source": [
    "df['repaired'].value_counts()"
   ]
  },
  {
   "cell_type": "code",
   "execution_count": 12,
   "metadata": {},
   "outputs": [
    {
     "name": "stdout",
     "output_type": "stream",
     "text": [
      "<class 'pandas.core.frame.DataFrame'>\n",
      "RangeIndex: 354369 entries, 0 to 354368\n",
      "Data columns (total 16 columns):\n",
      " #   Column              Non-Null Count   Dtype         \n",
      "---  ------              --------------   -----         \n",
      " 0   date_crawled        354369 non-null  datetime64[ns]\n",
      " 1   price               354369 non-null  int64         \n",
      " 2   vehicle_type        316879 non-null  object        \n",
      " 3   registration_year   354369 non-null  int64         \n",
      " 4   gearbox             334536 non-null  object        \n",
      " 5   power               354369 non-null  int64         \n",
      " 6   model               334664 non-null  object        \n",
      " 7   kilometer           354369 non-null  int64         \n",
      " 8   registration_month  354369 non-null  int64         \n",
      " 9   fuel_type           321474 non-null  object        \n",
      " 10  brand               354369 non-null  object        \n",
      " 11  repaired            354369 non-null  object        \n",
      " 12  date_created        354369 non-null  datetime64[ns]\n",
      " 13  number_of_pictures  354369 non-null  int64         \n",
      " 14  postal_code         354369 non-null  int64         \n",
      " 15  last_seen           354369 non-null  datetime64[ns]\n",
      "dtypes: datetime64[ns](3), int64(7), object(6)\n",
      "memory usage: 43.3+ MB\n"
     ]
    }
   ],
   "source": [
    "df.info()"
   ]
  },
  {
   "cell_type": "markdown",
   "metadata": {},
   "source": [
    "Удалим дубликаты"
   ]
  },
  {
   "cell_type": "code",
   "execution_count": 13,
   "metadata": {},
   "outputs": [
    {
     "name": "stdout",
     "output_type": "stream",
     "text": [
      "<class 'pandas.core.frame.DataFrame'>\n",
      "Int64Index: 354364 entries, 0 to 354368\n",
      "Data columns (total 16 columns):\n",
      " #   Column              Non-Null Count   Dtype         \n",
      "---  ------              --------------   -----         \n",
      " 0   date_crawled        354364 non-null  datetime64[ns]\n",
      " 1   price               354364 non-null  int64         \n",
      " 2   vehicle_type        316874 non-null  object        \n",
      " 3   registration_year   354364 non-null  int64         \n",
      " 4   gearbox             334531 non-null  object        \n",
      " 5   power               354364 non-null  int64         \n",
      " 6   model               334659 non-null  object        \n",
      " 7   kilometer           354364 non-null  int64         \n",
      " 8   registration_month  354364 non-null  int64         \n",
      " 9   fuel_type           321469 non-null  object        \n",
      " 10  brand               354364 non-null  object        \n",
      " 11  repaired            354364 non-null  object        \n",
      " 12  date_created        354364 non-null  datetime64[ns]\n",
      " 13  number_of_pictures  354364 non-null  int64         \n",
      " 14  postal_code         354364 non-null  int64         \n",
      " 15  last_seen           354364 non-null  datetime64[ns]\n",
      "dtypes: datetime64[ns](3), int64(7), object(6)\n",
      "memory usage: 46.0+ MB\n"
     ]
    }
   ],
   "source": [
    "df = df.drop_duplicates()\n",
    "df.info()"
   ]
  },
  {
   "cell_type": "markdown",
   "metadata": {},
   "source": [
    "Рассмотрим аномалии в данных. Для этого напишем функцию построения диаграммы размаха"
   ]
  },
  {
   "cell_type": "code",
   "execution_count": 14,
   "metadata": {},
   "outputs": [],
   "source": [
    "def boxplot_func (column, bins):\n",
    "    print(column.describe())\n",
    "    q1 = column.quantile(0.25)\n",
    "    q3 = column.quantile(0.75)\n",
    "    iqr = q1 - q3\n",
    "    sns.boxplot(x=column, color = 'green')\n",
    "    plt.show()"
   ]
  },
  {
   "cell_type": "markdown",
   "metadata": {},
   "source": [
    "Проанализируем аномалии"
   ]
  },
  {
   "cell_type": "code",
   "execution_count": 15,
   "metadata": {},
   "outputs": [
    {
     "name": "stdout",
     "output_type": "stream",
     "text": [
      "count    354364.000000\n",
      "mean       2004.234471\n",
      "std          90.228593\n",
      "min        1000.000000\n",
      "25%        1999.000000\n",
      "50%        2003.000000\n",
      "75%        2008.000000\n",
      "max        9999.000000\n",
      "Name: registration_year, dtype: float64\n"
     ]
    },
    {
     "data": {
      "image/png": "[encoded data removed]",
      "text/plain": [
       "<Figure size 432x288 with 1 Axes>"
      ]
     },
     "metadata": {
      "needs_background": "light"
     },
     "output_type": "display_data"
    }
   ],
   "source": [
    "plt.xlim(1970, 2020)\n",
    "boxplot_func(df['registration_year'], 10)"
   ]
  },
  {
   "cell_type": "markdown",
   "metadata": {},
   "source": [
    "Удалим автомобили старше 1980 года"
   ]
  },
  {
   "cell_type": "code",
   "execution_count": 16,
   "metadata": {},
   "outputs": [],
   "source": [
    "df=df.loc[df['registration_year']>=1980]\n",
    "df=df.loc[df['registration_year']<=2016]"
   ]
  },
  {
   "cell_type": "markdown",
   "metadata": {},
   "source": [
    "Обработаем пропуски в столбце power"
   ]
  },
  {
   "cell_type": "code",
   "execution_count": 17,
   "metadata": {},
   "outputs": [
    {
     "name": "stdout",
     "output_type": "stream",
     "text": [
      "count    336382.000000\n",
      "mean        111.366345\n",
      "std         185.511454\n",
      "min           0.000000\n",
      "25%          70.000000\n",
      "50%         105.000000\n",
      "75%         143.000000\n",
      "max       20000.000000\n",
      "Name: power, dtype: float64\n"
     ]
    },
    {
     "data": {
      "image/png": "[encoded data removed]",
      "text/plain": [
       "<Figure size 432x288 with 1 Axes>"
      ]
     },
     "metadata": {
      "needs_background": "light"
     },
     "output_type": "display_data"
    }
   ],
   "source": [
    "plt.xlim(0,500)\n",
    "boxplot_func(df['power'], 10)"
   ]
  },
  {
   "cell_type": "code",
   "execution_count": 18,
   "metadata": {},
   "outputs": [],
   "source": [
    "df.loc[(df['power']>1000) | (df['power'] <= 0), 'power'] = None\n",
    "df['power'] = df['power'].fillna(df.groupby('model')['power'].transform('median'))\n",
    "df=df.loc[~df['power'].isna()]"
   ]
  },
  {
   "cell_type": "code",
   "execution_count": 19,
   "metadata": {},
   "outputs": [
    {
     "name": "stdout",
     "output_type": "stream",
     "text": [
      "count    331156.000000\n",
      "mean        119.628622\n",
      "std          53.682556\n",
      "min           1.000000\n",
      "25%          75.000000\n",
      "50%         110.000000\n",
      "75%         147.000000\n",
      "max        1000.000000\n",
      "Name: power, dtype: float64\n"
     ]
    },
    {
     "data": {
      "image/png": "[encoded data removed]",
      "text/plain": [
       "<Figure size 432x288 with 1 Axes>"
      ]
     },
     "metadata": {
      "needs_background": "light"
     },
     "output_type": "display_data"
    }
   ],
   "source": [
    "plt.xlim(0,500)\n",
    "boxplot_func(df['power'], 10)"
   ]
  },
  {
   "cell_type": "markdown",
   "metadata": {},
   "source": [
    "Обработаем пропуски в столбце price"
   ]
  },
  {
   "cell_type": "code",
   "execution_count": 20,
   "metadata": {},
   "outputs": [
    {
     "name": "stdout",
     "output_type": "stream",
     "text": [
      "count    331156.000000\n",
      "mean       4492.860658\n",
      "std        4535.218381\n",
      "min           0.000000\n",
      "25%        1100.000000\n",
      "50%        2800.000000\n",
      "75%        6500.000000\n",
      "max       20000.000000\n",
      "Name: price, dtype: float64\n"
     ]
    },
    {
     "data": {
      "image/png": "[encoded data removed]",
      "text/plain": [
       "<Figure size 432x288 with 1 Axes>"
      ]
     },
     "metadata": {
      "needs_background": "light"
     },
     "output_type": "display_data"
    }
   ],
   "source": [
    "plt.xlim(0, 50000)\n",
    "boxplot_func(df['price'], 10)"
   ]
  },
  {
   "cell_type": "code",
   "execution_count": 21,
   "metadata": {},
   "outputs": [],
   "source": [
    "df = df.loc[df['price'] != 0]"
   ]
  },
  {
   "cell_type": "markdown",
   "metadata": {},
   "source": [
    "Вернёмся к пропускам: заполним их \"заглушкой\" \"n/a\""
   ]
  },
  {
   "cell_type": "code",
   "execution_count": 22,
   "metadata": {},
   "outputs": [
    {
     "name": "stdout",
     "output_type": "stream",
     "text": [
      "<class 'pandas.core.frame.DataFrame'>\n",
      "Int64Index: 322497 entries, 0 to 354368\n",
      "Data columns (total 16 columns):\n",
      " #   Column              Non-Null Count   Dtype         \n",
      "---  ------              --------------   -----         \n",
      " 0   date_crawled        322497 non-null  datetime64[ns]\n",
      " 1   price               322497 non-null  int64         \n",
      " 2   vehicle_type        322497 non-null  object        \n",
      " 3   registration_year   322497 non-null  int64         \n",
      " 4   gearbox             322497 non-null  object        \n",
      " 5   power               322497 non-null  float64       \n",
      " 6   model               322497 non-null  object        \n",
      " 7   kilometer           322497 non-null  int64         \n",
      " 8   registration_month  322497 non-null  int64         \n",
      " 9   fuel_type           322497 non-null  object        \n",
      " 10  brand               322497 non-null  object        \n",
      " 11  repaired            322497 non-null  object        \n",
      " 12  date_created        322497 non-null  datetime64[ns]\n",
      " 13  number_of_pictures  322497 non-null  int64         \n",
      " 14  postal_code         322497 non-null  int64         \n",
      " 15  last_seen           322497 non-null  datetime64[ns]\n",
      "dtypes: datetime64[ns](3), float64(1), int64(6), object(6)\n",
      "memory usage: 41.8+ MB\n"
     ]
    }
   ],
   "source": [
    "df.fillna('n/a',inplace=True)\n",
    "df.info()"
   ]
  },
  {
   "cell_type": "code",
   "execution_count": 23,
   "metadata": {},
   "outputs": [
    {
     "data": {
      "text/plain": [
       "0    322497\n",
       "Name: number_of_pictures, dtype: int64"
      ]
     },
     "execution_count": 23,
     "metadata": {},
     "output_type": "execute_result"
    }
   ],
   "source": [
    "df['number_of_pictures'].value_counts()"
   ]
  },
  {
   "cell_type": "markdown",
   "metadata": {},
   "source": [
    "Удалим столбцы с лишними признаками, которые не влияют на цену (date_crawled, date_created, last_seen, postal_code). Также удалим столбец number_of_pictures, так как в нем константное значение - 0.  "
   ]
  },
  {
   "cell_type": "code",
   "execution_count": 24,
   "metadata": {},
   "outputs": [
    {
     "name": "stdout",
     "output_type": "stream",
     "text": [
      "<class 'pandas.core.frame.DataFrame'>\n",
      "Int64Index: 322497 entries, 0 to 354368\n",
      "Data columns (total 11 columns):\n",
      " #   Column              Non-Null Count   Dtype  \n",
      "---  ------              --------------   -----  \n",
      " 0   price               322497 non-null  int64  \n",
      " 1   vehicle_type        322497 non-null  object \n",
      " 2   registration_year   322497 non-null  int64  \n",
      " 3   gearbox             322497 non-null  object \n",
      " 4   power               322497 non-null  float64\n",
      " 5   model               322497 non-null  object \n",
      " 6   kilometer           322497 non-null  int64  \n",
      " 7   registration_month  322497 non-null  int64  \n",
      " 8   fuel_type           322497 non-null  object \n",
      " 9   brand               322497 non-null  object \n",
      " 10  repaired            322497 non-null  object \n",
      "dtypes: float64(1), int64(4), object(6)\n",
      "memory usage: 29.5+ MB\n"
     ]
    }
   ],
   "source": [
    "df = df.drop(['date_crawled', 'date_created', 'last_seen', 'postal_code', 'number_of_pictures'], axis=1)\n",
    "df.info()"
   ]
  },
  {
   "cell_type": "markdown",
   "metadata": {},
   "source": [
    "## Обучение моделей"
   ]
  },
  {
   "cell_type": "markdown",
   "metadata": {},
   "source": [
    "Подготовим выборки для обучения моделей. Разделим датасет на обучающую, валидационную и тестовую выборки"
   ]
  },
  {
   "cell_type": "code",
   "execution_count": 25,
   "metadata": {},
   "outputs": [],
   "source": [
    "#\"Объявим\" target, чтобы корректно провести разбиение на выборки. \n",
    "target = df['price']\n",
    "\n",
    "#Разделим датасет на 2 выборки - обучающую и валидационно-тестовую. \n",
    "df_train, df_valid_test = train_test_split(df, train_size=0.4, random_state=12345)\n",
    "\n",
    "#Для обучающей выборки уже можно \"объявить\" features и target\n",
    "features_train = df_train.drop(['price'], axis=1)\n",
    "target_train = df_train['price']\n",
    "\n",
    "#\"Объявляем\" target для валидационно-тестовой выборки, чтобы закончить разделение на выборки\n",
    "target_valid_test = df_valid_test['price']\n",
    "\n",
    "#Делим валидационно-тестовую выборку на валидационную и тестовую\n",
    "df_valid, df_test = train_test_split(df_valid_test, train_size=0.5, random_state=12345)\n",
    "\n",
    "#\"Объявляем\" features и target для валидационной и тестовой выборок\n",
    "features_valid = df_valid.drop(['price'], axis=1)\n",
    "target_valid = df_valid['price']\n",
    "features_test = df_test.drop(['price'], axis=1)\n",
    "target_test = df_test['price']"
   ]
  },
  {
   "cell_type": "markdown",
   "metadata": {},
   "source": [
    "Среди признаков есть несколько с типом object. Поэтому перед обучением моделей применим прямое кодирование."
   ]
  },
  {
   "cell_type": "code",
   "execution_count": 26,
   "metadata": {},
   "outputs": [],
   "source": [
    "numeric = ['registration_year', 'power', 'kilometer', 'registration_month']\n",
    "scaler = StandardScaler()\n",
    "scaler.fit(features_train[numeric])\n",
    "features_train[numeric] = scaler.transform(features_train[numeric])\n",
    "features_valid[numeric] = scaler.transform(features_valid[numeric])\n",
    "features_test[numeric] = scaler.transform(features_test[numeric])"
   ]
  },
  {
   "cell_type": "code",
   "execution_count": 27,
   "metadata": {},
   "outputs": [],
   "source": [
    "#Кодируем с помощью OHE обучающую, валидационную и тестовую выборки. Обучаем encoder на тренировочной выборке, \n",
    "#а валидачинную и тестовую кодируем\n",
    "\n",
    "encoder = OneHotEncoder(handle_unknown = 'ignore')\n",
    "cat_features = ['registration_month','fuel_type','repaired', 'vehicle_type','brand', 'gearbox', 'model']\n",
    "train_ohe = encoder.fit_transform(df_train[cat_features])\n",
    "train_ohe = pd.DataFrame(data=train_ohe.toarray(), \n",
    "                         columns=encoder.get_feature_names().tolist(),\n",
    "                         index=df_train.index)\n",
    "train_ohe = pd.concat([df_train.drop(cat_features, axis=1), train_ohe], axis=1)\n",
    "\n",
    "#Кодируем валидационную и тестовую выборки\n",
    "valid_ohe = encoder.transform(df_valid[cat_features])\n",
    "valid_ohe = pd.DataFrame(data=valid_ohe.toarray(), \n",
    "                         columns=encoder.get_feature_names().tolist(),\n",
    "                         index=df_valid.index)\n",
    "valid_ohe = pd.concat([df_valid.drop(cat_features, axis=1), valid_ohe], axis=1)\n",
    "\n",
    "test_ohe = encoder.transform(df_test[cat_features])\n",
    "test_ohe = pd.DataFrame(data=test_ohe.toarray(), \n",
    "                         columns=encoder.get_feature_names().tolist(),\n",
    "                         index=df_test.index)\n",
    "test_ohe = pd.concat([df_test.drop(cat_features, axis=1), test_ohe], axis=1)\n",
    "\n",
    "#задаем features для закодированных данных\n",
    "features_train_ohe = train_ohe.drop(['price'], axis=1)\n",
    "features_valid_ohe = valid_ohe.drop(['price'], axis=1)\n",
    "features_test_ohe = test_ohe.drop(['price'], axis=1)"
   ]
  },
  {
   "cell_type": "markdown",
   "metadata": {},
   "source": [
    "Обучим модели решающего дерева, линеарной регресии и градиентного бустинга. Проверим модели на эффективность с помощью метрики RMSE и выясним скорость предсказания. Начнём с модели решающего дерева. "
   ]
  },
  {
   "cell_type": "code",
   "execution_count": 28,
   "metadata": {},
   "outputs": [
    {
     "name": "stdout",
     "output_type": "stream",
     "text": [
      "RMSE для решающего дерева: 2495.7964404647278\n"
     ]
    }
   ],
   "source": [
    "model_tree = DecisionTreeClassifier(random_state=12345, max_depth=7)\n",
    "model_tree.fit(features_train_ohe, target_train) \n",
    "predicted = model_tree.predict(features_valid_ohe)\n",
    "\n",
    "print(\"RMSE для решающего дерева:\", (mean_squared_error(target_valid, predicted))**0.5)"
   ]
  },
  {
   "cell_type": "markdown",
   "metadata": {},
   "source": [
    "RMSE достаточна, но попробуем улучшить результат. Подберём лучшую глубину дерева. "
   ]
  },
  {
   "cell_type": "code",
   "execution_count": 29,
   "metadata": {},
   "outputs": [
    {
     "name": "stdout",
     "output_type": "stream",
     "text": [
      "max_depth = 7 : 2495.7964404647278\n",
      "max_depth = 8 : 2471.2178317699136\n",
      "max_depth = 9 : 2460.743670112568\n",
      "max_depth = 10 : 2417.3466959358398\n",
      "max_depth = 11 : 2403.0518088248946\n"
     ]
    }
   ],
   "source": [
    "#мы пробовали разные диапазоны для поиска оптимальной глубины дерева (от 1 до 10, от 10 до 20 и т.д.), прежде чем остановиться на выбранном\n",
    "best_model = None\n",
    "best_result = 0\n",
    "for depth in range(7, 12):\n",
    "    model_tree = DecisionTreeClassifier(random_state=12345, max_depth=depth)\n",
    "    model_tree.fit(features_train_ohe, target_train)\n",
    "    predicted = model_tree.predict(features_valid_ohe)\n",
    "    result = (mean_squared_error(target_valid, predicted))**0.5\n",
    "    print('max_depth =', depth, ':', result)"
   ]
  },
  {
   "cell_type": "markdown",
   "metadata": {},
   "source": [
    "Выбираем глубину дерева 11 и обучаем модель"
   ]
  },
  {
   "cell_type": "code",
   "execution_count": 30,
   "metadata": {},
   "outputs": [
    {
     "data": {
      "text/plain": [
       "DecisionTreeClassifier(max_depth=11, random_state=12345)"
      ]
     },
     "execution_count": 30,
     "metadata": {},
     "output_type": "execute_result"
    }
   ],
   "source": [
    "model_tree = DecisionTreeClassifier(random_state=12345, max_depth=11)\n",
    "model_tree.fit(features_train_ohe, target_train) \n"
   ]
  },
  {
   "cell_type": "code",
   "execution_count": 33,
   "metadata": {},
   "outputs": [
    {
     "name": "stdout",
     "output_type": "stream",
     "text": [
      "RMSE для лучшего решающего дерева: 2403.0518088248946\n",
      "CPU times: user 498 ms, sys: 601 ms, total: 1.1 s\n",
      "Wall time: 1.1 s\n"
     ]
    }
   ],
   "source": [
    "%%time\n",
    "predicted = model_tree.predict(features_valid_ohe)\n",
    "print(\"RMSE для лучшего решающего дерева:\", (mean_squared_error(target_valid, predicted))**0.5)"
   ]
  },
  {
   "cell_type": "markdown",
   "metadata": {},
   "source": [
    "Таким образом, с помощью обучения модели решающим деревом, мы получили rmse 2403 за 1 секунду. Теперь обучим модель линеарной регрессии."
   ]
  },
  {
   "cell_type": "code",
   "execution_count": 39,
   "metadata": {},
   "outputs": [
    {
     "data": {
      "text/plain": [
       "LinearRegression()"
      ]
     },
     "execution_count": 39,
     "metadata": {},
     "output_type": "execute_result"
    }
   ],
   "source": [
    "model_lg = LinearRegression()\n",
    "model_lg.fit(features_train_ohe, target_train)"
   ]
  },
  {
   "cell_type": "code",
   "execution_count": 35,
   "metadata": {},
   "outputs": [
    {
     "name": "stdout",
     "output_type": "stream",
     "text": [
      "RMSE для линеарной регрессии: 2492.2532365329657\n",
      "CPU times: user 109 ms, sys: 123 ms, total: 232 ms\n",
      "Wall time: 221 ms\n"
     ]
    }
   ],
   "source": [
    "%%time\n",
    "predicted = model_lg.predict(features_valid_ohe)\n",
    "rmse = (mean_squared_error(target_valid, predicted))**0.5\n",
    "print(\"RMSE для линеарной регрессии:\", (mean_squared_error(target_valid, predicted))**0.5)"
   ]
  },
  {
   "cell_type": "markdown",
   "metadata": {},
   "source": [
    "Линеарная регрессия показала также допустимую RMSE, результат - rmse 2492 за 221 милисекунды. Далее обучим модель методом градиентного бустинга."
   ]
  },
  {
   "cell_type": "code",
   "execution_count": 36,
   "metadata": {},
   "outputs": [
    {
     "name": "stdout",
     "output_type": "stream",
     "text": [
      "CPU times: user 4.92 s, sys: 129 ms, total: 5.05 s\n",
      "Wall time: 5.1 s\n"
     ]
    },
    {
     "data": {
      "text/plain": [
       "LGBMRegressor()"
      ]
     },
     "execution_count": 36,
     "metadata": {},
     "output_type": "execute_result"
    }
   ],
   "source": [
    "%%time\n",
    "model_lgb = LGBMRegressor()\n",
    "model_lgb.fit(features_train_ohe, target_train)\n"
   ]
  },
  {
   "cell_type": "code",
   "execution_count": 38,
   "metadata": {},
   "outputs": [
    {
     "name": "stdout",
     "output_type": "stream",
     "text": [
      "RMSE для градиентного бустинга: 1675.5539697034942\n",
      "CPU times: user 1.09 s, sys: 176 ms, total: 1.26 s\n",
      "Wall time: 1.22 s\n"
     ]
    }
   ],
   "source": [
    "%%time\n",
    "predicted = model_lgb.predict(features_valid_ohe)\n",
    "rmse = (mean_squared_error(target_valid, predicted))**0.5\n",
    "print(\"RMSE для градиентного бустинга:\", (mean_squared_error(target_valid, predicted))**0.5)"
   ]
  },
  {
   "cell_type": "markdown",
   "metadata": {},
   "source": [
    "Градиентный бустинг показывает результат rmse 1675, при этом время предсказания - 1.22 секунды "
   ]
  },
  {
   "cell_type": "markdown",
   "metadata": {},
   "source": [
    "## Анализ моделей и выводы"
   ]
  },
  {
   "cell_type": "markdown",
   "metadata": {},
   "source": [
    "Таким образом обучение градиентным бустингом показало наилучшие результаты по RMSE. Да, время предсказания у этой модели самое большое, но всё же оно не превышает 1,5 секунд. Поэтому, считаем адекватным решением выбрать для предсказания цены автомобиля именно эту модель. \n"
   ]
  },
  {
   "cell_type": "markdown",
   "metadata": {},
   "source": [
    "В рамках этого исследования мы подготовили данные (проработали пропуски, дубликаты и аномалии, избавились от лишних столбцов, провели кодирование категориальных признаков), обучили модели и выбрали лучшую из них. Ей окалась модель градиентного бустинга.  "
   ]
  }
 ],
 "metadata": {
  "ExecuteTimeLog": [
   {
    "duration": 58,
    "start_time": "2022-12-04T11:11:49.021Z"
   },
   {
    "duration": 347,
    "start_time": "2022-12-04T11:11:52.241Z"
   },
   {
    "duration": 38,
    "start_time": "2022-12-04T11:11:53.072Z"
   },
   {
    "duration": 3547,
    "start_time": "2022-12-04T11:12:00.218Z"
   },
   {
    "duration": 140,
    "start_time": "2022-12-04T11:12:45.719Z"
   },
   {
    "duration": 9,
    "start_time": "2022-12-04T11:13:05.309Z"
   },
   {
    "duration": 6,
    "start_time": "2022-12-04T11:13:07.944Z"
   },
   {
    "duration": 16,
    "start_time": "2022-12-04T11:13:15.619Z"
   },
   {
    "duration": 3,
    "start_time": "2022-12-04T11:15:36.757Z"
   },
   {
    "duration": 133,
    "start_time": "2022-12-04T11:15:40.131Z"
   },
   {
    "duration": 89,
    "start_time": "2022-12-04T11:16:34.556Z"
   },
   {
    "duration": 95,
    "start_time": "2022-12-04T11:16:41.510Z"
   },
   {
    "duration": 136,
    "start_time": "2022-12-04T11:16:45.503Z"
   },
   {
    "duration": 135,
    "start_time": "2022-12-04T11:16:55.604Z"
   },
   {
    "duration": 148,
    "start_time": "2022-12-04T11:33:32.813Z"
   },
   {
    "duration": 233,
    "start_time": "2022-12-04T11:37:54.821Z"
   },
   {
    "duration": 120,
    "start_time": "2022-12-04T11:37:59.200Z"
   },
   {
    "duration": 72,
    "start_time": "2022-12-04T11:38:12.765Z"
   },
   {
    "duration": 7,
    "start_time": "2022-12-04T11:40:00.811Z"
   },
   {
    "duration": 3,
    "start_time": "2022-12-04T11:52:42.605Z"
   },
   {
    "duration": 742,
    "start_time": "2022-12-04T11:52:43.033Z"
   },
   {
    "duration": 139,
    "start_time": "2022-12-04T11:52:43.778Z"
   },
   {
    "duration": 133,
    "start_time": "2022-12-04T11:52:45.228Z"
   },
   {
    "duration": 100,
    "start_time": "2022-12-04T11:53:27.023Z"
   },
   {
    "duration": 112,
    "start_time": "2022-12-04T11:53:27.781Z"
   },
   {
    "duration": 2,
    "start_time": "2022-12-04T12:06:16.596Z"
   },
   {
    "duration": 723,
    "start_time": "2022-12-04T12:06:17.055Z"
   },
   {
    "duration": 133,
    "start_time": "2022-12-04T12:06:17.780Z"
   },
   {
    "duration": 130,
    "start_time": "2022-12-04T12:06:20.690Z"
   },
   {
    "duration": 134,
    "start_time": "2022-12-04T12:07:29.778Z"
   },
   {
    "duration": 4,
    "start_time": "2022-12-04T12:07:37.654Z"
   },
   {
    "duration": 8,
    "start_time": "2022-12-04T12:08:19.319Z"
   },
   {
    "duration": 105,
    "start_time": "2022-12-04T12:08:26.249Z"
   },
   {
    "duration": 7,
    "start_time": "2022-12-04T12:08:45.028Z"
   },
   {
    "duration": 142,
    "start_time": "2022-12-04T12:08:50.950Z"
   },
   {
    "duration": 101,
    "start_time": "2022-12-04T12:08:59.480Z"
   },
   {
    "duration": 30,
    "start_time": "2022-12-04T12:10:12.061Z"
   },
   {
    "duration": 9,
    "start_time": "2022-12-04T12:12:33.256Z"
   },
   {
    "duration": 7,
    "start_time": "2022-12-04T12:12:37.090Z"
   },
   {
    "duration": 7,
    "start_time": "2022-12-04T12:12:39.447Z"
   },
   {
    "duration": 120,
    "start_time": "2022-12-04T12:12:45.148Z"
   },
   {
    "duration": 125,
    "start_time": "2022-12-04T12:12:49.344Z"
   },
   {
    "duration": 49,
    "start_time": "2022-12-04T12:46:24.896Z"
   },
   {
    "duration": 134,
    "start_time": "2022-12-04T12:46:37.044Z"
   },
   {
    "duration": 141,
    "start_time": "2022-12-04T12:53:00.998Z"
   },
   {
    "duration": 126,
    "start_time": "2022-12-04T12:53:22.597Z"
   },
   {
    "duration": 3,
    "start_time": "2022-12-04T12:57:08.894Z"
   },
   {
    "duration": 3,
    "start_time": "2022-12-04T12:57:10.443Z"
   },
   {
    "duration": 144,
    "start_time": "2022-12-04T12:58:30.698Z"
   },
   {
    "duration": 3,
    "start_time": "2022-12-04T12:58:38.250Z"
   },
   {
    "duration": 1318,
    "start_time": "2022-12-04T12:58:38.703Z"
   },
   {
    "duration": 145,
    "start_time": "2022-12-04T12:59:47.092Z"
   },
   {
    "duration": 4,
    "start_time": "2022-12-04T13:00:04.101Z"
   },
   {
    "duration": 374156,
    "start_time": "2022-12-04T13:00:04.806Z"
   },
   {
    "duration": 23,
    "start_time": "2022-12-04T13:06:18.964Z"
   },
   {
    "duration": 170,
    "start_time": "2022-12-04T13:06:18.988Z"
   },
   {
    "duration": 133,
    "start_time": "2022-12-04T13:15:47.494Z"
   },
   {
    "duration": 12,
    "start_time": "2022-12-04T13:16:41.141Z"
   },
   {
    "duration": 140,
    "start_time": "2022-12-04T13:16:48.171Z"
   },
   {
    "duration": 4,
    "start_time": "2022-12-04T13:17:31.162Z"
   },
   {
    "duration": 419,
    "start_time": "2022-12-05T13:26:48.422Z"
   },
   {
    "duration": 1073,
    "start_time": "2022-12-05T13:26:48.907Z"
   },
   {
    "duration": 144,
    "start_time": "2022-12-05T13:26:49.982Z"
   },
   {
    "duration": 132,
    "start_time": "2022-12-05T13:26:50.256Z"
   },
   {
    "duration": 73,
    "start_time": "2022-12-05T13:26:51.294Z"
   },
   {
    "duration": 113,
    "start_time": "2022-12-05T13:26:51.795Z"
   },
   {
    "duration": 149,
    "start_time": "2022-12-05T13:26:52.948Z"
   },
   {
    "duration": 3,
    "start_time": "2022-12-05T13:26:54.774Z"
   },
   {
    "duration": 382656,
    "start_time": "2022-12-05T13:26:56.618Z"
   },
   {
    "duration": 3,
    "start_time": "2022-12-05T13:39:27.477Z"
   },
   {
    "duration": 752,
    "start_time": "2022-12-05T13:39:27.920Z"
   },
   {
    "duration": 121,
    "start_time": "2022-12-05T13:39:28.674Z"
   },
   {
    "duration": 125,
    "start_time": "2022-12-05T13:39:30.014Z"
   },
   {
    "duration": 56,
    "start_time": "2022-12-05T13:39:31.252Z"
   },
   {
    "duration": 141,
    "start_time": "2022-12-05T13:39:32.294Z"
   },
   {
    "duration": 136,
    "start_time": "2022-12-05T13:39:35.692Z"
   },
   {
    "duration": 4,
    "start_time": "2022-12-05T13:39:37.530Z"
   },
   {
    "duration": 3,
    "start_time": "2022-12-05T13:39:39.344Z"
   },
   {
    "duration": 389931,
    "start_time": "2022-12-05T13:39:55.063Z"
   },
   {
    "duration": 17,
    "start_time": "2022-12-05T13:49:16.581Z"
   },
   {
    "duration": 167,
    "start_time": "2022-12-05T13:49:26.210Z"
   },
   {
    "duration": 383973,
    "start_time": "2022-12-05T13:49:31.544Z"
   },
   {
    "duration": 115,
    "start_time": "2022-12-05T13:55:59.050Z"
   },
   {
    "duration": 142,
    "start_time": "2022-12-05T13:57:41.167Z"
   },
   {
    "duration": 382011,
    "start_time": "2022-12-05T13:59:15.568Z"
   },
   {
    "duration": 127,
    "start_time": "2022-12-05T14:05:46.806Z"
   },
   {
    "duration": 876,
    "start_time": "2022-12-05T14:07:52.104Z"
   },
   {
    "duration": 34,
    "start_time": "2022-12-05T14:07:57.212Z"
   },
   {
    "duration": 31,
    "start_time": "2022-12-05T14:11:41.204Z"
   },
   {
    "duration": 18,
    "start_time": "2022-12-05T14:11:53.390Z"
   },
   {
    "duration": 563,
    "start_time": "2022-12-05T14:11:53.992Z"
   },
   {
    "duration": 648,
    "start_time": "2022-12-05T14:12:17.208Z"
   },
   {
    "duration": 598,
    "start_time": "2022-12-05T14:12:17.942Z"
   },
   {
    "duration": 10,
    "start_time": "2022-12-05T14:12:28.467Z"
   },
   {
    "duration": 367,
    "start_time": "2022-12-06T06:27:52.943Z"
   },
   {
    "duration": 976,
    "start_time": "2022-12-06T06:27:53.319Z"
   },
   {
    "duration": 119,
    "start_time": "2022-12-06T06:27:54.297Z"
   },
   {
    "duration": 123,
    "start_time": "2022-12-06T06:27:54.445Z"
   },
   {
    "duration": 75,
    "start_time": "2022-12-06T06:27:55.208Z"
   },
   {
    "duration": 111,
    "start_time": "2022-12-06T06:27:55.561Z"
   },
   {
    "duration": 130,
    "start_time": "2022-12-06T06:27:56.348Z"
   },
   {
    "duration": 2,
    "start_time": "2022-12-06T06:27:57.068Z"
   },
   {
    "duration": 354542,
    "start_time": "2022-12-06T06:27:57.892Z"
   },
   {
    "duration": 17,
    "start_time": "2022-12-06T06:33:52.436Z"
   },
   {
    "duration": 129,
    "start_time": "2022-12-06T06:34:54.878Z"
   },
   {
    "duration": 366638,
    "start_time": "2022-12-06T06:34:59.448Z"
   },
   {
    "duration": 16,
    "start_time": "2022-12-06T06:41:14.591Z"
   },
   {
    "duration": 116,
    "start_time": "2022-12-06T06:41:15.546Z"
   },
   {
    "duration": 136,
    "start_time": "2022-12-06T06:41:18.010Z"
   },
   {
    "duration": 362855,
    "start_time": "2022-12-06T06:41:23.208Z"
   },
   {
    "duration": 109,
    "start_time": "2022-12-06T06:47:38.746Z"
   },
   {
    "duration": 30,
    "start_time": "2022-12-06T06:47:54.479Z"
   },
   {
    "duration": 18,
    "start_time": "2022-12-06T06:47:56.855Z"
   },
   {
    "duration": 119,
    "start_time": "2022-12-06T06:48:07.765Z"
   },
   {
    "duration": 30,
    "start_time": "2022-12-06T06:48:26.499Z"
   },
   {
    "duration": 730,
    "start_time": "2022-12-06T06:49:53.829Z"
   },
   {
    "duration": 808,
    "start_time": "2022-12-06T06:50:06.015Z"
   },
   {
    "duration": 144,
    "start_time": "2022-12-06T06:50:15.780Z"
   },
   {
    "duration": 2094,
    "start_time": "2022-12-06T06:50:35.992Z"
   },
   {
    "duration": 351,
    "start_time": "2022-12-08T06:42:45.249Z"
   },
   {
    "duration": 1095,
    "start_time": "2022-12-08T06:42:45.751Z"
   },
   {
    "duration": 129,
    "start_time": "2022-12-08T06:42:46.849Z"
   },
   {
    "duration": 108,
    "start_time": "2022-12-08T06:42:51.459Z"
   },
   {
    "duration": 3,
    "start_time": "2022-12-08T06:54:08.138Z"
   },
   {
    "duration": 144,
    "start_time": "2022-12-08T06:54:16.599Z"
   },
   {
    "duration": 64,
    "start_time": "2022-12-08T06:55:16.806Z"
   },
   {
    "duration": 6,
    "start_time": "2022-12-08T06:55:21.517Z"
   },
   {
    "duration": 117,
    "start_time": "2022-12-08T06:55:22.211Z"
   },
   {
    "duration": 4,
    "start_time": "2022-12-08T06:55:45.275Z"
   },
   {
    "duration": 145,
    "start_time": "2022-12-08T06:55:45.814Z"
   },
   {
    "duration": 481,
    "start_time": "2022-12-08T07:00:17.861Z"
   },
   {
    "duration": 441,
    "start_time": "2022-12-08T07:00:49.049Z"
   },
   {
    "duration": 406,
    "start_time": "2022-12-08T07:02:49.910Z"
   },
   {
    "duration": 727,
    "start_time": "2022-12-08T07:02:55.932Z"
   },
   {
    "duration": 657,
    "start_time": "2022-12-08T07:03:14.459Z"
   },
   {
    "duration": 601,
    "start_time": "2022-12-08T07:03:34.308Z"
   },
   {
    "duration": 442,
    "start_time": "2022-12-08T07:04:23.378Z"
   },
   {
    "duration": 557,
    "start_time": "2022-12-08T07:04:39.725Z"
   },
   {
    "duration": 604,
    "start_time": "2022-12-08T07:04:54.911Z"
   },
   {
    "duration": 191,
    "start_time": "2022-12-08T07:05:01.809Z"
   },
   {
    "duration": 42,
    "start_time": "2022-12-08T07:05:06.491Z"
   },
   {
    "duration": 3,
    "start_time": "2022-12-08T07:05:12.428Z"
   },
   {
    "duration": 808,
    "start_time": "2022-12-08T07:05:12.815Z"
   },
   {
    "duration": 127,
    "start_time": "2022-12-08T07:05:13.625Z"
   },
   {
    "duration": 6,
    "start_time": "2022-12-08T07:05:14.511Z"
   },
   {
    "duration": 123,
    "start_time": "2022-12-08T07:05:15.459Z"
   },
   {
    "duration": 251,
    "start_time": "2022-12-08T07:05:20.609Z"
   },
   {
    "duration": 83,
    "start_time": "2022-12-08T07:14:08.271Z"
   },
   {
    "duration": 775,
    "start_time": "2022-12-08T07:15:50.408Z"
   },
   {
    "duration": 32,
    "start_time": "2022-12-08T07:15:59.574Z"
   },
   {
    "duration": 857,
    "start_time": "2022-12-08T07:16:16.126Z"
   },
   {
    "duration": 18,
    "start_time": "2022-12-08T07:16:23.071Z"
   },
   {
    "duration": 764,
    "start_time": "2022-12-08T07:16:47.496Z"
   },
   {
    "duration": 28,
    "start_time": "2022-12-08T07:16:51.622Z"
   },
   {
    "duration": 84,
    "start_time": "2022-12-08T07:17:09.192Z"
   },
   {
    "duration": 146,
    "start_time": "2022-12-08T07:44:42.173Z"
   },
   {
    "duration": 365,
    "start_time": "2022-12-08T07:46:15.155Z"
   },
   {
    "duration": 31,
    "start_time": "2022-12-08T07:48:59.045Z"
   },
   {
    "duration": 103,
    "start_time": "2022-12-08T07:49:07.449Z"
   },
   {
    "duration": 97,
    "start_time": "2022-12-08T07:49:27.268Z"
   },
   {
    "duration": 5,
    "start_time": "2022-12-08T07:57:09.610Z"
   },
   {
    "duration": 7,
    "start_time": "2022-12-08T07:58:35.522Z"
   },
   {
    "duration": 508,
    "start_time": "2022-12-08T07:59:05.882Z"
   },
   {
    "duration": 121,
    "start_time": "2022-12-08T07:59:11.409Z"
   },
   {
    "duration": 4,
    "start_time": "2022-12-08T07:59:29.843Z"
   },
   {
    "duration": 134,
    "start_time": "2022-12-08T07:59:30.735Z"
   },
   {
    "duration": 543,
    "start_time": "2022-12-08T07:59:51.185Z"
   },
   {
    "duration": 133,
    "start_time": "2022-12-08T08:00:04.358Z"
   },
   {
    "duration": 30,
    "start_time": "2022-12-08T08:02:07.641Z"
   },
   {
    "duration": 2,
    "start_time": "2022-12-08T08:07:07.557Z"
   },
   {
    "duration": 737,
    "start_time": "2022-12-08T08:07:08.357Z"
   },
   {
    "duration": 120,
    "start_time": "2022-12-08T08:07:09.095Z"
   },
   {
    "duration": 4,
    "start_time": "2022-12-08T08:07:09.889Z"
   },
   {
    "duration": 118,
    "start_time": "2022-12-08T08:07:10.305Z"
   },
   {
    "duration": 241,
    "start_time": "2022-12-08T08:07:11.293Z"
   },
   {
    "duration": 86,
    "start_time": "2022-12-08T08:07:11.855Z"
   },
   {
    "duration": 77,
    "start_time": "2022-12-08T08:07:13.236Z"
   },
   {
    "duration": 28,
    "start_time": "2022-12-08T08:07:14.731Z"
   },
   {
    "duration": 19,
    "start_time": "2022-12-08T08:07:15.124Z"
   },
   {
    "duration": 35,
    "start_time": "2022-12-08T08:07:15.496Z"
   },
   {
    "duration": 91,
    "start_time": "2022-12-08T08:07:15.965Z"
   },
   {
    "duration": 349,
    "start_time": "2022-12-08T08:07:17.815Z"
   },
   {
    "duration": 3,
    "start_time": "2022-12-08T08:07:19.151Z"
   },
   {
    "duration": 127,
    "start_time": "2022-12-08T08:07:20.067Z"
   },
   {
    "duration": 27,
    "start_time": "2022-12-08T08:07:20.736Z"
   },
   {
    "duration": 70,
    "start_time": "2022-12-08T08:09:02.694Z"
   },
   {
    "duration": 137,
    "start_time": "2022-12-08T08:09:34.931Z"
   },
   {
    "duration": 146,
    "start_time": "2022-12-08T08:10:38.257Z"
   },
   {
    "duration": 3,
    "start_time": "2022-12-08T08:10:43.891Z"
   },
   {
    "duration": 743,
    "start_time": "2022-12-08T08:10:44.232Z"
   },
   {
    "duration": 113,
    "start_time": "2022-12-08T08:10:44.977Z"
   },
   {
    "duration": 5,
    "start_time": "2022-12-08T08:10:45.165Z"
   },
   {
    "duration": 113,
    "start_time": "2022-12-08T08:10:45.510Z"
   },
   {
    "duration": 255,
    "start_time": "2022-12-08T08:10:46.186Z"
   },
   {
    "duration": 73,
    "start_time": "2022-12-08T08:10:46.514Z"
   },
   {
    "duration": 96,
    "start_time": "2022-12-08T08:10:47.168Z"
   },
   {
    "duration": 33,
    "start_time": "2022-12-08T08:10:47.858Z"
   },
   {
    "duration": 19,
    "start_time": "2022-12-08T08:10:48.172Z"
   },
   {
    "duration": 27,
    "start_time": "2022-12-08T08:10:48.510Z"
   },
   {
    "duration": 81,
    "start_time": "2022-12-08T08:10:48.855Z"
   },
   {
    "duration": 370,
    "start_time": "2022-12-08T08:10:50.113Z"
   },
   {
    "duration": 4,
    "start_time": "2022-12-08T08:10:50.955Z"
   },
   {
    "duration": 140,
    "start_time": "2022-12-08T08:10:51.795Z"
   },
   {
    "duration": 38,
    "start_time": "2022-12-08T08:10:53.193Z"
   },
   {
    "duration": 140,
    "start_time": "2022-12-08T08:10:54.368Z"
   },
   {
    "duration": 71,
    "start_time": "2022-12-08T08:11:00.961Z"
   },
   {
    "duration": 148,
    "start_time": "2022-12-08T08:11:01.467Z"
   },
   {
    "duration": 158,
    "start_time": "2022-12-08T08:12:43.988Z"
   },
   {
    "duration": 26,
    "start_time": "2022-12-08T08:13:40.120Z"
   },
   {
    "duration": 30,
    "start_time": "2022-12-08T08:14:24.688Z"
   },
   {
    "duration": 1281,
    "start_time": "2022-12-09T08:39:57.525Z"
   },
   {
    "duration": 2892,
    "start_time": "2022-12-09T08:39:58.808Z"
   },
   {
    "duration": 123,
    "start_time": "2022-12-09T08:40:02.607Z"
   },
   {
    "duration": 4,
    "start_time": "2022-12-09T08:40:03.982Z"
   },
   {
    "duration": 127,
    "start_time": "2022-12-09T08:40:04.951Z"
   },
   {
    "duration": 274,
    "start_time": "2022-12-09T08:40:06.376Z"
   },
   {
    "duration": 83,
    "start_time": "2022-12-09T08:40:07.190Z"
   },
   {
    "duration": 92,
    "start_time": "2022-12-09T08:40:08.585Z"
   },
   {
    "duration": 31,
    "start_time": "2022-12-09T08:40:09.715Z"
   },
   {
    "duration": 21,
    "start_time": "2022-12-09T08:40:10.244Z"
   },
   {
    "duration": 32,
    "start_time": "2022-12-09T08:40:10.754Z"
   },
   {
    "duration": 86,
    "start_time": "2022-12-09T08:40:11.248Z"
   },
   {
    "duration": 382,
    "start_time": "2022-12-09T08:40:12.998Z"
   },
   {
    "duration": 3,
    "start_time": "2022-12-09T08:40:14.168Z"
   },
   {
    "duration": 126,
    "start_time": "2022-12-09T08:40:15.239Z"
   },
   {
    "duration": 28,
    "start_time": "2022-12-09T08:40:15.821Z"
   },
   {
    "duration": 117,
    "start_time": "2022-12-09T08:40:16.314Z"
   },
   {
    "duration": 66,
    "start_time": "2022-12-09T08:40:16.901Z"
   },
   {
    "duration": 155,
    "start_time": "2022-12-09T08:40:17.405Z"
   },
   {
    "duration": 141,
    "start_time": "2022-12-09T08:40:17.980Z"
   },
   {
    "duration": 26,
    "start_time": "2022-12-09T08:40:18.464Z"
   },
   {
    "duration": 159,
    "start_time": "2022-12-09T08:40:19.665Z"
   },
   {
    "duration": 117,
    "start_time": "2022-12-09T08:40:21.401Z"
   },
   {
    "duration": 255,
    "start_time": "2022-12-09T08:43:49.920Z"
   },
   {
    "duration": 129,
    "start_time": "2022-12-09T08:47:41.207Z"
   },
   {
    "duration": 147,
    "start_time": "2022-12-09T08:48:22.226Z"
   },
   {
    "duration": 104,
    "start_time": "2022-12-09T08:51:25.670Z"
   },
   {
    "duration": 4,
    "start_time": "2022-12-09T08:53:08.819Z"
   },
   {
    "duration": 68,
    "start_time": "2022-12-09T08:57:38.100Z"
   },
   {
    "duration": 46,
    "start_time": "2022-12-09T09:00:17.853Z"
   },
   {
    "duration": 582,
    "start_time": "2022-12-09T09:06:08.726Z"
   },
   {
    "duration": 3700,
    "start_time": "2022-12-09T09:06:10.870Z"
   },
   {
    "duration": 3392,
    "start_time": "2022-12-09T09:06:27.749Z"
   },
   {
    "duration": 4,
    "start_time": "2022-12-09T09:08:38.215Z"
   },
   {
    "duration": 24810,
    "start_time": "2022-12-09T09:08:46.374Z"
   },
   {
    "duration": 41893,
    "start_time": "2022-12-09T09:09:27.321Z"
   },
   {
    "duration": 69587,
    "start_time": "2022-12-09T09:11:04.407Z"
   },
   {
    "duration": 1526,
    "start_time": "2022-12-09T12:13:59.397Z"
   },
   {
    "duration": 2790,
    "start_time": "2022-12-09T12:14:00.925Z"
   },
   {
    "duration": 110,
    "start_time": "2022-12-09T12:14:03.717Z"
   },
   {
    "duration": 5,
    "start_time": "2022-12-09T12:14:03.830Z"
   },
   {
    "duration": 112,
    "start_time": "2022-12-09T12:14:03.837Z"
   },
   {
    "duration": 281,
    "start_time": "2022-12-09T12:14:03.951Z"
   },
   {
    "duration": 71,
    "start_time": "2022-12-09T12:14:04.234Z"
   },
   {
    "duration": 125,
    "start_time": "2022-12-09T12:14:04.307Z"
   },
   {
    "duration": 60,
    "start_time": "2022-12-09T12:14:04.435Z"
   },
   {
    "duration": 20,
    "start_time": "2022-12-09T12:14:04.496Z"
   },
   {
    "duration": 26,
    "start_time": "2022-12-09T12:14:04.658Z"
   },
   {
    "duration": 90,
    "start_time": "2022-12-09T12:14:05.033Z"
   },
   {
    "duration": 361,
    "start_time": "2022-12-09T12:14:06.179Z"
   },
   {
    "duration": 3,
    "start_time": "2022-12-09T12:14:06.943Z"
   },
   {
    "duration": 140,
    "start_time": "2022-12-09T12:14:07.751Z"
   },
   {
    "duration": 30,
    "start_time": "2022-12-09T12:14:08.211Z"
   },
   {
    "duration": 121,
    "start_time": "2022-12-09T12:14:08.672Z"
   },
   {
    "duration": 68,
    "start_time": "2022-12-09T12:14:09.156Z"
   },
   {
    "duration": 126,
    "start_time": "2022-12-09T12:14:09.603Z"
   },
   {
    "duration": 135,
    "start_time": "2022-12-09T12:14:10.063Z"
   },
   {
    "duration": 25,
    "start_time": "2022-12-09T12:14:10.488Z"
   },
   {
    "duration": 128,
    "start_time": "2022-12-09T12:14:11.342Z"
   },
   {
    "duration": 99,
    "start_time": "2022-12-09T12:14:12.323Z"
   },
   {
    "duration": 211,
    "start_time": "2022-12-09T12:14:13.426Z"
   },
   {
    "duration": 613,
    "start_time": "2022-12-09T12:14:15.303Z"
   },
   {
    "duration": 4398,
    "start_time": "2022-12-09T12:14:16.034Z"
   },
   {
    "duration": 48,
    "start_time": "2022-12-09T12:18:53.748Z"
   },
   {
    "duration": 1334,
    "start_time": "2022-12-09T12:19:08.842Z"
   },
   {
    "duration": 2712,
    "start_time": "2022-12-09T12:19:10.178Z"
   },
   {
    "duration": 115,
    "start_time": "2022-12-09T12:19:14.578Z"
   },
   {
    "duration": 4,
    "start_time": "2022-12-09T12:19:16.313Z"
   },
   {
    "duration": 105,
    "start_time": "2022-12-09T12:19:16.701Z"
   },
   {
    "duration": 253,
    "start_time": "2022-12-09T12:19:17.451Z"
   },
   {
    "duration": 85,
    "start_time": "2022-12-09T12:19:17.830Z"
   },
   {
    "duration": 72,
    "start_time": "2022-12-09T12:19:18.493Z"
   },
   {
    "duration": 32,
    "start_time": "2022-12-09T12:19:19.211Z"
   },
   {
    "duration": 18,
    "start_time": "2022-12-09T12:19:19.514Z"
   },
   {
    "duration": 28,
    "start_time": "2022-12-09T12:19:19.878Z"
   },
   {
    "duration": 82,
    "start_time": "2022-12-09T12:19:20.224Z"
   },
   {
    "duration": 366,
    "start_time": "2022-12-09T12:19:21.231Z"
   },
   {
    "duration": 3,
    "start_time": "2022-12-09T12:19:21.880Z"
   },
   {
    "duration": 126,
    "start_time": "2022-12-09T12:19:22.561Z"
   },
   {
    "duration": 30,
    "start_time": "2022-12-09T12:19:22.900Z"
   },
   {
    "duration": 118,
    "start_time": "2022-12-09T12:19:23.278Z"
   },
   {
    "duration": 68,
    "start_time": "2022-12-09T12:19:23.628Z"
   },
   {
    "duration": 126,
    "start_time": "2022-12-09T12:19:23.966Z"
   },
   {
    "duration": 139,
    "start_time": "2022-12-09T12:19:24.323Z"
   },
   {
    "duration": 26,
    "start_time": "2022-12-09T12:19:24.652Z"
   },
   {
    "duration": 163,
    "start_time": "2022-12-09T12:19:25.352Z"
   },
   {
    "duration": 99,
    "start_time": "2022-12-09T12:19:26.097Z"
   },
   {
    "duration": 190,
    "start_time": "2022-12-09T12:19:27.210Z"
   },
   {
    "duration": 579,
    "start_time": "2022-12-09T12:19:28.242Z"
   },
   {
    "duration": 3393,
    "start_time": "2022-12-09T12:19:28.823Z"
   },
   {
    "duration": 65560,
    "start_time": "2022-12-09T12:19:32.218Z"
   },
   {
    "duration": 74793,
    "start_time": "2022-12-09T12:20:51.481Z"
   },
   {
    "duration": 10107,
    "start_time": "2022-12-09T12:49:37.186Z"
   },
   {
    "duration": 9772,
    "start_time": "2022-12-09T12:49:55.406Z"
   },
   {
    "duration": 45,
    "start_time": "2022-12-09T12:51:01.232Z"
   },
   {
    "duration": 1546,
    "start_time": "2022-12-09T12:51:10.438Z"
   },
   {
    "duration": 2876,
    "start_time": "2022-12-09T12:51:11.986Z"
   },
   {
    "duration": 138,
    "start_time": "2022-12-09T12:51:14.864Z"
   },
   {
    "duration": 5,
    "start_time": "2022-12-09T12:51:15.005Z"
   },
   {
    "duration": 164,
    "start_time": "2022-12-09T12:51:15.025Z"
   },
   {
    "duration": 335,
    "start_time": "2022-12-09T12:51:15.191Z"
   },
   {
    "duration": 78,
    "start_time": "2022-12-09T12:51:15.528Z"
   },
   {
    "duration": 135,
    "start_time": "2022-12-09T12:51:15.609Z"
   },
   {
    "duration": 48,
    "start_time": "2022-12-09T12:51:15.747Z"
   },
   {
    "duration": 38,
    "start_time": "2022-12-09T12:51:15.798Z"
   },
   {
    "duration": 56,
    "start_time": "2022-12-09T12:51:15.838Z"
   },
   {
    "duration": 98,
    "start_time": "2022-12-09T12:51:15.896Z"
   },
   {
    "duration": 365,
    "start_time": "2022-12-09T12:51:16.351Z"
   },
   {
    "duration": 3,
    "start_time": "2022-12-09T12:51:17.034Z"
   },
   {
    "duration": 165,
    "start_time": "2022-12-09T12:51:17.745Z"
   },
   {
    "duration": 34,
    "start_time": "2022-12-09T12:51:18.078Z"
   },
   {
    "duration": 129,
    "start_time": "2022-12-09T12:51:18.413Z"
   },
   {
    "duration": 79,
    "start_time": "2022-12-09T12:51:18.749Z"
   },
   {
    "duration": 144,
    "start_time": "2022-12-09T12:51:19.082Z"
   },
   {
    "duration": 161,
    "start_time": "2022-12-09T12:51:19.408Z"
   },
   {
    "duration": 32,
    "start_time": "2022-12-09T12:51:19.759Z"
   },
   {
    "duration": 151,
    "start_time": "2022-12-09T12:51:20.428Z"
   },
   {
    "duration": 102,
    "start_time": "2022-12-09T12:51:21.140Z"
   },
   {
    "duration": 195,
    "start_time": "2022-12-09T12:51:22.365Z"
   },
   {
    "duration": 563,
    "start_time": "2022-12-09T12:51:24.094Z"
   },
   {
    "duration": 3395,
    "start_time": "2022-12-09T12:51:25.465Z"
   },
   {
    "duration": 76473,
    "start_time": "2022-12-09T12:51:28.862Z"
   },
   {
    "duration": 10092,
    "start_time": "2022-12-09T12:53:25.688Z"
   },
   {
    "duration": 1427,
    "start_time": "2022-12-09T12:54:00.609Z"
   },
   {
    "duration": 2701,
    "start_time": "2022-12-09T12:54:02.038Z"
   },
   {
    "duration": 106,
    "start_time": "2022-12-09T12:54:04.740Z"
   },
   {
    "duration": 4,
    "start_time": "2022-12-09T12:54:04.848Z"
   },
   {
    "duration": 115,
    "start_time": "2022-12-09T12:54:04.853Z"
   },
   {
    "duration": 273,
    "start_time": "2022-12-09T12:54:04.969Z"
   },
   {
    "duration": 83,
    "start_time": "2022-12-09T12:54:05.243Z"
   },
   {
    "duration": 76,
    "start_time": "2022-12-09T12:54:05.327Z"
   },
   {
    "duration": 46,
    "start_time": "2022-12-09T12:54:05.405Z"
   },
   {
    "duration": 29,
    "start_time": "2022-12-09T12:54:05.454Z"
   },
   {
    "duration": 45,
    "start_time": "2022-12-09T12:54:05.485Z"
   },
   {
    "duration": 139,
    "start_time": "2022-12-09T12:54:05.532Z"
   },
   {
    "duration": 379,
    "start_time": "2022-12-09T12:54:06.438Z"
   },
   {
    "duration": 3,
    "start_time": "2022-12-09T12:54:07.169Z"
   },
   {
    "duration": 136,
    "start_time": "2022-12-09T12:54:07.892Z"
   },
   {
    "duration": 31,
    "start_time": "2022-12-09T12:54:08.284Z"
   },
   {
    "duration": 142,
    "start_time": "2022-12-09T12:54:08.666Z"
   },
   {
    "duration": 63,
    "start_time": "2022-12-09T12:54:09.008Z"
   },
   {
    "duration": 131,
    "start_time": "2022-12-09T12:54:09.359Z"
   },
   {
    "duration": 162,
    "start_time": "2022-12-09T12:54:09.737Z"
   },
   {
    "duration": 29,
    "start_time": "2022-12-09T12:54:10.097Z"
   },
   {
    "duration": 136,
    "start_time": "2022-12-09T12:54:10.912Z"
   },
   {
    "duration": 116,
    "start_time": "2022-12-09T12:54:11.885Z"
   },
   {
    "duration": 192,
    "start_time": "2022-12-09T12:54:13.131Z"
   },
   {
    "duration": 600,
    "start_time": "2022-12-09T12:54:15.246Z"
   },
   {
    "duration": 4,
    "start_time": "2022-12-09T12:54:26.794Z"
   },
   {
    "duration": 1322,
    "start_time": "2022-12-09T12:55:03.239Z"
   },
   {
    "duration": 2698,
    "start_time": "2022-12-09T12:55:04.563Z"
   },
   {
    "duration": 102,
    "start_time": "2022-12-09T12:55:07.263Z"
   },
   {
    "duration": 4,
    "start_time": "2022-12-09T12:55:07.367Z"
   },
   {
    "duration": 116,
    "start_time": "2022-12-09T12:55:07.372Z"
   },
   {
    "duration": 276,
    "start_time": "2022-12-09T12:55:07.489Z"
   },
   {
    "duration": 77,
    "start_time": "2022-12-09T12:55:07.767Z"
   },
   {
    "duration": 92,
    "start_time": "2022-12-09T12:55:07.846Z"
   },
   {
    "duration": 26,
    "start_time": "2022-12-09T12:55:07.940Z"
   },
   {
    "duration": 20,
    "start_time": "2022-12-09T12:55:07.967Z"
   },
   {
    "duration": 28,
    "start_time": "2022-12-09T12:55:08.228Z"
   },
   {
    "duration": 73,
    "start_time": "2022-12-09T12:55:08.609Z"
   },
   {
    "duration": 369,
    "start_time": "2022-12-09T12:55:09.685Z"
   },
   {
    "duration": 4,
    "start_time": "2022-12-09T12:55:10.448Z"
   },
   {
    "duration": 132,
    "start_time": "2022-12-09T12:55:11.225Z"
   },
   {
    "duration": 36,
    "start_time": "2022-12-09T12:55:11.608Z"
   },
   {
    "duration": 116,
    "start_time": "2022-12-09T12:55:11.974Z"
   },
   {
    "duration": 66,
    "start_time": "2022-12-09T12:55:12.329Z"
   },
   {
    "duration": 130,
    "start_time": "2022-12-09T12:55:12.729Z"
   },
   {
    "duration": 135,
    "start_time": "2022-12-09T12:55:13.096Z"
   },
   {
    "duration": 25,
    "start_time": "2022-12-09T12:55:13.490Z"
   },
   {
    "duration": 130,
    "start_time": "2022-12-09T12:55:14.438Z"
   },
   {
    "duration": 107,
    "start_time": "2022-12-09T12:55:15.262Z"
   },
   {
    "duration": 205,
    "start_time": "2022-12-09T12:55:16.258Z"
   },
   {
    "duration": 585,
    "start_time": "2022-12-09T12:55:17.926Z"
   },
   {
    "duration": 1405,
    "start_time": "2022-12-09T12:55:47.438Z"
   },
   {
    "duration": 2740,
    "start_time": "2022-12-09T12:55:48.845Z"
   },
   {
    "duration": 121,
    "start_time": "2022-12-09T12:55:51.587Z"
   },
   {
    "duration": 5,
    "start_time": "2022-12-09T12:55:51.710Z"
   },
   {
    "duration": 106,
    "start_time": "2022-12-09T12:55:51.726Z"
   },
   {
    "duration": 320,
    "start_time": "2022-12-09T12:55:51.834Z"
   },
   {
    "duration": 86,
    "start_time": "2022-12-09T12:55:52.156Z"
   },
   {
    "duration": 90,
    "start_time": "2022-12-09T12:55:52.244Z"
   },
   {
    "duration": 47,
    "start_time": "2022-12-09T12:55:52.336Z"
   },
   {
    "duration": 43,
    "start_time": "2022-12-09T12:55:52.384Z"
   },
   {
    "duration": 26,
    "start_time": "2022-12-09T12:55:52.685Z"
   },
   {
    "duration": 74,
    "start_time": "2022-12-09T12:55:53.048Z"
   },
   {
    "duration": 339,
    "start_time": "2022-12-09T12:55:54.107Z"
   },
   {
    "duration": 3,
    "start_time": "2022-12-09T12:55:54.868Z"
   },
   {
    "duration": 172,
    "start_time": "2022-12-09T12:55:55.612Z"
   },
   {
    "duration": 34,
    "start_time": "2022-12-09T12:55:55.998Z"
   },
   {
    "duration": 130,
    "start_time": "2022-12-09T12:55:56.330Z"
   },
   {
    "duration": 72,
    "start_time": "2022-12-09T12:55:56.691Z"
   },
   {
    "duration": 145,
    "start_time": "2022-12-09T12:55:57.119Z"
   },
   {
    "duration": 146,
    "start_time": "2022-12-09T12:55:57.531Z"
   },
   {
    "duration": 32,
    "start_time": "2022-12-09T12:55:57.946Z"
   },
   {
    "duration": 132,
    "start_time": "2022-12-09T12:55:58.647Z"
   },
   {
    "duration": 120,
    "start_time": "2022-12-09T12:55:59.436Z"
   },
   {
    "duration": 209,
    "start_time": "2022-12-09T12:56:00.531Z"
   },
   {
    "duration": 554,
    "start_time": "2022-12-09T12:56:01.782Z"
   },
   {
    "duration": 10002,
    "start_time": "2022-12-09T12:56:04.589Z"
   },
   {
    "duration": 44,
    "start_time": "2022-12-09T12:58:40.693Z"
   },
   {
    "duration": 1432,
    "start_time": "2022-12-09T12:58:47.638Z"
   },
   {
    "duration": 2696,
    "start_time": "2022-12-09T12:58:49.072Z"
   },
   {
    "duration": 113,
    "start_time": "2022-12-09T12:58:51.770Z"
   },
   {
    "duration": 5,
    "start_time": "2022-12-09T12:58:51.885Z"
   },
   {
    "duration": 146,
    "start_time": "2022-12-09T12:58:51.892Z"
   },
   {
    "duration": 277,
    "start_time": "2022-12-09T12:58:52.040Z"
   },
   {
    "duration": 75,
    "start_time": "2022-12-09T12:58:52.318Z"
   },
   {
    "duration": 1325,
    "start_time": "2022-12-09T12:58:59.441Z"
   },
   {
    "duration": 802,
    "start_time": "2022-12-09T12:59:00.768Z"
   },
   {
    "duration": 147,
    "start_time": "2022-12-09T12:59:01.572Z"
   },
   {
    "duration": 6,
    "start_time": "2022-12-09T12:59:01.721Z"
   },
   {
    "duration": 157,
    "start_time": "2022-12-09T12:59:01.728Z"
   },
   {
    "duration": 268,
    "start_time": "2022-12-09T12:59:01.912Z"
   },
   {
    "duration": 71,
    "start_time": "2022-12-09T12:59:02.293Z"
   },
   {
    "duration": 72,
    "start_time": "2022-12-09T12:59:02.989Z"
   },
   {
    "duration": 30,
    "start_time": "2022-12-09T12:59:03.684Z"
   },
   {
    "duration": 20,
    "start_time": "2022-12-09T12:59:04.002Z"
   },
   {
    "duration": 27,
    "start_time": "2022-12-09T12:59:04.305Z"
   },
   {
    "duration": 70,
    "start_time": "2022-12-09T12:59:04.678Z"
   },
   {
    "duration": 376,
    "start_time": "2022-12-09T12:59:05.786Z"
   },
   {
    "duration": 3,
    "start_time": "2022-12-09T12:59:06.533Z"
   },
   {
    "duration": 123,
    "start_time": "2022-12-09T12:59:07.425Z"
   },
   {
    "duration": 30,
    "start_time": "2022-12-09T12:59:07.853Z"
   },
   {
    "duration": 121,
    "start_time": "2022-12-09T12:59:08.197Z"
   },
   {
    "duration": 68,
    "start_time": "2022-12-09T12:59:08.614Z"
   },
   {
    "duration": 128,
    "start_time": "2022-12-09T12:59:09.025Z"
   },
   {
    "duration": 129,
    "start_time": "2022-12-09T12:59:09.417Z"
   },
   {
    "duration": 28,
    "start_time": "2022-12-09T12:59:09.809Z"
   },
   {
    "duration": 123,
    "start_time": "2022-12-09T12:59:10.563Z"
   },
   {
    "duration": 104,
    "start_time": "2022-12-09T12:59:11.332Z"
   },
   {
    "duration": 215,
    "start_time": "2022-12-09T12:59:12.478Z"
   },
   {
    "duration": 571,
    "start_time": "2022-12-09T12:59:13.689Z"
   },
   {
    "duration": 14699,
    "start_time": "2022-12-09T12:59:19.033Z"
   },
   {
    "duration": 23,
    "start_time": "2022-12-09T13:04:56.036Z"
   },
   {
    "duration": 3,
    "start_time": "2022-12-09T13:06:43.997Z"
   },
   {
    "duration": 2466,
    "start_time": "2022-12-09T13:15:09.255Z"
   },
   {
    "duration": 4,
    "start_time": "2022-12-09T13:15:28.779Z"
   },
   {
    "duration": 673,
    "start_time": "2022-12-09T13:15:29.149Z"
   },
   {
    "duration": 120,
    "start_time": "2022-12-09T13:15:29.826Z"
   },
   {
    "duration": 5,
    "start_time": "2022-12-09T13:15:30.092Z"
   },
   {
    "duration": 104,
    "start_time": "2022-12-09T13:15:30.426Z"
   },
   {
    "duration": 202,
    "start_time": "2022-12-09T13:15:31.091Z"
   },
   {
    "duration": 77,
    "start_time": "2022-12-09T13:15:31.424Z"
   },
   {
    "duration": 67,
    "start_time": "2022-12-09T13:15:32.184Z"
   },
   {
    "duration": 28,
    "start_time": "2022-12-09T13:15:32.918Z"
   },
   {
    "duration": 19,
    "start_time": "2022-12-09T13:15:33.300Z"
   },
   {
    "duration": 27,
    "start_time": "2022-12-09T13:15:33.665Z"
   },
   {
    "duration": 75,
    "start_time": "2022-12-09T13:15:34.022Z"
   },
   {
    "duration": 337,
    "start_time": "2022-12-09T13:15:35.164Z"
   },
   {
    "duration": 4,
    "start_time": "2022-12-09T13:15:35.919Z"
   },
   {
    "duration": 119,
    "start_time": "2022-12-09T13:15:36.698Z"
   },
   {
    "duration": 25,
    "start_time": "2022-12-09T13:15:37.045Z"
   },
   {
    "duration": 124,
    "start_time": "2022-12-09T13:15:37.411Z"
   },
   {
    "duration": 64,
    "start_time": "2022-12-09T13:15:37.784Z"
   },
   {
    "duration": 141,
    "start_time": "2022-12-09T13:15:38.153Z"
   },
   {
    "duration": 134,
    "start_time": "2022-12-09T13:15:38.551Z"
   },
   {
    "duration": 26,
    "start_time": "2022-12-09T13:15:38.951Z"
   },
   {
    "duration": 133,
    "start_time": "2022-12-09T13:15:39.718Z"
   },
   {
    "duration": 94,
    "start_time": "2022-12-09T13:15:40.482Z"
   },
   {
    "duration": 130,
    "start_time": "2022-12-09T13:15:41.430Z"
   },
   {
    "duration": 512,
    "start_time": "2022-12-09T13:15:42.429Z"
   },
   {
    "duration": 2422,
    "start_time": "2022-12-09T13:15:48.167Z"
   },
   {
    "duration": 10765,
    "start_time": "2022-12-09T13:18:00.863Z"
   },
   {
    "duration": 4973,
    "start_time": "2022-12-09T13:18:39.653Z"
   },
   {
    "duration": 203230,
    "start_time": "2022-12-09T13:18:57.410Z"
   },
   {
    "duration": 2510,
    "start_time": "2022-12-09T13:22:43.304Z"
   },
   {
    "duration": 92,
    "start_time": "2022-12-09T13:26:29.829Z"
   },
   {
    "duration": 9,
    "start_time": "2022-12-09T13:27:00.456Z"
   },
   {
    "duration": 4,
    "start_time": "2022-12-09T13:27:05.390Z"
   },
   {
    "duration": 11,
    "start_time": "2022-12-09T13:27:05.830Z"
   },
   {
    "duration": 3,
    "start_time": "2022-12-09T13:27:21.465Z"
   },
   {
    "duration": 13,
    "start_time": "2022-12-09T13:31:24.724Z"
   },
   {
    "duration": 5,
    "start_time": "2022-12-09T13:31:45.004Z"
   },
   {
    "duration": 14,
    "start_time": "2022-12-09T13:31:51.098Z"
   },
   {
    "duration": 11,
    "start_time": "2022-12-09T13:32:00.714Z"
   },
   {
    "duration": 213806,
    "start_time": "2022-12-09T13:32:09.834Z"
   },
   {
    "duration": 142416,
    "start_time": "2022-12-09T13:41:32.125Z"
   },
   {
    "duration": 14161,
    "start_time": "2022-12-09T13:58:08.667Z"
   },
   {
    "duration": 1728,
    "start_time": "2022-12-10T12:58:38.641Z"
   },
   {
    "duration": 1234,
    "start_time": "2022-12-10T12:58:40.371Z"
   },
   {
    "duration": 147,
    "start_time": "2022-12-10T12:58:41.607Z"
   },
   {
    "duration": 4,
    "start_time": "2022-12-10T12:58:41.757Z"
   },
   {
    "duration": 155,
    "start_time": "2022-12-10T12:58:41.763Z"
   },
   {
    "duration": 343,
    "start_time": "2022-12-10T12:58:41.920Z"
   },
   {
    "duration": 104,
    "start_time": "2022-12-10T12:58:42.265Z"
   },
   {
    "duration": 92,
    "start_time": "2022-12-10T12:58:43.163Z"
   },
   {
    "duration": 38,
    "start_time": "2022-12-10T12:58:45.542Z"
   },
   {
    "duration": 24,
    "start_time": "2022-12-10T12:58:50.383Z"
   },
   {
    "duration": 36,
    "start_time": "2022-12-10T12:58:50.807Z"
   },
   {
    "duration": 108,
    "start_time": "2022-12-10T12:58:51.217Z"
   },
   {
    "duration": 500,
    "start_time": "2022-12-10T12:58:52.036Z"
   },
   {
    "duration": 4,
    "start_time": "2022-12-10T12:58:52.731Z"
   },
   {
    "duration": 136,
    "start_time": "2022-12-10T12:58:53.482Z"
   },
   {
    "duration": 60,
    "start_time": "2022-12-10T12:58:54.383Z"
   },
   {
    "duration": 141,
    "start_time": "2022-12-10T12:58:55.855Z"
   },
   {
    "duration": 76,
    "start_time": "2022-12-10T12:58:56.204Z"
   },
   {
    "duration": 152,
    "start_time": "2022-12-10T12:58:56.564Z"
   },
   {
    "duration": 231,
    "start_time": "2022-12-10T12:58:57.368Z"
   },
   {
    "duration": 32,
    "start_time": "2022-12-10T12:58:57.770Z"
   },
   {
    "duration": 164,
    "start_time": "2022-12-10T12:58:58.653Z"
   },
   {
    "duration": 129,
    "start_time": "2022-12-10T12:59:00.160Z"
   },
   {
    "duration": 8,
    "start_time": "2022-12-10T12:59:13.641Z"
   },
   {
    "duration": 7,
    "start_time": "2022-12-10T13:04:45.184Z"
   },
   {
    "duration": 120,
    "start_time": "2022-12-10T13:05:56.864Z"
   },
   {
    "duration": 5,
    "start_time": "2022-12-10T13:06:09.953Z"
   },
   {
    "duration": 813,
    "start_time": "2022-12-10T13:06:10.618Z"
   },
   {
    "duration": 137,
    "start_time": "2022-12-10T13:06:11.435Z"
   },
   {
    "duration": 5,
    "start_time": "2022-12-10T13:06:11.663Z"
   },
   {
    "duration": 145,
    "start_time": "2022-12-10T13:06:12.043Z"
   },
   {
    "duration": 237,
    "start_time": "2022-12-10T13:06:12.761Z"
   },
   {
    "duration": 96,
    "start_time": "2022-12-10T13:06:13.146Z"
   },
   {
    "duration": 106,
    "start_time": "2022-12-10T13:06:13.953Z"
   },
   {
    "duration": 35,
    "start_time": "2022-12-10T13:06:15.726Z"
   },
   {
    "duration": 23,
    "start_time": "2022-12-10T13:06:16.287Z"
   },
   {
    "duration": 36,
    "start_time": "2022-12-10T13:06:16.939Z"
   },
   {
    "duration": 105,
    "start_time": "2022-12-10T13:06:17.937Z"
   },
   {
    "duration": 405,
    "start_time": "2022-12-10T13:06:21.245Z"
   },
   {
    "duration": 4,
    "start_time": "2022-12-10T13:06:22.048Z"
   },
   {
    "duration": 125,
    "start_time": "2022-12-10T13:06:22.763Z"
   },
   {
    "duration": 50,
    "start_time": "2022-12-10T13:06:23.550Z"
   },
   {
    "duration": 122,
    "start_time": "2022-12-10T13:06:25.043Z"
   },
   {
    "duration": 68,
    "start_time": "2022-12-10T13:06:25.347Z"
   },
   {
    "duration": 129,
    "start_time": "2022-12-10T13:06:25.757Z"
   },
   {
    "duration": 144,
    "start_time": "2022-12-10T13:06:26.538Z"
   },
   {
    "duration": 26,
    "start_time": "2022-12-10T13:06:26.944Z"
   },
   {
    "duration": 155,
    "start_time": "2022-12-10T13:06:27.764Z"
   },
   {
    "duration": 7,
    "start_time": "2022-12-10T13:06:28.647Z"
   },
   {
    "duration": 117,
    "start_time": "2022-12-10T13:06:29.974Z"
   },
   {
    "duration": 46,
    "start_time": "2022-12-10T13:06:55.565Z"
   },
   {
    "duration": 5,
    "start_time": "2022-12-10T13:25:37.319Z"
   },
   {
    "duration": 4,
    "start_time": "2022-12-10T13:27:51.265Z"
   },
   {
    "duration": 920,
    "start_time": "2022-12-10T13:27:52.020Z"
   },
   {
    "duration": 148,
    "start_time": "2022-12-10T13:27:52.943Z"
   },
   {
    "duration": 5,
    "start_time": "2022-12-10T13:27:53.132Z"
   },
   {
    "duration": 127,
    "start_time": "2022-12-10T13:27:53.452Z"
   },
   {
    "duration": 219,
    "start_time": "2022-12-10T13:27:54.152Z"
   },
   {
    "duration": 89,
    "start_time": "2022-12-10T13:27:54.473Z"
   },
   {
    "duration": 89,
    "start_time": "2022-12-10T13:27:55.189Z"
   },
   {
    "duration": 35,
    "start_time": "2022-12-10T13:27:56.207Z"
   },
   {
    "duration": 22,
    "start_time": "2022-12-10T13:27:56.522Z"
   },
   {
    "duration": 39,
    "start_time": "2022-12-10T13:27:56.895Z"
   },
   {
    "duration": 98,
    "start_time": "2022-12-10T13:27:57.213Z"
   },
   {
    "duration": 415,
    "start_time": "2022-12-10T13:27:57.901Z"
   },
   {
    "duration": 3,
    "start_time": "2022-12-10T13:27:58.607Z"
   },
   {
    "duration": 131,
    "start_time": "2022-12-10T13:27:59.298Z"
   },
   {
    "duration": 59,
    "start_time": "2022-12-10T13:27:59.981Z"
   },
   {
    "duration": 131,
    "start_time": "2022-12-10T13:28:02.710Z"
   },
   {
    "duration": 69,
    "start_time": "2022-12-10T13:28:03.095Z"
   },
   {
    "duration": 137,
    "start_time": "2022-12-10T13:28:03.453Z"
   },
   {
    "duration": 155,
    "start_time": "2022-12-10T13:28:04.193Z"
   },
   {
    "duration": 30,
    "start_time": "2022-12-10T13:28:04.575Z"
   },
   {
    "duration": 170,
    "start_time": "2022-12-10T13:28:05.302Z"
   },
   {
    "duration": 8,
    "start_time": "2022-12-10T13:28:06.222Z"
   },
   {
    "duration": 120,
    "start_time": "2022-12-10T13:28:07.053Z"
   },
   {
    "duration": 141,
    "start_time": "2022-12-10T13:28:09.689Z"
   },
   {
    "duration": 565,
    "start_time": "2022-12-10T13:28:11.254Z"
   },
   {
    "duration": 10,
    "start_time": "2022-12-10T13:28:16.443Z"
   },
   {
    "duration": 14,
    "start_time": "2022-12-10T13:30:17.000Z"
   },
   {
    "duration": 4,
    "start_time": "2022-12-10T13:30:56.077Z"
   },
   {
    "duration": 826,
    "start_time": "2022-12-10T13:30:56.753Z"
   },
   {
    "duration": 138,
    "start_time": "2022-12-10T13:30:57.581Z"
   },
   {
    "duration": 5,
    "start_time": "2022-12-10T13:30:57.744Z"
   },
   {
    "duration": 132,
    "start_time": "2022-12-10T13:30:58.064Z"
   },
   {
    "duration": 235,
    "start_time": "2022-12-10T13:30:58.713Z"
   },
   {
    "duration": 101,
    "start_time": "2022-12-10T13:30:59.082Z"
   },
   {
    "duration": 87,
    "start_time": "2022-12-10T13:30:59.717Z"
   },
   {
    "duration": 33,
    "start_time": "2022-12-10T13:31:00.712Z"
   },
   {
    "duration": 22,
    "start_time": "2022-12-10T13:31:01.060Z"
   },
   {
    "duration": 35,
    "start_time": "2022-12-10T13:31:01.417Z"
   },
   {
    "duration": 97,
    "start_time": "2022-12-10T13:31:01.797Z"
   },
   {
    "duration": 410,
    "start_time": "2022-12-10T13:31:02.496Z"
   },
   {
    "duration": 3,
    "start_time": "2022-12-10T13:31:03.217Z"
   },
   {
    "duration": 139,
    "start_time": "2022-12-10T13:31:04.001Z"
   },
   {
    "duration": 54,
    "start_time": "2022-12-10T13:31:04.772Z"
   },
   {
    "duration": 126,
    "start_time": "2022-12-10T13:31:06.319Z"
   },
   {
    "duration": 82,
    "start_time": "2022-12-10T13:31:06.714Z"
   },
   {
    "duration": 140,
    "start_time": "2022-12-10T13:31:07.190Z"
   },
   {
    "duration": 155,
    "start_time": "2022-12-10T13:31:08.134Z"
   },
   {
    "duration": 27,
    "start_time": "2022-12-10T13:31:08.578Z"
   },
   {
    "duration": 165,
    "start_time": "2022-12-10T13:31:09.443Z"
   },
   {
    "duration": 10,
    "start_time": "2022-12-10T13:31:10.395Z"
   },
   {
    "duration": 116,
    "start_time": "2022-12-10T13:31:11.204Z"
   },
   {
    "duration": 124,
    "start_time": "2022-12-10T13:31:15.372Z"
   },
   {
    "duration": 14,
    "start_time": "2022-12-10T13:31:19.567Z"
   },
   {
    "duration": 14,
    "start_time": "2022-12-10T13:31:36.334Z"
   },
   {
    "duration": 3,
    "start_time": "2022-12-10T13:31:48.194Z"
   },
   {
    "duration": 14,
    "start_time": "2022-12-10T13:31:53.635Z"
   },
   {
    "duration": 20,
    "start_time": "2022-12-10T13:32:12.804Z"
   },
   {
    "duration": 205,
    "start_time": "2022-12-10T13:32:39.646Z"
   },
   {
    "duration": 13,
    "start_time": "2022-12-10T13:32:43.222Z"
   },
   {
    "duration": 4,
    "start_time": "2022-12-10T13:33:17.050Z"
   },
   {
    "duration": 11,
    "start_time": "2022-12-10T13:33:22.936Z"
   },
   {
    "duration": 14,
    "start_time": "2022-12-10T13:35:58.031Z"
   },
   {
    "duration": 259,
    "start_time": "2022-12-10T13:37:07.877Z"
   },
   {
    "duration": 368,
    "start_time": "2022-12-10T13:37:23.559Z"
   },
   {
    "duration": 425,
    "start_time": "2022-12-10T13:45:47.432Z"
   },
   {
    "duration": 1422,
    "start_time": "2022-12-10T20:39:14.011Z"
   },
   {
    "duration": 1036,
    "start_time": "2022-12-10T20:39:15.435Z"
   },
   {
    "duration": 108,
    "start_time": "2022-12-10T20:39:16.472Z"
   },
   {
    "duration": 4,
    "start_time": "2022-12-10T20:39:16.582Z"
   },
   {
    "duration": 120,
    "start_time": "2022-12-10T20:39:16.587Z"
   },
   {
    "duration": 261,
    "start_time": "2022-12-10T20:39:17.325Z"
   },
   {
    "duration": 70,
    "start_time": "2022-12-10T20:39:17.827Z"
   },
   {
    "duration": 70,
    "start_time": "2022-12-10T20:39:18.640Z"
   },
   {
    "duration": 27,
    "start_time": "2022-12-10T20:39:19.948Z"
   },
   {
    "duration": 18,
    "start_time": "2022-12-10T20:39:20.369Z"
   },
   {
    "duration": 26,
    "start_time": "2022-12-10T20:39:20.763Z"
   },
   {
    "duration": 70,
    "start_time": "2022-12-10T20:39:21.169Z"
   },
   {
    "duration": 354,
    "start_time": "2022-12-10T20:39:22.000Z"
   },
   {
    "duration": 3,
    "start_time": "2022-12-10T20:39:22.856Z"
   },
   {
    "duration": 126,
    "start_time": "2022-12-10T20:39:23.662Z"
   },
   {
    "duration": 52,
    "start_time": "2022-12-10T20:39:24.510Z"
   },
   {
    "duration": 118,
    "start_time": "2022-12-10T20:39:26.212Z"
   },
   {
    "duration": 59,
    "start_time": "2022-12-10T20:39:26.602Z"
   },
   {
    "duration": 132,
    "start_time": "2022-12-10T20:39:26.993Z"
   },
   {
    "duration": 215,
    "start_time": "2022-12-10T20:39:28.416Z"
   },
   {
    "duration": 26,
    "start_time": "2022-12-10T20:39:29.389Z"
   },
   {
    "duration": 126,
    "start_time": "2022-12-10T20:39:30.516Z"
   },
   {
    "duration": 6,
    "start_time": "2022-12-10T20:39:31.457Z"
   },
   {
    "duration": 96,
    "start_time": "2022-12-10T20:39:32.363Z"
   },
   {
    "duration": 112,
    "start_time": "2022-12-10T20:39:35.016Z"
   },
   {
    "duration": 178,
    "start_time": "2022-12-10T20:39:51.718Z"
   },
   {
    "duration": 1016,
    "start_time": "2022-12-10T20:39:53.383Z"
   },
   {
    "duration": 147,
    "start_time": "2022-12-10T20:40:08.662Z"
   },
   {
    "duration": 546,
    "start_time": "2022-12-10T20:40:29.995Z"
   },
   {
    "duration": 541,
    "start_time": "2022-12-10T20:40:38.390Z"
   },
   {
    "duration": 17,
    "start_time": "2022-12-10T20:42:01.222Z"
   },
   {
    "duration": 4,
    "start_time": "2022-12-10T20:42:27.481Z"
   },
   {
    "duration": 709,
    "start_time": "2022-12-10T20:42:28.223Z"
   },
   {
    "duration": 103,
    "start_time": "2022-12-10T20:42:28.933Z"
   },
   {
    "duration": 4,
    "start_time": "2022-12-10T20:42:29.220Z"
   },
   {
    "duration": 98,
    "start_time": "2022-12-10T20:42:29.552Z"
   },
   {
    "duration": 228,
    "start_time": "2022-12-10T20:42:30.289Z"
   },
   {
    "duration": 73,
    "start_time": "2022-12-10T20:42:30.637Z"
   },
   {
    "duration": 72,
    "start_time": "2022-12-10T20:42:31.368Z"
   },
   {
    "duration": 29,
    "start_time": "2022-12-10T20:42:32.523Z"
   },
   {
    "duration": 18,
    "start_time": "2022-12-10T20:42:32.920Z"
   },
   {
    "duration": 27,
    "start_time": "2022-12-10T20:42:33.333Z"
   },
   {
    "duration": 73,
    "start_time": "2022-12-10T20:42:33.676Z"
   },
   {
    "duration": 321,
    "start_time": "2022-12-10T20:42:34.461Z"
   },
   {
    "duration": 5,
    "start_time": "2022-12-10T20:42:35.195Z"
   },
   {
    "duration": 153,
    "start_time": "2022-12-10T20:42:35.946Z"
   },
   {
    "duration": 49,
    "start_time": "2022-12-10T20:42:36.692Z"
   },
   {
    "duration": 115,
    "start_time": "2022-12-10T20:42:38.059Z"
   },
   {
    "duration": 75,
    "start_time": "2022-12-10T20:42:38.458Z"
   },
   {
    "duration": 122,
    "start_time": "2022-12-10T20:42:38.820Z"
   },
   {
    "duration": 135,
    "start_time": "2022-12-10T20:42:39.603Z"
   },
   {
    "duration": 23,
    "start_time": "2022-12-10T20:42:39.970Z"
   },
   {
    "duration": 126,
    "start_time": "2022-12-10T20:42:40.686Z"
   },
   {
    "duration": 7,
    "start_time": "2022-12-10T20:42:41.465Z"
   },
   {
    "duration": 92,
    "start_time": "2022-12-10T20:42:42.273Z"
   },
   {
    "duration": 113,
    "start_time": "2022-12-10T20:42:44.772Z"
   },
   {
    "duration": 161,
    "start_time": "2022-12-10T20:42:47.660Z"
   },
   {
    "duration": 15,
    "start_time": "2022-12-10T20:42:49.170Z"
   },
   {
    "duration": 1108,
    "start_time": "2022-12-10T20:43:05.107Z"
   },
   {
    "duration": 565,
    "start_time": "2022-12-10T20:43:12.595Z"
   },
   {
    "duration": 4025,
    "start_time": "2022-12-10T20:43:44.543Z"
   },
   {
    "duration": 1425,
    "start_time": "2022-12-10T20:46:20.290Z"
   },
   {
    "duration": 1013,
    "start_time": "2022-12-10T20:46:21.717Z"
   },
   {
    "duration": 108,
    "start_time": "2022-12-10T20:46:22.732Z"
   },
   {
    "duration": 4,
    "start_time": "2022-12-10T20:46:22.842Z"
   },
   {
    "duration": 113,
    "start_time": "2022-12-10T20:46:22.847Z"
   },
   {
    "duration": 278,
    "start_time": "2022-12-10T20:46:22.987Z"
   },
   {
    "duration": 71,
    "start_time": "2022-12-10T20:46:23.328Z"
   },
   {
    "duration": 74,
    "start_time": "2022-12-10T20:46:24.003Z"
   },
   {
    "duration": 28,
    "start_time": "2022-12-10T20:46:24.999Z"
   },
   {
    "duration": 19,
    "start_time": "2022-12-10T20:46:25.336Z"
   },
   {
    "duration": 27,
    "start_time": "2022-12-10T20:46:25.719Z"
   },
   {
    "duration": 81,
    "start_time": "2022-12-10T20:46:26.081Z"
   },
   {
    "duration": 405,
    "start_time": "2022-12-10T20:46:26.791Z"
   },
   {
    "duration": 3,
    "start_time": "2022-12-10T20:46:27.457Z"
   },
   {
    "duration": 136,
    "start_time": "2022-12-10T20:46:28.139Z"
   },
   {
    "duration": 55,
    "start_time": "2022-12-10T20:46:28.934Z"
   },
   {
    "duration": 118,
    "start_time": "2022-12-10T20:46:32.145Z"
   },
   {
    "duration": 61,
    "start_time": "2022-12-10T20:46:32.496Z"
   },
   {
    "duration": 123,
    "start_time": "2022-12-10T20:46:32.833Z"
   },
   {
    "duration": 197,
    "start_time": "2022-12-10T20:46:33.604Z"
   },
   {
    "duration": 28,
    "start_time": "2022-12-10T20:46:33.992Z"
   },
   {
    "duration": 128,
    "start_time": "2022-12-10T20:46:34.767Z"
   },
   {
    "duration": 9,
    "start_time": "2022-12-10T20:46:35.676Z"
   },
   {
    "duration": 91,
    "start_time": "2022-12-10T20:46:36.468Z"
   },
   {
    "duration": 112,
    "start_time": "2022-12-10T20:46:38.478Z"
   },
   {
    "duration": 171,
    "start_time": "2022-12-10T20:46:40.994Z"
   },
   {
    "duration": 4116,
    "start_time": "2022-12-10T20:46:42.482Z"
   },
   {
    "duration": 3409,
    "start_time": "2022-12-10T20:46:50.897Z"
   },
   {
    "duration": 3284,
    "start_time": "2022-12-10T20:47:05.202Z"
   },
   {
    "duration": 69,
    "start_time": "2022-12-10T20:47:16.983Z"
   },
   {
    "duration": 1457,
    "start_time": "2022-12-10T20:48:39.072Z"
   },
   {
    "duration": 986,
    "start_time": "2022-12-10T20:48:40.530Z"
   },
   {
    "duration": 106,
    "start_time": "2022-12-10T20:48:41.518Z"
   },
   {
    "duration": 1313,
    "start_time": "2022-12-10T20:48:53.412Z"
   },
   {
    "duration": 743,
    "start_time": "2022-12-10T20:48:54.726Z"
   },
   {
    "duration": 102,
    "start_time": "2022-12-10T20:48:55.470Z"
   },
   {
    "duration": 4,
    "start_time": "2022-12-10T20:48:55.574Z"
   },
   {
    "duration": 98,
    "start_time": "2022-12-10T20:48:55.702Z"
   },
   {
    "duration": 267,
    "start_time": "2022-12-10T20:48:56.388Z"
   },
   {
    "duration": 73,
    "start_time": "2022-12-10T20:48:56.840Z"
   },
   {
    "duration": 71,
    "start_time": "2022-12-10T20:48:57.605Z"
   },
   {
    "duration": 26,
    "start_time": "2022-12-10T20:48:58.751Z"
   },
   {
    "duration": 18,
    "start_time": "2022-12-10T20:48:59.097Z"
   },
   {
    "duration": 28,
    "start_time": "2022-12-10T20:48:59.483Z"
   },
   {
    "duration": 79,
    "start_time": "2022-12-10T20:48:59.916Z"
   },
   {
    "duration": 348,
    "start_time": "2022-12-10T20:49:00.657Z"
   },
   {
    "duration": 3,
    "start_time": "2022-12-10T20:49:01.415Z"
   },
   {
    "duration": 129,
    "start_time": "2022-12-10T20:49:02.181Z"
   },
   {
    "duration": 50,
    "start_time": "2022-12-10T20:49:02.952Z"
   },
   {
    "duration": 112,
    "start_time": "2022-12-10T20:49:04.459Z"
   },
   {
    "duration": 63,
    "start_time": "2022-12-10T20:49:04.869Z"
   },
   {
    "duration": 121,
    "start_time": "2022-12-10T20:49:05.238Z"
   },
   {
    "duration": 228,
    "start_time": "2022-12-10T20:49:06.057Z"
   },
   {
    "duration": 25,
    "start_time": "2022-12-10T20:49:06.422Z"
   },
   {
    "duration": 119,
    "start_time": "2022-12-10T20:49:07.232Z"
   },
   {
    "duration": 7,
    "start_time": "2022-12-10T20:49:08.015Z"
   },
   {
    "duration": 94,
    "start_time": "2022-12-10T20:49:08.881Z"
   },
   {
    "duration": 113,
    "start_time": "2022-12-10T20:49:10.804Z"
   },
   {
    "duration": 171,
    "start_time": "2022-12-10T20:49:12.915Z"
   },
   {
    "duration": 4024,
    "start_time": "2022-12-10T20:49:15.283Z"
   },
   {
    "duration": 3147,
    "start_time": "2022-12-10T20:49:22.987Z"
   },
   {
    "duration": 23273,
    "start_time": "2022-12-10T20:49:49.711Z"
   },
   {
    "duration": 45,
    "start_time": "2022-12-10T20:51:10.387Z"
   },
   {
    "duration": 1411,
    "start_time": "2022-12-10T20:51:26.038Z"
   },
   {
    "duration": 1050,
    "start_time": "2022-12-10T20:51:27.452Z"
   },
   {
    "duration": 121,
    "start_time": "2022-12-10T20:51:28.504Z"
   },
   {
    "duration": 5,
    "start_time": "2022-12-10T20:51:28.626Z"
   },
   {
    "duration": 123,
    "start_time": "2022-12-10T20:51:28.632Z"
   },
   {
    "duration": 311,
    "start_time": "2022-12-10T20:51:28.757Z"
   },
   {
    "duration": 81,
    "start_time": "2022-12-10T20:51:29.070Z"
   },
   {
    "duration": 70,
    "start_time": "2022-12-10T20:51:29.603Z"
   },
   {
    "duration": 26,
    "start_time": "2022-12-10T20:51:30.616Z"
   },
   {
    "duration": 18,
    "start_time": "2022-12-10T20:51:30.962Z"
   },
   {
    "duration": 27,
    "start_time": "2022-12-10T20:51:31.377Z"
   },
   {
    "duration": 70,
    "start_time": "2022-12-10T20:51:31.705Z"
   },
   {
    "duration": 356,
    "start_time": "2022-12-10T20:51:32.410Z"
   },
   {
    "duration": 3,
    "start_time": "2022-12-10T20:51:33.097Z"
   },
   {
    "duration": 135,
    "start_time": "2022-12-10T20:51:33.783Z"
   },
   {
    "duration": 55,
    "start_time": "2022-12-10T20:51:34.525Z"
   },
   {
    "duration": 147,
    "start_time": "2022-12-10T20:51:35.958Z"
   },
   {
    "duration": 62,
    "start_time": "2022-12-10T20:51:36.344Z"
   },
   {
    "duration": 125,
    "start_time": "2022-12-10T20:51:36.714Z"
   },
   {
    "duration": 198,
    "start_time": "2022-12-10T20:51:37.468Z"
   },
   {
    "duration": 26,
    "start_time": "2022-12-10T20:51:37.794Z"
   },
   {
    "duration": 123,
    "start_time": "2022-12-10T20:51:38.562Z"
   },
   {
    "duration": 7,
    "start_time": "2022-12-10T20:51:39.266Z"
   },
   {
    "duration": 95,
    "start_time": "2022-12-10T20:51:40.034Z"
   },
   {
    "duration": 110,
    "start_time": "2022-12-10T20:51:42.086Z"
   },
   {
    "duration": 165,
    "start_time": "2022-12-10T20:51:44.602Z"
   },
   {
    "duration": 4065,
    "start_time": "2022-12-10T20:52:02.389Z"
   },
   {
    "duration": 3174,
    "start_time": "2022-12-10T20:52:09.549Z"
   },
   {
    "duration": 19416,
    "start_time": "2022-12-10T20:52:14.084Z"
   },
   {
    "duration": 201,
    "start_time": "2022-12-10T20:52:43.796Z"
   },
   {
    "duration": 1351,
    "start_time": "2022-12-10T20:53:46.357Z"
   },
   {
    "duration": 994,
    "start_time": "2022-12-10T20:53:47.710Z"
   },
   {
    "duration": 101,
    "start_time": "2022-12-10T20:53:48.706Z"
   },
   {
    "duration": 4,
    "start_time": "2022-12-10T20:53:48.809Z"
   },
   {
    "duration": 109,
    "start_time": "2022-12-10T20:53:48.814Z"
   },
   {
    "duration": 260,
    "start_time": "2022-12-10T20:53:49.497Z"
   },
   {
    "duration": 71,
    "start_time": "2022-12-10T20:53:49.867Z"
   },
   {
    "duration": 68,
    "start_time": "2022-12-10T20:53:50.615Z"
   },
   {
    "duration": 27,
    "start_time": "2022-12-10T20:53:51.734Z"
   },
   {
    "duration": 19,
    "start_time": "2022-12-10T20:53:52.178Z"
   },
   {
    "duration": 27,
    "start_time": "2022-12-10T20:53:52.573Z"
   },
   {
    "duration": 71,
    "start_time": "2022-12-10T20:53:52.928Z"
   },
   {
    "duration": 358,
    "start_time": "2022-12-10T20:53:53.685Z"
   },
   {
    "duration": 3,
    "start_time": "2022-12-10T20:53:54.459Z"
   },
   {
    "duration": 137,
    "start_time": "2022-12-10T20:53:55.293Z"
   },
   {
    "duration": 59,
    "start_time": "2022-12-10T20:53:56.042Z"
   },
   {
    "duration": 110,
    "start_time": "2022-12-10T20:53:57.526Z"
   },
   {
    "duration": 63,
    "start_time": "2022-12-10T20:53:57.927Z"
   },
   {
    "duration": 123,
    "start_time": "2022-12-10T20:53:58.304Z"
   },
   {
    "duration": 206,
    "start_time": "2022-12-10T20:53:59.109Z"
   },
   {
    "duration": 28,
    "start_time": "2022-12-10T20:53:59.499Z"
   },
   {
    "duration": 125,
    "start_time": "2022-12-10T20:54:00.350Z"
   },
   {
    "duration": 8,
    "start_time": "2022-12-10T20:54:01.168Z"
   },
   {
    "duration": 98,
    "start_time": "2022-12-10T20:54:02.021Z"
   },
   {
    "duration": 112,
    "start_time": "2022-12-10T20:54:04.169Z"
   },
   {
    "duration": 180,
    "start_time": "2022-12-10T20:54:06.400Z"
   },
   {
    "duration": 4020,
    "start_time": "2022-12-10T20:54:07.691Z"
   },
   {
    "duration": 3075,
    "start_time": "2022-12-10T20:54:11.713Z"
   },
   {
    "duration": 19102,
    "start_time": "2022-12-10T20:54:15.829Z"
   },
   {
    "duration": 4514,
    "start_time": "2022-12-10T20:54:37.134Z"
   },
   {
    "duration": 51,
    "start_time": "2022-12-10T20:55:12.366Z"
   },
   {
    "duration": 11181,
    "start_time": "2022-12-10T20:55:49.522Z"
   },
   {
    "duration": 174,
    "start_time": "2022-12-10T20:56:55.045Z"
   },
   {
    "duration": 4594,
    "start_time": "2022-12-10T20:58:58.632Z"
   },
   {
    "duration": 3477,
    "start_time": "2022-12-10T20:59:42.883Z"
   },
   {
    "duration": 4,
    "start_time": "2022-12-10T20:59:48.362Z"
   },
   {
    "duration": 4,
    "start_time": "2022-12-10T21:00:06.857Z"
   },
   {
    "duration": 5,
    "start_time": "2022-12-10T21:00:17.147Z"
   },
   {
    "duration": 974,
    "start_time": "2022-12-10T21:00:17.879Z"
   },
   {
    "duration": 102,
    "start_time": "2022-12-10T21:00:18.855Z"
   },
   {
    "duration": 4,
    "start_time": "2022-12-10T21:00:18.959Z"
   },
   {
    "duration": 103,
    "start_time": "2022-12-10T21:00:19.275Z"
   },
   {
    "duration": 215,
    "start_time": "2022-12-10T21:00:20.010Z"
   },
   {
    "duration": 76,
    "start_time": "2022-12-10T21:00:20.386Z"
   },
   {
    "duration": 68,
    "start_time": "2022-12-10T21:00:21.142Z"
   },
   {
    "duration": 27,
    "start_time": "2022-12-10T21:00:22.290Z"
   },
   {
    "duration": 20,
    "start_time": "2022-12-10T21:00:22.673Z"
   },
   {
    "duration": 27,
    "start_time": "2022-12-10T21:00:23.044Z"
   },
   {
    "duration": 71,
    "start_time": "2022-12-10T21:00:23.395Z"
   },
   {
    "duration": 327,
    "start_time": "2022-12-10T21:00:24.254Z"
   },
   {
    "duration": 3,
    "start_time": "2022-12-10T21:00:26.970Z"
   },
   {
    "duration": 120,
    "start_time": "2022-12-10T21:00:28.646Z"
   },
   {
    "duration": 52,
    "start_time": "2022-12-10T21:00:29.563Z"
   },
   {
    "duration": 119,
    "start_time": "2022-12-10T21:00:31.213Z"
   },
   {
    "duration": 62,
    "start_time": "2022-12-10T21:00:31.641Z"
   },
   {
    "duration": 133,
    "start_time": "2022-12-10T21:00:32.006Z"
   },
   {
    "duration": 133,
    "start_time": "2022-12-10T21:00:32.780Z"
   },
   {
    "duration": 25,
    "start_time": "2022-12-10T21:00:33.171Z"
   },
   {
    "duration": 122,
    "start_time": "2022-12-10T21:00:33.943Z"
   },
   {
    "duration": 7,
    "start_time": "2022-12-10T21:00:34.725Z"
   },
   {
    "duration": 105,
    "start_time": "2022-12-10T21:00:35.634Z"
   },
   {
    "duration": 116,
    "start_time": "2022-12-10T21:00:37.603Z"
   },
   {
    "duration": 187,
    "start_time": "2022-12-10T21:00:39.565Z"
   },
   {
    "duration": 4269,
    "start_time": "2022-12-10T21:00:41.384Z"
   },
   {
    "duration": 1346,
    "start_time": "2022-12-10T21:01:03.824Z"
   },
   {
    "duration": 1349,
    "start_time": "2022-12-10T21:01:13.109Z"
   },
   {
    "duration": 1007,
    "start_time": "2022-12-10T21:01:14.460Z"
   },
   {
    "duration": 112,
    "start_time": "2022-12-10T21:01:16.213Z"
   },
   {
    "duration": 4,
    "start_time": "2022-12-10T21:01:17.036Z"
   },
   {
    "duration": 108,
    "start_time": "2022-12-10T21:01:17.447Z"
   },
   {
    "duration": 275,
    "start_time": "2022-12-10T21:01:18.233Z"
   },
   {
    "duration": 73,
    "start_time": "2022-12-10T21:01:18.598Z"
   },
   {
    "duration": 79,
    "start_time": "2022-12-10T21:01:19.402Z"
   },
   {
    "duration": 28,
    "start_time": "2022-12-10T21:01:20.530Z"
   },
   {
    "duration": 20,
    "start_time": "2022-12-10T21:01:20.893Z"
   },
   {
    "duration": 29,
    "start_time": "2022-12-10T21:01:21.292Z"
   },
   {
    "duration": 69,
    "start_time": "2022-12-10T21:01:21.697Z"
   },
   {
    "duration": 375,
    "start_time": "2022-12-10T21:01:22.527Z"
   },
   {
    "duration": 3,
    "start_time": "2022-12-10T21:01:23.341Z"
   },
   {
    "duration": 121,
    "start_time": "2022-12-10T21:01:24.120Z"
   },
   {
    "duration": 55,
    "start_time": "2022-12-10T21:01:24.841Z"
   },
   {
    "duration": 120,
    "start_time": "2022-12-10T21:01:26.495Z"
   },
   {
    "duration": 65,
    "start_time": "2022-12-10T21:01:26.916Z"
   },
   {
    "duration": 133,
    "start_time": "2022-12-10T21:01:27.301Z"
   },
   {
    "duration": 211,
    "start_time": "2022-12-10T21:01:28.069Z"
   },
   {
    "duration": 29,
    "start_time": "2022-12-10T21:01:28.497Z"
   },
   {
    "duration": 127,
    "start_time": "2022-12-10T21:01:29.255Z"
   },
   {
    "duration": 7,
    "start_time": "2022-12-10T21:01:30.062Z"
   },
   {
    "duration": 97,
    "start_time": "2022-12-10T21:01:30.888Z"
   },
   {
    "duration": 111,
    "start_time": "2022-12-10T21:01:36.621Z"
   },
   {
    "duration": 173,
    "start_time": "2022-12-10T21:01:39.242Z"
   },
   {
    "duration": 3981,
    "start_time": "2022-12-10T21:01:41.227Z"
   },
   {
    "duration": 3237,
    "start_time": "2022-12-10T21:01:48.173Z"
   },
   {
    "duration": 19415,
    "start_time": "2022-12-10T21:01:58.139Z"
   },
   {
    "duration": 3427,
    "start_time": "2022-12-10T21:02:20.130Z"
   },
   {
    "duration": 3,
    "start_time": "2022-12-10T21:02:29.672Z"
   },
   {
    "duration": 10235,
    "start_time": "2022-12-10T21:02:33.968Z"
   },
   {
    "duration": 1105,
    "start_time": "2022-12-10T21:02:55.365Z"
   },
   {
    "duration": 9934,
    "start_time": "2022-12-10T21:03:57.469Z"
   },
   {
    "duration": 225,
    "start_time": "2022-12-10T21:04:08.773Z"
   },
   {
    "duration": 5101,
    "start_time": "2022-12-10T21:06:54.198Z"
   },
   {
    "duration": 1193,
    "start_time": "2022-12-10T21:07:14.422Z"
   },
   {
    "duration": 1225,
    "start_time": "2022-12-10T21:07:27.489Z"
   },
   {
    "duration": 10154,
    "start_time": "2022-12-10T21:14:17.843Z"
   }
  ],
  "kernelspec": {
   "display_name": "Python 3 (ipykernel)",
   "language": "python",
   "name": "python3"
  },
  "language_info": {
   "codemirror_mode": {
    "name": "ipython",
    "version": 3
   },
   "file_extension": ".py",
   "mimetype": "text/x-python",
   "name": "python",
   "nbconvert_exporter": "python",
   "pygments_lexer": "ipython3",
   "version": "3.9.7"
  },
  "toc": {
   "base_numbering": 1,
   "nav_menu": {},
   "number_sections": true,
   "sideBar": true,
   "skip_h1_title": true,
   "title_cell": "Table of Contents",
   "title_sidebar": "Contents",
   "toc_cell": false,
   "toc_position": {},
   "toc_section_display": true,
   "toc_window_display": false
  }
 },
 "nbformat": 4,
 "nbformat_minor": 2
}
