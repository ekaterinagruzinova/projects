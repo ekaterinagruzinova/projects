{
 "cells": [
  {
   "cell_type": "markdown",
   "metadata": {
    "toc": true
   },
   "source": [
    "<h1>Содержание<span class=\"tocSkip\"></span></h1>\n",
    "<div class=\"toc\"><ul class=\"toc-item\"><li><span><a href=\"#Подготовка\" data-toc-modified-id=\"Подготовка-1\"><span class=\"toc-item-num\">1&nbsp;&nbsp;</span>Подготовка</a></span></li><li><span><a href=\"#Анализ\" data-toc-modified-id=\"Анализ-2\"><span class=\"toc-item-num\">2&nbsp;&nbsp;</span>Анализ</a></span></li><li><span><a href=\"#Обучение\" data-toc-modified-id=\"Обучение-3\"><span class=\"toc-item-num\">3&nbsp;&nbsp;</span>Обучение</a></span></li><li><span><a href=\"#Тестирование-модели\" data-toc-modified-id=\"Тестирование-модели-4\"><span class=\"toc-item-num\">4&nbsp;&nbsp;</span>Тестирование модели</a></span></li><li><span><a href=\"#Выводы\" data-toc-modified-id=\"Выводы-5\"><span class=\"toc-item-num\">5&nbsp;&nbsp;</span>Выводы</a></span></li><li><span><a href=\"#Чек-лист-проверки\" data-toc-modified-id=\"Чек-лист-проверки-6\"><span class=\"toc-item-num\">6&nbsp;&nbsp;</span>Чек-лист проверки</a></span></li></ul></div>"
   ]
  },
  {
   "cell_type": "markdown",
   "metadata": {},
   "source": [
    "#  Прогнозирование заказов такси"
   ]
  },
  {
   "cell_type": "markdown",
   "metadata": {},
   "source": [
    "Компания «Чётенькое такси» собрала исторические данные о заказах такси в аэропортах. Чтобы привлекать больше водителей в период пиковой нагрузки, нужно спрогнозировать количество заказов такси на следующий час. Мы построим модель для такого предсказания. Значение метрики *RMSE* на тестовой выборке должно быть не больше 48.\n"
   ]
  },
  {
   "cell_type": "markdown",
   "metadata": {},
   "source": [
    "## Подготовка"
   ]
  },
  {
   "cell_type": "markdown",
   "metadata": {},
   "source": [
    "Загрузим данные и первично ознакомимся с ними."
   ]
  },
  {
   "cell_type": "code",
   "execution_count": 1,
   "metadata": {},
   "outputs": [],
   "source": [
    "import pandas as pd\n",
    "import matplotlib.pyplot as plt\n",
    "import lightgbm as lgb\n",
    "import warnings\n",
    "warnings.filterwarnings(\"ignore\", category=DeprecationWarning)\n",
    "\n",
    "from sklearn.metrics import mean_squared_error\n",
    "from statsmodels.tsa.seasonal import seasonal_decompose\n",
    "from sklearn.model_selection import train_test_split\n",
    "from sklearn.linear_model import LinearRegression\n",
    "from lightgbm import LGBMRegressor\n",
    "from sklearn.tree import DecisionTreeRegressor\n",
    "from sklearn.ensemble import RandomForestRegressor\n"
   ]
  },
  {
   "cell_type": "code",
   "execution_count": 2,
   "metadata": {},
   "outputs": [
    {
     "data": {
      "text/html": [
       "<div>\n",
       "<style scoped>\n",
       "    .dataframe tbody tr th:only-of-type {\n",
       "        vertical-align: middle;\n",
       "    }\n",
       "\n",
       "    .dataframe tbody tr th {\n",
       "        vertical-align: top;\n",
       "    }\n",
       "\n",
       "    .dataframe thead th {\n",
       "        text-align: right;\n",
       "    }\n",
       "</style>\n",
       "<table border=\"1\" class=\"dataframe\">\n",
       "  <thead>\n",
       "    <tr style=\"text-align: right;\">\n",
       "      <th></th>\n",
       "      <th>datetime</th>\n",
       "      <th>num_orders</th>\n",
       "    </tr>\n",
       "  </thead>\n",
       "  <tbody>\n",
       "    <tr>\n",
       "      <th>0</th>\n",
       "      <td>2018-03-01 00:00:00</td>\n",
       "      <td>9</td>\n",
       "    </tr>\n",
       "    <tr>\n",
       "      <th>1</th>\n",
       "      <td>2018-03-01 00:10:00</td>\n",
       "      <td>14</td>\n",
       "    </tr>\n",
       "    <tr>\n",
       "      <th>2</th>\n",
       "      <td>2018-03-01 00:20:00</td>\n",
       "      <td>28</td>\n",
       "    </tr>\n",
       "    <tr>\n",
       "      <th>3</th>\n",
       "      <td>2018-03-01 00:30:00</td>\n",
       "      <td>20</td>\n",
       "    </tr>\n",
       "    <tr>\n",
       "      <th>4</th>\n",
       "      <td>2018-03-01 00:40:00</td>\n",
       "      <td>32</td>\n",
       "    </tr>\n",
       "  </tbody>\n",
       "</table>\n",
       "</div>"
      ],
      "text/plain": [
       "              datetime  num_orders\n",
       "0  2018-03-01 00:00:00           9\n",
       "1  2018-03-01 00:10:00          14\n",
       "2  2018-03-01 00:20:00          28\n",
       "3  2018-03-01 00:30:00          20\n",
       "4  2018-03-01 00:40:00          32"
      ]
     },
     "execution_count": 2,
     "metadata": {},
     "output_type": "execute_result"
    }
   ],
   "source": [
    "df = pd.read_csv('/datasets/taxi.csv')\n",
    "df.head()"
   ]
  },
  {
   "cell_type": "code",
   "execution_count": 3,
   "metadata": {},
   "outputs": [
    {
     "name": "stdout",
     "output_type": "stream",
     "text": [
      "<class 'pandas.core.frame.DataFrame'>\n",
      "RangeIndex: 26496 entries, 0 to 26495\n",
      "Data columns (total 2 columns):\n",
      " #   Column      Non-Null Count  Dtype \n",
      "---  ------      --------------  ----- \n",
      " 0   datetime    26496 non-null  object\n",
      " 1   num_orders  26496 non-null  int64 \n",
      "dtypes: int64(1), object(1)\n",
      "memory usage: 414.1+ KB\n"
     ]
    }
   ],
   "source": [
    "df.info()"
   ]
  },
  {
   "cell_type": "markdown",
   "metadata": {},
   "source": [
    "Так как мы будем работать с временным рядом, изменим тип данных с object на datetime64"
   ]
  },
  {
   "cell_type": "code",
   "execution_count": 4,
   "metadata": {},
   "outputs": [],
   "source": [
    "df['datetime'] = pd.to_datetime(df['datetime'])"
   ]
  },
  {
   "cell_type": "code",
   "execution_count": 5,
   "metadata": {},
   "outputs": [
    {
     "name": "stdout",
     "output_type": "stream",
     "text": [
      "<class 'pandas.core.frame.DataFrame'>\n",
      "RangeIndex: 26496 entries, 0 to 26495\n",
      "Data columns (total 2 columns):\n",
      " #   Column      Non-Null Count  Dtype         \n",
      "---  ------      --------------  -----         \n",
      " 0   datetime    26496 non-null  datetime64[ns]\n",
      " 1   num_orders  26496 non-null  int64         \n",
      "dtypes: datetime64[ns](1), int64(1)\n",
      "memory usage: 414.1 KB\n"
     ]
    }
   ],
   "source": [
    "df.info()"
   ]
  },
  {
   "cell_type": "markdown",
   "metadata": {},
   "source": [
    "Установим индекс таблицы равным столбцу datetime"
   ]
  },
  {
   "cell_type": "code",
   "execution_count": 6,
   "metadata": {},
   "outputs": [],
   "source": [
    "df = df.set_index('datetime')"
   ]
  },
  {
   "cell_type": "code",
   "execution_count": 7,
   "metadata": {},
   "outputs": [
    {
     "name": "stdout",
     "output_type": "stream",
     "text": [
      "<class 'pandas.core.frame.DataFrame'>\n",
      "DatetimeIndex: 26496 entries, 2018-03-01 00:00:00 to 2018-08-31 23:50:00\n",
      "Data columns (total 1 columns):\n",
      " #   Column      Non-Null Count  Dtype\n",
      "---  ------      --------------  -----\n",
      " 0   num_orders  26496 non-null  int64\n",
      "dtypes: int64(1)\n",
      "memory usage: 414.0 KB\n"
     ]
    }
   ],
   "source": [
    "df.info()"
   ]
  },
  {
   "cell_type": "markdown",
   "metadata": {},
   "source": [
    "Проверим, расположены ли данные в хронологическом порядке"
   ]
  },
  {
   "cell_type": "code",
   "execution_count": 8,
   "metadata": {},
   "outputs": [
    {
     "name": "stdout",
     "output_type": "stream",
     "text": [
      "True\n",
      "<class 'pandas.core.frame.DataFrame'>\n",
      "DatetimeIndex: 26496 entries, 2018-03-01 00:00:00 to 2018-08-31 23:50:00\n",
      "Data columns (total 1 columns):\n",
      " #   Column      Non-Null Count  Dtype\n",
      "---  ------      --------------  -----\n",
      " 0   num_orders  26496 non-null  int64\n",
      "dtypes: int64(1)\n",
      "memory usage: 414.0 KB\n",
      "None\n"
     ]
    }
   ],
   "source": [
    "df = df.sort_index()\n",
    "print(df.index.is_monotonic)\n",
    "print(df.info())"
   ]
  },
  {
   "cell_type": "markdown",
   "metadata": {},
   "source": [
    "Посмотрим, за какой период у нас есть данные"
   ]
  },
  {
   "cell_type": "code",
   "execution_count": 9,
   "metadata": {},
   "outputs": [
    {
     "name": "stdout",
     "output_type": "stream",
     "text": [
      "                     num_orders\n",
      "datetime                       \n",
      "2018-03-01 00:00:00           9\n",
      "2018-08-31 23:50:00          53\n"
     ]
    }
   ],
   "source": [
    "print(df.iloc[[0, -1]])"
   ]
  },
  {
   "cell_type": "code",
   "execution_count": 10,
   "metadata": {},
   "outputs": [
    {
     "data": {
      "text/plain": [
       "<AxesSubplot:xlabel='datetime'>"
      ]
     },
     "execution_count": 10,
     "metadata": {},
     "output_type": "execute_result"
    },
    {
     "data": {
      "image/png": "[encoded data removed]",
      "text/plain": [
       "<Figure size 432x288 with 1 Axes>"
      ]
     },
     "metadata": {
      "needs_background": "light"
     },
     "output_type": "display_data"
    }
   ],
   "source": [
    "df.plot()"
   ]
  },
  {
   "cell_type": "markdown",
   "metadata": {},
   "source": [
    "Ресемплируем данные по одному часу."
   ]
  },
  {
   "cell_type": "code",
   "execution_count": 11,
   "metadata": {},
   "outputs": [
    {
     "data": {
      "text/plain": [
       "<AxesSubplot:xlabel='datetime'>"
      ]
     },
     "execution_count": 11,
     "metadata": {},
     "output_type": "execute_result"
    },
    {
     "data": {
      "image/png": "[encoded data removed]",
      "text/plain": [
       "<Figure size 432x288 with 1 Axes>"
      ]
     },
     "metadata": {
      "needs_background": "light"
     },
     "output_type": "display_data"
    }
   ],
   "source": [
    "df = df.resample('1H').sum()\n",
    "df.plot()"
   ]
  },
  {
   "cell_type": "markdown",
   "metadata": {},
   "source": [
    "## Анализ"
   ]
  },
  {
   "cell_type": "markdown",
   "metadata": {},
   "source": [
    "Рассмотрим тренд, сезонность и остатки. "
   ]
  },
  {
   "cell_type": "code",
   "execution_count": 12,
   "metadata": {},
   "outputs": [
    {
     "data": {
      "image/png": "[encoded data removed]",
      "text/plain": [
       "<Figure size 432x576 with 3 Axes>"
      ]
     },
     "metadata": {
      "needs_background": "light"
     },
     "output_type": "display_data"
    }
   ],
   "source": [
    "decomposed = seasonal_decompose(df)\n",
    "\n",
    "plt.figure(figsize=(6, 8))\n",
    "plt.subplot(311)\n",
    "decomposed.trend.plot(ax=plt.gca())\n",
    "plt.title('Trend')\n",
    "plt.subplot(312)\n",
    "decomposed.seasonal.plot(ax=plt.gca()) \n",
    "plt.title('Seasonality')\n",
    "plt.subplot(313)\n",
    "decomposed.resid.plot(ax=plt.gca()) \n",
    "plt.title('Residuals')\n",
    "plt.tight_layout()"
   ]
  },
  {
   "cell_type": "markdown",
   "metadata": {},
   "source": [
    "Видим тренд на увеличение. Посмотрим на сезонность в контексте одного дня и одного часа. Например, возьмём по неделе из двух месяцев."
   ]
  },
  {
   "cell_type": "code",
   "execution_count": 13,
   "metadata": {},
   "outputs": [
    {
     "data": {
      "text/plain": [
       "<AxesSubplot:xlabel='datetime'>"
      ]
     },
     "execution_count": 13,
     "metadata": {},
     "output_type": "execute_result"
    },
    {
     "data": {
      "image/png": "[encoded data removed]",
      "text/plain": [
       "<Figure size 432x288 with 1 Axes>"
      ]
     },
     "metadata": {
      "needs_background": "light"
     },
     "output_type": "display_data"
    }
   ],
   "source": [
    "decomposed.seasonal['2018-03-01':'2018-03-08'].plot(ax=plt.gca())"
   ]
  },
  {
   "cell_type": "code",
   "execution_count": 14,
   "metadata": {},
   "outputs": [
    {
     "data": {
      "text/plain": [
       "<AxesSubplot:xlabel='datetime'>"
      ]
     },
     "execution_count": 14,
     "metadata": {},
     "output_type": "execute_result"
    },
    {
     "data": {
      "image/png": "[encoded data removed]",
      "text/plain": [
       "<Figure size 432x288 with 1 Axes>"
      ]
     },
     "metadata": {
      "needs_background": "light"
     },
     "output_type": "display_data"
    }
   ],
   "source": [
    "decomposed.seasonal['2018-06-01':'2018-06-08'].plot(ax=plt.gca())"
   ]
  },
  {
   "cell_type": "markdown",
   "metadata": {},
   "source": [
    "Видим, что в течение недели показатель практически не меняется. Дело, очевидно, во времени дня. Поэтому теперь посмотрим, как меняется число заказов в течение дня. "
   ]
  },
  {
   "cell_type": "code",
   "execution_count": 15,
   "metadata": {},
   "outputs": [
    {
     "data": {
      "text/plain": [
       "<AxesSubplot:xlabel='datetime'>"
      ]
     },
     "execution_count": 15,
     "metadata": {},
     "output_type": "execute_result"
    },
    {
     "data": {
      "image/png": "[encoded data removed]",
      "text/plain": [
       "<Figure size 432x288 with 1 Axes>"
      ]
     },
     "metadata": {
      "needs_background": "light"
     },
     "output_type": "display_data"
    }
   ],
   "source": [
    "decomposed.seasonal['2018-03-01':'2018-03-03'].plot(ax=plt.gca())"
   ]
  },
  {
   "cell_type": "markdown",
   "metadata": {},
   "source": [
    "В пкрвые три дня марта, как мы видим, проследивается четкая сезонность: пик находится около полуночи часов, так же есть пик около 16 часов и 10 часов. Самый большой спад - в районе 6 утра, также спады около 12 часов и 18 часов. Посмотрим на те же данные, например,  в июне. "
   ]
  },
  {
   "cell_type": "code",
   "execution_count": 16,
   "metadata": {},
   "outputs": [
    {
     "data": {
      "text/plain": [
       "<AxesSubplot:xlabel='datetime'>"
      ]
     },
     "execution_count": 16,
     "metadata": {},
     "output_type": "execute_result"
    },
    {
     "data": {
      "image/png": "[encoded data removed]",
      "text/plain": [
       "<Figure size 432x288 with 1 Axes>"
      ]
     },
     "metadata": {
      "needs_background": "light"
     },
     "output_type": "display_data"
    }
   ],
   "source": [
    "decomposed.seasonal['2018-06-01':'2018-06-03'].plot(ax=plt.gca())"
   ]
  },
  {
   "cell_type": "markdown",
   "metadata": {},
   "source": [
    "В июне видим те же закономерности. Теперь посмотрим на сезонность в течение часа. "
   ]
  },
  {
   "cell_type": "markdown",
   "metadata": {},
   "source": [
    "Посмотрим на скользящее среднее, для этого подберём размер окна"
   ]
  },
  {
   "cell_type": "code",
   "execution_count": 17,
   "metadata": {},
   "outputs": [
    {
     "name": "stdout",
     "output_type": "stream",
     "text": [
      "rmse для скользящего среднего 2 равно 19.509512858604733\n",
      "rmse для скользящего среднего 3 равно 25.493912459159002\n",
      "rmse для скользящего среднего 4 равно 29.678366861102006\n",
      "rmse для скользящего среднего 5 равно 32.405289094199134\n",
      "rmse для скользящего среднего 6 равно 34.076736079016456\n",
      "rmse для скользящего среднего 7 равно 35.06957635513487\n",
      "rmse для скользящего среднего 8 равно 35.41683033372916\n",
      "rmse для скользящего среднего 9 равно 35.583770879698925\n",
      "rmse для скользящего среднего 10 равно 35.92682133376726\n",
      "rmse для скользящего среднего 11 равно 36.230173225073564\n",
      "rmse для скользящего среднего 12 равно 36.23801013430922\n",
      "rmse для скользящего среднего 13 равно 36.19917052504399\n",
      "rmse для скользящего среднего 14 равно 36.24453716981881\n",
      "rmse для скользящего среднего 15 равно 36.47433442679391\n",
      "rmse для скользящего среднего 16 равно 36.73695385315841\n",
      "rmse для скользящего среднего 17 равно 36.84709324579899\n",
      "rmse для скользящего среднего 18 равно 36.99228210248857\n",
      "rmse для скользящего среднего 19 равно 37.24234144837987\n",
      "rmse для скользящего среднего 20 равно 37.49455253882145\n",
      "rmse для скользящего среднего 21 равно 37.66033348147647\n",
      "rmse для скользящего среднего 22 равно 37.69670523578024\n",
      "rmse для скользящего среднего 23 равно 37.40952197793016\n",
      "rmse для скользящего среднего 24 равно 36.839762807372296\n",
      "rmse для скользящего среднего 25 равно 36.04073127852524\n",
      "rmse для скользящего среднего 26 равно 35.6045344574746\n",
      "rmse для скользящего среднего 27 равно 35.5245068669874\n",
      "rmse для скользящего среднего 28 равно 35.7284440209793\n",
      "rmse для скользящего среднего 29 равно 36.02924923240215\n",
      "rmse для скользящего среднего 30 равно 36.28585278280094\n",
      "rmse для скользящего среднего 31 равно 36.5097932472971\n",
      "rmse для скользящего среднего 32 равно 36.642821153377895\n",
      "rmse для скользящего среднего 33 равно 36.73589912553866\n",
      "rmse для скользящего среднего 34 равно 36.87716935384904\n",
      "rmse для скользящего среднего 35 равно 36.99639514475525\n",
      "rmse для скользящего среднего 36 равно 37.06065066933222\n",
      "rmse для скользящего среднего 37 равно 37.096919137752266\n",
      "rmse для скользящего среднего 38 равно 37.140550757115605\n",
      "rmse для скользящего среднего 39 равно 37.24384178692356\n",
      "rmse для скользящего среднего 40 равно 37.33695794195387\n",
      "rmse для скользящего среднего 41 равно 37.38174638593336\n",
      "rmse для скользящего среднего 42 равно 37.43746786464232\n",
      "rmse для скользящего среднего 43 равно 37.54205594591057\n",
      "rmse для скользящего среднего 44 равно 37.63875350942827\n",
      "rmse для скользящего среднего 45 равно 37.73041350415037\n",
      "rmse для скользящего среднего 46 равно 37.73135590012368\n",
      "rmse для скользящего среднего 47 равно 37.573643678550866\n"
     ]
    }
   ],
   "source": [
    "#напишем цикл, в котором переберём разные размеры окон и посмотрим на значение rmse \n",
    "for i in range(2,48):\n",
    "    df['rolling_mean'] = df['num_orders'].rolling(i).mean()\n",
    "    rmse = mean_squared_error(df['rolling_mean'][i:], df['num_orders'][i:], squared=False)\n",
    "    print('rmse для скользящего среднего', i, 'равно', rmse)"
   ]
  },
  {
   "cell_type": "markdown",
   "metadata": {},
   "source": [
    "Логично, что для маленьких окон значения rmse меньше. Но слишком маленькое окно не обеспечит сглаживания. Поэтому исходя из расчётов выберем размер окна 27. "
   ]
  },
  {
   "cell_type": "code",
   "execution_count": 18,
   "metadata": {},
   "outputs": [
    {
     "data": {
      "text/plain": [
       "<AxesSubplot:xlabel='datetime'>"
      ]
     },
     "execution_count": 18,
     "metadata": {},
     "output_type": "execute_result"
    },
    {
     "data": {
      "image/png": "[encoded data removed]",
      "text/plain": [
       "<Figure size 432x288 with 1 Axes>"
      ]
     },
     "metadata": {
      "needs_background": "light"
     },
     "output_type": "display_data"
    }
   ],
   "source": [
    "df['rolling_mean'] = df['num_orders'].rolling(27).mean()\n",
    "df['std'] = df['num_orders'].rolling(27).std()\n",
    "df.plot()"
   ]
  },
  {
   "cell_type": "markdown",
   "metadata": {},
   "source": [
    "По скользящему среднему виден тренд на рост. Временной ряд нестационарный - среднее и дисперсия меняются со временем. Сделаем его стационарным, чтобы можно было предсказывать. "
   ]
  },
  {
   "cell_type": "code",
   "execution_count": 19,
   "metadata": {},
   "outputs": [
    {
     "data": {
      "text/plain": [
       "<AxesSubplot:xlabel='datetime'>"
      ]
     },
     "execution_count": 19,
     "metadata": {},
     "output_type": "execute_result"
    },
    {
     "data": {
      "image/png": "[encoded data removed]",
      "text/plain": [
       "<Figure size 432x288 with 1 Axes>"
      ]
     },
     "metadata": {
      "needs_background": "light"
     },
     "output_type": "display_data"
    }
   ],
   "source": [
    "df_shift = df - df.shift(fill_value=0)\n",
    "df_shift.plot()"
   ]
  },
  {
   "cell_type": "markdown",
   "metadata": {},
   "source": [
    "## Обучение"
   ]
  },
  {
   "cell_type": "markdown",
   "metadata": {},
   "source": [
    "Перед обучением создадим признаки. Для этого напишем специальную функцию. "
   ]
  },
  {
   "cell_type": "code",
   "execution_count": 20,
   "metadata": {},
   "outputs": [],
   "source": [
    "def make_features(data, max_lag, rolling_mean_size):\n",
    "    #df_shift['month'] = df_shift.index.month\n",
    "    #df_shift['day'] = df_shift.index.day\n",
    "    df_shift['dayofweek'] = df_shift.index.dayofweek\n",
    "    df_shift['hour'] = df_shift.index.hour\n",
    "    \n",
    "    for lag in range(1, max_lag + 1):\n",
    "        df_shift['lag_{}'.format(lag)] = df_shift['num_orders'].shift(lag)\n",
    " \n",
    "    df_shift['rolling_mean'] = df_shift['num_orders'].shift().rolling(rolling_mean_size).mean()\n",
    " \n"
   ]
  },
  {
   "cell_type": "markdown",
   "metadata": {},
   "source": [
    "Создаём признаки"
   ]
  },
  {
   "cell_type": "code",
   "execution_count": 21,
   "metadata": {},
   "outputs": [],
   "source": [
    "make_features(df, 6, 27)"
   ]
  },
  {
   "cell_type": "code",
   "execution_count": 22,
   "metadata": {},
   "outputs": [
    {
     "data": {
      "text/html": [
       "<div>\n",
       "<style scoped>\n",
       "    .dataframe tbody tr th:only-of-type {\n",
       "        vertical-align: middle;\n",
       "    }\n",
       "\n",
       "    .dataframe tbody tr th {\n",
       "        vertical-align: top;\n",
       "    }\n",
       "\n",
       "    .dataframe thead th {\n",
       "        text-align: right;\n",
       "    }\n",
       "</style>\n",
       "<table border=\"1\" class=\"dataframe\">\n",
       "  <thead>\n",
       "    <tr style=\"text-align: right;\">\n",
       "      <th></th>\n",
       "      <th>num_orders</th>\n",
       "      <th>rolling_mean</th>\n",
       "      <th>std</th>\n",
       "      <th>dayofweek</th>\n",
       "      <th>hour</th>\n",
       "      <th>lag_1</th>\n",
       "      <th>lag_2</th>\n",
       "      <th>lag_3</th>\n",
       "      <th>lag_4</th>\n",
       "      <th>lag_5</th>\n",
       "      <th>lag_6</th>\n",
       "    </tr>\n",
       "    <tr>\n",
       "      <th>datetime</th>\n",
       "      <th></th>\n",
       "      <th></th>\n",
       "      <th></th>\n",
       "      <th></th>\n",
       "      <th></th>\n",
       "      <th></th>\n",
       "      <th></th>\n",
       "      <th></th>\n",
       "      <th></th>\n",
       "      <th></th>\n",
       "      <th></th>\n",
       "    </tr>\n",
       "  </thead>\n",
       "  <tbody>\n",
       "    <tr>\n",
       "      <th>2018-03-01 00:00:00</th>\n",
       "      <td>124</td>\n",
       "      <td>NaN</td>\n",
       "      <td>NaN</td>\n",
       "      <td>3</td>\n",
       "      <td>0</td>\n",
       "      <td>NaN</td>\n",
       "      <td>NaN</td>\n",
       "      <td>NaN</td>\n",
       "      <td>NaN</td>\n",
       "      <td>NaN</td>\n",
       "      <td>NaN</td>\n",
       "    </tr>\n",
       "    <tr>\n",
       "      <th>2018-03-01 01:00:00</th>\n",
       "      <td>-39</td>\n",
       "      <td>NaN</td>\n",
       "      <td>NaN</td>\n",
       "      <td>3</td>\n",
       "      <td>1</td>\n",
       "      <td>124.0</td>\n",
       "      <td>NaN</td>\n",
       "      <td>NaN</td>\n",
       "      <td>NaN</td>\n",
       "      <td>NaN</td>\n",
       "      <td>NaN</td>\n",
       "    </tr>\n",
       "    <tr>\n",
       "      <th>2018-03-01 02:00:00</th>\n",
       "      <td>-14</td>\n",
       "      <td>NaN</td>\n",
       "      <td>NaN</td>\n",
       "      <td>3</td>\n",
       "      <td>2</td>\n",
       "      <td>-39.0</td>\n",
       "      <td>124.0</td>\n",
       "      <td>NaN</td>\n",
       "      <td>NaN</td>\n",
       "      <td>NaN</td>\n",
       "      <td>NaN</td>\n",
       "    </tr>\n",
       "    <tr>\n",
       "      <th>2018-03-01 03:00:00</th>\n",
       "      <td>-5</td>\n",
       "      <td>NaN</td>\n",
       "      <td>NaN</td>\n",
       "      <td>3</td>\n",
       "      <td>3</td>\n",
       "      <td>-14.0</td>\n",
       "      <td>-39.0</td>\n",
       "      <td>124.0</td>\n",
       "      <td>NaN</td>\n",
       "      <td>NaN</td>\n",
       "      <td>NaN</td>\n",
       "    </tr>\n",
       "    <tr>\n",
       "      <th>2018-03-01 04:00:00</th>\n",
       "      <td>-23</td>\n",
       "      <td>NaN</td>\n",
       "      <td>NaN</td>\n",
       "      <td>3</td>\n",
       "      <td>4</td>\n",
       "      <td>-5.0</td>\n",
       "      <td>-14.0</td>\n",
       "      <td>-39.0</td>\n",
       "      <td>124.0</td>\n",
       "      <td>NaN</td>\n",
       "      <td>NaN</td>\n",
       "    </tr>\n",
       "    <tr>\n",
       "      <th>...</th>\n",
       "      <td>...</td>\n",
       "      <td>...</td>\n",
       "      <td>...</td>\n",
       "      <td>...</td>\n",
       "      <td>...</td>\n",
       "      <td>...</td>\n",
       "      <td>...</td>\n",
       "      <td>...</td>\n",
       "      <td>...</td>\n",
       "      <td>...</td>\n",
       "      <td>...</td>\n",
       "    </tr>\n",
       "    <tr>\n",
       "      <th>2018-08-31 19:00:00</th>\n",
       "      <td>-71</td>\n",
       "      <td>1.888889</td>\n",
       "      <td>-1.390723</td>\n",
       "      <td>4</td>\n",
       "      <td>19</td>\n",
       "      <td>-10.0</td>\n",
       "      <td>20.0</td>\n",
       "      <td>81.0</td>\n",
       "      <td>-17.0</td>\n",
       "      <td>-33.0</td>\n",
       "      <td>30.0</td>\n",
       "    </tr>\n",
       "    <tr>\n",
       "      <th>2018-08-31 20:00:00</th>\n",
       "      <td>18</td>\n",
       "      <td>-4.370370</td>\n",
       "      <td>-8.741120</td>\n",
       "      <td>4</td>\n",
       "      <td>20</td>\n",
       "      <td>-71.0</td>\n",
       "      <td>-10.0</td>\n",
       "      <td>20.0</td>\n",
       "      <td>81.0</td>\n",
       "      <td>-17.0</td>\n",
       "      <td>-33.0</td>\n",
       "    </tr>\n",
       "    <tr>\n",
       "      <th>2018-08-31 21:00:00</th>\n",
       "      <td>5</td>\n",
       "      <td>-6.962963</td>\n",
       "      <td>-0.049774</td>\n",
       "      <td>4</td>\n",
       "      <td>21</td>\n",
       "      <td>18.0</td>\n",
       "      <td>-71.0</td>\n",
       "      <td>-10.0</td>\n",
       "      <td>20.0</td>\n",
       "      <td>81.0</td>\n",
       "      <td>-17.0</td>\n",
       "    </tr>\n",
       "    <tr>\n",
       "      <th>2018-08-31 22:00:00</th>\n",
       "      <td>64</td>\n",
       "      <td>-0.666667</td>\n",
       "      <td>-1.747138</td>\n",
       "      <td>4</td>\n",
       "      <td>22</td>\n",
       "      <td>5.0</td>\n",
       "      <td>18.0</td>\n",
       "      <td>-71.0</td>\n",
       "      <td>-10.0</td>\n",
       "      <td>20.0</td>\n",
       "      <td>81.0</td>\n",
       "    </tr>\n",
       "    <tr>\n",
       "      <th>2018-08-31 23:00:00</th>\n",
       "      <td>-18</td>\n",
       "      <td>5.592593</td>\n",
       "      <td>0.142093</td>\n",
       "      <td>4</td>\n",
       "      <td>23</td>\n",
       "      <td>64.0</td>\n",
       "      <td>5.0</td>\n",
       "      <td>18.0</td>\n",
       "      <td>-71.0</td>\n",
       "      <td>-10.0</td>\n",
       "      <td>20.0</td>\n",
       "    </tr>\n",
       "  </tbody>\n",
       "</table>\n",
       "<p>4416 rows × 11 columns</p>\n",
       "</div>"
      ],
      "text/plain": [
       "                     num_orders  rolling_mean       std  dayofweek  hour  \\\n",
       "datetime                                                                   \n",
       "2018-03-01 00:00:00         124           NaN       NaN          3     0   \n",
       "2018-03-01 01:00:00         -39           NaN       NaN          3     1   \n",
       "2018-03-01 02:00:00         -14           NaN       NaN          3     2   \n",
       "2018-03-01 03:00:00          -5           NaN       NaN          3     3   \n",
       "2018-03-01 04:00:00         -23           NaN       NaN          3     4   \n",
       "...                         ...           ...       ...        ...   ...   \n",
       "2018-08-31 19:00:00         -71      1.888889 -1.390723          4    19   \n",
       "2018-08-31 20:00:00          18     -4.370370 -8.741120          4    20   \n",
       "2018-08-31 21:00:00           5     -6.962963 -0.049774          4    21   \n",
       "2018-08-31 22:00:00          64     -0.666667 -1.747138          4    22   \n",
       "2018-08-31 23:00:00         -18      5.592593  0.142093          4    23   \n",
       "\n",
       "                     lag_1  lag_2  lag_3  lag_4  lag_5  lag_6  \n",
       "datetime                                                       \n",
       "2018-03-01 00:00:00    NaN    NaN    NaN    NaN    NaN    NaN  \n",
       "2018-03-01 01:00:00  124.0    NaN    NaN    NaN    NaN    NaN  \n",
       "2018-03-01 02:00:00  -39.0  124.0    NaN    NaN    NaN    NaN  \n",
       "2018-03-01 03:00:00  -14.0  -39.0  124.0    NaN    NaN    NaN  \n",
       "2018-03-01 04:00:00   -5.0  -14.0  -39.0  124.0    NaN    NaN  \n",
       "...                    ...    ...    ...    ...    ...    ...  \n",
       "2018-08-31 19:00:00  -10.0   20.0   81.0  -17.0  -33.0   30.0  \n",
       "2018-08-31 20:00:00  -71.0  -10.0   20.0   81.0  -17.0  -33.0  \n",
       "2018-08-31 21:00:00   18.0  -71.0  -10.0   20.0   81.0  -17.0  \n",
       "2018-08-31 22:00:00    5.0   18.0  -71.0  -10.0   20.0   81.0  \n",
       "2018-08-31 23:00:00   64.0    5.0   18.0  -71.0  -10.0   20.0  \n",
       "\n",
       "[4416 rows x 11 columns]"
      ]
     },
     "execution_count": 22,
     "metadata": {},
     "output_type": "execute_result"
    }
   ],
   "source": [
    "#Посмотрим, что получилось\n",
    "df_shift"
   ]
  },
  {
   "cell_type": "code",
   "execution_count": 23,
   "metadata": {},
   "outputs": [],
   "source": [
    "#устраняем пустые значения\n",
    "df_shift = df_shift.dropna()"
   ]
  },
  {
   "cell_type": "markdown",
   "metadata": {},
   "source": [
    "Разделим данные на обучающую и тестовую выборки (тестовая выборка - 10% от всех данных). Определим признаки и целевой признак."
   ]
  },
  {
   "cell_type": "code",
   "execution_count": 24,
   "metadata": {},
   "outputs": [],
   "source": [
    "train, test = train_test_split(df_shift, shuffle=False, test_size=0.1)"
   ]
  },
  {
   "cell_type": "code",
   "execution_count": 25,
   "metadata": {},
   "outputs": [],
   "source": [
    "features_train = train.drop(columns='num_orders')\n",
    "target_train = train['num_orders']\n",
    " \n",
    "features_test = test.drop(columns='num_orders')\n",
    "target_test = test['num_orders']"
   ]
  },
  {
   "cell_type": "markdown",
   "metadata": {},
   "source": [
    "Обучим модели. Результат обучения будем смотреть на тренировочной выборке. Затем проверим лучшую модель на тестовой выборке. Сначала обучим модель решающего дерева. "
   ]
  },
  {
   "cell_type": "code",
   "execution_count": 26,
   "metadata": {},
   "outputs": [
    {
     "name": "stdout",
     "output_type": "stream",
     "text": [
      "RMSE для решающего дерева: 24.51153317150433\n"
     ]
    }
   ],
   "source": [
    "model_tree = DecisionTreeRegressor(random_state=12345, max_depth=7)\n",
    "model_tree.fit(features_train, target_train) \n",
    "predicted = model_tree.predict(features_train)\n",
    "rmse_tree = (mean_squared_error(target_train, predicted))**0.5\n",
    "print(\"RMSE для решающего дерева:\", rmse_tree)"
   ]
  },
  {
   "cell_type": "markdown",
   "metadata": {},
   "source": [
    "Попробуем подобрать более оптимальную глубину"
   ]
  },
  {
   "cell_type": "code",
   "execution_count": 27,
   "metadata": {
    "scrolled": true
   },
   "outputs": [
    {
     "name": "stdout",
     "output_type": "stream",
     "text": [
      "max_depth = 27 : 0.019487094073848927\n",
      "max_depth = 28 : 0.0\n",
      "max_depth = 29 : 0.0\n",
      "max_depth = 30 : 0.0\n",
      "max_depth = 31 : 0.0\n",
      "max_depth = 32 : 0.0\n",
      "max_depth = 33 : 0.0\n",
      "max_depth = 34 : 0.0\n",
      "max_depth = 35 : 0.0\n",
      "max_depth = 36 : 0.0\n",
      "max_depth = 37 : 0.0\n",
      "max_depth = 38 : 0.0\n",
      "max_depth = 39 : 0.0\n"
     ]
    }
   ],
   "source": [
    "#мы пробовали разные диапазоны для поиска оптимальной глубины дерева (от 1 до 10, от 10 до 20 и т.д.), прежде чем остановиться на выбранном\n",
    "best_model = None\n",
    "best_result = 0\n",
    "for depth in range(1, 40):\n",
    "    model_tree = DecisionTreeRegressor(random_state=12345, max_depth=depth)\n",
    "    model_tree.fit(features_train, target_train)\n",
    "    predicted = model_tree.predict(features_train)\n",
    "    result = (mean_squared_error(target_train, predicted))**0.5\n",
    "    print('max_depth =', depth, ':', result)"
   ]
  },
  {
   "cell_type": "code",
   "execution_count": 28,
   "metadata": {},
   "outputs": [
    {
     "name": "stdout",
     "output_type": "stream",
     "text": [
      "RMSE для решающего дерева: 0.0\n"
     ]
    }
   ],
   "source": [
    "model_tree = DecisionTreeRegressor(random_state=12345, max_depth=28)\n",
    "model_tree.fit(features_train, target_train) \n",
    "predicted = model_tree.predict(features_train)\n",
    "rmse_tree = (mean_squared_error(target_train, predicted))**0.5\n",
    "print(\"RMSE для решающего дерева:\", rmse_tree)"
   ]
  },
  {
   "cell_type": "code",
   "execution_count": 29,
   "metadata": {},
   "outputs": [
    {
     "data": {
      "text/plain": [
       "datetime\n",
       "2018-03-02 03:00:00   -11\n",
       "2018-03-02 04:00:00   -44\n",
       "2018-03-02 05:00:00    -9\n",
       "2018-03-02 06:00:00     0\n",
       "2018-03-02 07:00:00    -4\n",
       "                       ..\n",
       "2018-08-13 12:00:00   -52\n",
       "2018-08-13 13:00:00    27\n",
       "2018-08-13 14:00:00   -17\n",
       "2018-08-13 15:00:00    73\n",
       "2018-08-13 16:00:00   -31\n",
       "Freq: H, Name: num_orders, Length: 3950, dtype: int64"
      ]
     },
     "execution_count": 29,
     "metadata": {},
     "output_type": "execute_result"
    }
   ],
   "source": [
    "target_train"
   ]
  },
  {
   "cell_type": "code",
   "execution_count": 30,
   "metadata": {},
   "outputs": [
    {
     "data": {
      "text/plain": [
       "array([-11., -44.,  -9., ..., -17.,  73., -31.])"
      ]
     },
     "execution_count": 30,
     "metadata": {},
     "output_type": "execute_result"
    }
   ],
   "source": [
    "predicted"
   ]
  },
  {
   "cell_type": "markdown",
   "metadata": {},
   "source": [
    "Лучший результат показывает решающее дерево с глубиной 28. Зафиксируем результат этой модели"
   ]
  },
  {
   "cell_type": "code",
   "execution_count": 229,
   "metadata": {},
   "outputs": [
    {
     "name": "stdout",
     "output_type": "stream",
     "text": [
      "RMSE для случайного леса: 18.858523489162316\n"
     ]
    }
   ],
   "source": [
    "model_forest = RandomForestRegressor(max_depth=10, n_estimators=30, min_samples_leaf= 7, random_state=12345)\n",
    "model_forest.fit(features_train, target_train) \n",
    "predicted = model_forest.predict(features_train)\n",
    "rmse_forest = (mean_squared_error(target_train, predicted))**0.5\n",
    "print(\"RMSE для случайного леса:\", rmse_forest)"
   ]
  },
  {
   "cell_type": "markdown",
   "metadata": {},
   "source": [
    "Модель случайного леса показывает хороший результат, но попробуем подобрать более оптимальные гиперпараметры."
   ]
  },
  {
   "cell_type": "code",
   "execution_count": 230,
   "metadata": {
    "scrolled": true
   },
   "outputs": [
    {
     "name": "stdout",
     "output_type": "stream",
     "text": [
      "max_depth = 1 : 33.67720062583534\n",
      "max_depth = 2 : 31.82219549388344\n",
      "max_depth = 3 : 30.00455721102139\n",
      "max_depth = 4 : 27.91537248900841\n",
      "max_depth = 5 : 25.66553858053682\n",
      "max_depth = 6 : 23.9686363881267\n",
      "max_depth = 7 : 22.528330519419274\n",
      "max_depth = 8 : 21.09193254064124\n",
      "max_depth = 9 : 19.859740557487044\n",
      "max_depth = 10 : 18.858523489162316\n",
      "max_depth = 11 : 18.09753610048196\n",
      "max_depth = 12 : 17.473951122300303\n",
      "max_depth = 13 : 17.073424653355726\n",
      "max_depth = 14 : 16.813353858295432\n",
      "max_depth = 15 : 16.645565215696895\n",
      "max_depth = 16 : 16.550772067432945\n",
      "max_depth = 17 : 16.500361118391485\n",
      "max_depth = 18 : 16.479319253445443\n",
      "max_depth = 19 : 16.470328845443742\n",
      "max_depth = 20 : 16.466097247207063\n",
      "max_depth = 21 : 16.46298060130462\n",
      "max_depth = 22 : 16.462021580617748\n",
      "max_depth = 23 : 16.462021580617748\n",
      "max_depth = 24 : 16.462021580617748\n",
      "max_depth = 25 : 16.462021580617748\n",
      "max_depth = 26 : 16.462021580617748\n",
      "max_depth = 27 : 16.462021580617748\n",
      "max_depth = 28 : 16.462021580617748\n",
      "max_depth = 29 : 16.462021580617748\n"
     ]
    }
   ],
   "source": [
    "for depth in range(1, 30):\n",
    "    model_forest = RandomForestRegressor(random_state=12345, \n",
    "                                        n_estimators=30,\n",
    "                                        min_samples_leaf= 7,\n",
    "                                        max_depth=depth)\n",
    "    model_forest.fit(features_train, target_train)\n",
    "    predicted = model_forest.predict(features_train)\n",
    "    result = (mean_squared_error(target_train, predicted))**0.5\n",
    "    print('max_depth =', depth, ':', result)\n",
    "    "
   ]
  },
  {
   "cell_type": "markdown",
   "metadata": {},
   "source": [
    "Выбираем глубину 20 и продолжаем подбор"
   ]
  },
  {
   "cell_type": "code",
   "execution_count": 156,
   "metadata": {},
   "outputs": [
    {
     "name": "stdout",
     "output_type": "stream",
     "text": [
      "min_samples_leaf = 1 : 8.929825838425307\n",
      "min_samples_leaf = 2 : 10.37353180049809\n",
      "min_samples_leaf = 3 : 12.055549651045373\n",
      "min_samples_leaf = 4 : 13.621335600620332\n",
      "min_samples_leaf = 5 : 14.81006240270706\n",
      "min_samples_leaf = 6 : 15.736158544432778\n",
      "min_samples_leaf = 7 : 16.462021580617748\n",
      "min_samples_leaf = 8 : 17.066491044844682\n",
      "min_samples_leaf = 9 : 17.664024935820915\n"
     ]
    }
   ],
   "source": [
    "for samples_leaf in range(1, 10):\n",
    "    model_forest = RandomForestRegressor(random_state=12345, \n",
    "                                        n_estimators=30,\n",
    "                                        min_samples_leaf= samples_leaf,\n",
    "                                        max_depth=22)\n",
    "    model_forest.fit(features_train, target_train)\n",
    "    predicted = model_forest.predict(features_train)\n",
    "    result = (mean_squared_error(target_train, predicted))**0.5\n",
    "    print('min_samples_leaf =', samples_leaf, ':', result)"
   ]
  },
  {
   "cell_type": "markdown",
   "metadata": {},
   "source": [
    "Фиксируем гиперпараметры для модели случайного леса - max_depth=22, n_estimators=30, min_samples_leaf= 2. (Количество деревьев мы также пробовали подбирать, однако оно, как выяснилось, почти не влияет на результат)"
   ]
  },
  {
   "cell_type": "code",
   "execution_count": 231,
   "metadata": {},
   "outputs": [
    {
     "name": "stdout",
     "output_type": "stream",
     "text": [
      "RMSE для случайного леса: 10.477848419979267\n"
     ]
    }
   ],
   "source": [
    "model_forest = RandomForestRegressor(max_depth=20, n_estimators=30, min_samples_leaf= 2, random_state=12345)\n",
    "model_forest.fit(features_train, target_train) \n",
    "predicted = model_forest.predict(features_train)\n",
    "rmse_forest = (mean_squared_error(target_train, predicted))**0.5\n",
    "print(\"RMSE для случайного леса:\", rmse_forest)"
   ]
  },
  {
   "cell_type": "markdown",
   "metadata": {},
   "source": [
    "Обучим модель линеарной регрессии"
   ]
  },
  {
   "cell_type": "code",
   "execution_count": 232,
   "metadata": {},
   "outputs": [
    {
     "name": "stdout",
     "output_type": "stream",
     "text": [
      "RMSE для линеарной регрессии: 31.602314705921838\n"
     ]
    }
   ],
   "source": [
    "model_lg = LinearRegression()\n",
    "model_lg.fit(features_train, target_train)\n",
    "predicted = model_lg.predict(features_train)\n",
    "rmse_lg = (mean_squared_error(target_train, predicted))**0.5\n",
    "print(\"RMSE для линеарной регрессии:\", rmse_lg)"
   ]
  },
  {
   "cell_type": "code",
   "execution_count": 233,
   "metadata": {},
   "outputs": [
    {
     "name": "stdout",
     "output_type": "stream",
     "text": [
      "RMSE для градиентного бустинга: 13.431156122854988\n"
     ]
    }
   ],
   "source": [
    "model_lgb = LGBMRegressor()\n",
    "model_lgb.fit(features_train, target_train)\n",
    "predicted = model_lgb.predict(features_train)\n",
    "rmse_lgb = (mean_squared_error(target_train, predicted))**0.5\n",
    "print(\"RMSE для градиентного бустинга:\", rmse_lgb)"
   ]
  },
  {
   "cell_type": "code",
   "execution_count": 235,
   "metadata": {},
   "outputs": [
    {
     "data": {
      "text/html": [
       "<div>\n",
       "<style scoped>\n",
       "    .dataframe tbody tr th:only-of-type {\n",
       "        vertical-align: middle;\n",
       "    }\n",
       "\n",
       "    .dataframe tbody tr th {\n",
       "        vertical-align: top;\n",
       "    }\n",
       "\n",
       "    .dataframe thead th {\n",
       "        text-align: right;\n",
       "    }\n",
       "</style>\n",
       "<table border=\"1\" class=\"dataframe\">\n",
       "  <thead>\n",
       "    <tr style=\"text-align: right;\">\n",
       "      <th></th>\n",
       "      <th>model</th>\n",
       "      <th>RMSE</th>\n",
       "    </tr>\n",
       "  </thead>\n",
       "  <tbody>\n",
       "    <tr>\n",
       "      <th>0</th>\n",
       "      <td>Случайный лес</td>\n",
       "      <td>10.477848</td>\n",
       "    </tr>\n",
       "    <tr>\n",
       "      <th>1</th>\n",
       "      <td>Линеарная регрессия</td>\n",
       "      <td>31.602315</td>\n",
       "    </tr>\n",
       "    <tr>\n",
       "      <th>2</th>\n",
       "      <td>Градиентный бустинг</td>\n",
       "      <td>13.431156</td>\n",
       "    </tr>\n",
       "  </tbody>\n",
       "</table>\n",
       "</div>"
      ],
      "text/plain": [
       "                 model       RMSE\n",
       "0        Случайный лес  10.477848\n",
       "1  Линеарная регрессия  31.602315\n",
       "2  Градиентный бустинг  13.431156"
      ]
     },
     "execution_count": 235,
     "metadata": {},
     "output_type": "execute_result"
    }
   ],
   "source": [
    "data_dict = {'model': ['Случайный лес', 'Линеарная регрессия', 'Градиентный бустинг'],\n",
    "            'RMSE': [rmse_forest,rmse_lg,rmse_lgb]}\n",
    "pd.DataFrame(data_dict)"
   ]
  },
  {
   "cell_type": "markdown",
   "metadata": {},
   "source": [
    "Лучший результат по rmse показала модель случайного леса. Теперь проверим её на тестовой выборке."
   ]
  },
  {
   "cell_type": "markdown",
   "metadata": {},
   "source": [
    "## Тестирование модели"
   ]
  },
  {
   "cell_type": "markdown",
   "metadata": {},
   "source": [
    "Проверим на тестовой выборке модель случайного леса, которая показала лучший результат при обучении."
   ]
  },
  {
   "cell_type": "code",
   "execution_count": 158,
   "metadata": {},
   "outputs": [
    {
     "name": "stdout",
     "output_type": "stream",
     "text": [
      "RMSE для случайного леса: 42.87735399796275\n"
     ]
    }
   ],
   "source": [
    "predicted = model_forest.predict(features_test)\n",
    "print(\"RMSE для случайного леса:\", (mean_squared_error(target_test, predicted))**0.5)"
   ]
  },
  {
   "cell_type": "markdown",
   "metadata": {},
   "source": [
    "Значение rmse нас удовлетворяет. Построим график, который продемонстрирует, как модель предсказывает результат. "
   ]
  },
  {
   "cell_type": "code",
   "execution_count": 200,
   "metadata": {},
   "outputs": [
    {
     "data": {
      "text/plain": [
       "<AxesSubplot:xlabel='datetime'>"
      ]
     },
     "execution_count": 200,
     "metadata": {},
     "output_type": "execute_result"
    },
    {
     "data": {
      "image/png": "[encoded data removed]",
      "text/plain": [
       "<Figure size 1080x576 with 1 Axes>"
      ]
     },
     "metadata": {
      "needs_background": "light"
     },
     "output_type": "display_data"
    }
   ],
   "source": [
    "target_test_tmp = target_test.reset_index()\n",
    "target_test_tmp = target_test_tmp.join(predicted_df, how = 'left' )\n",
    "target_test_tmp = target_test_tmp.rename(columns = {'num_orders': 'fact_orders', 0: 'predicted_orders'})\n",
    "target_test_tmp = target_test_tmp.set_index('datetime')\n",
    "target_test_tmp['2018-08-13':'2018-08-16'].plot(figsize=(15,8))\n"
   ]
  },
  {
   "cell_type": "markdown",
   "metadata": {},
   "source": [
    "## Выводы"
   ]
  },
  {
   "cell_type": "markdown",
   "metadata": {},
   "source": [
    "Мы работали с историческими данными о заказах такси в аэропортах. Нашей задачей было обучить модель для прогнозирования количества заказов такси на следующий час.\n",
    "Сначала мы ознакомились с данными, привели их к нужному формаут и произвели ресемплирование по одному часу (так как в задаче прогноза фигурирует следующий час). \n",
    "Затем мы проанализировали данные, зафиксировали тренд на рост числа заказов с каждым месяцем. Мы также обнаружили, что данный временной ряд не является стационарным, а так как нам необходимо было осуществить прогноз, то мы привели временной ряд к стационарному состоянию.\n",
    "Далее мы разбили данные на обучающую и тестовую выборки и обучили несколько моделей. Лучший результат по rmse показала модель градиентного бустинга, которую мы и предлагаем использовать для прогноза."
   ]
  }
 ],
 "metadata": {
  "ExecuteTimeLog": [
   {
    "duration": 416,
    "start_time": "2022-12-14T13:06:26.191Z"
   },
   {
    "duration": 103,
    "start_time": "2022-12-14T13:06:49.138Z"
   },
   {
    "duration": 15,
    "start_time": "2022-12-14T13:07:19.928Z"
   },
   {
    "duration": 89,
    "start_time": "2022-12-14T13:16:20.492Z"
   },
   {
    "duration": 696,
    "start_time": "2022-12-14T13:16:27.289Z"
   },
   {
    "duration": 9,
    "start_time": "2022-12-14T13:16:32.713Z"
   },
   {
    "duration": 11,
    "start_time": "2022-12-14T13:16:42.950Z"
   },
   {
    "duration": 4,
    "start_time": "2022-12-14T13:18:16.051Z"
   },
   {
    "duration": 12,
    "start_time": "2022-12-14T13:18:28.058Z"
   },
   {
    "duration": 7,
    "start_time": "2022-12-14T13:21:15.849Z"
   },
   {
    "duration": 11,
    "start_time": "2022-12-14T13:23:27.058Z"
   },
   {
    "duration": 1233,
    "start_time": "2022-12-14T13:24:31.428Z"
   },
   {
    "duration": 25,
    "start_time": "2022-12-14T13:26:40.564Z"
   },
   {
    "duration": 254,
    "start_time": "2022-12-14T13:26:44.446Z"
   },
   {
    "duration": 3,
    "start_time": "2022-12-14T13:28:44.215Z"
   },
   {
    "duration": 47,
    "start_time": "2022-12-14T13:28:44.572Z"
   },
   {
    "duration": 25,
    "start_time": "2022-12-14T13:28:44.922Z"
   },
   {
    "duration": 14,
    "start_time": "2022-12-14T13:28:45.712Z"
   },
   {
    "duration": 15,
    "start_time": "2022-12-14T13:28:46.110Z"
   },
   {
    "duration": 5,
    "start_time": "2022-12-14T13:28:46.871Z"
   },
   {
    "duration": 13,
    "start_time": "2022-12-14T13:28:47.273Z"
   },
   {
    "duration": 12,
    "start_time": "2022-12-14T13:28:48.118Z"
   },
   {
    "duration": 677,
    "start_time": "2022-12-14T13:28:48.661Z"
   },
   {
    "duration": 208,
    "start_time": "2022-12-14T13:28:57.288Z"
   },
   {
    "duration": 11,
    "start_time": "2022-12-14T13:35:48.533Z"
   },
   {
    "duration": 8,
    "start_time": "2022-12-14T13:35:56.502Z"
   },
   {
    "duration": 1812,
    "start_time": "2022-12-14T13:41:51.887Z"
   },
   {
    "duration": 4,
    "start_time": "2022-12-14T13:43:31.314Z"
   },
   {
    "duration": 5,
    "start_time": "2022-12-14T13:43:40.822Z"
   },
   {
    "duration": 4,
    "start_time": "2022-12-14T13:43:46.220Z"
   },
   {
    "duration": 74,
    "start_time": "2022-12-14T13:45:24.092Z"
   },
   {
    "duration": 927,
    "start_time": "2022-12-14T13:45:33.067Z"
   },
   {
    "duration": 25,
    "start_time": "2022-12-14T13:46:23.785Z"
   },
   {
    "duration": 18,
    "start_time": "2022-12-14T13:47:50.041Z"
   },
   {
    "duration": 7,
    "start_time": "2022-12-14T13:48:10.958Z"
   },
   {
    "duration": 9,
    "start_time": "2022-12-14T13:49:00.034Z"
   },
   {
    "duration": 23,
    "start_time": "2022-12-14T13:51:17.283Z"
   },
   {
    "duration": 11,
    "start_time": "2022-12-14T13:51:25.297Z"
   },
   {
    "duration": 259,
    "start_time": "2022-12-14T13:52:25.380Z"
   },
   {
    "duration": 274,
    "start_time": "2022-12-14T13:53:47.866Z"
   },
   {
    "duration": 1007,
    "start_time": "2022-12-15T20:03:36.832Z"
   },
   {
    "duration": 99,
    "start_time": "2022-12-15T20:03:37.842Z"
   },
   {
    "duration": 10,
    "start_time": "2022-12-15T20:03:37.943Z"
   },
   {
    "duration": 10,
    "start_time": "2022-12-15T20:03:38.723Z"
   },
   {
    "duration": 10,
    "start_time": "2022-12-15T20:03:39.214Z"
   },
   {
    "duration": 4,
    "start_time": "2022-12-15T20:03:40.076Z"
   },
   {
    "duration": 9,
    "start_time": "2022-12-15T20:03:40.464Z"
   },
   {
    "duration": 11,
    "start_time": "2022-12-15T20:03:41.398Z"
   },
   {
    "duration": 950,
    "start_time": "2022-12-15T20:03:41.885Z"
   },
   {
    "duration": 266,
    "start_time": "2022-12-15T20:03:42.942Z"
   },
   {
    "duration": 3,
    "start_time": "2022-12-15T20:03:43.859Z"
   },
   {
    "duration": 220,
    "start_time": "2022-12-15T20:04:02.980Z"
   },
   {
    "duration": 5,
    "start_time": "2022-12-15T20:04:30.062Z"
   },
   {
    "duration": 220,
    "start_time": "2022-12-15T20:04:55.745Z"
   },
   {
    "duration": 4,
    "start_time": "2022-12-15T20:05:01.577Z"
   },
   {
    "duration": 95,
    "start_time": "2022-12-15T20:09:10.708Z"
   },
   {
    "duration": 3,
    "start_time": "2022-12-15T20:09:18.015Z"
   },
   {
    "duration": 535,
    "start_time": "2022-12-15T20:09:19.026Z"
   },
   {
    "duration": 3,
    "start_time": "2022-12-15T20:09:53.249Z"
   },
   {
    "duration": 56,
    "start_time": "2022-12-15T20:09:53.693Z"
   },
   {
    "duration": 11,
    "start_time": "2022-12-15T20:09:54.140Z"
   },
   {
    "duration": 7,
    "start_time": "2022-12-15T20:09:57.257Z"
   },
   {
    "duration": 9,
    "start_time": "2022-12-15T20:09:59.370Z"
   },
   {
    "duration": 4,
    "start_time": "2022-12-15T20:10:00.472Z"
   },
   {
    "duration": 10,
    "start_time": "2022-12-15T20:10:01.172Z"
   },
   {
    "duration": 11,
    "start_time": "2022-12-15T20:10:02.351Z"
   },
   {
    "duration": 574,
    "start_time": "2022-12-15T20:10:03.028Z"
   },
   {
    "duration": 192,
    "start_time": "2022-12-15T20:10:05.844Z"
   },
   {
    "duration": 3,
    "start_time": "2022-12-15T20:10:08.571Z"
   },
   {
    "duration": 525,
    "start_time": "2022-12-15T20:10:09.794Z"
   },
   {
    "duration": 4,
    "start_time": "2022-12-15T20:11:35.673Z"
   },
   {
    "duration": 47,
    "start_time": "2022-12-15T20:11:36.037Z"
   },
   {
    "duration": 13,
    "start_time": "2022-12-15T20:11:36.422Z"
   },
   {
    "duration": 8,
    "start_time": "2022-12-15T20:11:37.418Z"
   },
   {
    "duration": 10,
    "start_time": "2022-12-15T20:11:37.916Z"
   },
   {
    "duration": 363,
    "start_time": "2022-12-15T20:11:45.851Z"
   },
   {
    "duration": 2,
    "start_time": "2022-12-15T20:12:04.329Z"
   },
   {
    "duration": 45,
    "start_time": "2022-12-15T20:12:05.046Z"
   },
   {
    "duration": 11,
    "start_time": "2022-12-15T20:12:05.666Z"
   },
   {
    "duration": 7,
    "start_time": "2022-12-15T20:12:06.961Z"
   },
   {
    "duration": 10,
    "start_time": "2022-12-15T20:12:08.732Z"
   },
   {
    "duration": 222,
    "start_time": "2022-12-15T20:12:13.458Z"
   },
   {
    "duration": 4,
    "start_time": "2022-12-15T20:12:16.723Z"
   },
   {
    "duration": 10,
    "start_time": "2022-12-15T20:12:18.337Z"
   },
   {
    "duration": 10,
    "start_time": "2022-12-15T20:12:19.791Z"
   },
   {
    "duration": 565,
    "start_time": "2022-12-15T20:12:20.376Z"
   },
   {
    "duration": 189,
    "start_time": "2022-12-15T20:12:27.775Z"
   },
   {
    "duration": 3,
    "start_time": "2022-12-15T20:12:48.679Z"
   },
   {
    "duration": 16,
    "start_time": "2022-12-15T20:13:30.355Z"
   },
   {
    "duration": 14,
    "start_time": "2022-12-15T20:13:48.918Z"
   },
   {
    "duration": 15,
    "start_time": "2022-12-15T20:14:57.098Z"
   },
   {
    "duration": 16,
    "start_time": "2022-12-15T20:15:12.095Z"
   },
   {
    "duration": 6,
    "start_time": "2022-12-15T20:16:22.366Z"
   },
   {
    "duration": 53,
    "start_time": "2022-12-15T20:17:41.347Z"
   },
   {
    "duration": 518,
    "start_time": "2022-12-15T20:17:48.495Z"
   },
   {
    "duration": 503,
    "start_time": "2022-12-15T20:18:09.461Z"
   },
   {
    "duration": 6,
    "start_time": "2022-12-15T20:18:23.485Z"
   },
   {
    "duration": 16,
    "start_time": "2022-12-15T20:19:42.617Z"
   },
   {
    "duration": 115,
    "start_time": "2022-12-15T20:19:54.614Z"
   },
   {
    "duration": 110,
    "start_time": "2022-12-15T20:20:33.454Z"
   },
   {
    "duration": 99,
    "start_time": "2022-12-15T20:23:16.394Z"
   },
   {
    "duration": 97,
    "start_time": "2022-12-15T20:23:28.207Z"
   },
   {
    "duration": 117,
    "start_time": "2022-12-15T20:23:45.016Z"
   },
   {
    "duration": 229,
    "start_time": "2022-12-15T20:26:30.337Z"
   },
   {
    "duration": 2,
    "start_time": "2022-12-15T20:26:52.628Z"
   },
   {
    "duration": 46,
    "start_time": "2022-12-15T20:26:53.052Z"
   },
   {
    "duration": 11,
    "start_time": "2022-12-15T20:26:53.424Z"
   },
   {
    "duration": 8,
    "start_time": "2022-12-15T20:26:54.233Z"
   },
   {
    "duration": 10,
    "start_time": "2022-12-15T20:26:54.639Z"
   },
   {
    "duration": 4,
    "start_time": "2022-12-15T20:26:55.436Z"
   },
   {
    "duration": 12,
    "start_time": "2022-12-15T20:26:55.907Z"
   },
   {
    "duration": 12,
    "start_time": "2022-12-15T20:26:56.771Z"
   },
   {
    "duration": 668,
    "start_time": "2022-12-15T20:26:57.194Z"
   },
   {
    "duration": 212,
    "start_time": "2022-12-15T20:26:58.152Z"
   },
   {
    "duration": 3,
    "start_time": "2022-12-15T20:26:58.832Z"
   },
   {
    "duration": 230,
    "start_time": "2022-12-15T20:27:01.230Z"
   },
   {
    "duration": 259,
    "start_time": "2022-12-15T20:27:05.345Z"
   },
   {
    "duration": 220,
    "start_time": "2022-12-15T20:27:09.104Z"
   },
   {
    "duration": 326,
    "start_time": "2022-12-15T20:27:13.051Z"
   },
   {
    "duration": 231,
    "start_time": "2022-12-15T20:27:16.457Z"
   },
   {
    "duration": 225,
    "start_time": "2022-12-15T20:27:36.276Z"
   },
   {
    "duration": 218,
    "start_time": "2022-12-15T20:30:09.027Z"
   },
   {
    "duration": 219,
    "start_time": "2022-12-15T20:30:40.880Z"
   },
   {
    "duration": 6,
    "start_time": "2022-12-15T20:35:28.704Z"
   },
   {
    "duration": 21,
    "start_time": "2022-12-15T20:37:51.010Z"
   },
   {
    "duration": 3,
    "start_time": "2022-12-15T20:38:34.098Z"
   },
   {
    "duration": 14,
    "start_time": "2022-12-15T20:39:21.081Z"
   },
   {
    "duration": 12,
    "start_time": "2022-12-15T20:39:33.614Z"
   },
   {
    "duration": 3,
    "start_time": "2022-12-15T20:40:14.718Z"
   },
   {
    "duration": 48,
    "start_time": "2022-12-15T20:40:15.144Z"
   },
   {
    "duration": 13,
    "start_time": "2022-12-15T20:40:15.571Z"
   },
   {
    "duration": 8,
    "start_time": "2022-12-15T20:40:16.495Z"
   },
   {
    "duration": 10,
    "start_time": "2022-12-15T20:40:16.957Z"
   },
   {
    "duration": 3,
    "start_time": "2022-12-15T20:40:17.936Z"
   },
   {
    "duration": 9,
    "start_time": "2022-12-15T20:40:18.505Z"
   },
   {
    "duration": 9,
    "start_time": "2022-12-15T20:40:19.548Z"
   },
   {
    "duration": 5,
    "start_time": "2022-12-15T20:40:20.823Z"
   },
   {
    "duration": 691,
    "start_time": "2022-12-15T20:40:21.260Z"
   },
   {
    "duration": 203,
    "start_time": "2022-12-15T20:40:22.252Z"
   },
   {
    "duration": 707,
    "start_time": "2022-12-15T20:40:27.820Z"
   },
   {
    "duration": 73,
    "start_time": "2022-12-15T20:47:00.911Z"
   },
   {
    "duration": 239,
    "start_time": "2022-12-15T20:47:08.150Z"
   },
   {
    "duration": 11,
    "start_time": "2022-12-15T21:27:36.603Z"
   },
   {
    "duration": 272,
    "start_time": "2022-12-15T21:27:49.660Z"
   },
   {
    "duration": 294,
    "start_time": "2022-12-15T21:35:39.679Z"
   },
   {
    "duration": 4,
    "start_time": "2022-12-15T21:40:38.099Z"
   },
   {
    "duration": 19,
    "start_time": "2022-12-15T21:40:39.252Z"
   },
   {
    "duration": 4,
    "start_time": "2022-12-15T21:40:51.970Z"
   },
   {
    "duration": 8,
    "start_time": "2022-12-15T21:40:53.590Z"
   },
   {
    "duration": 22,
    "start_time": "2022-12-15T21:41:14.151Z"
   },
   {
    "duration": 143,
    "start_time": "2022-12-15T21:43:49.219Z"
   },
   {
    "duration": 23,
    "start_time": "2022-12-15T21:43:55.154Z"
   },
   {
    "duration": 6,
    "start_time": "2022-12-15T21:44:06.650Z"
   },
   {
    "duration": 5,
    "start_time": "2022-12-15T21:44:27.453Z"
   },
   {
    "duration": 8,
    "start_time": "2022-12-15T21:44:59.985Z"
   },
   {
    "duration": 15,
    "start_time": "2022-12-15T21:45:06.598Z"
   },
   {
    "duration": 17,
    "start_time": "2022-12-15T21:47:24.192Z"
   },
   {
    "duration": 4,
    "start_time": "2022-12-15T21:48:22.309Z"
   },
   {
    "duration": 46,
    "start_time": "2022-12-15T21:48:22.869Z"
   },
   {
    "duration": 12,
    "start_time": "2022-12-15T21:48:23.256Z"
   },
   {
    "duration": 9,
    "start_time": "2022-12-15T21:48:24.061Z"
   },
   {
    "duration": 10,
    "start_time": "2022-12-15T21:48:24.435Z"
   },
   {
    "duration": 4,
    "start_time": "2022-12-15T21:48:25.172Z"
   },
   {
    "duration": 9,
    "start_time": "2022-12-15T21:48:25.572Z"
   },
   {
    "duration": 10,
    "start_time": "2022-12-15T21:48:26.300Z"
   },
   {
    "duration": 5,
    "start_time": "2022-12-15T21:48:27.026Z"
   },
   {
    "duration": 713,
    "start_time": "2022-12-15T21:48:27.400Z"
   },
   {
    "duration": 192,
    "start_time": "2022-12-15T21:48:28.183Z"
   },
   {
    "duration": 74,
    "start_time": "2022-12-15T21:48:28.995Z"
   },
   {
    "duration": 241,
    "start_time": "2022-12-15T21:48:31.809Z"
   },
   {
    "duration": 318,
    "start_time": "2022-12-15T21:48:32.547Z"
   },
   {
    "duration": 4,
    "start_time": "2022-12-15T21:48:38.121Z"
   },
   {
    "duration": 11,
    "start_time": "2022-12-15T21:48:39.891Z"
   },
   {
    "duration": 22,
    "start_time": "2022-12-15T21:48:40.924Z"
   },
   {
    "duration": 9,
    "start_time": "2022-12-15T21:48:42.172Z"
   },
   {
    "duration": 7,
    "start_time": "2022-12-15T21:48:56.909Z"
   },
   {
    "duration": 5,
    "start_time": "2022-12-15T21:48:57.613Z"
   },
   {
    "duration": 5,
    "start_time": "2022-12-15T21:48:58.280Z"
   },
   {
    "duration": 23,
    "start_time": "2022-12-15T21:48:58.920Z"
   },
   {
    "duration": 463,
    "start_time": "2022-12-15T21:49:58.170Z"
   },
   {
    "duration": 1225,
    "start_time": "2022-12-15T21:50:18.452Z"
   },
   {
    "duration": 26,
    "start_time": "2022-12-15T21:50:47.816Z"
   },
   {
    "duration": 13,
    "start_time": "2022-12-15T21:52:16.371Z"
   },
   {
    "duration": 371,
    "start_time": "2022-12-15T21:54:24.347Z"
   },
   {
    "duration": 5,
    "start_time": "2022-12-15T21:58:51.538Z"
   },
   {
    "duration": 88,
    "start_time": "2022-12-15T21:59:01.391Z"
   },
   {
    "duration": 2130,
    "start_time": "2022-12-15T21:59:24.867Z"
   },
   {
    "duration": 339,
    "start_time": "2022-12-15T21:59:44.346Z"
   },
   {
    "duration": 387,
    "start_time": "2022-12-15T21:59:48.817Z"
   },
   {
    "duration": 77,
    "start_time": "2022-12-15T21:59:53.140Z"
   },
   {
    "duration": 423,
    "start_time": "2022-12-15T22:00:02.509Z"
   },
   {
    "duration": 2093,
    "start_time": "2022-12-15T22:00:18.906Z"
   },
   {
    "duration": 2063,
    "start_time": "2022-12-15T22:03:09.692Z"
   },
   {
    "duration": 346,
    "start_time": "2022-12-15T22:03:26.586Z"
   },
   {
    "duration": 50,
    "start_time": "2022-12-15T22:03:55.989Z"
   },
   {
    "duration": 2097,
    "start_time": "2022-12-15T22:04:02.007Z"
   },
   {
    "duration": 85,
    "start_time": "2022-12-15T22:04:50.569Z"
   },
   {
    "duration": 2036,
    "start_time": "2022-12-15T22:05:28.432Z"
   },
   {
    "duration": 6654,
    "start_time": "2022-12-15T22:05:39.343Z"
   },
   {
    "duration": 14640,
    "start_time": "2022-12-15T22:06:38.769Z"
   },
   {
    "duration": 10,
    "start_time": "2022-12-15T22:07:37.699Z"
   },
   {
    "duration": 9,
    "start_time": "2022-12-15T22:07:49.857Z"
   },
   {
    "duration": 9610,
    "start_time": "2022-12-15T22:08:05.116Z"
   },
   {
    "duration": 9557,
    "start_time": "2022-12-15T22:08:34.658Z"
   },
   {
    "duration": 11333,
    "start_time": "2022-12-15T22:08:57.123Z"
   },
   {
    "duration": 479,
    "start_time": "2022-12-15T22:09:32.008Z"
   },
   {
    "duration": 473,
    "start_time": "2022-12-15T22:09:48.543Z"
   },
   {
    "duration": 464,
    "start_time": "2022-12-15T22:09:57.265Z"
   },
   {
    "duration": 511,
    "start_time": "2022-12-15T22:10:02.706Z"
   },
   {
    "duration": 543,
    "start_time": "2022-12-15T22:10:07.342Z"
   },
   {
    "duration": 664,
    "start_time": "2022-12-15T22:10:11.212Z"
   },
   {
    "duration": 30,
    "start_time": "2022-12-15T22:10:16.001Z"
   },
   {
    "duration": 671,
    "start_time": "2022-12-15T22:10:18.743Z"
   },
   {
    "duration": 4719,
    "start_time": "2022-12-15T22:11:32.411Z"
   },
   {
    "duration": 4676,
    "start_time": "2022-12-15T22:11:55.599Z"
   },
   {
    "duration": 682,
    "start_time": "2022-12-15T22:12:24.950Z"
   },
   {
    "duration": 590,
    "start_time": "2022-12-15T22:12:36.278Z"
   },
   {
    "duration": 9,
    "start_time": "2022-12-15T22:13:44.066Z"
   },
   {
    "duration": 4,
    "start_time": "2022-12-15T22:14:34.758Z"
   },
   {
    "duration": 350806,
    "start_time": "2022-12-15T22:14:40.128Z"
   },
   {
    "duration": 3,
    "start_time": "2022-12-15T22:23:16.655Z"
   },
   {
    "duration": 46,
    "start_time": "2022-12-15T22:23:17.042Z"
   },
   {
    "duration": 12,
    "start_time": "2022-12-15T22:23:17.445Z"
   },
   {
    "duration": 8,
    "start_time": "2022-12-15T22:23:18.248Z"
   },
   {
    "duration": 11,
    "start_time": "2022-12-15T22:23:18.647Z"
   },
   {
    "duration": 5,
    "start_time": "2022-12-15T22:23:19.468Z"
   },
   {
    "duration": 12,
    "start_time": "2022-12-15T22:23:19.861Z"
   },
   {
    "duration": 11,
    "start_time": "2022-12-15T22:23:20.679Z"
   },
   {
    "duration": 5,
    "start_time": "2022-12-15T22:23:21.494Z"
   },
   {
    "duration": 565,
    "start_time": "2022-12-15T22:23:21.896Z"
   },
   {
    "duration": 215,
    "start_time": "2022-12-15T22:23:22.702Z"
   },
   {
    "duration": 654,
    "start_time": "2022-12-15T22:23:23.531Z"
   },
   {
    "duration": 82,
    "start_time": "2022-12-15T22:23:26.063Z"
   },
   {
    "duration": 239,
    "start_time": "2022-12-15T22:23:28.615Z"
   },
   {
    "duration": 435,
    "start_time": "2022-12-15T22:23:29.743Z"
   },
   {
    "duration": 4,
    "start_time": "2022-12-15T22:23:32.321Z"
   },
   {
    "duration": 10,
    "start_time": "2022-12-15T22:23:34.026Z"
   },
   {
    "duration": 25,
    "start_time": "2022-12-15T22:23:34.981Z"
   },
   {
    "duration": 7,
    "start_time": "2022-12-15T22:23:35.696Z"
   },
   {
    "duration": 5,
    "start_time": "2022-12-15T22:23:36.247Z"
   },
   {
    "duration": 5,
    "start_time": "2022-12-15T22:23:36.857Z"
   },
   {
    "duration": 23,
    "start_time": "2022-12-15T22:23:37.508Z"
   },
   {
    "duration": 1221,
    "start_time": "2022-12-15T22:23:38.115Z"
   },
   {
    "duration": 29,
    "start_time": "2022-12-15T22:23:58.443Z"
   },
   {
    "duration": 375,
    "start_time": "2022-12-15T22:23:59.715Z"
   },
   {
    "duration": 9,
    "start_time": "2022-12-15T22:26:53.721Z"
   },
   {
    "duration": 22,
    "start_time": "2022-12-15T22:26:58.901Z"
   },
   {
    "duration": 7,
    "start_time": "2022-12-15T22:27:02.832Z"
   },
   {
    "duration": 5,
    "start_time": "2022-12-15T22:27:03.418Z"
   },
   {
    "duration": 5,
    "start_time": "2022-12-15T22:27:04.311Z"
   },
   {
    "duration": 22,
    "start_time": "2022-12-15T22:27:06.036Z"
   },
   {
    "duration": 49,
    "start_time": "2022-12-15T22:29:07.057Z"
   },
   {
    "duration": 1214,
    "start_time": "2022-12-15T22:29:39.726Z"
   },
   {
    "duration": 28,
    "start_time": "2022-12-15T22:30:45.608Z"
   },
   {
    "duration": 400,
    "start_time": "2022-12-15T22:30:56.005Z"
   },
   {
    "duration": 11183,
    "start_time": "2022-12-15T22:31:29.820Z"
   },
   {
    "duration": 4660,
    "start_time": "2022-12-15T22:32:39.245Z"
   },
   {
    "duration": 654,
    "start_time": "2022-12-15T22:34:09.127Z"
   },
   {
    "duration": 11,
    "start_time": "2022-12-15T22:34:29.243Z"
   },
   {
    "duration": 69844,
    "start_time": "2022-12-15T22:34:47.677Z"
   },
   {
    "duration": 2513,
    "start_time": "2022-12-16T04:35:50.735Z"
   },
   {
    "duration": 118,
    "start_time": "2022-12-16T04:35:53.250Z"
   },
   {
    "duration": 12,
    "start_time": "2022-12-16T04:36:43.815Z"
   },
   {
    "duration": 8,
    "start_time": "2022-12-16T04:36:44.880Z"
   },
   {
    "duration": 10,
    "start_time": "2022-12-16T04:36:45.099Z"
   },
   {
    "duration": 4,
    "start_time": "2022-12-16T04:36:46.143Z"
   },
   {
    "duration": 10,
    "start_time": "2022-12-16T04:36:46.614Z"
   },
   {
    "duration": 11,
    "start_time": "2022-12-16T04:36:48.195Z"
   },
   {
    "duration": 5,
    "start_time": "2022-12-16T04:36:49.344Z"
   },
   {
    "duration": 708,
    "start_time": "2022-12-16T04:36:50.233Z"
   },
   {
    "duration": 213,
    "start_time": "2022-12-16T04:36:52.177Z"
   },
   {
    "duration": 797,
    "start_time": "2022-12-16T04:37:32.574Z"
   },
   {
    "duration": 84,
    "start_time": "2022-12-16T04:40:51.107Z"
   },
   {
    "duration": 331,
    "start_time": "2022-12-16T04:42:52.220Z"
   },
   {
    "duration": 419,
    "start_time": "2022-12-16T04:42:53.582Z"
   },
   {
    "duration": 4,
    "start_time": "2022-12-16T04:43:41.967Z"
   },
   {
    "duration": 16,
    "start_time": "2022-12-16T04:44:23.550Z"
   },
   {
    "duration": 8,
    "start_time": "2022-12-16T04:47:11.474Z"
   },
   {
    "duration": 5,
    "start_time": "2022-12-16T04:47:12.763Z"
   },
   {
    "duration": 6,
    "start_time": "2022-12-16T04:47:13.095Z"
   },
   {
    "duration": 26,
    "start_time": "2022-12-16T04:47:15.573Z"
   },
   {
    "duration": 1469,
    "start_time": "2022-12-16T04:47:49.118Z"
   },
   {
    "duration": 31,
    "start_time": "2022-12-16T04:47:55.905Z"
   },
   {
    "duration": 423,
    "start_time": "2022-12-16T04:47:57.479Z"
   },
   {
    "duration": 12309,
    "start_time": "2022-12-16T04:48:02.684Z"
   },
   {
    "duration": 5293,
    "start_time": "2022-12-16T04:48:14.995Z"
   },
   {
    "duration": 705,
    "start_time": "2022-12-16T04:48:20.290Z"
   },
   {
    "duration": 21,
    "start_time": "2022-12-16T04:48:20.997Z"
   },
   {
    "duration": 299302,
    "start_time": "2022-12-16T04:48:21.020Z"
   },
   {
    "duration": 1541,
    "start_time": "2022-12-17T13:05:28.535Z"
   },
   {
    "duration": 208,
    "start_time": "2022-12-17T13:05:30.084Z"
   },
   {
    "duration": 15,
    "start_time": "2022-12-17T13:05:31.076Z"
   },
   {
    "duration": 10,
    "start_time": "2022-12-17T13:05:31.911Z"
   },
   {
    "duration": 16,
    "start_time": "2022-12-17T13:05:32.274Z"
   },
   {
    "duration": 5,
    "start_time": "2022-12-17T13:05:33.016Z"
   },
   {
    "duration": 10,
    "start_time": "2022-12-17T13:05:33.442Z"
   },
   {
    "duration": 11,
    "start_time": "2022-12-17T13:05:34.265Z"
   },
   {
    "duration": 6,
    "start_time": "2022-12-17T13:05:35.052Z"
   },
   {
    "duration": 830,
    "start_time": "2022-12-17T13:05:35.431Z"
   },
   {
    "duration": 274,
    "start_time": "2022-12-17T13:05:36.263Z"
   },
   {
    "duration": 849,
    "start_time": "2022-12-17T13:05:37.940Z"
   },
   {
    "duration": 160,
    "start_time": "2022-12-17T13:06:10.293Z"
   },
   {
    "duration": 156,
    "start_time": "2022-12-17T13:07:25.791Z"
   },
   {
    "duration": 139,
    "start_time": "2022-12-17T13:07:44.953Z"
   },
   {
    "duration": 165,
    "start_time": "2022-12-17T13:10:06.459Z"
   },
   {
    "duration": 242,
    "start_time": "2022-12-17T13:12:49.415Z"
   },
   {
    "duration": 130,
    "start_time": "2022-12-17T13:13:33.582Z"
   },
   {
    "duration": 93,
    "start_time": "2022-12-17T13:13:55.526Z"
   },
   {
    "duration": 178,
    "start_time": "2022-12-17T13:17:03.692Z"
   },
   {
    "duration": 178,
    "start_time": "2022-12-17T13:17:10.138Z"
   },
   {
    "duration": 250,
    "start_time": "2022-12-17T13:17:33.670Z"
   },
   {
    "duration": 89,
    "start_time": "2022-12-17T13:17:54.471Z"
   },
   {
    "duration": 126,
    "start_time": "2022-12-17T13:18:08.115Z"
   },
   {
    "duration": 128,
    "start_time": "2022-12-17T13:18:25.252Z"
   },
   {
    "duration": 151,
    "start_time": "2022-12-17T13:19:48.522Z"
   },
   {
    "duration": 1758,
    "start_time": "2022-12-17T13:20:01.768Z"
   },
   {
    "duration": 168,
    "start_time": "2022-12-17T13:20:07.032Z"
   },
   {
    "duration": 141,
    "start_time": "2022-12-17T13:20:22.518Z"
   },
   {
    "duration": 156,
    "start_time": "2022-12-17T13:20:24.822Z"
   },
   {
    "duration": 155,
    "start_time": "2022-12-17T13:20:41.555Z"
   },
   {
    "duration": 79,
    "start_time": "2022-12-17T13:22:35.739Z"
   },
   {
    "duration": 90,
    "start_time": "2022-12-17T13:24:11.236Z"
   },
   {
    "duration": 4,
    "start_time": "2022-12-17T13:25:58.776Z"
   },
   {
    "duration": 46,
    "start_time": "2022-12-17T13:25:59.297Z"
   },
   {
    "duration": 15,
    "start_time": "2022-12-17T13:26:00.092Z"
   },
   {
    "duration": 14,
    "start_time": "2022-12-17T13:26:00.828Z"
   },
   {
    "duration": 13,
    "start_time": "2022-12-17T13:26:01.215Z"
   },
   {
    "duration": 6,
    "start_time": "2022-12-17T13:26:01.917Z"
   },
   {
    "duration": 14,
    "start_time": "2022-12-17T13:26:02.257Z"
   },
   {
    "duration": 16,
    "start_time": "2022-12-17T13:26:02.981Z"
   },
   {
    "duration": 7,
    "start_time": "2022-12-17T13:26:03.739Z"
   },
   {
    "duration": 890,
    "start_time": "2022-12-17T13:26:04.459Z"
   },
   {
    "duration": 288,
    "start_time": "2022-12-17T13:26:05.352Z"
   },
   {
    "duration": 761,
    "start_time": "2022-12-17T13:26:06.519Z"
   },
   {
    "duration": 153,
    "start_time": "2022-12-17T13:26:07.325Z"
   },
   {
    "duration": 156,
    "start_time": "2022-12-17T13:26:07.890Z"
   },
   {
    "duration": 177,
    "start_time": "2022-12-17T13:26:08.932Z"
   },
   {
    "duration": 161,
    "start_time": "2022-12-17T13:26:09.945Z"
   },
   {
    "duration": 110,
    "start_time": "2022-12-17T13:26:12.972Z"
   },
   {
    "duration": 384,
    "start_time": "2022-12-17T13:26:14.219Z"
   },
   {
    "duration": 340,
    "start_time": "2022-12-17T13:26:15.527Z"
   },
   {
    "duration": 5,
    "start_time": "2022-12-17T13:26:18.137Z"
   },
   {
    "duration": 10,
    "start_time": "2022-12-17T13:26:22.851Z"
   },
   {
    "duration": 25,
    "start_time": "2022-12-17T13:26:24.977Z"
   },
   {
    "duration": 11,
    "start_time": "2022-12-17T13:26:40.893Z"
   },
   {
    "duration": 6,
    "start_time": "2022-12-17T13:26:41.986Z"
   },
   {
    "duration": 7,
    "start_time": "2022-12-17T13:26:42.820Z"
   },
   {
    "duration": 27,
    "start_time": "2022-12-17T13:26:45.646Z"
   },
   {
    "duration": 1224,
    "start_time": "2022-12-17T13:26:47.376Z"
   },
   {
    "duration": 27,
    "start_time": "2022-12-17T13:27:30.179Z"
   },
   {
    "duration": 386,
    "start_time": "2022-12-17T13:27:32.631Z"
   },
   {
    "duration": 29,
    "start_time": "2022-12-17T13:27:38.052Z"
   },
   {
    "duration": 377,
    "start_time": "2022-12-17T13:27:41.893Z"
   },
   {
    "duration": 10234,
    "start_time": "2022-12-17T13:27:47.032Z"
   },
   {
    "duration": 4330,
    "start_time": "2022-12-17T13:28:25.015Z"
   },
   {
    "duration": 24,
    "start_time": "2022-12-17T13:31:54.660Z"
   },
   {
    "duration": 31,
    "start_time": "2022-12-17T13:33:30.554Z"
   },
   {
    "duration": 33,
    "start_time": "2022-12-17T13:33:38.971Z"
   },
   {
    "duration": 1130,
    "start_time": "2022-12-17T13:33:52.499Z"
   },
   {
    "duration": 1168,
    "start_time": "2022-12-17T13:34:10.724Z"
   },
   {
    "duration": 38,
    "start_time": "2022-12-17T13:35:22.650Z"
   },
   {
    "duration": 51,
    "start_time": "2022-12-17T13:35:39.101Z"
   },
   {
    "duration": 39,
    "start_time": "2022-12-17T13:35:41.990Z"
   },
   {
    "duration": 381,
    "start_time": "2022-12-17T13:35:58.333Z"
   },
   {
    "duration": 10408,
    "start_time": "2022-12-17T13:36:13.436Z"
   },
   {
    "duration": 4278,
    "start_time": "2022-12-17T13:36:39.580Z"
   },
   {
    "duration": 538,
    "start_time": "2022-12-17T13:37:14.981Z"
   },
   {
    "duration": 526,
    "start_time": "2022-12-17T13:37:28.744Z"
   },
   {
    "duration": 16,
    "start_time": "2022-12-17T13:37:50.827Z"
   },
   {
    "duration": 65,
    "start_time": "2022-12-17T13:38:21.492Z"
   },
   {
    "duration": 49869,
    "start_time": "2022-12-17T13:38:34.234Z"
   },
   {
    "duration": 67,
    "start_time": "2022-12-17T13:41:25.025Z"
   },
   {
    "duration": 12,
    "start_time": "2022-12-17T13:42:01.789Z"
   },
   {
    "duration": 210,
    "start_time": "2022-12-17T13:44:14.976Z"
   },
   {
    "duration": 191,
    "start_time": "2022-12-17T13:44:27.869Z"
   },
   {
    "duration": 8,
    "start_time": "2022-12-17T13:44:44.899Z"
   },
   {
    "duration": 201,
    "start_time": "2022-12-17T13:46:23.734Z"
   },
   {
    "duration": 198,
    "start_time": "2022-12-17T13:46:40.128Z"
   },
   {
    "duration": 132,
    "start_time": "2022-12-17T13:46:48.869Z"
   },
   {
    "duration": 10,
    "start_time": "2022-12-17T13:48:39.143Z"
   },
   {
    "duration": 6,
    "start_time": "2022-12-17T13:49:13.623Z"
   },
   {
    "duration": 8,
    "start_time": "2022-12-17T13:49:24.098Z"
   },
   {
    "duration": 116,
    "start_time": "2022-12-17T13:49:41.850Z"
   },
   {
    "duration": 132,
    "start_time": "2022-12-17T13:50:05.951Z"
   },
   {
    "duration": 166,
    "start_time": "2022-12-17T13:50:23.390Z"
   },
   {
    "duration": 7,
    "start_time": "2022-12-17T13:50:39.099Z"
   },
   {
    "duration": 137,
    "start_time": "2022-12-17T13:51:17.158Z"
   },
   {
    "duration": 9,
    "start_time": "2022-12-17T13:51:59.776Z"
   },
   {
    "duration": 20,
    "start_time": "2022-12-17T13:52:10.900Z"
   },
   {
    "duration": 10,
    "start_time": "2022-12-17T13:52:14.622Z"
   },
   {
    "duration": 145,
    "start_time": "2022-12-17T13:53:07.668Z"
   },
   {
    "duration": 119,
    "start_time": "2022-12-17T13:53:15.493Z"
   },
   {
    "duration": 140,
    "start_time": "2022-12-17T13:53:25.917Z"
   },
   {
    "duration": 133,
    "start_time": "2022-12-17T13:53:31.843Z"
   },
   {
    "duration": 172,
    "start_time": "2022-12-17T13:53:36.545Z"
   },
   {
    "duration": 315,
    "start_time": "2022-12-17T13:55:02.022Z"
   },
   {
    "duration": 167,
    "start_time": "2022-12-17T13:55:11.495Z"
   },
   {
    "duration": 145,
    "start_time": "2022-12-17T13:55:17.103Z"
   },
   {
    "duration": 137,
    "start_time": "2022-12-17T13:55:26.898Z"
   },
   {
    "duration": 11,
    "start_time": "2022-12-17T13:55:59.180Z"
   },
   {
    "duration": 11,
    "start_time": "2022-12-17T13:56:02.192Z"
   },
   {
    "duration": 4,
    "start_time": "2022-12-17T13:57:58.875Z"
   },
   {
    "duration": 136,
    "start_time": "2022-12-17T13:58:16.572Z"
   },
   {
    "duration": 11,
    "start_time": "2022-12-17T13:58:49.411Z"
   },
   {
    "duration": 116,
    "start_time": "2022-12-17T13:58:51.835Z"
   },
   {
    "duration": 8,
    "start_time": "2022-12-17T13:59:28.060Z"
   },
   {
    "duration": 15,
    "start_time": "2022-12-17T13:59:38.787Z"
   },
   {
    "duration": 7,
    "start_time": "2022-12-17T13:59:48.580Z"
   },
   {
    "duration": 10,
    "start_time": "2022-12-17T14:02:21.561Z"
   },
   {
    "duration": 8,
    "start_time": "2022-12-17T14:02:47.259Z"
   },
   {
    "duration": 4,
    "start_time": "2022-12-17T14:03:06.984Z"
   },
   {
    "duration": 138,
    "start_time": "2022-12-17T14:03:11.463Z"
   },
   {
    "duration": 15,
    "start_time": "2022-12-17T14:03:24.867Z"
   },
   {
    "duration": 11,
    "start_time": "2022-12-17T14:03:41.571Z"
   },
   {
    "duration": 4,
    "start_time": "2022-12-17T14:04:19.062Z"
   },
   {
    "duration": 50,
    "start_time": "2022-12-17T14:04:19.580Z"
   },
   {
    "duration": 12,
    "start_time": "2022-12-17T14:04:20.557Z"
   },
   {
    "duration": 8,
    "start_time": "2022-12-17T14:04:21.619Z"
   },
   {
    "duration": 11,
    "start_time": "2022-12-17T14:04:22.154Z"
   },
   {
    "duration": 5,
    "start_time": "2022-12-17T14:04:23.165Z"
   },
   {
    "duration": 14,
    "start_time": "2022-12-17T14:04:23.623Z"
   },
   {
    "duration": 14,
    "start_time": "2022-12-17T14:04:24.607Z"
   },
   {
    "duration": 5,
    "start_time": "2022-12-17T14:04:25.444Z"
   },
   {
    "duration": 619,
    "start_time": "2022-12-17T14:04:25.844Z"
   },
   {
    "duration": 214,
    "start_time": "2022-12-17T14:04:26.595Z"
   },
   {
    "duration": 680,
    "start_time": "2022-12-17T14:04:28.053Z"
   },
   {
    "duration": 158,
    "start_time": "2022-12-17T14:04:28.780Z"
   },
   {
    "duration": 151,
    "start_time": "2022-12-17T14:04:29.098Z"
   },
   {
    "duration": 135,
    "start_time": "2022-12-17T14:04:29.798Z"
   },
   {
    "duration": 317,
    "start_time": "2022-12-17T14:04:30.485Z"
   },
   {
    "duration": 82,
    "start_time": "2022-12-17T14:04:32.892Z"
   },
   {
    "duration": 265,
    "start_time": "2022-12-17T14:04:34.194Z"
   },
   {
    "duration": 320,
    "start_time": "2022-12-17T14:04:34.980Z"
   },
   {
    "duration": 4,
    "start_time": "2022-12-17T14:04:37.361Z"
   },
   {
    "duration": 9,
    "start_time": "2022-12-17T14:04:39.995Z"
   },
   {
    "duration": 22,
    "start_time": "2022-12-17T14:04:40.552Z"
   },
   {
    "duration": 7,
    "start_time": "2022-12-17T14:04:41.821Z"
   },
   {
    "duration": 5,
    "start_time": "2022-12-17T14:04:42.676Z"
   },
   {
    "duration": 6,
    "start_time": "2022-12-17T14:04:43.039Z"
   },
   {
    "duration": 29,
    "start_time": "2022-12-17T14:04:46.537Z"
   },
   {
    "duration": 1123,
    "start_time": "2022-12-17T14:04:47.698Z"
   },
   {
    "duration": 39,
    "start_time": "2022-12-17T14:04:49.403Z"
   },
   {
    "duration": 391,
    "start_time": "2022-12-17T14:04:50.647Z"
   },
   {
    "duration": 10632,
    "start_time": "2022-12-17T14:04:53.686Z"
   },
   {
    "duration": 4660,
    "start_time": "2022-12-17T14:05:04.320Z"
   },
   {
    "duration": 512,
    "start_time": "2022-12-17T14:05:11.529Z"
   },
   {
    "duration": 12,
    "start_time": "2022-12-17T14:05:17.392Z"
   },
   {
    "duration": 11,
    "start_time": "2022-12-17T14:07:08.985Z"
   },
   {
    "duration": 6,
    "start_time": "2022-12-17T14:07:19.464Z"
   },
   {
    "duration": 5,
    "start_time": "2022-12-17T14:07:23.929Z"
   },
   {
    "duration": 8,
    "start_time": "2022-12-17T14:07:27.884Z"
   },
   {
    "duration": 3,
    "start_time": "2022-12-17T14:07:57.450Z"
   },
   {
    "duration": 7,
    "start_time": "2022-12-17T14:08:17.430Z"
   },
   {
    "duration": 5,
    "start_time": "2022-12-17T14:08:36.051Z"
   },
   {
    "duration": 11,
    "start_time": "2022-12-17T14:08:40.427Z"
   },
   {
    "duration": 14,
    "start_time": "2022-12-17T14:11:47.004Z"
   },
   {
    "duration": 158,
    "start_time": "2022-12-17T14:12:26.014Z"
   },
   {
    "duration": 14,
    "start_time": "2022-12-17T14:12:36.703Z"
   },
   {
    "duration": 156,
    "start_time": "2022-12-17T14:15:15.347Z"
   },
   {
    "duration": 178,
    "start_time": "2022-12-17T14:16:53.655Z"
   },
   {
    "duration": 212,
    "start_time": "2022-12-17T14:19:54.720Z"
   },
   {
    "duration": 11,
    "start_time": "2022-12-17T14:20:09.326Z"
   },
   {
    "duration": 19,
    "start_time": "2022-12-17T14:21:20.980Z"
   },
   {
    "duration": 14,
    "start_time": "2022-12-17T14:21:40.553Z"
   },
   {
    "duration": 15,
    "start_time": "2022-12-17T14:21:47.907Z"
   },
   {
    "duration": 19,
    "start_time": "2022-12-17T14:22:08.163Z"
   },
   {
    "duration": 226,
    "start_time": "2022-12-17T14:22:12.091Z"
   },
   {
    "duration": 19,
    "start_time": "2022-12-17T14:23:03.685Z"
   },
   {
    "duration": 18,
    "start_time": "2022-12-17T14:23:14.770Z"
   },
   {
    "duration": 70,
    "start_time": "2022-12-17T14:24:02.940Z"
   },
   {
    "duration": 87,
    "start_time": "2022-12-17T14:24:06.797Z"
   },
   {
    "duration": 19,
    "start_time": "2022-12-17T14:24:29.004Z"
   },
   {
    "duration": 17,
    "start_time": "2022-12-17T14:24:33.598Z"
   },
   {
    "duration": 17,
    "start_time": "2022-12-17T14:25:03.279Z"
   },
   {
    "duration": 16,
    "start_time": "2022-12-17T14:25:21.185Z"
   },
   {
    "duration": 20,
    "start_time": "2022-12-17T14:25:25.304Z"
   },
   {
    "duration": 1087,
    "start_time": "2022-12-17T14:25:28.753Z"
   },
   {
    "duration": 19,
    "start_time": "2022-12-17T14:25:50.497Z"
   },
   {
    "duration": 170,
    "start_time": "2022-12-17T14:26:07.544Z"
   },
   {
    "duration": 166,
    "start_time": "2022-12-17T14:29:10.608Z"
   },
   {
    "duration": 217,
    "start_time": "2022-12-17T14:29:17.136Z"
   },
   {
    "duration": 170,
    "start_time": "2022-12-17T14:29:23.417Z"
   },
   {
    "duration": 202,
    "start_time": "2022-12-17T14:29:28.074Z"
   },
   {
    "duration": 189,
    "start_time": "2022-12-17T14:29:31.840Z"
   },
   {
    "duration": 238,
    "start_time": "2022-12-17T14:29:35.306Z"
   },
   {
    "duration": 250,
    "start_time": "2022-12-17T14:29:45.537Z"
   },
   {
    "duration": 254,
    "start_time": "2022-12-17T14:30:00.984Z"
   },
   {
    "duration": 250,
    "start_time": "2022-12-17T14:30:05.414Z"
   },
   {
    "duration": 212,
    "start_time": "2022-12-17T14:30:08.250Z"
   },
   {
    "duration": 9,
    "start_time": "2022-12-17T14:34:18.544Z"
   },
   {
    "duration": 4,
    "start_time": "2022-12-17T14:35:23.006Z"
   },
   {
    "duration": 48,
    "start_time": "2022-12-17T14:35:23.401Z"
   },
   {
    "duration": 12,
    "start_time": "2022-12-17T14:35:24.153Z"
   },
   {
    "duration": 8,
    "start_time": "2022-12-17T14:35:24.880Z"
   },
   {
    "duration": 9,
    "start_time": "2022-12-17T14:35:25.264Z"
   },
   {
    "duration": 4,
    "start_time": "2022-12-17T14:35:26.079Z"
   },
   {
    "duration": 9,
    "start_time": "2022-12-17T14:35:26.445Z"
   },
   {
    "duration": 11,
    "start_time": "2022-12-17T14:35:27.167Z"
   },
   {
    "duration": 6,
    "start_time": "2022-12-17T14:35:27.852Z"
   },
   {
    "duration": 769,
    "start_time": "2022-12-17T14:35:28.156Z"
   },
   {
    "duration": 225,
    "start_time": "2022-12-17T14:35:28.927Z"
   },
   {
    "duration": 662,
    "start_time": "2022-12-17T14:35:31.033Z"
   },
   {
    "duration": 137,
    "start_time": "2022-12-17T14:35:31.722Z"
   },
   {
    "duration": 138,
    "start_time": "2022-12-17T14:35:32.101Z"
   },
   {
    "duration": 129,
    "start_time": "2022-12-17T14:35:32.818Z"
   },
   {
    "duration": 132,
    "start_time": "2022-12-17T14:35:33.635Z"
   },
   {
    "duration": 104,
    "start_time": "2022-12-17T14:35:36.678Z"
   },
   {
    "duration": 326,
    "start_time": "2022-12-17T14:35:38.155Z"
   },
   {
    "duration": 343,
    "start_time": "2022-12-17T14:35:39.045Z"
   },
   {
    "duration": 4,
    "start_time": "2022-12-17T14:35:41.605Z"
   },
   {
    "duration": 9,
    "start_time": "2022-12-17T14:35:43.767Z"
   },
   {
    "duration": 24,
    "start_time": "2022-12-17T14:35:44.160Z"
   },
   {
    "duration": 8,
    "start_time": "2022-12-17T14:35:45.232Z"
   },
   {
    "duration": 5,
    "start_time": "2022-12-17T14:35:46.288Z"
   },
   {
    "duration": 6,
    "start_time": "2022-12-17T14:35:46.678Z"
   },
   {
    "duration": 22,
    "start_time": "2022-12-17T14:35:50.439Z"
   },
   {
    "duration": 41,
    "start_time": "2022-12-17T14:36:15.358Z"
   },
   {
    "duration": 374,
    "start_time": "2022-12-17T14:37:32.720Z"
   },
   {
    "duration": 10724,
    "start_time": "2022-12-17T14:37:36.130Z"
   },
   {
    "duration": 543,
    "start_time": "2022-12-17T14:38:02.174Z"
   },
   {
    "duration": 17,
    "start_time": "2022-12-17T14:38:23.183Z"
   },
   {
    "duration": 49643,
    "start_time": "2022-12-17T14:38:44.754Z"
   },
   {
    "duration": 8,
    "start_time": "2022-12-17T14:39:55.113Z"
   },
   {
    "duration": 9,
    "start_time": "2022-12-17T14:40:08.565Z"
   },
   {
    "duration": 71,
    "start_time": "2022-12-17T14:40:44.458Z"
   },
   {
    "duration": 2285,
    "start_time": "2022-12-17T15:16:37.410Z"
   },
   {
    "duration": 99,
    "start_time": "2022-12-17T15:16:39.697Z"
   },
   {
    "duration": 11,
    "start_time": "2022-12-17T15:16:39.798Z"
   },
   {
    "duration": 11,
    "start_time": "2022-12-17T15:16:39.811Z"
   },
   {
    "duration": 11,
    "start_time": "2022-12-17T15:16:39.823Z"
   },
   {
    "duration": 5,
    "start_time": "2022-12-17T15:16:40.299Z"
   },
   {
    "duration": 9,
    "start_time": "2022-12-17T15:16:40.546Z"
   },
   {
    "duration": 11,
    "start_time": "2022-12-17T15:16:40.959Z"
   },
   {
    "duration": 5,
    "start_time": "2022-12-17T15:16:41.359Z"
   },
   {
    "duration": 637,
    "start_time": "2022-12-17T15:16:41.755Z"
   },
   {
    "duration": 203,
    "start_time": "2022-12-17T15:16:42.397Z"
   },
   {
    "duration": 811,
    "start_time": "2022-12-17T15:16:43.946Z"
   },
   {
    "duration": 141,
    "start_time": "2022-12-17T15:16:44.897Z"
   },
   {
    "duration": 153,
    "start_time": "2022-12-17T15:16:45.088Z"
   },
   {
    "duration": 120,
    "start_time": "2022-12-17T15:16:45.741Z"
   },
   {
    "duration": 133,
    "start_time": "2022-12-17T15:16:46.232Z"
   },
   {
    "duration": 87,
    "start_time": "2022-12-17T15:20:03.142Z"
   },
   {
    "duration": 376,
    "start_time": "2022-12-17T15:20:03.811Z"
   },
   {
    "duration": 331,
    "start_time": "2022-12-17T15:20:04.197Z"
   },
   {
    "duration": 4,
    "start_time": "2022-12-17T15:20:05.459Z"
   },
   {
    "duration": 8,
    "start_time": "2022-12-17T15:20:07.683Z"
   },
   {
    "duration": 27,
    "start_time": "2022-12-17T15:20:07.887Z"
   },
   {
    "duration": 7,
    "start_time": "2022-12-17T15:20:09.477Z"
   },
   {
    "duration": 4,
    "start_time": "2022-12-17T15:20:10.411Z"
   },
   {
    "duration": 5,
    "start_time": "2022-12-17T15:20:10.729Z"
   },
   {
    "duration": 20,
    "start_time": "2022-12-17T15:20:13.212Z"
   },
   {
    "duration": 503,
    "start_time": "2022-12-17T15:20:23.140Z"
   },
   {
    "duration": 51,
    "start_time": "2022-12-17T15:20:58.881Z"
   },
   {
    "duration": 6,
    "start_time": "2022-12-17T15:21:45.974Z"
   },
   {
    "duration": 5,
    "start_time": "2022-12-17T15:21:52.168Z"
   }
  ],
  "kernelspec": {
   "display_name": "Python 3 (ipykernel)",
   "language": "python",
   "name": "python3"
  },
  "language_info": {
   "codemirror_mode": {
    "name": "ipython",
    "version": 3
   },
   "file_extension": ".py",
   "mimetype": "text/x-python",
   "name": "python",
   "nbconvert_exporter": "python",
   "pygments_lexer": "ipython3",
   "version": "3.9.7"
  },
  "toc": {
   "base_numbering": 1,
   "nav_menu": {},
   "number_sections": true,
   "sideBar": true,
   "skip_h1_title": true,
   "title_cell": "Содержание",
   "title_sidebar": "Contents",
   "toc_cell": true,
   "toc_position": {},
   "toc_section_display": true,
   "toc_window_display": false
  }
 },
 "nbformat": 4,
 "nbformat_minor": 2
}
